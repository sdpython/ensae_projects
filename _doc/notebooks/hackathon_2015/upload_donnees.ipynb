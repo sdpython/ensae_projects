{
 "cells": [
  {
   "cell_type": "markdown",
   "metadata": {},
   "source": [
    "# upload des données"
   ]
  },
  {
   "cell_type": "code",
   "execution_count": 1,
   "metadata": {
    "collapsed": false
   },
   "outputs": [
    {
     "data": {
      "text/html": [
       "<b>Plan</b>\n",
       "<div id=\"my_menu_id\">run previous cell, wait for 2 seconds</div>\n",
       "<script>\n",
       "function repeat_indent_string(n){\n",
       "    var a = \"\" ;\n",
       "    for ( ; n > 0 ; --n) {\n",
       "        a += \"    \";\n",
       "    }\n",
       "    return a;\n",
       "}\n",
       "var update_menu_string = function(begin, lfirst, llast, sformat, send) {\n",
       "    var anchors = document.getElementsByClassName(\"section\");\n",
       "    if (anchors.length == 0) {\n",
       "        anchors = document.getElementsByClassName(\"text_cell_render rendered_html\");\n",
       "    }\n",
       "    var i,t;\n",
       "    var text_menu = begin;\n",
       "    var text_memo = \"<pre>\\nlength:\" + anchors.length + \"\\n\";\n",
       "    var ind = \"\";\n",
       "    var memo_level = 1;\n",
       "    var href;\n",
       "    var tags = [];\n",
       "    for (i = 0; i <= llast; i++) {\n",
       "        tags.push(\"h\" + i);\n",
       "    }\n",
       "\n",
       "    for (i = 0; i < anchors.length; i++) {\n",
       "        text_memo += \"**\" + anchors[i].id + \"--\\n\";\n",
       "\n",
       "        var child = null;\n",
       "        for(t = 0; t < tags.length; t++) {\n",
       "            var r = anchors[i].getElementsByTagName(tags[t]);\n",
       "            if (r.length > 0) {\n",
       "child = r[0];\n",
       "break;\n",
       "            }\n",
       "        }\n",
       "        if (child == null){\n",
       "            text_memo += \"null\\n\";\n",
       "            continue;\n",
       "        }\n",
       "\n",
       "        if (anchors[i].hasAttribute(\"id\")) {\n",
       "            // when converted in RST\n",
       "            href = anchors[i].id;\n",
       "            text_memo += \"#1-\" + href;\n",
       "            // passer à child suivant (le chercher)\n",
       "        }\n",
       "        else if (child.hasAttribute(\"id\")) {\n",
       "            // in a notebook\n",
       "            href = child.id;\n",
       "            text_memo += \"#2-\" + href;\n",
       "        }\n",
       "        else {\n",
       "            text_memo += \"#3-\" + \"*\" + \"\\n\";\n",
       "            continue;\n",
       "        }\n",
       "        var title = child.textContent;\n",
       "        var level = parseInt(child.tagName.substring(1,2));\n",
       "\n",
       "        text_memo += \"--\" + level + \"?\" + lfirst + \"--\" + title + \"\\n\";\n",
       "\n",
       "        if ((level < lfirst) || (level > llast)) {\n",
       "            continue ;\n",
       "        }\n",
       "        if (title.endsWith('¶')) {\n",
       "            title = title.substring(0,title.length-1).replace(\"<\", \"&lt;\").replace(\">\", \"&gt;\").replace(\"&\", \"&amp;\")\n",
       "        }\n",
       "\n",
       "        if (title.length == 0) {\n",
       "            continue;\n",
       "        }\n",
       "        while (level > memo_level) {\n",
       "            text_menu += \"<ul>\\n\";\n",
       "            memo_level += 1;\n",
       "        }\n",
       "        while (level < memo_level) {\n",
       "            text_menu += \"</ul>\\n\";\n",
       "            memo_level -= 1;\n",
       "        }\n",
       "        text_menu += repeat_indent_string(level-2) + sformat.replace(\"__HREF__\", href).replace(\"__TITLE__\", title);\n",
       "    }\n",
       "    while (1 < memo_level) {\n",
       "        text_menu += \"</ul>\\n\";\n",
       "        memo_level -= 1;\n",
       "    }\n",
       "    text_menu += send;\n",
       "    //text_menu += \"\\n\" + text_memo;\n",
       "    return text_menu;\n",
       "};\n",
       "var update_menu = function() {\n",
       "    var sbegin = \"\";\n",
       "    var sformat = '<li><a href=\"#__HREF__\">__TITLE__</a></li>';\n",
       "    var send = \"\";\n",
       "    var text_menu = update_menu_string(sbegin, 2, 4, sformat, send);\n",
       "    var menu = document.getElementById(\"my_menu_id\");\n",
       "    menu.innerHTML=text_menu;\n",
       "};\n",
       "window.setTimeout(update_menu,2000);\n",
       "            </script>"
      ],
      "text/plain": [
       "<IPython.core.display.HTML object>"
      ]
     },
     "execution_count": 1,
     "metadata": {},
     "output_type": "execute_result"
    }
   ],
   "source": [
    "import pyensae\n",
    "%nb_menu"
   ]
  },
  {
   "cell_type": "markdown",
   "metadata": {},
   "source": [
    "## connexion blob storage"
   ]
  },
  {
   "cell_type": "code",
   "execution_count": 9,
   "metadata": {
    "collapsed": false
   },
   "outputs": [],
   "source": [
    "from pyquickhelper.ipythonhelper import open_html_form\n",
    "params={\"blob_storage\":\"\", \"password\":\"\"}"
   ]
  },
  {
   "cell_type": "code",
   "execution_count": 10,
   "metadata": {
    "collapsed": false
   },
   "outputs": [
    {
     "data": {
      "text/html": [
       "<div style=\"background-color:gainsboro; padding:2px; border:0px;\"><b>server + credentials</b>\n",
       "<br />blob_storage <input type=\"text\" id=\"hackathonblob_storage\" value=\"\" size=\"80\" />\n",
       "<br />password <input type=\"password\" id=\"hackathonpassword\" value=\"\" size=\"80\" />\n",
       "<br /><button onclick=\"set_valuehackathon()\">Ok</button></div>\n",
       "<script type=\"text/Javascript\">\n",
       "function hackathoncallback(msg) {\n",
       "   var ret = msg.content.data['text/plain'];\n",
       "   $('#outhackathon').text(ret);\n",
       "}\n",
       "function set_valuehackathon(){\n",
       "   command='hackathon = {' ;\n",
       "   var hackathonblob_storagevar_value = document.getElementById('hackathonblob_storage').value;\n",
       "   command += '\"blob_storage\":\"' + hackathonblob_storagevar_value + '\",';\n",
       "   var hackathonpasswordvar_value = document.getElementById('hackathonpassword').value;\n",
       "   command += '\"password\":\"' + hackathonpasswordvar_value + '\",';\n",
       "   command += '}';\n",
       "   var kernel = IPython.notebook.kernel;\n",
       "   kernel.execute(command);\n",
       "}\n",
       "</script>"
      ],
      "text/plain": [
       "<IPython.core.display.HTML object>"
      ]
     },
     "execution_count": 10,
     "metadata": {},
     "output_type": "execute_result"
    }
   ],
   "source": [
    "open_html_form(params=params,title=\"server + credentials\", key_save=\"hackathon\")"
   ]
  },
  {
   "cell_type": "code",
   "execution_count": 13,
   "metadata": {
    "collapsed": false
   },
   "outputs": [],
   "source": [
    "blobstorage = hackathon[\"blob_storage\"]\n",
    "blobpassword = hackathon[\"password\"]"
   ]
  },
  {
   "cell_type": "code",
   "execution_count": 15,
   "metadata": {
    "collapsed": false
   },
   "outputs": [
    {
     "data": {
      "text/plain": [
       "(<pyensae.remote.azure_connection.AzureClient at 0x9216f98>,\n",
       " <azure.storage.blob.blobservice.BlobService at 0x9216c18>)"
      ]
     },
     "execution_count": 15,
     "metadata": {},
     "output_type": "execute_result"
    }
   ],
   "source": [
    "cl, bs = %blob_open\n",
    "cl, bs"
   ]
  },
  {
   "cell_type": "code",
   "execution_count": 16,
   "metadata": {
    "collapsed": false
   },
   "outputs": [
    {
     "data": {
      "text/plain": [
       "['croix-rouge']"
      ]
     },
     "execution_count": 16,
     "metadata": {},
     "output_type": "execute_result"
    }
   ],
   "source": [
    "%blob_containers"
   ]
  },
  {
   "cell_type": "markdown",
   "metadata": {},
   "source": [
    "## upload des données"
   ]
  },
  {
   "cell_type": "code",
   "execution_count": 13,
   "metadata": {
    "collapsed": false
   },
   "outputs": [
    {
     "name": "stdout",
     "output_type": "stream",
     "text": [
      "Overwriting readme.txt\n"
     ]
    }
   ],
   "source": [
    "%%file readme.txt\n",
    "\n",
    "Ce répertoire contient les données issues de la Croix-Rouge."
   ]
  },
  {
   "cell_type": "code",
   "execution_count": 15,
   "metadata": {
    "collapsed": false
   },
   "outputs": [
    {
     "data": {
      "text/plain": [
       "'readme.txt'"
      ]
     },
     "execution_count": 15,
     "metadata": {},
     "output_type": "execute_result"
    }
   ],
   "source": [
    "%blob_up readme.txt croix-rouge/readme.txt"
   ]
  },
  {
   "cell_type": "code",
   "execution_count": 16,
   "metadata": {
    "collapsed": false
   },
   "outputs": [
    {
     "data": {
      "text/html": [
       "<div>\n",
       "<table border=\"1\" class=\"dataframe\">\n",
       "  <thead>\n",
       "    <tr style=\"text-align: right;\">\n",
       "      <th></th>\n",
       "      <th>name</th>\n",
       "      <th>last_modified</th>\n",
       "      <th>content_type</th>\n",
       "      <th>content_length</th>\n",
       "      <th>blob_type</th>\n",
       "    </tr>\n",
       "  </thead>\n",
       "  <tbody>\n",
       "    <tr>\n",
       "      <th>0</th>\n",
       "      <td>readme.txt</td>\n",
       "      <td>Mon, 09 Nov 2015 21:14:08 GMT</td>\n",
       "      <td>application/octet-stream</td>\n",
       "      <td>64</td>\n",
       "      <td>BlockBlob</td>\n",
       "    </tr>\n",
       "  </tbody>\n",
       "</table>\n",
       "</div>"
      ],
      "text/plain": [
       "         name                  last_modified              content_type  \\\n",
       "0  readme.txt  Mon, 09 Nov 2015 21:14:08 GMT  application/octet-stream   \n",
       "\n",
       "   content_length  blob_type  \n",
       "0              64  BlockBlob  "
      ]
     },
     "execution_count": 16,
     "metadata": {},
     "output_type": "execute_result"
    }
   ],
   "source": [
    "%blob_ls croix-rouge"
   ]
  },
  {
   "cell_type": "code",
   "execution_count": 18,
   "metadata": {
    "collapsed": true
   },
   "outputs": [],
   "source": [
    "files = [\"enseignes_france.csv\", \"ITMMASTER.txt\", \"SINVOICE.txt\", \"SINVOICEV.txt\",\n",
    "         \"stojou.csv\"]"
   ]
  },
  {
   "cell_type": "code",
   "execution_count": 20,
   "metadata": {
    "collapsed": false
   },
   "outputs": [
    {
     "name": "stdout",
     "output_type": "stream",
     "text": [
      "upload enseignes_france.csv 6303836\n",
      "upload ITMMASTER.txt 103096479\n",
      "upload SINVOICE.txt 1362433753\n",
      "upload SINVOICEV.txt 1252461865\n",
      "upload stojou.csv 8821375868\n"
     ]
    }
   ],
   "source": [
    "import os\n",
    "for file in files:\n",
    "    print(\"upload\", file, os.stat(file).st_size)\n",
    "    cl.upload(bs, \"croix-rouge\", \"data/\" + file, file)"
   ]
  },
  {
   "cell_type": "code",
   "execution_count": 22,
   "metadata": {
    "collapsed": false
   },
   "outputs": [
    {
     "data": {
      "text/html": [
       "<div>\n",
       "<table border=\"1\" class=\"dataframe\">\n",
       "  <thead>\n",
       "    <tr style=\"text-align: right;\">\n",
       "      <th></th>\n",
       "      <th>name</th>\n",
       "      <th>last_modified</th>\n",
       "      <th>content_type</th>\n",
       "      <th>content_length</th>\n",
       "      <th>blob_type</th>\n",
       "    </tr>\n",
       "  </thead>\n",
       "  <tbody>\n",
       "    <tr>\n",
       "      <th>0</th>\n",
       "      <td>data/ITMMASTER.txt</td>\n",
       "      <td>Mon, 09 Nov 2015 21:41:00 GMT</td>\n",
       "      <td>application/octet-stream</td>\n",
       "      <td>103096479</td>\n",
       "      <td>BlockBlob</td>\n",
       "    </tr>\n",
       "    <tr>\n",
       "      <th>1</th>\n",
       "      <td>data/SINVOICE.txt</td>\n",
       "      <td>Mon, 09 Nov 2015 21:42:32 GMT</td>\n",
       "      <td>application/octet-stream</td>\n",
       "      <td>1362433753</td>\n",
       "      <td>BlockBlob</td>\n",
       "    </tr>\n",
       "    <tr>\n",
       "      <th>2</th>\n",
       "      <td>data/SINVOICEV.txt</td>\n",
       "      <td>Mon, 09 Nov 2015 21:44:08 GMT</td>\n",
       "      <td>application/octet-stream</td>\n",
       "      <td>1252461865</td>\n",
       "      <td>BlockBlob</td>\n",
       "    </tr>\n",
       "    <tr>\n",
       "      <th>3</th>\n",
       "      <td>data/enseignes_france.csv</td>\n",
       "      <td>Mon, 09 Nov 2015 21:40:54 GMT</td>\n",
       "      <td>application/octet-stream</td>\n",
       "      <td>6303836</td>\n",
       "      <td>BlockBlob</td>\n",
       "    </tr>\n",
       "    <tr>\n",
       "      <th>4</th>\n",
       "      <td>data/stojou.csv</td>\n",
       "      <td>Mon, 09 Nov 2015 21:55:23 GMT</td>\n",
       "      <td>application/octet-stream</td>\n",
       "      <td>8821375868</td>\n",
       "      <td>BlockBlob</td>\n",
       "    </tr>\n",
       "  </tbody>\n",
       "</table>\n",
       "</div>"
      ],
      "text/plain": [
       "                        name                  last_modified  \\\n",
       "0         data/ITMMASTER.txt  Mon, 09 Nov 2015 21:41:00 GMT   \n",
       "1          data/SINVOICE.txt  Mon, 09 Nov 2015 21:42:32 GMT   \n",
       "2         data/SINVOICEV.txt  Mon, 09 Nov 2015 21:44:08 GMT   \n",
       "3  data/enseignes_france.csv  Mon, 09 Nov 2015 21:40:54 GMT   \n",
       "4            data/stojou.csv  Mon, 09 Nov 2015 21:55:23 GMT   \n",
       "\n",
       "               content_type  content_length  blob_type  \n",
       "0  application/octet-stream       103096479  BlockBlob  \n",
       "1  application/octet-stream      1362433753  BlockBlob  \n",
       "2  application/octet-stream      1252461865  BlockBlob  \n",
       "3  application/octet-stream         6303836  BlockBlob  \n",
       "4  application/octet-stream      8821375868  BlockBlob  "
      ]
     },
     "execution_count": 22,
     "metadata": {},
     "output_type": "execute_result"
    }
   ],
   "source": [
    "%blob_ls croix-rouge/data"
   ]
  },
  {
   "cell_type": "markdown",
   "metadata": {},
   "source": [
    "## fermeture de la connexion"
   ]
  },
  {
   "cell_type": "code",
   "execution_count": 24,
   "metadata": {
    "collapsed": false
   },
   "outputs": [
    {
     "data": {
      "text/plain": [
       "True"
      ]
     },
     "execution_count": 24,
     "metadata": {},
     "output_type": "execute_result"
    }
   ],
   "source": [
    "%blob_close"
   ]
  },
  {
   "cell_type": "code",
   "execution_count": null,
   "metadata": {
    "collapsed": true
   },
   "outputs": [],
   "source": []
  }
 ],
 "metadata": {
  "kernelspec": {
   "display_name": "Python 3",
   "language": "python",
   "name": "python3"
  },
  "language_info": {
   "codemirror_mode": {
    "name": "ipython",
    "version": 3
   },
   "file_extension": ".py",
   "mimetype": "text/x-python",
   "name": "python",
   "nbconvert_exporter": "python",
   "pygments_lexer": "ipython3",
   "version": "3.4.3"
  }
 },
 "nbformat": 4,
 "nbformat_minor": 0
}
