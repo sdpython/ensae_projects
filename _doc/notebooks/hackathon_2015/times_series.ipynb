{
 "cells": [
  {
   "cell_type": "markdown",
   "metadata": {},
   "source": [
    "# Times Series"
   ]
  },
  {
   "cell_type": "code",
   "execution_count": 1,
   "metadata": {
    "collapsed": false
   },
   "outputs": [
    {
     "name": "stdout",
     "output_type": "stream",
     "text": [
      "Populating the interactive namespace from numpy and matplotlib\n"
     ]
    }
   ],
   "source": [
    "%pylab inline\n",
    "import matplotlib.pyplot as plt\n",
    "plt.style.use('ggplot')"
   ]
  },
  {
   "cell_type": "code",
   "execution_count": 2,
   "metadata": {
    "collapsed": false
   },
   "outputs": [
    {
     "data": {
      "text/html": [
       "<b>Plan</b>\n",
       "<div id=\"my_menu_id\">run previous cell, wait for 2 seconds</div>\n",
       "<script>\n",
       "function repeat_indent_string(n){\n",
       "    var a = \"\" ;\n",
       "    for ( ; n > 0 ; --n) {\n",
       "        a += \"    \";\n",
       "    }\n",
       "    return a;\n",
       "}\n",
       "var update_menu_string = function(begin, lfirst, llast, sformat, send) {\n",
       "    var anchors = document.getElementsByClassName(\"section\");\n",
       "    if (anchors.length == 0) {\n",
       "        anchors = document.getElementsByClassName(\"text_cell_render rendered_html\");\n",
       "    }\n",
       "    var i,t;\n",
       "    var text_menu = begin;\n",
       "    var text_memo = \"<pre>\\nlength:\" + anchors.length + \"\\n\";\n",
       "    var ind = \"\";\n",
       "    var memo_level = 1;\n",
       "    var href;\n",
       "    var tags = [];\n",
       "    for (i = 0; i <= llast; i++) {\n",
       "        tags.push(\"h\" + i);\n",
       "    }\n",
       "\n",
       "    for (i = 0; i < anchors.length; i++) {\n",
       "        text_memo += \"**\" + anchors[i].id + \"--\\n\";\n",
       "\n",
       "        var child = null;\n",
       "        for(t = 0; t < tags.length; t++) {\n",
       "            var r = anchors[i].getElementsByTagName(tags[t]);\n",
       "            if (r.length > 0) {\n",
       "child = r[0];\n",
       "break;\n",
       "            }\n",
       "        }\n",
       "        if (child == null){\n",
       "            text_memo += \"null\\n\";\n",
       "            continue;\n",
       "        }\n",
       "\n",
       "        if (anchors[i].hasAttribute(\"id\")) {\n",
       "            // when converted in RST\n",
       "            href = anchors[i].id;\n",
       "            text_memo += \"#1-\" + href;\n",
       "            // passer à child suivant (le chercher)\n",
       "        }\n",
       "        else if (child.hasAttribute(\"id\")) {\n",
       "            // in a notebook\n",
       "            href = child.id;\n",
       "            text_memo += \"#2-\" + href;\n",
       "        }\n",
       "        else {\n",
       "            text_memo += \"#3-\" + \"*\" + \"\\n\";\n",
       "            continue;\n",
       "        }\n",
       "        var title = child.textContent;\n",
       "        var level = parseInt(child.tagName.substring(1,2));\n",
       "\n",
       "        text_memo += \"--\" + level + \"?\" + lfirst + \"--\" + title + \"\\n\";\n",
       "\n",
       "        if ((level < lfirst) || (level > llast)) {\n",
       "            continue ;\n",
       "        }\n",
       "        if (title.endsWith('¶')) {\n",
       "            title = title.substring(0,title.length-1).replace(\"<\", \"&lt;\").replace(\">\", \"&gt;\").replace(\"&\", \"&amp;\")\n",
       "        }\n",
       "\n",
       "        if (title.length == 0) {\n",
       "            continue;\n",
       "        }\n",
       "        while (level > memo_level) {\n",
       "            text_menu += \"<ul>\\n\";\n",
       "            memo_level += 1;\n",
       "        }\n",
       "        while (level < memo_level) {\n",
       "            text_menu += \"</ul>\\n\";\n",
       "            memo_level -= 1;\n",
       "        }\n",
       "        text_menu += repeat_indent_string(level-2) + sformat.replace(\"__HREF__\", href).replace(\"__TITLE__\", title);\n",
       "    }\n",
       "    while (1 < memo_level) {\n",
       "        text_menu += \"</ul>\\n\";\n",
       "        memo_level -= 1;\n",
       "    }\n",
       "    text_menu += send;\n",
       "    //text_menu += \"\\n\" + text_memo;\n",
       "    return text_menu;\n",
       "};\n",
       "var update_menu = function() {\n",
       "    var sbegin = \"\";\n",
       "    var sformat = '<li><a href=\"#__HREF__\">__TITLE__</a></li>';\n",
       "    var send = \"\";\n",
       "    var text_menu = update_menu_string(sbegin, 2, 4, sformat, send);\n",
       "    var menu = document.getElementById(\"my_menu_id\");\n",
       "    menu.innerHTML=text_menu;\n",
       "};\n",
       "window.setTimeout(update_menu,2000);\n",
       "            </script>"
      ],
      "text/plain": [
       "<IPython.core.display.HTML object>"
      ]
     },
     "execution_count": 2,
     "metadata": {},
     "output_type": "execute_result"
    }
   ],
   "source": [
    "from pyquickhelper.ipythonhelper import add_notebook_menu\n",
    "add_notebook_menu()"
   ]
  },
  {
   "cell_type": "markdown",
   "metadata": {},
   "source": [
    "## Connection to the cluster"
   ]
  },
  {
   "cell_type": "code",
   "execution_count": 3,
   "metadata": {
    "collapsed": false
   },
   "outputs": [
    {
     "data": {
      "text/plain": [
       "dict"
      ]
     },
     "execution_count": 3,
     "metadata": {},
     "output_type": "execute_result"
    }
   ],
   "source": [
    "import os\n",
    "hackathon = {}\n",
    "if \"CRCREDENTIALS\" in os.environ:\n",
    "    hackathon[\"blob_storage\"], hackathon[\"password\"] = os.environ[\"CRCREDENTIALS\"].split(\"**\")\n",
    "    r = type(hackathon)\n",
    "else:\n",
    "    from pyquickhelper.ipythonhelper import open_html_form\n",
    "    params={\"blob_storage\":\"\", \"password\":\"\"}\n",
    "    r = open_html_form(params=params,title=\"server + credentials\", key_save=\"hackathon\")\n",
    "r"
   ]
  },
  {
   "cell_type": "code",
   "execution_count": 4,
   "metadata": {
    "collapsed": true
   },
   "outputs": [],
   "source": [
    "blobstorage = hackathon[\"blob_storage\"]\n",
    "blobpassword = hackathon[\"password\"]"
   ]
  },
  {
   "cell_type": "code",
   "execution_count": 5,
   "metadata": {
    "collapsed": false
   },
   "outputs": [
    {
     "data": {
      "text/plain": [
       "(<pyensae.remote.azure_connection.AzureClient at 0xa145d30>,\n",
       " <azure.storage.blob.blobservice.BlobService at 0xa13a6a0>)"
      ]
     },
     "execution_count": 5,
     "metadata": {},
     "output_type": "execute_result"
    }
   ],
   "source": [
    "cl, bs = %blob_open\n",
    "cl, bs"
   ]
  },
  {
   "cell_type": "markdown",
   "metadata": {},
   "source": [
    "## Download data"
   ]
  },
  {
   "cell_type": "code",
   "execution_count": 6,
   "metadata": {
    "collapsed": false
   },
   "outputs": [
    {
     "data": {
      "text/html": [
       "<div>\n",
       "<table border=\"1\" class=\"dataframe\">\n",
       "  <thead>\n",
       "    <tr style=\"text-align: right;\">\n",
       "      <th></th>\n",
       "      <th>name</th>\n",
       "      <th>last_modified</th>\n",
       "      <th>content_type</th>\n",
       "      <th>content_length</th>\n",
       "      <th>blob_type</th>\n",
       "    </tr>\n",
       "  </thead>\n",
       "  <tbody>\n",
       "    <tr>\n",
       "      <th>0</th>\n",
       "      <td>build/SINVOICE_M.csv</td>\n",
       "      <td>Wed, 18 Nov 2015 18:56:27 GMT</td>\n",
       "      <td>application/octet-stream</td>\n",
       "      <td>533771533</td>\n",
       "      <td>BlockBlob</td>\n",
       "    </tr>\n",
       "    <tr>\n",
       "      <th>1</th>\n",
       "      <td>build/Test_CRFFOR.GACCTMPD.csv</td>\n",
       "      <td>Sun, 22 Nov 2015 21:53:38 GMT</td>\n",
       "      <td>application/octet-stream</td>\n",
       "      <td>822231942</td>\n",
       "      <td>BlockBlob</td>\n",
       "    </tr>\n",
       "    <tr>\n",
       "      <th>2</th>\n",
       "      <td>data/ITMMASTER.schema.txt</td>\n",
       "      <td>Mon, 16 Nov 2015 23:00:34 GMT</td>\n",
       "      <td>application/octet-stream</td>\n",
       "      <td>5658</td>\n",
       "      <td>BlockBlob</td>\n",
       "    </tr>\n",
       "    <tr>\n",
       "      <th>3</th>\n",
       "      <td>data/ITMMASTER.txt</td>\n",
       "      <td>Mon, 09 Nov 2015 21:41:00 GMT</td>\n",
       "      <td>application/octet-stream</td>\n",
       "      <td>103096479</td>\n",
       "      <td>BlockBlob</td>\n",
       "    </tr>\n",
       "    <tr>\n",
       "      <th>4</th>\n",
       "      <td>data/SINVOICE.schema.txt</td>\n",
       "      <td>Mon, 16 Nov 2015 23:00:35 GMT</td>\n",
       "      <td>application/octet-stream</td>\n",
       "      <td>10252</td>\n",
       "      <td>BlockBlob</td>\n",
       "    </tr>\n",
       "    <tr>\n",
       "      <th>5</th>\n",
       "      <td>data/SINVOICE.txt</td>\n",
       "      <td>Mon, 09 Nov 2015 21:42:32 GMT</td>\n",
       "      <td>application/octet-stream</td>\n",
       "      <td>1362433753</td>\n",
       "      <td>BlockBlob</td>\n",
       "    </tr>\n",
       "    <tr>\n",
       "      <th>6</th>\n",
       "      <td>data/SINVOICEV.schema.txt</td>\n",
       "      <td>Mon, 16 Nov 2015 23:00:35 GMT</td>\n",
       "      <td>application/octet-stream</td>\n",
       "      <td>7999</td>\n",
       "      <td>BlockBlob</td>\n",
       "    </tr>\n",
       "    <tr>\n",
       "      <th>7</th>\n",
       "      <td>data/SINVOICEV.txt</td>\n",
       "      <td>Mon, 09 Nov 2015 21:44:08 GMT</td>\n",
       "      <td>application/octet-stream</td>\n",
       "      <td>1252461865</td>\n",
       "      <td>BlockBlob</td>\n",
       "    </tr>\n",
       "    <tr>\n",
       "      <th>8</th>\n",
       "      <td>data/SINVOICEV_.txt</td>\n",
       "      <td>Tue, 24 Nov 2015 15:35:49 GMT</td>\n",
       "      <td>application/octet-stream</td>\n",
       "      <td>1252461865</td>\n",
       "      <td>BlockBlob</td>\n",
       "    </tr>\n",
       "    <tr>\n",
       "      <th>9</th>\n",
       "      <td>data/SINVOICE_.txt</td>\n",
       "      <td>Tue, 24 Nov 2015 15:34:54 GMT</td>\n",
       "      <td>application/octet-stream</td>\n",
       "      <td>1362433753</td>\n",
       "      <td>BlockBlob</td>\n",
       "    </tr>\n",
       "    <tr>\n",
       "      <th>10</th>\n",
       "      <td>data/enseignes_france.csv</td>\n",
       "      <td>Mon, 09 Nov 2015 21:40:54 GMT</td>\n",
       "      <td>application/octet-stream</td>\n",
       "      <td>6303836</td>\n",
       "      <td>BlockBlob</td>\n",
       "    </tr>\n",
       "    <tr>\n",
       "      <th>11</th>\n",
       "      <td>data/stojou.csv</td>\n",
       "      <td>Mon, 09 Nov 2015 21:55:23 GMT</td>\n",
       "      <td>application/octet-stream</td>\n",
       "      <td>8821375868</td>\n",
       "      <td>BlockBlob</td>\n",
       "    </tr>\n",
       "    <tr>\n",
       "      <th>12</th>\n",
       "      <td>readme.txt</td>\n",
       "      <td>Sun, 22 Nov 2015 18:00:34 GMT</td>\n",
       "      <td>application/octet-stream</td>\n",
       "      <td>45</td>\n",
       "      <td>BlockBlob</td>\n",
       "    </tr>\n",
       "  </tbody>\n",
       "</table>\n",
       "</div>"
      ],
      "text/plain": [
       "                              name                  last_modified  \\\n",
       "0             build/SINVOICE_M.csv  Wed, 18 Nov 2015 18:56:27 GMT   \n",
       "1   build/Test_CRFFOR.GACCTMPD.csv  Sun, 22 Nov 2015 21:53:38 GMT   \n",
       "2        data/ITMMASTER.schema.txt  Mon, 16 Nov 2015 23:00:34 GMT   \n",
       "3               data/ITMMASTER.txt  Mon, 09 Nov 2015 21:41:00 GMT   \n",
       "4         data/SINVOICE.schema.txt  Mon, 16 Nov 2015 23:00:35 GMT   \n",
       "5                data/SINVOICE.txt  Mon, 09 Nov 2015 21:42:32 GMT   \n",
       "6        data/SINVOICEV.schema.txt  Mon, 16 Nov 2015 23:00:35 GMT   \n",
       "7               data/SINVOICEV.txt  Mon, 09 Nov 2015 21:44:08 GMT   \n",
       "8              data/SINVOICEV_.txt  Tue, 24 Nov 2015 15:35:49 GMT   \n",
       "9               data/SINVOICE_.txt  Tue, 24 Nov 2015 15:34:54 GMT   \n",
       "10       data/enseignes_france.csv  Mon, 09 Nov 2015 21:40:54 GMT   \n",
       "11                 data/stojou.csv  Mon, 09 Nov 2015 21:55:23 GMT   \n",
       "12                      readme.txt  Sun, 22 Nov 2015 18:00:34 GMT   \n",
       "\n",
       "                content_type  content_length  blob_type  \n",
       "0   application/octet-stream       533771533  BlockBlob  \n",
       "1   application/octet-stream       822231942  BlockBlob  \n",
       "2   application/octet-stream            5658  BlockBlob  \n",
       "3   application/octet-stream       103096479  BlockBlob  \n",
       "4   application/octet-stream           10252  BlockBlob  \n",
       "5   application/octet-stream      1362433753  BlockBlob  \n",
       "6   application/octet-stream            7999  BlockBlob  \n",
       "7   application/octet-stream      1252461865  BlockBlob  \n",
       "8   application/octet-stream      1252461865  BlockBlob  \n",
       "9   application/octet-stream      1362433753  BlockBlob  \n",
       "10  application/octet-stream         6303836  BlockBlob  \n",
       "11  application/octet-stream      8821375868  BlockBlob  \n",
       "12  application/octet-stream              45  BlockBlob  "
      ]
     },
     "execution_count": 6,
     "metadata": {},
     "output_type": "execute_result"
    }
   ],
   "source": [
    "%blob_ls croix-rouge"
   ]
  },
  {
   "cell_type": "code",
   "execution_count": 7,
   "metadata": {
    "collapsed": false
   },
   "outputs": [
    {
     "data": {
      "text/plain": [
       "'SINVOICE.schema.txt'"
      ]
     },
     "execution_count": 7,
     "metadata": {},
     "output_type": "execute_result"
    }
   ],
   "source": [
    "%blob_down croix-rouge/data/SINVOICE.schema.txt SINVOICE.schema.txt"
   ]
  },
  {
   "cell_type": "code",
   "execution_count": 9,
   "metadata": {
    "collapsed": false
   },
   "outputs": [
    {
     "data": {
      "text/html": [
       "<div>\n",
       "<table border=\"1\" class=\"dataframe\">\n",
       "  <thead>\n",
       "    <tr style=\"text-align: right;\">\n",
       "      <th></th>\n",
       "      <th>Zone</th>\n",
       "      <th>Typ</th>\n",
       "      <th>Menu</th>\n",
       "      <th>Long</th>\n",
       "      <th>Act</th>\n",
       "      <th>Dim</th>\n",
       "      <th>Intitulé normal</th>\n",
       "      <th>Intitulé abrégé</th>\n",
       "      <th>Intitulé long</th>\n",
       "      <th>Options</th>\n",
       "      <th>Table liée</th>\n",
       "      <th>Expression de lien</th>\n",
       "      <th>Copie législation</th>\n",
       "      <th>Annulation</th>\n",
       "      <th>Vérification</th>\n",
       "      <th>Obligatoire</th>\n",
       "      <th>RAZ</th>\n",
       "      <th>Mot-clé d'aide</th>\n",
       "    </tr>\n",
       "  </thead>\n",
       "  <tbody>\n",
       "    <tr>\n",
       "      <th>0</th>\n",
       "      <td>SIVTYP</td>\n",
       "      <td>TSV</td>\n",
       "      <td>0</td>\n",
       "      <td>NaN</td>\n",
       "      <td>NaN</td>\n",
       "      <td>1</td>\n",
       "      <td>Type facture</td>\n",
       "      <td>Type fac</td>\n",
       "      <td>Type facture</td>\n",
       "      <td>NaN</td>\n",
       "      <td>TABSIVTYP</td>\n",
       "      <td>NaN</td>\n",
       "      <td>NaN</td>\n",
       "      <td>Bloquant</td>\n",
       "      <td>Oui</td>\n",
       "      <td>Non</td>\n",
       "      <td>Non</td>\n",
       "      <td>NaN</td>\n",
       "    </tr>\n",
       "  </tbody>\n",
       "</table>\n",
       "</div>"
      ],
      "text/plain": [
       "     Zone  Typ  Menu  Long  Act  Dim Intitulé normal Intitulé abrégé  \\\n",
       "0  SIVTYP  TSV     0   NaN  NaN    1    Type facture        Type fac   \n",
       "\n",
       "  Intitulé long Options Table liée Expression de lien  Copie législation  \\\n",
       "0  Type facture     NaN  TABSIVTYP                NaN                NaN   \n",
       "\n",
       "  Annulation Vérification Obligatoire  RAZ Mot-clé d'aide  \n",
       "0   Bloquant          Oui         Non  Non            NaN  "
      ]
     },
     "execution_count": 9,
     "metadata": {},
     "output_type": "execute_result"
    }
   ],
   "source": [
    "import pandas\n",
    "df = pandas.read_csv(\"SINVOICE.schema.txt\", sep=\"\\t\", encoding=\"utf8\")\n",
    "df.to_excel(\"SINVOICE.schema.xlsx\")\n",
    "df.head(n=1)"
   ]
  },
  {
   "cell_type": "code",
   "execution_count": null,
   "metadata": {
    "collapsed": false
   },
   "outputs": [],
   "source": [
    "%blob_down croix-rouge/data/SINVOICE_.txt SINVOICE_.txt"
   ]
  },
  {
   "cell_type": "markdown",
   "metadata": {},
   "source": [
    "## Operations, conversion, and some others stuff"
   ]
  },
  {
   "cell_type": "markdown",
   "metadata": {},
   "source": [
    "### change encoding"
   ]
  },
  {
   "cell_type": "code",
   "execution_count": 6,
   "metadata": {
    "collapsed": false
   },
   "outputs": [
    {
     "data": {
      "text/plain": [
       "1446850"
      ]
     },
     "execution_count": 6,
     "metadata": {},
     "output_type": "execute_result"
    }
   ],
   "source": [
    "from ensae_projects.data import change_encoding\n",
    "change_encoding(\"SINVOICE_.txt\", \"SINVOICE_.utf8.txt\", enc1=\"latin-1\")"
   ]
  },
  {
   "cell_type": "code",
   "execution_count": 7,
   "metadata": {
    "collapsed": false
   },
   "outputs": [
    {
     "data": {
      "text/html": [
       "<pre>\n",
       "\"SIVTYP_0\"\t\"INVTYP_0\"\t\"NUM_0\"\t\"ORIMOD_0\"\t\"BPR_0\"\t\"BPRSAC_0\"\t\"CPY_0\"\t\"FCY_0\"\t\"GTE_0\"\t\"JOU_0\"\t\"ACCDAT_0\"\t\"ACCNUM_0\"\t\"BPRDAT_0\"\t\"BPRVCR_0\"\t\"CUR_0\"\t\"CURTYP_0\"\t\"LED_0\"\t\"LED_1\"\t\"LED_2\"\t\"LED_3\"\t\"LED_4\"\t\"LED_5\"\t\"LED_6\"\t\"LED_7\"\t\"LED_8\"\t\"LED_9\"\t\"CURLED_0\"\t\"CURLED_1\"\t\"CURLED_2\"\t\"CURLED_3\"\t\"CURLED_4\"\t\"CURLED_5\"\t\"CURLED_6\"\t\"CURLED_7\"\t\"CURLED_8\"\t\"CURLED_9\"\t\"RATMLT_0\"\t\"RATMLT_1\"\t\"RATMLT_2\"\t\"RATMLT_3\"\t\"RATMLT_4\"\t\"RATMLT_5\"\t\"RATMLT_6\"\t\"RATMLT_7\"\t\"RATMLT_8\"\t\"RATMLT_9\"\t\"RATDIV_0\"\t\"RATDIV_1\"\t\"RATDIV_2\"\t\"RATDIV_3\"\t\"RATDIV_4\"\t\"RATDIV_5\"\t\"RATDIV_6\"\t\"RATDIV_7\"\t\"RATDIV_8\"\t\"RATDIV_9\"\t\"RATDAT_0\"\t\"BPRPAY_0\"\t\"BPAPAY_0\"\t\"BPYNAM_0\"\t\"BPYNAM_1\"\t\"BPYADDLIG_0\"\t\"BPYADDLIG_1\"\t\"BPYADDLIG_2\"\t\"BPYPOSCOD_0\"\t\"BPYCTY_0\"\t\"BPYSAT_0\"\t\"BPYCRY_0\"\t\"BPYCRYNAM_0\"\t\"BPRFCT_0\"\t\"FCTVCR_0\"\t\"FCTVCRFLG_0\"\t\"QTCACCNUM_0\"\t\"STRDUDDAT_0\"\t\"PTE_0\"\t\"DEP_0\"\t\"VAC_0\"\t\"DIRINVFLG_0\"\t\"EECNUMDEB_0\"\t\"STA_0\"\t\"DES_0\"\t\"DES_1\"\t\"DES_2\"\t\"DES_3\"\t\"DES_4\"\t\"INVNUM_0\"\t\"SNS_0\"\t\"AMTATI_0\"\t\"AMTNOT_0\"\t\"AMTNOTL_0\"\t\"AMTATIL_0\"\t\"VATDAT_0\"\t\"NBRTAX_0\"\t\"TAX_0\"\t\"TAX_1\"\t\"TAX_2\"\t\"TAX_3\"\t\"TAX_4\"\t\"TAX_5\"\t\"TAX_6\"\t\"TAX_7\"\t\"TAX_8\"\t\"TAX_9\"\t\"BASTAX_0\"\t\"BASTAX_1\"\t\"BASTAX_2\"\t\"BASTAX_3\"\t\"BASTAX_4\"\t\"BASTAX_5\"\t\"BASTAX_6\"\t\"BASTAX_7\"\t\"BASTAX_8\"\t\"BASTAX_9\"\t\"AMTTAX_0\"\t\"AMTTAX_1\"\t\"AMTTAX_2\"\t\"AMTTAX_3\"\t\"AMTTAX_4\"\t\"AMTTAX_5\"\t\"AMTTAX_6\"\t\"AMTTAX_7\"\t\"AMTTAX_8\"\t\"AMTTAX_9\"\t\"THEAMTTAX_0\"\t\"EXEAMTTAX_0\"\t\"EXEAMTTAX_1\"\t\"EXEAMTTAX_2\"\t\"EXEAMTTAX_3\"\t\"EXEAMTTAX_4\"\t\"EXEAMTTAX_5\"\t\"EXEAMTTAX_6\"\t\"EXEAMTTAX_7\"\t\"EXEAMTTAX_8\"\t\"EXEAMTTAX_9\"\t\"DIE_0\"\t\"DIE_1\"\t\"DIE_2\"\t\"DIE_3\"\t\"DIE_4\"\t\"DIE_5\"\t\"DIE_6\"\t\"DIE_7\"\t\"DIE_8\"\t\"DIE_9\"\t\"DIE_10\"\t\"DIE_11\"\t\"DIE_12\"\t\"DIE_13\"\t\"DIE_14\"\t\"DIE_15\"\t\"DIE_16\"\t\"DIE_17\"\t\"DIE_18\"\t\"DIE_19\"\t\"CCE_0\"\t\"CCE_1\"\t\"CCE_2\"\t\"CCE_3\"\t\"CCE_4\"\t\"CCE_5\"\t\"CCE_6\"\t\"CCE_7\"\t\"CCE_8\"\t\"CCE_9\"\t\"CCE_10\"\t\"CCE_11\"\t\"CCE_12\"\t\"CCE_13\"\t\"CCE_14\"\t\"CCE_15\"\t\"CCE_16\"\t\"CCE_17\"\t\"CCE_18\"\t\"CCE_19\"\t\"BPAINV_0\"\t\"BPRNAM_0\"\t\"BPRNAM_1\"\t\"BPAADDLIG_0\"\t\"BPAADDLIG_1\"\t\"BPAADDLIG_2\"\t\"POSCOD_0\"\t\"CTY_0\"\t\"SAT_0\"\t\"CRY_0\"\t\"CRYNAM_0\"\t\"BILVCR_0\"\t\"TRSFAM_0\"\t\"FIY_0\"\t\"PER_0\"\t\"STRDATSVC_0\"\t\"ENDDATSVC_0\"\t\"LASDATSVC_0\"\t\"AMTTAXUSA_0\"\t\"CAI_0\"\t\"DATVLYCAI_0\"\t\"WRHE_0\"\t\"EXPNUM_0\"\t\"SINUM_0\"\t\"STARPT_0\"\t\"ISEXTDOC_0\"\t\"CREDAT_0\"\t\"CREUSR_0\"\t\"UPDDAT_0\"\t\"YRESTEAV_0\"\t\"UPDUSR_0\"\t\"YNBR_0\"\t\"YTYPOFAM_0\"\t\"YCSP_0\"\t\"YSITPAR_0\"\t\"YSITTRA_0\"\t\"YSITLOG_0\"\t\"YSSITLOG_0\"\t\"YCRY_0\"\t\"YT1_0\"\t\"YT2_0\"\t\"YT3_0\"\t\"YT4_0\"\t\"YT5_0\"\t\"YT6_0\"\t\"YT7_0\"\t\"YT8_0\"\t\"YSEXMAL_0\"\t\"YSEXFEM_0\"\t\"YSOLDINITIAL_0\"\t\"YSOLDEACTUAL_0\"\t\"YMTSANSREDUC_0\"\t\"YMTAVECREDUC_0\"\t\"YMTREDUCTION_0\"\t\"YMTVALMER_0\"\t\"YORIG1_0\"\t\"YORIG2_0\"\t\"YORIG3_0\"\t\"YORIG4_0\"\t\"YORIG5_0\"\t\"YORIG6_0\"\t\"YORIG7_0\"\t\"YORIG8_0\"\t\"YORIG9_0\"\t\"YFREQPASS_0\"\t\"YCSPCHEF_0\"\t\"YTYPPROV_0\"\t\"YREVREF_0\"\t\"YQUOTFAM_0\"\t\"YCNTTYP_0\"\n",
       "\"DIS\"\t1\t\"DIS101028000093\"\t5\t\"100000104\"\t\"C2\"\t\"CRF\"\t\"U8201\"\t\"FACLI\"\t\"DIS\"\t28/10/10\t217\t28/10/10\t\" \"\t\"EUR\"\t1\t\"FRA\"\t\" \"\t\" \"\t\" \"\t\" \"\t\" \"\t\" \"\t\" \"\t\" \"\t\" \"\t\"EUR\"\t\" \"\t\" \"\t\" \"\t\" \"\t\" \"\t\" \"\t\" \"\t\" \"\t\" \"\t1\t0\t0\t0\t0\t0\t0\t0\t0\t0\t1\t0\t0\t0\t0\t0\t0\t0\t0\t0\t28/10/10\t\"100000104\"\t\"A01\"\t\"supprimé\"\t\"supprimé\"\t\" \"\t\" \"\t\" \"\t\" \"\t\" \"\t\" \"\t\" \"\t\" \"\t\" \"\t\" \"\t0\t0\t28/10/10\t\"COMPTANT\"\t\" \"\t\" \"\t2\t0\t3\t\" \"\t\" \"\t\" \"\t\" \"\t\" \"\t\" \"\t1\t0\t0\t0\t0\t28/10/10\t0\t\" \"\t\" \"\t\" \"\t\" \"\t\" \"\t\" \"\t\" \"\t\" \"\t\" \"\t\" \"\t0\t0\t0\t0\t0\t0\t0\t0\t0\t0\t0\t0\t0\t0\t0\t0\t0\t0\t0\t0\t0\t0\t0\t0\t0\t0\t0\t0\t0\t0\t0\t\" \"\t\" \"\t\" \"\t\" \"\t\" \"\t\" \"\t\" \"\t\" \"\t\" \"\t\" \"\t\" \"\t\" \"\t\" \"\t\" \"\t\" \"\t\" \"\t\" \"\t\" \"\t\" \"\t\" \"\t\" \"\t\" \"\t\" \"\t\" \"\t\" \"\t\" \"\t\" \"\t\" \"\t\" \"\t\" \"\t\" \"\t\" \"\t\" \"\t\" \"\t\" \"\t\" \"\t\" \"\t\" \"\t\" \"\t\" \"\t\"A01\"\t\"supprimé\"\t\"supprimé\"\t\" \"\t\" \"\t\" \"\t\" \"\t\" \"\t\" \"\t\" \"\t\" \"\t\" \"\t\" \"\t0\t0\t31/12/99\t31/12/99\t31/12/99\t0\t\" \"\t31/12/99\t\" \"\t1\t\" \"\t2\t0\t28/10/10\t\"REYC\"\t16/04/15\t18,83666666666667\t\"YANONIMISATION\"\t1\t3\t1\t1\t3\t2\t2\t\"FR\"\t1\t0\t0\t0\t0\t0\t0\t0\t1\t0\t0\t0\t0\t0\t0\t0\t0\t0\t0\t0\t0\t0\t0\t0\t0\t\"1F1S\"\t1\t2\t0\t0\t1\n",
       "\n",
       "</pre>"
      ],
      "text/plain": [
       "<IPython.core.display.HTML object>"
      ]
     },
     "execution_count": 7,
     "metadata": {},
     "output_type": "execute_result"
    }
   ],
   "source": [
    "import pyensae\n",
    "%head SINVOICE_.utf8.txt --n=2"
   ]
  },
  {
   "cell_type": "markdown",
   "metadata": {},
   "source": [
    "### enumerate rows as dictionary"
   ]
  },
  {
   "cell_type": "code",
   "execution_count": 7,
   "metadata": {
    "collapsed": false
   },
   "outputs": [
    {
     "name": "stdout",
     "output_type": "stream",
     "text": [
      "['ACCDAT', 'ACCNUM', 'AMTATI', 'AMTATIL', 'AMTNOT', 'AMTNOTL', 'AMTTAX', 'AMTTAXUSA', 'AMTTAX_1', 'AMTTAX_2', 'AMTTAX_3', 'AMTTAX_4', 'AMTTAX_5', 'AMTTAX_6', 'AMTTAX_7', 'AMTTAX_8', 'AMTTAX_9', 'BASTAX', 'BASTAX_1', 'BASTAX_2', 'BASTAX_3', 'BASTAX_4', 'BASTAX_5', 'BASTAX_6', 'BASTAX_7', 'BASTAX_8', 'BASTAX_9', 'BILVCR', 'BPAADDLIG', 'BPAADDLIG_1', 'BPAADDLIG_2', 'BPAINV', 'BPAPAY', 'BPR', 'BPRDAT', 'BPRFCT', 'BPRNAM', 'BPRNAM_1', 'BPRPAY', 'BPRSAC', 'BPRVCR', 'BPYADDLIG', 'BPYADDLIG_1', 'BPYADDLIG_2', 'BPYCRY', 'BPYCRYNAM', 'BPYCTY', 'BPYNAM', 'BPYNAM_1', 'BPYPOSCOD', 'BPYSAT', 'CAI', 'CCE', 'CCE_1', 'CCE_10', 'CCE_11', 'CCE_12', 'CCE_13', 'CCE_14', 'CCE_15', 'CCE_16', 'CCE_17', 'CCE_18', 'CCE_19', 'CCE_2', 'CCE_3', 'CCE_4', 'CCE_5', 'CCE_6', 'CCE_7', 'CCE_8', 'CCE_9', 'CPY', 'CREDAT', 'CREUSR', 'CRY', 'CRYNAM', 'CTY', 'CUR', 'CURLED', 'CURLED_1', 'CURLED_2', 'CURLED_3', 'CURLED_4', 'CURLED_5', 'CURLED_6', 'CURLED_7', 'CURLED_8', 'CURLED_9', 'CURTYP', 'DATVLYCAI', 'DEP', 'DES', 'DES_1', 'DES_2', 'DES_3', 'DES_4', 'DIE', 'DIE_1', 'DIE_10', 'DIE_11', 'DIE_12', 'DIE_13', 'DIE_14', 'DIE_15', 'DIE_16', 'DIE_17', 'DIE_18', 'DIE_19', 'DIE_2', 'DIE_3', 'DIE_4', 'DIE_5', 'DIE_6', 'DIE_7', 'DIE_8', 'DIE_9', 'DIRINVFLG', 'EECNUMDEB', 'ENDDATSVC', 'EXEAMTTAX', 'EXEAMTTAX_1', 'EXEAMTTAX_2', 'EXEAMTTAX_3', 'EXEAMTTAX_4', 'EXEAMTTAX_5', 'EXEAMTTAX_6', 'EXEAMTTAX_7', 'EXEAMTTAX_8', 'EXEAMTTAX_9', 'EXPNUM', 'FCTVCR', 'FCTVCRFLG', 'FCY', 'FIY', 'GTE', 'INVNUM', 'INVTYP', 'ISEXTDOC', 'JOU', 'LASDATSVC', 'LED', 'LED_1', 'LED_2', 'LED_3', 'LED_4', 'LED_5', 'LED_6', 'LED_7', 'LED_8', 'LED_9', 'NBRTAX', 'NUM', 'ORIMOD', 'PER', 'POSCOD', 'PTE', 'QTCACCNUM', 'RATDAT', 'RATDIV', 'RATDIV_1', 'RATDIV_2', 'RATDIV_3', 'RATDIV_4', 'RATDIV_5', 'RATDIV_6', 'RATDIV_7', 'RATDIV_8', 'RATDIV_9', 'RATMLT', 'RATMLT_1', 'RATMLT_2', 'RATMLT_3', 'RATMLT_4', 'RATMLT_5', 'RATMLT_6', 'RATMLT_7', 'RATMLT_8', 'RATMLT_9', 'SAT', 'SINUM', 'SIVTYP', 'SNS', 'STA', 'STARPT', 'STRDATSVC', 'STRDUDDAT', 'TAX', 'TAX_1', 'TAX_2', 'TAX_3', 'TAX_4', 'TAX_5', 'TAX_6', 'TAX_7', 'TAX_8', 'TAX_9', 'THEAMTTAX', 'TRSFAM', 'UPDDAT', 'UPDUSR', 'VAC', 'VATDAT', 'WRHE', 'YCNTTYP', 'YCRY', 'YCSP', 'YCSPCHEF', 'YFREQPASS', 'YMTAVECREDUC', 'YMTREDUCTION', 'YMTSANSREDUC', 'YMTVALMER', 'YNBR', 'YORIG1', 'YORIG2', 'YORIG3', 'YORIG4', 'YORIG5', 'YORIG6', 'YORIG7', 'YORIG8', 'YORIG9', 'YQUOTFAM', 'YRESTEAV', 'YREVREF', 'YSEXFEM', 'YSEXMAL', 'YSITLOG', 'YSITPAR', 'YSITTRA', 'YSOLDEACTUAL', 'YSOLDINITIAL', 'YSSITLOG', 'YT1', 'YT2', 'YT3', 'YT4', 'YT5', 'YT6', 'YT7', 'YT8', 'YTYPOFAM', 'YTYPPROV']\n"
     ]
    }
   ],
   "source": [
    "from ensae_projects.data import enumerate_text_lines\n",
    "def clean_column_name(s):\n",
    "    return s.replace(\"_0\", \"\")\n",
    "for i, row in enumerate(enumerate_text_lines(\"SINVOICE_.utf8.txt\", \n",
    "                                             encoding=\"utf-8\", header=True, quotes_as_str=True,\n",
    "                       clean_column_name=clean_column_name)):\n",
    "    \n",
    "    print(list(sorted(row.keys()))) \n",
    "    break\n",
    "       "
   ]
  },
  {
   "cell_type": "markdown",
   "metadata": {},
   "source": [
    "### select a few columns and look at them"
   ]
  },
  {
   "cell_type": "code",
   "execution_count": 8,
   "metadata": {
    "collapsed": true
   },
   "outputs": [],
   "source": [
    "bigfile = enumerate_text_lines(\"SINVOICE_.utf8.txt\", encoding=\"utf-8\", header=True, quotes_as_str=True,\n",
    "                              clean_column_name=clean_column_name, fLOG=print)"
   ]
  },
  {
   "cell_type": "code",
   "execution_count": 9,
   "metadata": {
    "collapsed": false
   },
   "outputs": [],
   "source": [
    "l = map(lambda row: { \"BPR\":row[\"BPR\"], \"BPRDAT\":row[\"BPRDAT\"]}, bigfile)"
   ]
  },
  {
   "cell_type": "code",
   "execution_count": 10,
   "metadata": {
    "collapsed": false
   },
   "outputs": [
    {
     "name": "stdout",
     "output_type": "stream",
     "text": [
      "SINVOICE_.utf8.txt - 100000 lines\n",
      "SINVOICE_.utf8.txt - 200000 lines\n",
      "SINVOICE_.utf8.txt - 300000 lines\n",
      "SINVOICE_.utf8.txt - 400000 lines\n",
      "SINVOICE_.utf8.txt - 500000 lines\n",
      "SINVOICE_.utf8.txt - 600000 lines\n",
      "SINVOICE_.utf8.txt - 700000 lines\n",
      "SINVOICE_.utf8.txt - 800000 lines\n",
      "SINVOICE_.utf8.txt - 900000 lines\n",
      "SINVOICE_.utf8.txt - 1000000 lines\n",
      "SINVOICE_.utf8.txt - 1100000 lines\n",
      "SINVOICE_.utf8.txt - 1200000 lines\n",
      "SINVOICE_.utf8.txt - 1300000 lines\n",
      "SINVOICE_.utf8.txt - 1400000 lines\n"
     ]
    },
    {
     "data": {
      "text/plain": [
       "1446850"
      ]
     },
     "execution_count": 10,
     "metadata": {},
     "output_type": "execute_result"
    }
   ],
   "source": [
    "l = list(l)\n",
    "len(l)"
   ]
  },
  {
   "cell_type": "code",
   "execution_count": 11,
   "metadata": {
    "collapsed": false
   },
   "outputs": [],
   "source": [
    "import pandas\n",
    "df = pandas.DataFrame(l)"
   ]
  },
  {
   "cell_type": "code",
   "execution_count": 12,
   "metadata": {
    "collapsed": false
   },
   "outputs": [
    {
     "data": {
      "text/html": [
       "<div>\n",
       "<table border=\"1\" class=\"dataframe\">\n",
       "  <thead>\n",
       "    <tr style=\"text-align: right;\">\n",
       "      <th></th>\n",
       "      <th>BPR</th>\n",
       "      <th>BPRDAT</th>\n",
       "    </tr>\n",
       "  </thead>\n",
       "  <tbody>\n",
       "    <tr>\n",
       "      <th>0</th>\n",
       "      <td>100000104</td>\n",
       "      <td>28/10/10</td>\n",
       "    </tr>\n",
       "    <tr>\n",
       "      <th>1</th>\n",
       "      <td>100000177</td>\n",
       "      <td>28/10/10</td>\n",
       "    </tr>\n",
       "    <tr>\n",
       "      <th>2</th>\n",
       "      <td>100000161</td>\n",
       "      <td>28/10/10</td>\n",
       "    </tr>\n",
       "    <tr>\n",
       "      <th>3</th>\n",
       "      <td>100000280</td>\n",
       "      <td>28/10/10</td>\n",
       "    </tr>\n",
       "    <tr>\n",
       "      <th>4</th>\n",
       "      <td>100000198</td>\n",
       "      <td>28/10/10</td>\n",
       "    </tr>\n",
       "  </tbody>\n",
       "</table>\n",
       "</div>"
      ],
      "text/plain": [
       "         BPR    BPRDAT\n",
       "0  100000104  28/10/10\n",
       "1  100000177  28/10/10\n",
       "2  100000161  28/10/10\n",
       "3  100000280  28/10/10\n",
       "4  100000198  28/10/10"
      ]
     },
     "execution_count": 12,
     "metadata": {},
     "output_type": "execute_result"
    }
   ],
   "source": [
    "df.head()"
   ]
  },
  {
   "cell_type": "code",
   "execution_count": 13,
   "metadata": {
    "collapsed": false
   },
   "outputs": [
    {
     "data": {
      "text/plain": [
       "<matplotlib.axes._subplots.AxesSubplot at 0xa3d3a20>"
      ]
     },
     "execution_count": 13,
     "metadata": {},
     "output_type": "execute_result"
    },
    {
     "data": {
      "image/png": "[encoded data removed]",
      "text/plain": [
       "<matplotlib.figure.Figure at 0xa3e2208>"
      ]
     },
     "metadata": {},
     "output_type": "display_data"
    }
   ],
   "source": [
    "df.groupby(\"BPRDAT\").count().plot()"
   ]
  },
  {
   "cell_type": "code",
   "execution_count": null,
   "metadata": {
    "collapsed": true
   },
   "outputs": [],
   "source": []
  }
 ],
 "metadata": {
  "kernelspec": {
   "display_name": "Python 3",
   "language": "python",
   "name": "python3"
  },
  "language_info": {
   "codemirror_mode": {
    "name": "ipython",
    "version": 3
   },
   "file_extension": ".py",
   "mimetype": "text/x-python",
   "name": "python",
   "nbconvert_exporter": "python",
   "pygments_lexer": "ipython3",
   "version": "3.4.3"
  }
 },
 "nbformat": 4,
 "nbformat_minor": 0
}
