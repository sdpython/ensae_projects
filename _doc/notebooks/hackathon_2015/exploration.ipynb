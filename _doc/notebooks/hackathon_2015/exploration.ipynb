{
 "cells": [
  {
   "cell_type": "markdown",
   "metadata": {},
   "source": [
    "# exploration"
   ]
  },
  {
   "cell_type": "code",
   "execution_count": 1,
   "metadata": {
    "collapsed": false
   },
   "outputs": [
    {
     "name": "stdout",
     "output_type": "stream",
     "text": [
      "Populating the interactive namespace from numpy and matplotlib\n"
     ]
    }
   ],
   "source": [
    "%pylab inline\n",
    "import matplotlib.pyplot as plt\n",
    "plt.style.use('ggplot')"
   ]
  },
  {
   "cell_type": "code",
   "execution_count": 2,
   "metadata": {
    "collapsed": false
   },
   "outputs": [
    {
     "data": {
      "text/html": [
       "<b>Plan</b>\n",
       "<div id=\"my_menu_id\">run previous cell, wait for 2 seconds</div>\n",
       "<script>\n",
       "function repeat_indent_string(n){\n",
       "    var a = \"\" ;\n",
       "    for ( ; n > 0 ; --n) {\n",
       "        a += \"    \";\n",
       "    }\n",
       "    return a;\n",
       "}\n",
       "var update_menu_string = function(begin, lfirst, llast, sformat, send) {\n",
       "    var anchors = document.getElementsByClassName(\"section\");\n",
       "    if (anchors.length == 0) {\n",
       "        anchors = document.getElementsByClassName(\"text_cell_render rendered_html\");\n",
       "    }\n",
       "    var i,t;\n",
       "    var text_menu = begin;\n",
       "    var text_memo = \"<pre>\\nlength:\" + anchors.length + \"\\n\";\n",
       "    var ind = \"\";\n",
       "    var memo_level = 1;\n",
       "    var href;\n",
       "    var tags = [];\n",
       "    for (i = 0; i <= llast; i++) {\n",
       "        tags.push(\"h\" + i);\n",
       "    }\n",
       "\n",
       "    for (i = 0; i < anchors.length; i++) {\n",
       "        text_memo += \"**\" + anchors[i].id + \"--\\n\";\n",
       "\n",
       "        var child = null;\n",
       "        for(t = 0; t < tags.length; t++) {\n",
       "            var r = anchors[i].getElementsByTagName(tags[t]);\n",
       "            if (r.length > 0) {\n",
       "child = r[0];\n",
       "break;\n",
       "            }\n",
       "        }\n",
       "        if (child == null){\n",
       "            text_memo += \"null\\n\";\n",
       "            continue;\n",
       "        }\n",
       "\n",
       "        if (anchors[i].hasAttribute(\"id\")) {\n",
       "            // when converted in RST\n",
       "            href = anchors[i].id;\n",
       "            text_memo += \"#1-\" + href;\n",
       "            // passer à child suivant (le chercher)\n",
       "        }\n",
       "        else if (child.hasAttribute(\"id\")) {\n",
       "            // in a notebook\n",
       "            href = child.id;\n",
       "            text_memo += \"#2-\" + href;\n",
       "        }\n",
       "        else {\n",
       "            text_memo += \"#3-\" + \"*\" + \"\\n\";\n",
       "            continue;\n",
       "        }\n",
       "        var title = child.textContent;\n",
       "        var level = parseInt(child.tagName.substring(1,2));\n",
       "\n",
       "        text_memo += \"--\" + level + \"?\" + lfirst + \"--\" + title + \"\\n\";\n",
       "\n",
       "        if ((level < lfirst) || (level > llast)) {\n",
       "            continue ;\n",
       "        }\n",
       "        if (title.endsWith('¶')) {\n",
       "            title = title.substring(0,title.length-1).replace(\"<\", \"&lt;\").replace(\">\", \"&gt;\").replace(\"&\", \"&amp;\")\n",
       "        }\n",
       "\n",
       "        if (title.length == 0) {\n",
       "            continue;\n",
       "        }\n",
       "        while (level > memo_level) {\n",
       "            text_menu += \"<ul>\\n\";\n",
       "            memo_level += 1;\n",
       "        }\n",
       "        while (level < memo_level) {\n",
       "            text_menu += \"</ul>\\n\";\n",
       "            memo_level -= 1;\n",
       "        }\n",
       "        text_menu += repeat_indent_string(level-2) + sformat.replace(\"__HREF__\", href).replace(\"__TITLE__\", title);\n",
       "    }\n",
       "    while (1 < memo_level) {\n",
       "        text_menu += \"</ul>\\n\";\n",
       "        memo_level -= 1;\n",
       "    }\n",
       "    text_menu += send;\n",
       "    //text_menu += \"\\n\" + text_memo;\n",
       "    return text_menu;\n",
       "};\n",
       "var update_menu = function() {\n",
       "    var sbegin = \"\";\n",
       "    var sformat = '<li><a href=\"#__HREF__\">__TITLE__</a></li>';\n",
       "    var send = \"\";\n",
       "    var text_menu = update_menu_string(sbegin, 2, 4, sformat, send);\n",
       "    var menu = document.getElementById(\"my_menu_id\");\n",
       "    menu.innerHTML=text_menu;\n",
       "};\n",
       "window.setTimeout(update_menu,2000);\n",
       "            </script>"
      ],
      "text/plain": [
       "<IPython.core.display.HTML object>"
      ]
     },
     "execution_count": 2,
     "metadata": {},
     "output_type": "execute_result"
    }
   ],
   "source": [
    "import pyensae\n",
    "%nb_menu"
   ]
  },
  {
   "cell_type": "markdown",
   "metadata": {},
   "source": [
    "## connexion au cluster"
   ]
  },
  {
   "cell_type": "code",
   "execution_count": 3,
   "metadata": {
    "collapsed": true
   },
   "outputs": [],
   "source": [
    "from pyquickhelper.ipythonhelper import open_html_form\n",
    "params={\"blob_storage\":\"\", \"password\":\"\"}"
   ]
  },
  {
   "cell_type": "code",
   "execution_count": 4,
   "metadata": {
    "collapsed": false
   },
   "outputs": [
    {
     "data": {
      "text/html": [
       "<div style=\"background-color:gainsboro; padding:2px; border:0px;\"><b>server + credentials</b>\n",
       "<br />blob_storage <input type=\"text\" id=\"hackathonblob_storage\" value=\"\" size=\"80\" />\n",
       "<br />password <input type=\"password\" id=\"hackathonpassword\" value=\"\" size=\"80\" />\n",
       "<br /><button onclick=\"set_valuehackathon()\">Ok</button></div>\n",
       "<script type=\"text/Javascript\">\n",
       "function hackathoncallback(msg) {\n",
       "   var ret = msg.content.data['text/plain'];\n",
       "   $('#outhackathon').text(ret);\n",
       "}\n",
       "function set_valuehackathon(){\n",
       "   command='hackathon = {' ;\n",
       "   var hackathonblob_storagevar_value = document.getElementById('hackathonblob_storage').value;\n",
       "   command += '\"blob_storage\":\"' + hackathonblob_storagevar_value + '\",';\n",
       "   var hackathonpasswordvar_value = document.getElementById('hackathonpassword').value;\n",
       "   command += '\"password\":\"' + hackathonpasswordvar_value + '\",';\n",
       "   command += '}';\n",
       "   var kernel = IPython.notebook.kernel;\n",
       "   kernel.execute(command);\n",
       "}\n",
       "</script>"
      ],
      "text/plain": [
       "<IPython.core.display.HTML object>"
      ]
     },
     "execution_count": 4,
     "metadata": {},
     "output_type": "execute_result"
    }
   ],
   "source": [
    "open_html_form(params=params,title=\"server + credentials\", key_save=\"hackathon\")"
   ]
  },
  {
   "cell_type": "code",
   "execution_count": 3,
   "metadata": {
    "collapsed": true
   },
   "outputs": [],
   "source": [
    "blobstorage = hackathon[\"blob_storage\"]\n",
    "blobpassword = hackathon[\"password\"]"
   ]
  },
  {
   "cell_type": "code",
   "execution_count": 4,
   "metadata": {
    "collapsed": false
   },
   "outputs": [
    {
     "data": {
      "text/plain": [
       "(<pyensae.remote.azure_connection.AzureClient at 0x86b59b0>,\n",
       " <azure.storage.blob.blobservice.BlobService at 0x86b58d0>)"
      ]
     },
     "execution_count": 4,
     "metadata": {},
     "output_type": "execute_result"
    }
   ],
   "source": [
    "cl, bs = %blob_open\n",
    "cl, bs"
   ]
  },
  {
   "cell_type": "markdown",
   "metadata": {},
   "source": [
    "## dataframe"
   ]
  },
  {
   "cell_type": "code",
   "execution_count": 7,
   "metadata": {
    "collapsed": false
   },
   "outputs": [
    {
     "data": {
      "text/html": [
       "<div>\n",
       "<table border=\"1\" class=\"dataframe\">\n",
       "  <thead>\n",
       "    <tr style=\"text-align: right;\">\n",
       "      <th></th>\n",
       "      <th>name</th>\n",
       "      <th>last_modified</th>\n",
       "      <th>content_type</th>\n",
       "      <th>content_length</th>\n",
       "      <th>blob_type</th>\n",
       "    </tr>\n",
       "  </thead>\n",
       "  <tbody>\n",
       "    <tr>\n",
       "      <th>0</th>\n",
       "      <td>data/ITMMASTER.txt</td>\n",
       "      <td>Mon, 09 Nov 2015 21:41:00 GMT</td>\n",
       "      <td>application/octet-stream</td>\n",
       "      <td>103096479</td>\n",
       "      <td>BlockBlob</td>\n",
       "    </tr>\n",
       "    <tr>\n",
       "      <th>1</th>\n",
       "      <td>data/SINVOICE.txt</td>\n",
       "      <td>Mon, 09 Nov 2015 21:42:32 GMT</td>\n",
       "      <td>application/octet-stream</td>\n",
       "      <td>1362433753</td>\n",
       "      <td>BlockBlob</td>\n",
       "    </tr>\n",
       "    <tr>\n",
       "      <th>2</th>\n",
       "      <td>data/SINVOICEV.txt</td>\n",
       "      <td>Mon, 09 Nov 2015 21:44:08 GMT</td>\n",
       "      <td>application/octet-stream</td>\n",
       "      <td>1252461865</td>\n",
       "      <td>BlockBlob</td>\n",
       "    </tr>\n",
       "    <tr>\n",
       "      <th>3</th>\n",
       "      <td>data/enseignes_france.csv</td>\n",
       "      <td>Mon, 09 Nov 2015 21:40:54 GMT</td>\n",
       "      <td>application/octet-stream</td>\n",
       "      <td>6303836</td>\n",
       "      <td>BlockBlob</td>\n",
       "    </tr>\n",
       "    <tr>\n",
       "      <th>4</th>\n",
       "      <td>data/stojou.csv</td>\n",
       "      <td>Mon, 09 Nov 2015 21:55:23 GMT</td>\n",
       "      <td>application/octet-stream</td>\n",
       "      <td>8821375868</td>\n",
       "      <td>BlockBlob</td>\n",
       "    </tr>\n",
       "    <tr>\n",
       "      <th>5</th>\n",
       "      <td>readme.txt</td>\n",
       "      <td>Mon, 09 Nov 2015 21:14:08 GMT</td>\n",
       "      <td>application/octet-stream</td>\n",
       "      <td>64</td>\n",
       "      <td>BlockBlob</td>\n",
       "    </tr>\n",
       "  </tbody>\n",
       "</table>\n",
       "</div>"
      ],
      "text/plain": [
       "                        name                  last_modified  \\\n",
       "0         data/ITMMASTER.txt  Mon, 09 Nov 2015 21:41:00 GMT   \n",
       "1          data/SINVOICE.txt  Mon, 09 Nov 2015 21:42:32 GMT   \n",
       "2         data/SINVOICEV.txt  Mon, 09 Nov 2015 21:44:08 GMT   \n",
       "3  data/enseignes_france.csv  Mon, 09 Nov 2015 21:40:54 GMT   \n",
       "4            data/stojou.csv  Mon, 09 Nov 2015 21:55:23 GMT   \n",
       "5                 readme.txt  Mon, 09 Nov 2015 21:14:08 GMT   \n",
       "\n",
       "               content_type  content_length  blob_type  \n",
       "0  application/octet-stream       103096479  BlockBlob  \n",
       "1  application/octet-stream      1362433753  BlockBlob  \n",
       "2  application/octet-stream      1252461865  BlockBlob  \n",
       "3  application/octet-stream         6303836  BlockBlob  \n",
       "4  application/octet-stream      8821375868  BlockBlob  \n",
       "5  application/octet-stream              64  BlockBlob  "
      ]
     },
     "execution_count": 7,
     "metadata": {},
     "output_type": "execute_result"
    }
   ],
   "source": [
    "%blob_ls croix-rouge"
   ]
  },
  {
   "cell_type": "code",
   "execution_count": 9,
   "metadata": {
    "collapsed": false
   },
   "outputs": [
    {
     "data": {
      "text/plain": [
       "'STOFCY_0,UPDCOD_0,ITMREF_0,IPTDAT_0,MVTSEQ_0,MVTIND_0,CSTDAT_0,CSTTIM_0,CSTCOU_0,OWNER_0,LOT_0,SLO_0,BPSLOT_0,LOC_0,WRH_0,SERNUM_0,TRSTYP_0,TRSFAM_0,MVTDES_0,PJT_0,BPRNUM_0,VCRTYP_0,VCRNUM_0,VCRLIN_0,VCRTYPORI_0,VCRNUMORI_0,VCRLINORI_0,VCRSEQORI_0,VCRTYPREG_0,VCRNUMREG_0,VCRLINREG_0,USRFLD1_0,USRFLD2_0,USRFLD3_0,USRFLD4_0,PCU_0,QTYPCU_0,PCUSTUCOE_0,QTYSTU_0,STU_0,PCUORI_0,PCUSTUORI_0,AMTORD_0,AMTVAL_0,VARORD_0,VARVAL_0,PRIORD_0,PRIVAL_0,PRINAT_0,AMTVAL2_0,VARVAL2_0,PRIVAL2_0,PRINAT2_0,PRIREGFLG_0,AMTDEV_0,AMTDEV2_0,SHLDAT_0,STA_0,POT_0,ACT_0,ACTQTY_0,QLYCTLDEM_0,PRNFLG_0,REGFLG_0,LBEFMT_0,LBENBR_0,DIE_0,DIE_1,DIE_2,DIE_3,DIE_4,DIE_5,DIE_6,DIE_7,DIE_8,DIE_9,DIE_10,DIE_11,DIE_12,DIE_13,DIE_14,DIE_15,DIE_16,DIE_17,DIE_18,DIE_19,CCE_0,CCE_1,CCE_2,CCE_3,CCE_4,CCE_5,CCE_6,CCE_7,CCE_8,CCE_9,CCE_10,CCE_11,CCE_12,CCE_13,CCE_14,CCE_15,CCE_16,CCE_17,CCE_18,CCE_19,ENTCOD_0,FINRSPFCY_0,AGGIFAFLG_0,GTE_0,NUMVCR_0,PALNUM_0,CTRNUM_0,BETCPY_0,DLUDAT_0,NEWLTIDAT_0,CREMVTDAT_0,CREMVTTIM_0,CREMVTSEQ_0,EXPNUM_0,PRONUM_0,CREDAT_0,CRETIM_0,CREUSR_0,UPDDAT_0,UPDUSR_0'"
      ]
     },
     "execution_count": 9,
     "metadata": {},
     "output_type": "execute_result"
    }
   ],
   "source": [
    "df = cl.df_head(bs, \"croix-rouge\", \"data/stojou.csv\", as_df=False, stop_at=2000)\n",
    "df.split(\"\\r\")[0]"
   ]
  },
  {
   "cell_type": "code",
   "execution_count": 12,
   "metadata": {
    "collapsed": false
   },
   "outputs": [
    {
     "data": {
      "text/plain": [
       "'\"NUM_0\"\\t\"CPY_0\"\\t\"SALFCY_0\"\\t\"STOFCY_0\"\\t\"BPCINV_0\"\\t\"BPCORD_0\"\\t\"BPCGRU_0\"\\t\"BPAADD_0\"\\t\"BPINAM_0\"\\t\"BPINAM_1\"\\t\"BPIEECNUM_0\"\\t\"CNINAM_0\"\\t\"BPDNAM_0\"\\t\"BPDNAM_1\"\\t\"BPDADDLIG_0\"\\t\"BPDADDLIG_1\"\\t\"BPDADDLIG_2\"\\t\"BPDPOSCOD_0\"\\t\"BPDCTY_0\"\\t\"BPDSAT_0\"\\t\"BPDCRY_0\"\\t\"BPDCRYNAM_0\"\\t\"CNDNAM_0\"\\t\"BPRPAY_0\"\\t\"BPRFCT_0\"\\t\"SIVTYP_0\"\\t\"INVTYP_0\"\\t\"SIHORI_0\"\\t\"SIHORINUM_0\"\\t\"SIHORIDAT_0\"\\t\"INVDAT_0\"\\t\"CUR_0\"\\t\"INVSTA_0\"\\t\"INVCNOSTA_0\"\\t\"STOMVTFLG_0\"\\t\"INVREF_0\"\\t\"PJT_0\"\\t\"PRITYP_0\"\\t\"REP_0\"\\t\"REP_1\"\\t\"CNOREN_0\"\\t\"DEP_0\"\\t\"LAN_0\"\\t\"TSCCOD_0\"\\t\"TSCCOD_1\"\\t\"TSCCOD_2\"\\t\"TSCCOD_3\"\\t\"TSCCOD_4\"\\t\"SIHTEX1_0\"\\t\"SIHTEX2_0\"\\t\"BETFCY_0\"\\t\"BETCPY_0\"\\t\"ORIFCY_0\"\\t\"PIHNUM_0\"\\t\"DISCRGTYP_0\"\\t\"DISCRGTYP_1\"\\t\"DISCRGTYP_2\"\\t\"DISCRGTYP_3\"\\t\"DISCRGTYP_4\"\\t\"DISCRGTYP_5\"\\t\"DISCRGTYP_6\"\\t\"DISCRGTYP_7\"\\t\"DISCRGTYP_8\"\\t\"INVDTALIN_0\"\\t\"INVDTALIN_1\"\\t\"INVDTALIN_2\"\\t\"INVDTALIN_3\"\\t\"INVDTALIN_4\"\\t\"INVDTALIN_5\"\\t\"INVDTALIN_6\"\\t\"INVDTALIN_7\"\\t\"INVDTALIN_8\"\\t\"LINNBR_0\"\\t\"INVDTA_0\"\\t\"INVDTA_1\"\\t\"INVDTA_2\"\\t\"INVDTA_3\"\\t\"INVDTA_4\"\\t\"INVDTA_5\"\\t\"INVDTA_6\"\\t\"INVDTA_7\"\\t\"INVDTA_8\"\\t\"INVDTA_9\"\\t\"INVDTA_10\"\\t\"INVDTA_11\"\\t\"INVDTA_12\"\\t\"INVDTA_13\"\\t\"INVDTA_14\"\\t\"INVDTA_15\"\\t\"INVDTA_16\"\\t\"INVDTA_17\"\\t\"INVDTA_18\"\\t\"INVDTA_19\"\\t\"INVDTA_20\"\\t\"INVDTA_21\"\\t\"INVDTA_22\"\\t\"INVDTA_23\"\\t\"INVDTA_24\"\\t\"INVDTA_25\"\\t\"INVDTA_26\"\\t\"INVDTA_27\"\\t\"INVDTA_28\"\\t\"INVDTA_29\"\\t\"INVDTAAMT_0\"\\t\"INVDTAAMT_1\"\\t\"INVDTAAMT_2\"\\t\"INVDTAAMT_3\"\\t\"INVDTAAMT_4\"\\t\"INVDTAAMT_5\"\\t\"INVDTAAMT_6\"\\t\"INVDTAAMT_7\"\\t\"INVDTAAMT_8\"\\t\"INVDTAAMT_9\"\\t\"INVDTAAMT_10\"\\t\"INVDTAAMT_11\"\\t\"INVDTAAMT_12\"\\t\"INVDTAAMT_13\"\\t\"INVDTAAMT_14\"\\t\"INVDTAAMT_15\"\\t\"INVDTAAMT_16\"\\t\"INVDTAAMT_17\"\\t\"INVDTAAMT_18\"\\t\"INVDTAAMT_19\"\\t\"INVDTAAMT_20\"\\t\"INVDTAAMT_21\"\\t\"INVDTAAMT_22\"\\t\"INVDTAAMT_23\"\\t\"INVDTAAMT_24\"\\t\"INVDTAAMT_25\"\\t\"INVDTAAMT_26\"\\t\"INVDTAAMT_27\"\\t\"INVDTAAMT_28\"\\t\"INVDTAAMT_29\"\\t\"INVDTATYP_0\"\\t\"INVDTATYP_1\"\\t\"INVDTATYP_2\"\\t\"INVDTATYP_3\"\\t\"INVDTATYP_4\"\\t\"INVDTATYP_5\"\\t\"INVDTATYP_6\"\\t\"INVDTATYP_7\"\\t\"INVDTATYP_8\"\\t\"INVDTATYP_9\"\\t\"INVDTATYP_10\"\\t\"INVDTATYP_11\"\\t\"INVDTATYP_12\"\\t\"INVDTATYP_13\"\\t\"INVDTATYP_14\"\\t\"INVDTATYP_15\"\\t\"INVDTATYP_16\"\\t\"INVDTATYP_17\"\\t\"INVDTATYP_18\"\\t\"INVDTATYP_19\"\\t\"INVDTATYP_20\"\\t\"INVDTATYP_21\"\\t\"INVDTATYP_22\"\\t\"INVDTATYP'"
      ]
     },
     "execution_count": 12,
     "metadata": {},
     "output_type": "execute_result"
    }
   ],
   "source": [
    "df = cl.df_head(bs, \"croix-rouge\", \"data/SINVOICEV.txt\", as_df=False, stop_at=2000)\n",
    "df.split(\"\\r\")[0]"
   ]
  },
  {
   "cell_type": "code",
   "execution_count": 13,
   "metadata": {
    "collapsed": false
   },
   "outputs": [
    {
     "data": {
      "text/plain": [
       "'\"SIVTYP_0\"\\t\"INVTYP_0\"\\t\"NUM_0\"\\t\"ORIMOD_0\"\\t\"BPR_0\"\\t\"BPRSAC_0\"\\t\"CPY_0\"\\t\"FCY_0\"\\t\"GTE_0\"\\t\"JOU_0\"\\t\"ACCDAT_0\"\\t\"ACCNUM_0\"\\t\"BPRDAT_0\"\\t\"BPRVCR_0\"\\t\"CUR_0\"\\t\"CURTYP_0\"\\t\"LED_0\"\\t\"LED_1\"\\t\"LED_2\"\\t\"LED_3\"\\t\"LED_4\"\\t\"LED_5\"\\t\"LED_6\"\\t\"LED_7\"\\t\"LED_8\"\\t\"LED_9\"\\t\"CURLED_0\"\\t\"CURLED_1\"\\t\"CURLED_2\"\\t\"CURLED_3\"\\t\"CURLED_4\"\\t\"CURLED_5\"\\t\"CURLED_6\"\\t\"CURLED_7\"\\t\"CURLED_8\"\\t\"CURLED_9\"\\t\"RATMLT_0\"\\t\"RATMLT_1\"\\t\"RATMLT_2\"\\t\"RATMLT_3\"\\t\"RATMLT_4\"\\t\"RATMLT_5\"\\t\"RATMLT_6\"\\t\"RATMLT_7\"\\t\"RATMLT_8\"\\t\"RATMLT_9\"\\t\"RATDIV_0\"\\t\"RATDIV_1\"\\t\"RATDIV_2\"\\t\"RATDIV_3\"\\t\"RATDIV_4\"\\t\"RATDIV_5\"\\t\"RATDIV_6\"\\t\"RATDIV_7\"\\t\"RATDIV_8\"\\t\"RATDIV_9\"\\t\"RATDAT_0\"\\t\"BPRPAY_0\"\\t\"BPAPAY_0\"\\t\"BPYNAM_0\"\\t\"BPYNAM_1\"\\t\"BPYADDLIG_0\"\\t\"BPYADDLIG_1\"\\t\"BPYADDLIG_2\"\\t\"BPYPOSCOD_0\"\\t\"BPYCTY_0\"\\t\"BPYSAT_0\"\\t\"BPYCRY_0\"\\t\"BPYCRYNAM_0\"\\t\"BPRFCT_0\"\\t\"FCTVCR_0\"\\t\"FCTVCRFLG_0\"\\t\"QTCACCNUM_0\"\\t\"STRDUDDAT_0\"\\t\"PTE_0\"\\t\"DEP_0\"\\t\"VAC_0\"\\t\"DIRINVFLG_0\"\\t\"EECNUMDEB_0\"\\t\"STA_0\"\\t\"DES_0\"\\t\"DES_1\"\\t\"DES_2\"\\t\"DES_3\"\\t\"DES_4\"\\t\"INVNUM_0\"\\t\"SNS_0\"\\t\"AMTATI_0\"\\t\"AMTNOT_0\"\\t\"AMTNOTL_0\"\\t\"AMTATIL_0\"\\t\"VATDAT_0\"\\t\"NBRTAX_0\"\\t\"TAX_0\"\\t\"TAX_1\"\\t\"TAX_2\"\\t\"TAX_3\"\\t\"TAX_4\"\\t\"TAX_5\"\\t\"TAX_6\"\\t\"TAX_7\"\\t\"TAX_8\"\\t\"TAX_9\"\\t\"BASTAX_0\"\\t\"BASTAX_1\"\\t\"BASTAX_2\"\\t\"BASTAX_3\"\\t\"BASTAX_4\"\\t\"BASTAX_5\"\\t\"BASTAX_6\"\\t\"BASTAX_7\"\\t\"BASTAX_8\"\\t\"BASTAX_9\"\\t\"AMTTAX_0\"\\t\"AMTTAX_1\"\\t\"AMTTAX_2\"\\t\"AMTTAX_3\"\\t\"AMTTAX_4\"\\t\"AMTTAX_5\"\\t\"AMTTAX_6\"\\t\"AMTTAX_7\"\\t\"AMTTAX_8\"\\t\"AMTTAX_9\"\\t\"THEAMTTAX_0\"\\t\"EXEAMTTAX_0\"\\t\"EXEAMTTAX_1\"\\t\"EXEAMTTAX_2\"\\t\"EXEAMTTAX_3\"\\t\"EXEAMTTAX_4\"\\t\"EXEAMTTAX_5\"\\t\"EXEAMTTAX_6\"\\t\"EXEAMTTAX_7\"\\t\"EXEAMTTAX_8\"\\t\"EXEAMTTAX_9\"\\t\"DIE_0\"\\t\"DIE_1\"\\t\"DIE_2\"\\t\"DIE_3\"\\t\"DIE_4\"\\t\"DIE_5\"\\t\"DIE_6\"\\t\"DIE_7\"\\t\"DIE_8\"\\t\"DIE_9\"\\t\"DIE_10\"\\t\"DIE_11\"\\t\"DIE_12\"\\t\"DIE_13\"\\t\"DIE_14\"\\t\"DIE_15\"\\t\"DIE_16\"\\t\"DIE_17\"\\t\"DIE_18\"\\t\"DIE_19\"\\t\"CCE_0\"\\t\"CCE_1\"\\t\"CCE_2\"\\t\"CCE_3\"\\t\"CCE_4\"\\t\"CCE_5\"\\t\"CCE_6\"\\t\"CCE_7\"\\t\"CCE_8\"\\t\"CCE_9\"\\t\"CCE_10\"\\t\"CCE_11\"\\t\"CCE_12\"\\t\"CCE_13\"\\t\"CCE_14\"\\t\"CCE_15\"\\t\"CCE_16\"\\t\"CCE_17\"\\t\"CCE_18\"\\t\"CCE_19\"\\t\"BPAINV_0\"\\t\"BPRNAM_0\"\\t\"BPRNAM_1\"\\t\"BPAADDLIG_0\"\\t\"BPAADDLIG_1\"\\t\"BPAADDLIG_2\"\\t\"POSCOD_0\"\\t\"CTY_0\"\\t\"SAT_0\"\\t\"CRY_0\"\\t\"CRYNAM_0\"\\t\"BILVCR_0\"\\t\"TRSFAM_0\"\\t\"FIY_0\"\\t\"PER_0\"\\t\"STRDATSVC_0\"\\t\"ENDDATSVC_0\"\\t\"LASDATSVC_0\"\\t\"AMTTAXUSA_0\"\\t\"CAI_0\"\\t\"DATVLYCA'"
      ]
     },
     "execution_count": 13,
     "metadata": {},
     "output_type": "execute_result"
    }
   ],
   "source": [
    "df = cl.df_head(bs, \"croix-rouge\", \"data/SINVOICE.txt\", as_df=False, stop_at=2000)\n",
    "df.split(\"\\r\")[0]"
   ]
  },
  {
   "cell_type": "code",
   "execution_count": 14,
   "metadata": {
    "collapsed": false
   },
   "outputs": [
    {
     "data": {
      "text/html": [
       "<div>\n",
       "<table border=\"1\" class=\"dataframe\">\n",
       "  <thead>\n",
       "    <tr style=\"text-align: right;\">\n",
       "      <th></th>\n",
       "      <th>﻿ADRESSE_POSTALE_TEXT</th>\n",
       "      <th>TEXT_1</th>\n",
       "      <th>IMAGE_1/_title</th>\n",
       "      <th>SITE_INTERNET_LINK</th>\n",
       "      <th>shop_name</th>\n",
       "      <th>IMAGE_1</th>\n",
       "      <th>TEXT_3</th>\n",
       "      <th>SITE_INTERNET_LINK/_text</th>\n",
       "      <th>brand</th>\n",
       "      <th>TEXT_4</th>\n",
       "      <th>...</th>\n",
       "      <th>result_address</th>\n",
       "      <th>result_score</th>\n",
       "      <th>result_type</th>\n",
       "      <th>result_id</th>\n",
       "      <th>result_name</th>\n",
       "      <th>result_street</th>\n",
       "      <th>result_postcode</th>\n",
       "      <th>result_city</th>\n",
       "      <th>result_context</th>\n",
       "      <th>result_citycode</th>\n",
       "    </tr>\n",
       "  </thead>\n",
       "  <tbody>\n",
       "    <tr>\n",
       "      <th>0</th>\n",
       "      <td>Le Grand Rivolet</td>\n",
       "      <td>Simply Market MONTCEAUX GUEREINS</td>\n",
       "      <td>Simply-Market</td>\n",
       "      <td>http://www.simplymarket.fr/montceaux-guereins/</td>\n",
       "      <td>Simply Market MONTCEAUX GUEREINS</td>\n",
       "      <td>http://images.grandes-enseignes.com/Simply-Mar...</td>\n",
       "      <td>01090 MONTCEAUX GUEREINS</td>\n",
       "      <td>Site Internet</td>\n",
       "      <td>Simply-Market</td>\n",
       "      <td>NaN</td>\n",
       "      <td>...</td>\n",
       "      <td>Grand Rivolet 01090 Montceaux</td>\n",
       "      <td>0.64</td>\n",
       "      <td>locality</td>\n",
       "      <td>01258_B011_254fe4</td>\n",
       "      <td>Grand Rivolet</td>\n",
       "      <td>NaN</td>\n",
       "      <td>1090</td>\n",
       "      <td>Montceaux</td>\n",
       "      <td>01, Ain, Rhône-Alpes</td>\n",
       "      <td>1258</td>\n",
       "    </tr>\n",
       "    <tr>\n",
       "      <th>1</th>\n",
       "      <td>4 Rue Du Marche,</td>\n",
       "      <td>SPAR Montmerle Sur Saone</td>\n",
       "      <td>Spar</td>\n",
       "      <td>http://annuaire.casino-proximite.fr/c/c/magasi...</td>\n",
       "      <td>SPAR Montmerle Sur Saone</td>\n",
       "      <td>http://images.grandes-enseignes.com/Spar.png</td>\n",
       "      <td>01090 Montmerle Sur Saone</td>\n",
       "      <td>Site Internet</td>\n",
       "      <td>Spar</td>\n",
       "      <td>Tel. 04 74 06 88 04 -</td>\n",
       "      <td>...</td>\n",
       "      <td>4 Rue du Marche 01090 Montmerle-sur-Saône</td>\n",
       "      <td>0.91</td>\n",
       "      <td>housenumber</td>\n",
       "      <td>ADRNIVX_0000000285677493</td>\n",
       "      <td>Rue du Marche</td>\n",
       "      <td>NaN</td>\n",
       "      <td>1090</td>\n",
       "      <td>Montmerle-sur-Saône</td>\n",
       "      <td>01, Ain, Rhône-Alpes</td>\n",
       "      <td>1263</td>\n",
       "    </tr>\n",
       "    <tr>\n",
       "      <th>2</th>\n",
       "      <td>Le Pré de la Cloche</td>\n",
       "      <td>INTERMARCHE SUPER Belleville-sur-Saone</td>\n",
       "      <td>Intermarche</td>\n",
       "      <td>http://www.intermarche.com/magasin_accueil/sas...</td>\n",
       "      <td>INTERMARCHE SUPER Belleville-sur-Saone</td>\n",
       "      <td>http://images.grandes-enseignes.com/Intermarch...</td>\n",
       "      <td>69220 Belleville-sur-Saone</td>\n",
       "      <td>Site Internet</td>\n",
       "      <td>Intermarche</td>\n",
       "      <td>Tel. 04 74 06 45 85 -</td>\n",
       "      <td>...</td>\n",
       "      <td>Prés de la Cloche 69220 Belleville</td>\n",
       "      <td>0.61</td>\n",
       "      <td>locality</td>\n",
       "      <td>69019_B043_44c71c</td>\n",
       "      <td>Prés de la Cloche</td>\n",
       "      <td>NaN</td>\n",
       "      <td>69220</td>\n",
       "      <td>Belleville</td>\n",
       "      <td>69, Rhône, Rhône-Alpes</td>\n",
       "      <td>69019</td>\n",
       "    </tr>\n",
       "    <tr>\n",
       "      <th>3</th>\n",
       "      <td>47 Rue De La Republique,</td>\n",
       "      <td>PETIT CASINO Belleville Sur Saone</td>\n",
       "      <td>Petit-Casino</td>\n",
       "      <td>http://annuaire.casino-proximite.fr/c/c/magasi...</td>\n",
       "      <td>PETIT CASINO Belleville Sur Saone</td>\n",
       "      <td>http://images.grandes-enseignes.com/Petit-Casi...</td>\n",
       "      <td>69220 Belleville Sur Saone</td>\n",
       "      <td>Site Internet</td>\n",
       "      <td>Petit-Casino</td>\n",
       "      <td>Tel. 04 74 66 10 34 -</td>\n",
       "      <td>...</td>\n",
       "      <td>47 Rue de la République 69220 Belleville</td>\n",
       "      <td>0.74</td>\n",
       "      <td>housenumber</td>\n",
       "      <td>ADRNIVX_0000000259819137</td>\n",
       "      <td>Rue de la République</td>\n",
       "      <td>NaN</td>\n",
       "      <td>69220</td>\n",
       "      <td>Belleville</td>\n",
       "      <td>69, Rhône, Rhône-Alpes</td>\n",
       "      <td>69019</td>\n",
       "    </tr>\n",
       "    <tr>\n",
       "      <th>4</th>\n",
       "      <td>AVENUE DE VERDUN</td>\n",
       "      <td>Carrefour Market BELLEVILLE SUR SAONE</td>\n",
       "      <td>Carrefour-Market</td>\n",
       "      <td>http://www.carrefour.fr/magasin/market-bellevi...</td>\n",
       "      <td>Carrefour Market BELLEVILLE SUR SAONE</td>\n",
       "      <td>http://images.grandes-enseignes.com/Carrefour-...</td>\n",
       "      <td>69220 BELLEVILLE SUR SAONE</td>\n",
       "      <td>Site Internet</td>\n",
       "      <td>Carrefour-Market</td>\n",
       "      <td>Tel. 04 74 06 44 10 -</td>\n",
       "      <td>...</td>\n",
       "      <td>Avenue de Verdun 69220 Belleville</td>\n",
       "      <td>0.71</td>\n",
       "      <td>street</td>\n",
       "      <td>69019_XXXX_9d303b</td>\n",
       "      <td>Avenue de Verdun</td>\n",
       "      <td>NaN</td>\n",
       "      <td>69220</td>\n",
       "      <td>Belleville</td>\n",
       "      <td>69, Rhône, Rhône-Alpes</td>\n",
       "      <td>69019</td>\n",
       "    </tr>\n",
       "  </tbody>\n",
       "</table>\n",
       "<p>5 rows × 22 columns</p>\n",
       "</div>"
      ],
      "text/plain": [
       "      ﻿ADRESSE_POSTALE_TEXT                                  TEXT_1  \\\n",
       "0          Le Grand Rivolet        Simply Market MONTCEAUX GUEREINS   \n",
       "1          4 Rue Du Marche,                SPAR Montmerle Sur Saone   \n",
       "2       Le Pré de la Cloche  INTERMARCHE SUPER Belleville-sur-Saone   \n",
       "3  47 Rue De La Republique,       PETIT CASINO Belleville Sur Saone   \n",
       "4          AVENUE DE VERDUN   Carrefour Market BELLEVILLE SUR SAONE   \n",
       "\n",
       "     IMAGE_1/_title                                 SITE_INTERNET_LINK  \\\n",
       "0     Simply-Market     http://www.simplymarket.fr/montceaux-guereins/   \n",
       "1              Spar  http://annuaire.casino-proximite.fr/c/c/magasi...   \n",
       "2       Intermarche  http://www.intermarche.com/magasin_accueil/sas...   \n",
       "3      Petit-Casino  http://annuaire.casino-proximite.fr/c/c/magasi...   \n",
       "4  Carrefour-Market  http://www.carrefour.fr/magasin/market-bellevi...   \n",
       "\n",
       "                                shop_name  \\\n",
       "0        Simply Market MONTCEAUX GUEREINS   \n",
       "1                SPAR Montmerle Sur Saone   \n",
       "2  INTERMARCHE SUPER Belleville-sur-Saone   \n",
       "3       PETIT CASINO Belleville Sur Saone   \n",
       "4   Carrefour Market BELLEVILLE SUR SAONE   \n",
       "\n",
       "                                             IMAGE_1  \\\n",
       "0  http://images.grandes-enseignes.com/Simply-Mar...   \n",
       "1       http://images.grandes-enseignes.com/Spar.png   \n",
       "2  http://images.grandes-enseignes.com/Intermarch...   \n",
       "3  http://images.grandes-enseignes.com/Petit-Casi...   \n",
       "4  http://images.grandes-enseignes.com/Carrefour-...   \n",
       "\n",
       "                       TEXT_3 SITE_INTERNET_LINK/_text             brand  \\\n",
       "0    01090 MONTCEAUX GUEREINS            Site Internet     Simply-Market   \n",
       "1   01090 Montmerle Sur Saone            Site Internet              Spar   \n",
       "2  69220 Belleville-sur-Saone            Site Internet       Intermarche   \n",
       "3  69220 Belleville Sur Saone            Site Internet      Petit-Casino   \n",
       "4  69220 BELLEVILLE SUR SAONE            Site Internet  Carrefour-Market   \n",
       "\n",
       "                  TEXT_4       ...        \\\n",
       "0                    NaN       ...         \n",
       "1  Tel. 04 74 06 88 04 -       ...         \n",
       "2  Tel. 04 74 06 45 85 -       ...         \n",
       "3  Tel. 04 74 66 10 34 -       ...         \n",
       "4  Tel. 04 74 06 44 10 -       ...         \n",
       "\n",
       "                              result_address  result_score  result_type  \\\n",
       "0              Grand Rivolet 01090 Montceaux          0.64     locality   \n",
       "1  4 Rue du Marche 01090 Montmerle-sur-Saône          0.91  housenumber   \n",
       "2         Prés de la Cloche 69220 Belleville          0.61     locality   \n",
       "3   47 Rue de la République 69220 Belleville          0.74  housenumber   \n",
       "4          Avenue de Verdun 69220 Belleville          0.71       street   \n",
       "\n",
       "                  result_id           result_name result_street  \\\n",
       "0         01258_B011_254fe4         Grand Rivolet           NaN   \n",
       "1  ADRNIVX_0000000285677493         Rue du Marche           NaN   \n",
       "2         69019_B043_44c71c     Prés de la Cloche           NaN   \n",
       "3  ADRNIVX_0000000259819137  Rue de la République           NaN   \n",
       "4         69019_XXXX_9d303b      Avenue de Verdun           NaN   \n",
       "\n",
       "  result_postcode          result_city          result_context result_citycode  \n",
       "0            1090            Montceaux    01, Ain, Rhône-Alpes            1258  \n",
       "1            1090  Montmerle-sur-Saône    01, Ain, Rhône-Alpes            1263  \n",
       "2           69220           Belleville  69, Rhône, Rhône-Alpes           69019  \n",
       "3           69220           Belleville  69, Rhône, Rhône-Alpes           69019  \n",
       "4           69220           Belleville  69, Rhône, Rhône-Alpes           69019  \n",
       "\n",
       "[5 rows x 22 columns]"
      ]
     },
     "execution_count": 14,
     "metadata": {},
     "output_type": "execute_result"
    }
   ],
   "source": [
    "df = cl.df_head(bs, \"croix-rouge\", \"data/enseignes_france.csv\", as_df=True, stop_at=None)\n",
    "df.head()"
   ]
  },
  {
   "cell_type": "code",
   "execution_count": 15,
   "metadata": {
    "collapsed": false
   },
   "outputs": [
    {
     "data": {
      "text/plain": [
       "Index(['﻿ADRESSE_POSTALE_TEXT', 'TEXT_1', 'IMAGE_1/_title',\n",
       "       'SITE_INTERNET_LINK', 'shop_name', 'IMAGE_1', 'TEXT_3',\n",
       "       'SITE_INTERNET_LINK/_text', 'brand', 'TEXT_4', 'latitude', 'longitude',\n",
       "       'result_address', 'result_score', 'result_type', 'result_id',\n",
       "       'result_name', 'result_street', 'result_postcode', 'result_city',\n",
       "       'result_context', 'result_citycode'],\n",
       "      dtype='object')"
      ]
     },
     "execution_count": 15,
     "metadata": {},
     "output_type": "execute_result"
    }
   ],
   "source": [
    "df.columns"
   ]
  },
  {
   "cell_type": "markdown",
   "metadata": {},
   "source": [
    "## fermeture de la connexion"
   ]
  },
  {
   "cell_type": "code",
   "execution_count": 16,
   "metadata": {
    "collapsed": false
   },
   "outputs": [
    {
     "data": {
      "text/plain": [
       "True"
      ]
     },
     "execution_count": 16,
     "metadata": {},
     "output_type": "execute_result"
    }
   ],
   "source": [
    "%blob_close"
   ]
  },
  {
   "cell_type": "code",
   "execution_count": null,
   "metadata": {
    "collapsed": true
   },
   "outputs": [],
   "source": []
  }
 ],
 "metadata": {
  "kernelspec": {
   "display_name": "Python 3",
   "language": "python",
   "name": "python3"
  },
  "language_info": {
   "codemirror_mode": {
    "name": "ipython",
    "version": 3
   },
   "file_extension": ".py",
   "mimetype": "text/x-python",
   "name": "python",
   "nbconvert_exporter": "python",
   "pygments_lexer": "ipython3",
   "version": "3.4.3"
  }
 },
 "nbformat": 4,
 "nbformat_minor": 0
}
