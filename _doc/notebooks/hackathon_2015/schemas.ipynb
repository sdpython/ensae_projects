{
 "cells": [
  {
   "cell_type": "markdown",
   "metadata": {},
   "source": [
    "# Schemas"
   ]
  },
  {
   "cell_type": "code",
   "execution_count": 1,
   "metadata": {
    "collapsed": false
   },
   "outputs": [
    {
     "name": "stdout",
     "output_type": "stream",
     "text": [
      "Populating the interactive namespace from numpy and matplotlib\n"
     ]
    }
   ],
   "source": [
    "%pylab inline\n",
    "import matplotlib.pyplot as plt\n",
    "plt.style.use('ggplot')"
   ]
  },
  {
   "cell_type": "code",
   "execution_count": 2,
   "metadata": {
    "collapsed": false
   },
   "outputs": [
    {
     "data": {
      "text/html": [
       "<b>Plan</b>\n",
       "<div id=\"my_menu_id\">run previous cell, wait for 2 seconds</div>\n",
       "<script>\n",
       "function repeat_indent_string(n){\n",
       "    var a = \"\" ;\n",
       "    for ( ; n > 0 ; --n) {\n",
       "        a += \"    \";\n",
       "    }\n",
       "    return a;\n",
       "}\n",
       "var update_menu_string = function(begin, lfirst, llast, sformat, send) {\n",
       "    var anchors = document.getElementsByClassName(\"section\");\n",
       "    if (anchors.length == 0) {\n",
       "        anchors = document.getElementsByClassName(\"text_cell_render rendered_html\");\n",
       "    }\n",
       "    var i,t;\n",
       "    var text_menu = begin;\n",
       "    var text_memo = \"<pre>\\nlength:\" + anchors.length + \"\\n\";\n",
       "    var ind = \"\";\n",
       "    var memo_level = 1;\n",
       "    var href;\n",
       "    var tags = [];\n",
       "    for (i = 0; i <= llast; i++) {\n",
       "        tags.push(\"h\" + i);\n",
       "    }\n",
       "\n",
       "    for (i = 0; i < anchors.length; i++) {\n",
       "        text_memo += \"**\" + anchors[i].id + \"--\\n\";\n",
       "\n",
       "        var child = null;\n",
       "        for(t = 0; t < tags.length; t++) {\n",
       "            var r = anchors[i].getElementsByTagName(tags[t]);\n",
       "            if (r.length > 0) {\n",
       "child = r[0];\n",
       "break;\n",
       "            }\n",
       "        }\n",
       "        if (child == null){\n",
       "            text_memo += \"null\\n\";\n",
       "            continue;\n",
       "        }\n",
       "\n",
       "        if (anchors[i].hasAttribute(\"id\")) {\n",
       "            // when converted in RST\n",
       "            href = anchors[i].id;\n",
       "            text_memo += \"#1-\" + href;\n",
       "            // passer à child suivant (le chercher)\n",
       "        }\n",
       "        else if (child.hasAttribute(\"id\")) {\n",
       "            // in a notebook\n",
       "            href = child.id;\n",
       "            text_memo += \"#2-\" + href;\n",
       "        }\n",
       "        else {\n",
       "            text_memo += \"#3-\" + \"*\" + \"\\n\";\n",
       "            continue;\n",
       "        }\n",
       "        var title = child.textContent;\n",
       "        var level = parseInt(child.tagName.substring(1,2));\n",
       "\n",
       "        text_memo += \"--\" + level + \"?\" + lfirst + \"--\" + title + \"\\n\";\n",
       "\n",
       "        if ((level < lfirst) || (level > llast)) {\n",
       "            continue ;\n",
       "        }\n",
       "        if (title.endsWith('¶')) {\n",
       "            title = title.substring(0,title.length-1).replace(\"<\", \"&lt;\").replace(\">\", \"&gt;\").replace(\"&\", \"&amp;\")\n",
       "        }\n",
       "\n",
       "        if (title.length == 0) {\n",
       "            continue;\n",
       "        }\n",
       "        while (level > memo_level) {\n",
       "            text_menu += \"<ul>\\n\";\n",
       "            memo_level += 1;\n",
       "        }\n",
       "        while (level < memo_level) {\n",
       "            text_menu += \"</ul>\\n\";\n",
       "            memo_level -= 1;\n",
       "        }\n",
       "        text_menu += repeat_indent_string(level-2) + sformat.replace(\"__HREF__\", href).replace(\"__TITLE__\", title);\n",
       "    }\n",
       "    while (1 < memo_level) {\n",
       "        text_menu += \"</ul>\\n\";\n",
       "        memo_level -= 1;\n",
       "    }\n",
       "    text_menu += send;\n",
       "    //text_menu += \"\\n\" + text_memo;\n",
       "    return text_menu;\n",
       "};\n",
       "var update_menu = function() {\n",
       "    var sbegin = \"\";\n",
       "    var sformat = '<li><a href=\"#__HREF__\">__TITLE__</a></li>';\n",
       "    var send = \"\";\n",
       "    var text_menu = update_menu_string(sbegin, 2, 4, sformat, send);\n",
       "    var menu = document.getElementById(\"my_menu_id\");\n",
       "    menu.innerHTML=text_menu;\n",
       "};\n",
       "window.setTimeout(update_menu,2000);\n",
       "            </script>"
      ],
      "text/plain": [
       "<IPython.core.display.HTML object>"
      ]
     },
     "execution_count": 2,
     "metadata": {},
     "output_type": "execute_result"
    }
   ],
   "source": [
    "import pyensae\n",
    "%nb_menu"
   ]
  },
  {
   "cell_type": "markdown",
   "metadata": {},
   "source": [
    "## Connection to the cluster"
   ]
  },
  {
   "cell_type": "code",
   "execution_count": 3,
   "metadata": {
    "collapsed": false
   },
   "outputs": [
    {
     "data": {
      "text/plain": [
       "dict"
      ]
     },
     "execution_count": 3,
     "metadata": {},
     "output_type": "execute_result"
    }
   ],
   "source": [
    "import os\n",
    "hackathon = {}\n",
    "if \"CRCREDENTIALS\" in os.environ:\n",
    "    hackathon[\"blob_storage\"], hackathon[\"password\"] = os.environ[\"CRCREDENTIALS\"].split(\"**\")\n",
    "    r = type(hackathon)\n",
    "else:\n",
    "    from pyquickhelper.ipythonhelper import open_html_form\n",
    "    params={\"blob_storage\":\"\", \"password\":\"\"}\n",
    "    r = open_html_form(params=params,title=\"server + credentials\", key_save=\"hackathon\")\n",
    "r"
   ]
  },
  {
   "cell_type": "code",
   "execution_count": 4,
   "metadata": {
    "collapsed": false
   },
   "outputs": [],
   "source": [
    "blobstorage = hackathon[\"blob_storage\"]\n",
    "blobpassword = hackathon[\"password\"]"
   ]
  },
  {
   "cell_type": "code",
   "execution_count": 5,
   "metadata": {
    "collapsed": false
   },
   "outputs": [
    {
     "data": {
      "text/plain": [
       "(<pyensae.remote.azure_connection.AzureClient at 0x9735c18>,\n",
       " <azure.storage.blob.blobservice.BlobService at 0x9740a90>)"
      ]
     },
     "execution_count": 5,
     "metadata": {},
     "output_type": "execute_result"
    }
   ],
   "source": [
    "cl, bs = %blob_open\n",
    "cl, bs"
   ]
  },
  {
   "cell_type": "markdown",
   "metadata": {},
   "source": [
    "## Variables and tables"
   ]
  },
  {
   "cell_type": "markdown",
   "metadata": {},
   "source": [
    "### ITMMASTER"
   ]
  },
  {
   "cell_type": "code",
   "execution_count": 6,
   "metadata": {
    "collapsed": false
   },
   "outputs": [
    {
     "data": {
      "text/html": [
       "<div>\n",
       "<table border=\"1\" class=\"dataframe\">\n",
       "  <thead>\n",
       "    <tr style=\"text-align: right;\">\n",
       "      <th></th>\n",
       "      <th>name</th>\n",
       "      <th>last_modified</th>\n",
       "      <th>content_type</th>\n",
       "      <th>content_length</th>\n",
       "      <th>blob_type</th>\n",
       "    </tr>\n",
       "  </thead>\n",
       "  <tbody>\n",
       "    <tr>\n",
       "      <th>0</th>\n",
       "      <td>build/SINVOICE_M.csv</td>\n",
       "      <td>Wed, 18 Nov 2015 18:56:27 GMT</td>\n",
       "      <td>application/octet-stream</td>\n",
       "      <td>533771533</td>\n",
       "      <td>BlockBlob</td>\n",
       "    </tr>\n",
       "    <tr>\n",
       "      <th>1</th>\n",
       "      <td>data/ITMMASTER.schema.txt</td>\n",
       "      <td>Mon, 16 Nov 2015 23:00:34 GMT</td>\n",
       "      <td>application/octet-stream</td>\n",
       "      <td>5658</td>\n",
       "      <td>BlockBlob</td>\n",
       "    </tr>\n",
       "    <tr>\n",
       "      <th>2</th>\n",
       "      <td>data/ITMMASTER.txt</td>\n",
       "      <td>Mon, 09 Nov 2015 21:41:00 GMT</td>\n",
       "      <td>application/octet-stream</td>\n",
       "      <td>103096479</td>\n",
       "      <td>BlockBlob</td>\n",
       "    </tr>\n",
       "    <tr>\n",
       "      <th>3</th>\n",
       "      <td>data/SINVOICE.schema.txt</td>\n",
       "      <td>Mon, 16 Nov 2015 23:00:35 GMT</td>\n",
       "      <td>application/octet-stream</td>\n",
       "      <td>10252</td>\n",
       "      <td>BlockBlob</td>\n",
       "    </tr>\n",
       "    <tr>\n",
       "      <th>4</th>\n",
       "      <td>data/SINVOICE.txt</td>\n",
       "      <td>Mon, 09 Nov 2015 21:42:32 GMT</td>\n",
       "      <td>application/octet-stream</td>\n",
       "      <td>1362433753</td>\n",
       "      <td>BlockBlob</td>\n",
       "    </tr>\n",
       "    <tr>\n",
       "      <th>5</th>\n",
       "      <td>data/SINVOICEV.schema.txt</td>\n",
       "      <td>Mon, 16 Nov 2015 23:00:35 GMT</td>\n",
       "      <td>application/octet-stream</td>\n",
       "      <td>7999</td>\n",
       "      <td>BlockBlob</td>\n",
       "    </tr>\n",
       "    <tr>\n",
       "      <th>6</th>\n",
       "      <td>data/SINVOICEV.txt</td>\n",
       "      <td>Mon, 09 Nov 2015 21:44:08 GMT</td>\n",
       "      <td>application/octet-stream</td>\n",
       "      <td>1252461865</td>\n",
       "      <td>BlockBlob</td>\n",
       "    </tr>\n",
       "    <tr>\n",
       "      <th>7</th>\n",
       "      <td>data/enseignes_france.csv</td>\n",
       "      <td>Mon, 09 Nov 2015 21:40:54 GMT</td>\n",
       "      <td>application/octet-stream</td>\n",
       "      <td>6303836</td>\n",
       "      <td>BlockBlob</td>\n",
       "    </tr>\n",
       "    <tr>\n",
       "      <th>8</th>\n",
       "      <td>data/stojou.csv</td>\n",
       "      <td>Mon, 09 Nov 2015 21:55:23 GMT</td>\n",
       "      <td>application/octet-stream</td>\n",
       "      <td>8821375868</td>\n",
       "      <td>BlockBlob</td>\n",
       "    </tr>\n",
       "    <tr>\n",
       "      <th>9</th>\n",
       "      <td>readme.txt</td>\n",
       "      <td>Sun, 22 Nov 2015 18:00:34 GMT</td>\n",
       "      <td>application/octet-stream</td>\n",
       "      <td>45</td>\n",
       "      <td>BlockBlob</td>\n",
       "    </tr>\n",
       "  </tbody>\n",
       "</table>\n",
       "</div>"
      ],
      "text/plain": [
       "                        name                  last_modified  \\\n",
       "0       build/SINVOICE_M.csv  Wed, 18 Nov 2015 18:56:27 GMT   \n",
       "1  data/ITMMASTER.schema.txt  Mon, 16 Nov 2015 23:00:34 GMT   \n",
       "2         data/ITMMASTER.txt  Mon, 09 Nov 2015 21:41:00 GMT   \n",
       "3   data/SINVOICE.schema.txt  Mon, 16 Nov 2015 23:00:35 GMT   \n",
       "4          data/SINVOICE.txt  Mon, 09 Nov 2015 21:42:32 GMT   \n",
       "5  data/SINVOICEV.schema.txt  Mon, 16 Nov 2015 23:00:35 GMT   \n",
       "6         data/SINVOICEV.txt  Mon, 09 Nov 2015 21:44:08 GMT   \n",
       "7  data/enseignes_france.csv  Mon, 09 Nov 2015 21:40:54 GMT   \n",
       "8            data/stojou.csv  Mon, 09 Nov 2015 21:55:23 GMT   \n",
       "9                 readme.txt  Sun, 22 Nov 2015 18:00:34 GMT   \n",
       "\n",
       "               content_type  content_length  blob_type  \n",
       "0  application/octet-stream       533771533  BlockBlob  \n",
       "1  application/octet-stream            5658  BlockBlob  \n",
       "2  application/octet-stream       103096479  BlockBlob  \n",
       "3  application/octet-stream           10252  BlockBlob  \n",
       "4  application/octet-stream      1362433753  BlockBlob  \n",
       "5  application/octet-stream            7999  BlockBlob  \n",
       "6  application/octet-stream      1252461865  BlockBlob  \n",
       "7  application/octet-stream         6303836  BlockBlob  \n",
       "8  application/octet-stream      8821375868  BlockBlob  \n",
       "9  application/octet-stream              45  BlockBlob  "
      ]
     },
     "execution_count": 6,
     "metadata": {},
     "output_type": "execute_result"
    }
   ],
   "source": [
    "%blob_ls croix-rouge"
   ]
  },
  {
   "cell_type": "code",
   "execution_count": 7,
   "metadata": {
    "collapsed": false
   },
   "outputs": [
    {
     "data": {
      "text/html": [
       "<div>\n",
       "<table border=\"1\" class=\"dataframe\">\n",
       "  <thead>\n",
       "    <tr style=\"text-align: right;\">\n",
       "      <th></th>\n",
       "      <th>Intitulé long</th>\n",
       "      <th>Options</th>\n",
       "      <th>Table liée</th>\n",
       "      <th>Expression de lien</th>\n",
       "      <th>Copie législation</th>\n",
       "      <th>Annulation</th>\n",
       "      <th>Vérification</th>\n",
       "      <th>Obligatoire</th>\n",
       "      <th>RAZ</th>\n",
       "      <th>Mot-clé d'aide</th>\n",
       "    </tr>\n",
       "  </thead>\n",
       "  <tbody>\n",
       "    <tr>\n",
       "      <th>0</th>\n",
       "      <td>Article</td>\n",
       "      <td>NaN</td>\n",
       "      <td>ITMMASTER</td>\n",
       "      <td>NaN</td>\n",
       "      <td>NaN</td>\n",
       "      <td>Suppression</td>\n",
       "      <td>Oui</td>\n",
       "      <td>Non</td>\n",
       "      <td>Non</td>\n",
       "      <td>NaN</td>\n",
       "    </tr>\n",
       "    <tr>\n",
       "      <th>1</th>\n",
       "      <td>Famille statistique</td>\n",
       "      <td>NaN</td>\n",
       "      <td>ATABDIV</td>\n",
       "      <td>indice+20;TSICOD(indice)</td>\n",
       "      <td>NaN</td>\n",
       "      <td>Bloquant</td>\n",
       "      <td>Oui</td>\n",
       "      <td>Non</td>\n",
       "      <td>Non</td>\n",
       "      <td>NaN</td>\n",
       "    </tr>\n",
       "    <tr>\n",
       "      <th>2</th>\n",
       "      <td>Catégorie article</td>\n",
       "      <td>NaN</td>\n",
       "      <td>ITMCATEG</td>\n",
       "      <td>;TCLCOD</td>\n",
       "      <td>NaN</td>\n",
       "      <td>Bloquant</td>\n",
       "      <td>Oui</td>\n",
       "      <td>Oui</td>\n",
       "      <td>Non</td>\n",
       "      <td>NaN</td>\n",
       "    </tr>\n",
       "    <tr>\n",
       "      <th>3</th>\n",
       "      <td>Clé recherche</td>\n",
       "      <td>NaN</td>\n",
       "      <td>NaN</td>\n",
       "      <td>NaN</td>\n",
       "      <td>NaN</td>\n",
       "      <td>NaN</td>\n",
       "      <td>NaN</td>\n",
       "      <td>Non</td>\n",
       "      <td>Non</td>\n",
       "      <td>NaN</td>\n",
       "    </tr>\n",
       "    <tr>\n",
       "      <th>4</th>\n",
       "      <td>Code axe</td>\n",
       "      <td>NaN</td>\n",
       "      <td>GDIE</td>\n",
       "      <td>NaN</td>\n",
       "      <td>NaN</td>\n",
       "      <td>Bloquant</td>\n",
       "      <td>Oui</td>\n",
       "      <td>Non</td>\n",
       "      <td>Non</td>\n",
       "      <td>NaN</td>\n",
       "    </tr>\n",
       "  </tbody>\n",
       "</table>\n",
       "</div>"
      ],
      "text/plain": [
       "         Intitulé long Options Table liée        Expression de lien  \\\n",
       "0              Article     NaN  ITMMASTER                       NaN   \n",
       "1  Famille statistique     NaN    ATABDIV  indice+20;TSICOD(indice)   \n",
       "2    Catégorie article     NaN   ITMCATEG                   ;TCLCOD   \n",
       "3        Clé recherche     NaN        NaN                       NaN   \n",
       "4             Code axe     NaN       GDIE                       NaN   \n",
       "\n",
       "  Copie législation   Annulation Vérification Obligatoire  RAZ  Mot-clé d'aide  \n",
       "0               NaN  Suppression          Oui         Non  Non             NaN  \n",
       "1               NaN     Bloquant          Oui         Non  Non             NaN  \n",
       "2               NaN     Bloquant          Oui         Oui  Non             NaN  \n",
       "3               NaN          NaN          NaN         Non  Non             NaN  \n",
       "4               NaN     Bloquant          Oui         Non  Non             NaN  "
      ]
     },
     "execution_count": 7,
     "metadata": {},
     "output_type": "execute_result"
    }
   ],
   "source": [
    "df = %blob_head croix-rouge/data/ITMMASTER.schema.txt\n",
    "df.head()"
   ]
  },
  {
   "cell_type": "code",
   "execution_count": 8,
   "metadata": {
    "collapsed": false
   },
   "outputs": [],
   "source": [
    "from pyquickhelper.pandashelper import df2rst\n",
    "with open(\"sch_itmmaster.txt\", \"w\", encoding=\"utf8\") as f:\n",
    "    dfi = df.reset_index(drop=False)\n",
    "    dfi[\"index\"] = dfi[\"index\"]+1\n",
    "    f.write(df2rst(dfi.fillna(\"\")))"
   ]
  },
  {
   "cell_type": "markdown",
   "metadata": {},
   "source": [
    "### SINVOICE"
   ]
  },
  {
   "cell_type": "code",
   "execution_count": 38,
   "metadata": {
    "collapsed": false
   },
   "outputs": [
    {
     "data": {
      "text/html": [
       "<div>\n",
       "<table border=\"1\" class=\"dataframe\">\n",
       "  <thead>\n",
       "    <tr style=\"text-align: right;\">\n",
       "      <th></th>\n",
       "      <th>﻿Champ</th>\n",
       "      <th>Description</th>\n",
       "    </tr>\n",
       "  </thead>\n",
       "  <tbody>\n",
       "    <tr>\n",
       "      <th>0</th>\n",
       "      <td>NUM</td>\n",
       "      <td>Numéro de pièce</td>\n",
       "    </tr>\n",
       "    <tr>\n",
       "      <th>1</th>\n",
       "      <td>BPR</td>\n",
       "      <td>Tiers (identifiant du beneficiaire)</td>\n",
       "    </tr>\n",
       "    <tr>\n",
       "      <th>2</th>\n",
       "      <td>FCY</td>\n",
       "      <td>Site (code U2A)</td>\n",
       "    </tr>\n",
       "    <tr>\n",
       "      <th>3</th>\n",
       "      <td>ACCDAT</td>\n",
       "      <td>Date comptable</td>\n",
       "    </tr>\n",
       "    <tr>\n",
       "      <th>4</th>\n",
       "      <td>ACCNUM</td>\n",
       "      <td>Numéro interne de la transaction (ID unique po...</td>\n",
       "    </tr>\n",
       "  </tbody>\n",
       "</table>\n",
       "</div>"
      ],
      "text/plain": [
       "   ﻿Champ                                        Description\n",
       "0     NUM                                    Numéro de pièce\n",
       "1     BPR                Tiers (identifiant du beneficiaire)\n",
       "2     FCY                                    Site (code U2A)\n",
       "3  ACCDAT                                     Date comptable\n",
       "4  ACCNUM  Numéro interne de la transaction (ID unique po..."
      ]
     },
     "execution_count": 38,
     "metadata": {},
     "output_type": "execute_result"
    }
   ],
   "source": [
    "from ensae_projects.data.croix_rouge import get_meaning\n",
    "meaning = get_meaning(\"invoice\")\n",
    "meaning.head()"
   ]
  },
  {
   "cell_type": "code",
   "execution_count": 39,
   "metadata": {
    "collapsed": false
   },
   "outputs": [
    {
     "data": {
      "text/plain": [
       "Index(['﻿Champ', 'Description'], dtype='object')"
      ]
     },
     "execution_count": 39,
     "metadata": {},
     "output_type": "execute_result"
    }
   ],
   "source": [
    "meaning.columns"
   ]
  },
  {
   "cell_type": "code",
   "execution_count": 40,
   "metadata": {
    "collapsed": false
   },
   "outputs": [
    {
     "data": {
      "text/html": [
       "<div>\n",
       "<table border=\"1\" class=\"dataframe\">\n",
       "  <thead>\n",
       "    <tr style=\"text-align: right;\">\n",
       "      <th></th>\n",
       "      <th>Zone</th>\n",
       "      <th>Typ</th>\n",
       "      <th>Menu</th>\n",
       "      <th>Long</th>\n",
       "      <th>Act</th>\n",
       "      <th>Dim</th>\n",
       "      <th>Intitulé normal</th>\n",
       "      <th>Intitulé abrégé</th>\n",
       "      <th>Intitulé long</th>\n",
       "      <th>Options</th>\n",
       "      <th>Table liée</th>\n",
       "      <th>Expression de lien</th>\n",
       "      <th>Copie législation</th>\n",
       "      <th>Annulation</th>\n",
       "      <th>Vérification</th>\n",
       "      <th>Obligatoire</th>\n",
       "      <th>RAZ</th>\n",
       "      <th>Mot-clé d'aide</th>\n",
       "    </tr>\n",
       "  </thead>\n",
       "  <tbody>\n",
       "    <tr>\n",
       "      <th>0</th>\n",
       "      <td>SIVTYP</td>\n",
       "      <td>TSV</td>\n",
       "      <td>0</td>\n",
       "      <td>NaN</td>\n",
       "      <td>NaN</td>\n",
       "      <td>1</td>\n",
       "      <td>Type facture</td>\n",
       "      <td>Type fac</td>\n",
       "      <td>Type facture</td>\n",
       "      <td>NaN</td>\n",
       "      <td>TABSIVTYP</td>\n",
       "      <td>NaN</td>\n",
       "      <td>NaN</td>\n",
       "      <td>Bloquant</td>\n",
       "      <td>Oui</td>\n",
       "      <td>Non</td>\n",
       "      <td>Non</td>\n",
       "      <td>NaN</td>\n",
       "    </tr>\n",
       "    <tr>\n",
       "      <th>1</th>\n",
       "      <td>INVTYP</td>\n",
       "      <td>M</td>\n",
       "      <td>645</td>\n",
       "      <td>15</td>\n",
       "      <td>NaN</td>\n",
       "      <td>1</td>\n",
       "      <td>Catégorie facture</td>\n",
       "      <td>Catég fac</td>\n",
       "      <td>Catégorie facture</td>\n",
       "      <td>NaN</td>\n",
       "      <td>NaN</td>\n",
       "      <td>NaN</td>\n",
       "      <td>NaN</td>\n",
       "      <td>NaN</td>\n",
       "      <td>NaN</td>\n",
       "      <td>Non</td>\n",
       "      <td>Non</td>\n",
       "      <td>NaN</td>\n",
       "    </tr>\n",
       "    <tr>\n",
       "      <th>2</th>\n",
       "      <td>NUM</td>\n",
       "      <td>VCR</td>\n",
       "      <td>0</td>\n",
       "      <td>NaN</td>\n",
       "      <td>NaN</td>\n",
       "      <td>1</td>\n",
       "      <td>Numéro de pièce</td>\n",
       "      <td>Numéro</td>\n",
       "      <td>Numéro de pièce</td>\n",
       "      <td>NaN</td>\n",
       "      <td>NaN</td>\n",
       "      <td>NaN</td>\n",
       "      <td>NaN</td>\n",
       "      <td>NaN</td>\n",
       "      <td>NaN</td>\n",
       "      <td>Non</td>\n",
       "      <td>Non</td>\n",
       "      <td>NaN</td>\n",
       "    </tr>\n",
       "    <tr>\n",
       "      <th>3</th>\n",
       "      <td>ORIMOD</td>\n",
       "      <td>M</td>\n",
       "      <td>14</td>\n",
       "      <td>10</td>\n",
       "      <td>NaN</td>\n",
       "      <td>1</td>\n",
       "      <td>Module origine</td>\n",
       "      <td>Module</td>\n",
       "      <td>Module origine</td>\n",
       "      <td>NaN</td>\n",
       "      <td>NaN</td>\n",
       "      <td>NaN</td>\n",
       "      <td>NaN</td>\n",
       "      <td>NaN</td>\n",
       "      <td>NaN</td>\n",
       "      <td>Non</td>\n",
       "      <td>Non</td>\n",
       "      <td>NaN</td>\n",
       "    </tr>\n",
       "    <tr>\n",
       "      <th>4</th>\n",
       "      <td>BPR</td>\n",
       "      <td>BPR</td>\n",
       "      <td>0</td>\n",
       "      <td>NaN</td>\n",
       "      <td>NaN</td>\n",
       "      <td>1</td>\n",
       "      <td>Tiers</td>\n",
       "      <td>Tiers</td>\n",
       "      <td>Tiers</td>\n",
       "      <td>NaN</td>\n",
       "      <td>BPARTNER</td>\n",
       "      <td>NaN</td>\n",
       "      <td>NaN</td>\n",
       "      <td>Bloquant</td>\n",
       "      <td>Oui</td>\n",
       "      <td>Oui</td>\n",
       "      <td>Non</td>\n",
       "      <td>NaN</td>\n",
       "    </tr>\n",
       "  </tbody>\n",
       "</table>\n",
       "</div>"
      ],
      "text/plain": [
       "     Zone  Typ  Menu  Long  Act  Dim    Intitulé normal Intitulé abrégé  \\\n",
       "0  SIVTYP  TSV     0   NaN  NaN    1       Type facture        Type fac   \n",
       "1  INVTYP    M   645    15  NaN    1  Catégorie facture       Catég fac   \n",
       "2     NUM  VCR     0   NaN  NaN    1    Numéro de pièce          Numéro   \n",
       "3  ORIMOD    M    14    10  NaN    1     Module origine          Module   \n",
       "4     BPR  BPR     0   NaN  NaN    1              Tiers           Tiers   \n",
       "\n",
       "       Intitulé long Options Table liée Expression de lien  Copie législation  \\\n",
       "0       Type facture     NaN  TABSIVTYP                NaN                NaN   \n",
       "1  Catégorie facture     NaN        NaN                NaN                NaN   \n",
       "2    Numéro de pièce     NaN        NaN                NaN                NaN   \n",
       "3     Module origine     NaN        NaN                NaN                NaN   \n",
       "4              Tiers     NaN   BPARTNER                NaN                NaN   \n",
       "\n",
       "  Annulation Vérification Obligatoire  RAZ Mot-clé d'aide  \n",
       "0   Bloquant          Oui         Non  Non            NaN  \n",
       "1        NaN          NaN         Non  Non            NaN  \n",
       "2        NaN          NaN         Non  Non            NaN  \n",
       "3        NaN          NaN         Non  Non            NaN  \n",
       "4   Bloquant          Oui         Oui  Non            NaN  "
      ]
     },
     "execution_count": 40,
     "metadata": {},
     "output_type": "execute_result"
    }
   ],
   "source": [
    "df = %blob_head croix-rouge/data/SINVOICE.schema.txt\n",
    "df.head()"
   ]
  },
  {
   "cell_type": "code",
   "execution_count": 41,
   "metadata": {
    "collapsed": false
   },
   "outputs": [
    {
     "name": "stdout",
     "output_type": "stream",
     "text": [
      "(146, 20) (124, 18) (80, 2)\n",
      "(124, 20)\n"
     ]
    },
    {
     "data": {
      "text/html": [
       "<div>\n",
       "<table border=\"1\" class=\"dataframe\">\n",
       "  <thead>\n",
       "    <tr style=\"text-align: right;\">\n",
       "      <th></th>\n",
       "      <th>Zone</th>\n",
       "      <th>Typ</th>\n",
       "      <th>Menu</th>\n",
       "      <th>Long</th>\n",
       "      <th>Act</th>\n",
       "      <th>Dim</th>\n",
       "      <th>Intitulé normal</th>\n",
       "      <th>Intitulé abrégé</th>\n",
       "      <th>Intitulé long</th>\n",
       "      <th>Options</th>\n",
       "      <th>Table liée</th>\n",
       "      <th>Expression de lien</th>\n",
       "      <th>Copie législation</th>\n",
       "      <th>Annulation</th>\n",
       "      <th>Vérification</th>\n",
       "      <th>Obligatoire</th>\n",
       "      <th>RAZ</th>\n",
       "      <th>Mot-clé d'aide</th>\n",
       "      <th>﻿Champ</th>\n",
       "      <th>Description</th>\n",
       "    </tr>\n",
       "  </thead>\n",
       "  <tbody>\n",
       "    <tr>\n",
       "      <th>0</th>\n",
       "      <td>SIVTYP</td>\n",
       "      <td>TSV</td>\n",
       "      <td>0</td>\n",
       "      <td>NaN</td>\n",
       "      <td>NaN</td>\n",
       "      <td>1</td>\n",
       "      <td>Type facture</td>\n",
       "      <td>Type fac</td>\n",
       "      <td>Type facture</td>\n",
       "      <td>NaN</td>\n",
       "      <td>TABSIVTYP</td>\n",
       "      <td>NaN</td>\n",
       "      <td>NaN</td>\n",
       "      <td>Bloquant</td>\n",
       "      <td>Oui</td>\n",
       "      <td>Non</td>\n",
       "      <td>Non</td>\n",
       "      <td>NaN</td>\n",
       "      <td>SIVTYP</td>\n",
       "      <td>Type facture vente utilisateur (toujours egal ...</td>\n",
       "    </tr>\n",
       "    <tr>\n",
       "      <th>1</th>\n",
       "      <td>INVTYP</td>\n",
       "      <td>M</td>\n",
       "      <td>645</td>\n",
       "      <td>15</td>\n",
       "      <td>NaN</td>\n",
       "      <td>1</td>\n",
       "      <td>Catégorie facture</td>\n",
       "      <td>Catég fac</td>\n",
       "      <td>Catégorie facture</td>\n",
       "      <td>NaN</td>\n",
       "      <td>NaN</td>\n",
       "      <td>NaN</td>\n",
       "      <td>NaN</td>\n",
       "      <td>NaN</td>\n",
       "      <td>NaN</td>\n",
       "      <td>Non</td>\n",
       "      <td>Non</td>\n",
       "      <td>NaN</td>\n",
       "      <td>INVTYP</td>\n",
       "      <td>Catégorie facture (toujours egal a 1 ~ inutile)</td>\n",
       "    </tr>\n",
       "  </tbody>\n",
       "</table>\n",
       "</div>"
      ],
      "text/plain": [
       "     Zone  Typ  Menu  Long  Act  Dim    Intitulé normal Intitulé abrégé  \\\n",
       "0  SIVTYP  TSV     0   NaN  NaN    1       Type facture        Type fac   \n",
       "1  INVTYP    M   645    15  NaN    1  Catégorie facture       Catég fac   \n",
       "\n",
       "       Intitulé long Options Table liée Expression de lien  Copie législation  \\\n",
       "0       Type facture     NaN  TABSIVTYP                NaN                NaN   \n",
       "1  Catégorie facture     NaN        NaN                NaN                NaN   \n",
       "\n",
       "  Annulation Vérification Obligatoire  RAZ Mot-clé d'aide  ﻿Champ  \\\n",
       "0   Bloquant          Oui         Non  Non            NaN  SIVTYP   \n",
       "1        NaN          NaN         Non  Non            NaN  INVTYP   \n",
       "\n",
       "                                         Description  \n",
       "0  Type facture vente utilisateur (toujours egal ...  \n",
       "1    Catégorie facture (toujours egal a 1 ~ inutile)  "
      ]
     },
     "execution_count": 41,
     "metadata": {},
     "output_type": "execute_result"
    }
   ],
   "source": [
    "merge = df.merge(meaning, right_on=meaning.columns[0], left_on=\"Zone\", how=\"outer\")\n",
    "print(merge.shape, df.shape, meaning.shape)\n",
    "merge = merge[~merge[\"Zone\"].isnull()]\n",
    "print(merge.shape)\n",
    "merge.head(n=2)"
   ]
  },
  {
   "cell_type": "code",
   "execution_count": 42,
   "metadata": {
    "collapsed": true
   },
   "outputs": [],
   "source": [
    "from pyquickhelper.pandashelper import df2rst\n",
    "with open(\"sch_invoice.txt\", \"w\", encoding=\"utf8\") as f:\n",
    "    dfi = merge.reset_index(drop=False)\n",
    "    dfi[\"index\"] = dfi[\"index\"]+1\n",
    "    f.write(df2rst(dfi.fillna(\"\")))"
   ]
  },
  {
   "cell_type": "markdown",
   "metadata": {},
   "source": [
    "### INVOICE_V"
   ]
  },
  {
   "cell_type": "code",
   "execution_count": 43,
   "metadata": {
    "collapsed": false
   },
   "outputs": [
    {
     "data": {
      "text/html": [
       "<div>\n",
       "<table border=\"1\" class=\"dataframe\">\n",
       "  <thead>\n",
       "    <tr style=\"text-align: right;\">\n",
       "      <th></th>\n",
       "      <th>Zone</th>\n",
       "      <th>Typ</th>\n",
       "      <th>Menu</th>\n",
       "      <th>Long</th>\n",
       "      <th>Act</th>\n",
       "      <th>Dim</th>\n",
       "      <th>Intitulé normal</th>\n",
       "      <th>Intitulé abrégé</th>\n",
       "      <th>Intitulé long</th>\n",
       "      <th>Options</th>\n",
       "      <th>Table liée</th>\n",
       "      <th>Expression de lien</th>\n",
       "      <th>Copie législation</th>\n",
       "      <th>Annulation</th>\n",
       "      <th>Vérification</th>\n",
       "      <th>Obligatoire</th>\n",
       "      <th>RAZ</th>\n",
       "      <th>Mot-clé d'aide</th>\n",
       "    </tr>\n",
       "  </thead>\n",
       "  <tbody>\n",
       "    <tr>\n",
       "      <th>0</th>\n",
       "      <td>NUM</td>\n",
       "      <td>VCR</td>\n",
       "      <td>0</td>\n",
       "      <td>NaN</td>\n",
       "      <td>NaN</td>\n",
       "      <td>1</td>\n",
       "      <td>No facture</td>\n",
       "      <td>Facture</td>\n",
       "      <td>No facture</td>\n",
       "      <td>NaN</td>\n",
       "      <td>SINVOICE</td>\n",
       "      <td>NaN</td>\n",
       "      <td>NaN</td>\n",
       "      <td>Autre</td>\n",
       "      <td>Oui</td>\n",
       "      <td>Non</td>\n",
       "      <td>Non</td>\n",
       "      <td>NaN</td>\n",
       "    </tr>\n",
       "    <tr>\n",
       "      <th>1</th>\n",
       "      <td>CPY</td>\n",
       "      <td>CPY</td>\n",
       "      <td>0</td>\n",
       "      <td>NaN</td>\n",
       "      <td>NaN</td>\n",
       "      <td>1</td>\n",
       "      <td>Société</td>\n",
       "      <td>Société</td>\n",
       "      <td>Société</td>\n",
       "      <td>NaN</td>\n",
       "      <td>COMPANY</td>\n",
       "      <td>NaN</td>\n",
       "      <td>NaN</td>\n",
       "      <td>Bloquant</td>\n",
       "      <td>Oui</td>\n",
       "      <td>Oui</td>\n",
       "      <td>Non</td>\n",
       "      <td>NaN</td>\n",
       "    </tr>\n",
       "  </tbody>\n",
       "</table>\n",
       "</div>"
      ],
      "text/plain": [
       "  Zone  Typ  Menu  Long  Act  Dim Intitulé normal Intitulé abrégé  \\\n",
       "0  NUM  VCR     0   NaN  NaN    1      No facture         Facture   \n",
       "1  CPY  CPY     0   NaN  NaN    1         Société         Société   \n",
       "\n",
       "  Intitulé long  Options Table liée Expression de lien  Copie législation  \\\n",
       "0    No facture      NaN   SINVOICE                NaN                NaN   \n",
       "1       Société      NaN    COMPANY                NaN                NaN   \n",
       "\n",
       "  Annulation Vérification Obligatoire  RAZ  Mot-clé d'aide  \n",
       "0      Autre          Oui         Non  Non             NaN  \n",
       "1   Bloquant          Oui         Oui  Non             NaN  "
      ]
     },
     "execution_count": 43,
     "metadata": {},
     "output_type": "execute_result"
    }
   ],
   "source": [
    "df = %blob_head croix-rouge/data/SINVOICEV.schema.txt\n",
    "df.head(n=2)"
   ]
  },
  {
   "cell_type": "code",
   "execution_count": 44,
   "metadata": {
    "collapsed": false
   },
   "outputs": [
    {
     "name": "stdout",
     "output_type": "stream",
     "text": [
      "(140, 20) (91, 18) (80, 2)\n",
      "(91, 20)\n"
     ]
    },
    {
     "data": {
      "text/html": [
       "<div>\n",
       "<table border=\"1\" class=\"dataframe\">\n",
       "  <thead>\n",
       "    <tr style=\"text-align: right;\">\n",
       "      <th></th>\n",
       "      <th>Zone</th>\n",
       "      <th>Typ</th>\n",
       "      <th>Menu</th>\n",
       "      <th>Long</th>\n",
       "      <th>Act</th>\n",
       "      <th>Dim</th>\n",
       "      <th>Intitulé normal</th>\n",
       "      <th>Intitulé abrégé</th>\n",
       "      <th>Intitulé long</th>\n",
       "      <th>Options</th>\n",
       "      <th>Table liée</th>\n",
       "      <th>Expression de lien</th>\n",
       "      <th>Copie législation</th>\n",
       "      <th>Annulation</th>\n",
       "      <th>Vérification</th>\n",
       "      <th>Obligatoire</th>\n",
       "      <th>RAZ</th>\n",
       "      <th>Mot-clé d'aide</th>\n",
       "      <th>﻿Champ</th>\n",
       "      <th>Description</th>\n",
       "    </tr>\n",
       "  </thead>\n",
       "  <tbody>\n",
       "    <tr>\n",
       "      <th>0</th>\n",
       "      <td>NUM</td>\n",
       "      <td>VCR</td>\n",
       "      <td>0</td>\n",
       "      <td>NaN</td>\n",
       "      <td>NaN</td>\n",
       "      <td>1</td>\n",
       "      <td>No facture</td>\n",
       "      <td>Facture</td>\n",
       "      <td>No facture</td>\n",
       "      <td>NaN</td>\n",
       "      <td>SINVOICE</td>\n",
       "      <td>NaN</td>\n",
       "      <td>NaN</td>\n",
       "      <td>Autre</td>\n",
       "      <td>Oui</td>\n",
       "      <td>Non</td>\n",
       "      <td>Non</td>\n",
       "      <td>NaN</td>\n",
       "      <td>NUM</td>\n",
       "      <td>Numéro de pièce</td>\n",
       "    </tr>\n",
       "    <tr>\n",
       "      <th>1</th>\n",
       "      <td>CPY</td>\n",
       "      <td>CPY</td>\n",
       "      <td>0</td>\n",
       "      <td>NaN</td>\n",
       "      <td>NaN</td>\n",
       "      <td>1</td>\n",
       "      <td>Société</td>\n",
       "      <td>Société</td>\n",
       "      <td>Société</td>\n",
       "      <td>NaN</td>\n",
       "      <td>COMPANY</td>\n",
       "      <td>NaN</td>\n",
       "      <td>NaN</td>\n",
       "      <td>Bloquant</td>\n",
       "      <td>Oui</td>\n",
       "      <td>Oui</td>\n",
       "      <td>Non</td>\n",
       "      <td>NaN</td>\n",
       "      <td>CPY</td>\n",
       "      <td>Société (toujours egal a CRF)</td>\n",
       "    </tr>\n",
       "  </tbody>\n",
       "</table>\n",
       "</div>"
      ],
      "text/plain": [
       "  Zone  Typ  Menu  Long  Act  Dim Intitulé normal Intitulé abrégé  \\\n",
       "0  NUM  VCR     0   NaN  NaN    1      No facture         Facture   \n",
       "1  CPY  CPY     0   NaN  NaN    1         Société         Société   \n",
       "\n",
       "  Intitulé long  Options Table liée Expression de lien  Copie législation  \\\n",
       "0    No facture      NaN   SINVOICE                NaN                NaN   \n",
       "1       Société      NaN    COMPANY                NaN                NaN   \n",
       "\n",
       "  Annulation Vérification Obligatoire  RAZ  Mot-clé d'aide ﻿Champ  \\\n",
       "0      Autre          Oui         Non  Non             NaN    NUM   \n",
       "1   Bloquant          Oui         Oui  Non             NaN    CPY   \n",
       "\n",
       "                     Description  \n",
       "0                Numéro de pièce  \n",
       "1  Société (toujours egal a CRF)  "
      ]
     },
     "execution_count": 44,
     "metadata": {},
     "output_type": "execute_result"
    }
   ],
   "source": [
    "mergev = df.merge(meaning, right_on=meaning.columns[0], left_on=\"Zone\", how=\"outer\")\n",
    "print(mergev.shape, df.shape, meaning.shape)\n",
    "mergev = mergev[~mergev[\"Zone\"].isnull()]\n",
    "print(mergev.shape)\n",
    "mergev.head(n=2)"
   ]
  },
  {
   "cell_type": "code",
   "execution_count": 48,
   "metadata": {
    "collapsed": false
   },
   "outputs": [],
   "source": [
    "from pyquickhelper.pandashelper import df2rst\n",
    "with open(\"sch_invoice_v.txt\", \"w\", encoding=\"utf8\") as f:\n",
    "    dfi = mergev.reset_index(drop=False)\n",
    "    dfi[\"index\"] = dfi[\"index\"]+1\n",
    "    f.write(df2rst(dfi.fillna(\"\")))"
   ]
  },
  {
   "cell_type": "markdown",
   "metadata": {},
   "source": [
    "Differences between ``INVOICE_V`` and ``INVOICE``"
   ]
  },
  {
   "cell_type": "code",
   "execution_count": 62,
   "metadata": {
    "collapsed": false
   },
   "outputs": [
    {
     "data": {
      "text/plain": [
       "(201, 4)"
      ]
     },
     "execution_count": 62,
     "metadata": {},
     "output_type": "execute_result"
    }
   ],
   "source": [
    "merge[\"table\"] = \"INVOICE\"\n",
    "mergev[\"table\"] = \"INVOICE_V\"\n",
    "diff = merge[[\"Zone\", \"table\"]].merge(mergev[[\"Zone\", \"table\"]], how=\"outer\", on=\"Zone\", suffixes=(\"\", \"_V\")).copy()\n",
    "diff[\"COMMON\"] = True\n",
    "diff.ix[diff[\"table\"].isnull() | diff[\"table_V\"].isnull(), \"COMMON\"] = False\n",
    "diff = diff.sort_values([\"COMMON\", \"Zone\"])\n",
    "diff.shape"
   ]
  },
  {
   "cell_type": "code",
   "execution_count": 63,
   "metadata": {
    "collapsed": true
   },
   "outputs": [],
   "source": [
    "from pyquickhelper.pandashelper import df2rst\n",
    "with open(\"sch_invoice_diff.txt\", \"w\", encoding=\"utf8\") as f:\n",
    "    dfi = diff.reset_index(drop=False)\n",
    "    dfi[\"index\"] = dfi[\"index\"]+1\n",
    "    f.write(df2rst(dfi.fillna(\"\")))"
   ]
  },
  {
   "cell_type": "markdown",
   "metadata": {},
   "source": [
    "### stojou"
   ]
  },
  {
   "cell_type": "code",
   "execution_count": 64,
   "metadata": {
    "collapsed": false
   },
   "outputs": [
    {
     "data": {
      "text/plain": [
       "'STOFCY_0,UPDCOD_0,ITMREF_0,IPTDAT_0,MVTSEQ_0,MVTIND_0,CSTDAT_0,CSTTIM_0,CSTCOU_0,OWNER_0,LOT_0,SLO_0,BPSLOT_0,LOC_0,WRH_0,SERNUM_0,TRSTYP_0,TRSFAM_0,MVTDES_0,PJT_0,BPRNUM_0,VCRTYP_0,VCRNUM_0,VCRLIN_0,VCRTYPORI_0,VCRNUMORI_0,VCRLINORI_0,VCRSEQORI_0,VCRTYPREG_0,VCRNUMREG_0,VCRLINREG_0,USRFLD1_0,USRFLD2_0,USRFLD3_0,USRFLD4_0,PCU_0,QTYPCU_0,PCUSTUCOE_0,QTYSTU_0,STU_0,PCUORI_0,PCUSTUORI_0,AMTORD_0,AMTVAL_0,VARORD_0,VARVAL_0,PRIORD_0,PRIVAL_0,PRINAT_0,AMTVAL2_0,VARVAL2_0,PRIVAL2_0,PRINAT2_0,PRIREGFLG_0,AMTDEV_0,AMTDEV2_0,SHLDAT_0,STA_0,POT_0,ACT_0,ACTQTY_0,QLYCTLDEM_0,PRNFLG_0,REGFLG_0,LBEFMT_0,LBENBR_0,DIE_0,DIE_1,DIE_2,DIE_3,DIE_4,DIE_5,DIE_6,DIE_7,DIE_8,DIE_9,DIE_10,DIE_11,DIE_12,DIE_13,DIE_14,DIE_15,DIE_16,DIE_17,DIE_18,DIE_19,CCE_0,CCE_1,CCE_2,CCE_3,CCE_4,CCE_5,CCE_6,CCE_7,CCE_8,CCE_9,CCE_10,CCE_11,CCE_12,CCE_13,CCE_14,CCE_15,CCE_16,CCE_17,CCE_18,CCE_19,ENTCOD_0,FINRSPFCY_0,AGGIFAFLG_0,GTE_0,NUMVCR_0,PALNUM_0,CTRNUM_0,BETCPY_0,DLUDAT_0,NEWLTIDAT_0,CREMVTDAT_0,CREMVTTIM_0,CREMVTSEQ_0,EXPNUM_0,PRONUM_0,CREDAT_0,CRETIM_0,CREUSR_0,UPDDAT_0,UPDUSR_0'"
      ]
     },
     "execution_count": 64,
     "metadata": {},
     "output_type": "execute_result"
    }
   ],
   "source": [
    "df = cl.df_head(bs, \"croix-rouge\", \"data/stojou.csv\", as_df=False, stop_at=2000)\n",
    "res = df.split(\"\\r\")[0]\n",
    "res"
   ]
  },
  {
   "cell_type": "code",
   "execution_count": 70,
   "metadata": {
    "collapsed": false
   },
   "outputs": [
    {
     "data": {
      "text/html": [
       "<div>\n",
       "<table border=\"1\" class=\"dataframe\">\n",
       "  <thead>\n",
       "    <tr style=\"text-align: right;\">\n",
       "      <th></th>\n",
       "      <th>Zone</th>\n",
       "      <th>table_SJ</th>\n",
       "    </tr>\n",
       "  </thead>\n",
       "  <tbody>\n",
       "    <tr>\n",
       "      <th>0</th>\n",
       "      <td>STOFCY</td>\n",
       "      <td>stojou</td>\n",
       "    </tr>\n",
       "    <tr>\n",
       "      <th>1</th>\n",
       "      <td>UPDCOD</td>\n",
       "      <td>stojou</td>\n",
       "    </tr>\n",
       "    <tr>\n",
       "      <th>2</th>\n",
       "      <td>ITMREF</td>\n",
       "      <td>stojou</td>\n",
       "    </tr>\n",
       "    <tr>\n",
       "      <th>3</th>\n",
       "      <td>IPTDAT</td>\n",
       "      <td>stojou</td>\n",
       "    </tr>\n",
       "    <tr>\n",
       "      <th>4</th>\n",
       "      <td>MVTSEQ</td>\n",
       "      <td>stojou</td>\n",
       "    </tr>\n",
       "  </tbody>\n",
       "</table>\n",
       "</div>"
      ],
      "text/plain": [
       "     Zone table_SJ\n",
       "0  STOFCY   stojou\n",
       "1  UPDCOD   stojou\n",
       "2  ITMREF   stojou\n",
       "3  IPTDAT   stojou\n",
       "4  MVTSEQ   stojou"
      ]
     },
     "execution_count": 70,
     "metadata": {},
     "output_type": "execute_result"
    }
   ],
   "source": [
    "import pandas\n",
    "stojou = pandas.DataFrame(data={ \"Zone\":[ _.replace(\"_0\", \"\") for _ in res.split(\",\")]})\n",
    "stojou[\"table_SJ\"] = \"stojou\"\n",
    "stojou.head()"
   ]
  },
  {
   "cell_type": "code",
   "execution_count": 69,
   "metadata": {
    "collapsed": false
   },
   "outputs": [
    {
     "data": {
      "text/html": [
       "<div>\n",
       "<table border=\"1\" class=\"dataframe\">\n",
       "  <thead>\n",
       "    <tr style=\"text-align: right;\">\n",
       "      <th></th>\n",
       "      <th>Zone</th>\n",
       "      <th>table</th>\n",
       "      <th>table_V</th>\n",
       "      <th>COMMON</th>\n",
       "    </tr>\n",
       "  </thead>\n",
       "  <tbody>\n",
       "    <tr>\n",
       "      <th>10</th>\n",
       "      <td>ACCDAT</td>\n",
       "      <td>INVOICE</td>\n",
       "      <td>NaN</td>\n",
       "      <td>False</td>\n",
       "    </tr>\n",
       "    <tr>\n",
       "      <th>11</th>\n",
       "      <td>ACCNUM</td>\n",
       "      <td>INVOICE</td>\n",
       "      <td>NaN</td>\n",
       "      <td>False</td>\n",
       "    </tr>\n",
       "    <tr>\n",
       "      <th>44</th>\n",
       "      <td>AMTATI</td>\n",
       "      <td>INVOICE</td>\n",
       "      <td>NaN</td>\n",
       "      <td>False</td>\n",
       "    </tr>\n",
       "    <tr>\n",
       "      <th>47</th>\n",
       "      <td>AMTATIL</td>\n",
       "      <td>INVOICE</td>\n",
       "      <td>NaN</td>\n",
       "      <td>False</td>\n",
       "    </tr>\n",
       "    <tr>\n",
       "      <th>45</th>\n",
       "      <td>AMTNOT</td>\n",
       "      <td>INVOICE</td>\n",
       "      <td>NaN</td>\n",
       "      <td>False</td>\n",
       "    </tr>\n",
       "  </tbody>\n",
       "</table>\n",
       "</div>"
      ],
      "text/plain": [
       "       Zone    table table_V COMMON\n",
       "10   ACCDAT  INVOICE     NaN  False\n",
       "11   ACCNUM  INVOICE     NaN  False\n",
       "44   AMTATI  INVOICE     NaN  False\n",
       "47  AMTATIL  INVOICE     NaN  False\n",
       "45   AMTNOT  INVOICE     NaN  False"
      ]
     },
     "execution_count": 69,
     "metadata": {},
     "output_type": "execute_result"
    }
   ],
   "source": [
    "diff.head()"
   ]
  },
  {
   "cell_type": "code",
   "execution_count": 72,
   "metadata": {
    "collapsed": false
   },
   "outputs": [
    {
     "data": {
      "text/plain": [
       "(313, 4)"
      ]
     },
     "execution_count": 72,
     "metadata": {},
     "output_type": "execute_result"
    }
   ],
   "source": [
    "final = diff[[\"Zone\", \"table\", \"table_V\"]].merge(stojou, how=\"outer\", on=\"Zone\", suffixes=(\"\", \"_STOJOU\")).copy()\n",
    "final = final.sort_values([\"table_SJ\", \"Zone\"])\n",
    "final.shape"
   ]
  },
  {
   "cell_type": "code",
   "execution_count": 73,
   "metadata": {
    "collapsed": true
   },
   "outputs": [],
   "source": [
    "from pyquickhelper.pandashelper import df2rst\n",
    "with open(\"sch_stojou.txt\", \"w\", encoding=\"utf8\") as f:\n",
    "    dfi = final.reset_index(drop=False)\n",
    "    dfi[\"index\"] = dfi[\"index\"]+1\n",
    "    f.write(df2rst(dfi.fillna(\"\")))"
   ]
  },
  {
   "cell_type": "markdown",
   "metadata": {},
   "source": [
    "## Overview of the data"
   ]
  },
  {
   "cell_type": "code",
   "execution_count": 21,
   "metadata": {
    "collapsed": false
   },
   "outputs": [
    {
     "data": {
      "text/html": [
       "<div>\n",
       "<table border=\"1\" class=\"dataframe\">\n",
       "  <thead>\n",
       "    <tr style=\"text-align: right;\">\n",
       "      <th></th>\n",
       "      <th>NUM</th>\n",
       "      <th>STARPT</th>\n",
       "      <th>CREUSR</th>\n",
       "      <th>CREDAT</th>\n",
       "      <th>BPR</th>\n",
       "      <th>FCY</th>\n",
       "      <th>ACCDAT</th>\n",
       "      <th>ACCNUM</th>\n",
       "      <th>BPRPAY</th>\n",
       "      <th>VAC</th>\n",
       "      <th>...</th>\n",
       "      <th>EECSCH</th>\n",
       "      <th>EECSCHR</th>\n",
       "      <th>EECLOC</th>\n",
       "      <th>DSPTOTQTY</th>\n",
       "      <th>DSPTOTWEI</th>\n",
       "      <th>DSPTOTVOL</th>\n",
       "      <th>DSPWEU</th>\n",
       "      <th>DSPVOU</th>\n",
       "      <th>YCODTR</th>\n",
       "      <th>ZBATCHFLG</th>\n",
       "    </tr>\n",
       "  </thead>\n",
       "  <tbody>\n",
       "    <tr>\n",
       "      <th>0</th>\n",
       "      <td>DIS100101000001</td>\n",
       "      <td>2</td>\n",
       "      <td>REYC</td>\n",
       "      <td>25/11/10</td>\n",
       "      <td>100000249</td>\n",
       "      <td>U8201</td>\n",
       "      <td>01/01/10</td>\n",
       "      <td>705</td>\n",
       "      <td>100000249</td>\n",
       "      <td></td>\n",
       "      <td>...</td>\n",
       "      <td>FR21</td>\n",
       "      <td>FR26</td>\n",
       "      <td>0</td>\n",
       "      <td>19</td>\n",
       "      <td>10,353</td>\n",
       "      <td>0,25</td>\n",
       "      <td>KG</td>\n",
       "      <td>L</td>\n",
       "      <td>DIS</td>\n",
       "      <td>2</td>\n",
       "    </tr>\n",
       "    <tr>\n",
       "      <th>1</th>\n",
       "      <td>DIS100101000002</td>\n",
       "      <td>2</td>\n",
       "      <td>REYC</td>\n",
       "      <td>25/11/10</td>\n",
       "      <td>100000174</td>\n",
       "      <td>U8201</td>\n",
       "      <td>01/01/10</td>\n",
       "      <td>707</td>\n",
       "      <td>100000174</td>\n",
       "      <td></td>\n",
       "      <td>...</td>\n",
       "      <td>FR21</td>\n",
       "      <td>FR26</td>\n",
       "      <td>0</td>\n",
       "      <td>24</td>\n",
       "      <td>16,98</td>\n",
       "      <td>0,62</td>\n",
       "      <td>KG</td>\n",
       "      <td>L</td>\n",
       "      <td>DIS</td>\n",
       "      <td>2</td>\n",
       "    </tr>\n",
       "    <tr>\n",
       "      <th>2</th>\n",
       "      <td>DIS100101000003</td>\n",
       "      <td>2</td>\n",
       "      <td>REYC</td>\n",
       "      <td>25/11/10</td>\n",
       "      <td>100000105</td>\n",
       "      <td>U8201</td>\n",
       "      <td>01/01/10</td>\n",
       "      <td>709</td>\n",
       "      <td>100000105</td>\n",
       "      <td></td>\n",
       "      <td>...</td>\n",
       "      <td>FR21</td>\n",
       "      <td>FR26</td>\n",
       "      <td>0</td>\n",
       "      <td>80</td>\n",
       "      <td>58,919</td>\n",
       "      <td>1,75</td>\n",
       "      <td>KG</td>\n",
       "      <td>L</td>\n",
       "      <td>DIS</td>\n",
       "      <td>2</td>\n",
       "    </tr>\n",
       "    <tr>\n",
       "      <th>3</th>\n",
       "      <td>DIS100101000004</td>\n",
       "      <td>2</td>\n",
       "      <td>REYC</td>\n",
       "      <td>25/11/10</td>\n",
       "      <td>100000244</td>\n",
       "      <td>U8201</td>\n",
       "      <td>01/01/10</td>\n",
       "      <td>711</td>\n",
       "      <td>100000244</td>\n",
       "      <td></td>\n",
       "      <td>...</td>\n",
       "      <td>FR21</td>\n",
       "      <td>FR26</td>\n",
       "      <td>0</td>\n",
       "      <td>52</td>\n",
       "      <td>34,426</td>\n",
       "      <td>1,87</td>\n",
       "      <td>KG</td>\n",
       "      <td>L</td>\n",
       "      <td>DIS</td>\n",
       "      <td>2</td>\n",
       "    </tr>\n",
       "    <tr>\n",
       "      <th>4</th>\n",
       "      <td>DIS100101000005</td>\n",
       "      <td>2</td>\n",
       "      <td>REYC</td>\n",
       "      <td>25/11/10</td>\n",
       "      <td>100000390</td>\n",
       "      <td>U8201</td>\n",
       "      <td>01/01/10</td>\n",
       "      <td>713</td>\n",
       "      <td>100000390</td>\n",
       "      <td></td>\n",
       "      <td>...</td>\n",
       "      <td>FR21</td>\n",
       "      <td>FR26</td>\n",
       "      <td>0</td>\n",
       "      <td>22</td>\n",
       "      <td>10,356</td>\n",
       "      <td>0,25</td>\n",
       "      <td>KG</td>\n",
       "      <td>L</td>\n",
       "      <td>DIS</td>\n",
       "      <td>2</td>\n",
       "    </tr>\n",
       "  </tbody>\n",
       "</table>\n",
       "<p>5 rows × 80 columns</p>\n",
       "</div>"
      ],
      "text/plain": [
       "               NUM  STARPT CREUSR    CREDAT        BPR    FCY    ACCDAT  \\\n",
       "0  DIS100101000001       2   REYC  25/11/10  100000249  U8201  01/01/10   \n",
       "1  DIS100101000002       2   REYC  25/11/10  100000174  U8201  01/01/10   \n",
       "2  DIS100101000003       2   REYC  25/11/10  100000105  U8201  01/01/10   \n",
       "3  DIS100101000004       2   REYC  25/11/10  100000244  U8201  01/01/10   \n",
       "4  DIS100101000005       2   REYC  25/11/10  100000390  U8201  01/01/10   \n",
       "\n",
       "   ACCNUM     BPRPAY VAC    ...      EECSCH EECSCHR EECLOC  DSPTOTQTY  \\\n",
       "0     705  100000249        ...        FR21    FR26      0         19   \n",
       "1     707  100000174        ...        FR21    FR26      0         24   \n",
       "2     709  100000105        ...        FR21    FR26      0         80   \n",
       "3     711  100000244        ...        FR21    FR26      0         52   \n",
       "4     713  100000390        ...        FR21    FR26      0         22   \n",
       "\n",
       "  DSPTOTWEI DSPTOTVOL DSPWEU  DSPVOU  YCODTR  ZBATCHFLG  \n",
       "0    10,353      0,25     KG       L     DIS          2  \n",
       "1     16,98      0,62     KG       L     DIS          2  \n",
       "2    58,919      1,75     KG       L     DIS          2  \n",
       "3    34,426      1,87     KG       L     DIS          2  \n",
       "4    10,356      0,25     KG       L     DIS          2  \n",
       "\n",
       "[5 rows x 80 columns]"
      ]
     },
     "execution_count": 21,
     "metadata": {},
     "output_type": "execute_result"
    }
   ],
   "source": [
    "df = %blob_head croix-rouge/build/SINVOICE_M.csv --sep=,\n",
    "df.head()"
   ]
  },
  {
   "cell_type": "code",
   "execution_count": 19,
   "metadata": {
    "collapsed": false
   },
   "outputs": [
    {
     "data": {
      "text/plain": [
       "Index(['NUM', 'STARPT', 'CREUSR', 'CREDAT', 'BPR', 'FCY', 'ACCDAT', 'ACCNUM',\n",
       "       'BPRPAY', 'VAC', 'STA', 'AMTATI', 'VATDAT', 'NBRTAX', 'TAX', 'BPAINV',\n",
       "       'YRESTEAV', 'YNBR', 'YTYPOFAM', 'YCSP', 'YSITPAR', 'YSITTRA', 'YSITLOG',\n",
       "       'YSSITLOG', 'YCRY', 'YT1', 'YT2', 'YT3', 'YT4', 'YT5', 'YT6', 'YT7',\n",
       "       'YT8', 'YSEXMAL', 'YSEXFEM', 'YSOLDINITIAL', 'YSOLDEACTUAL',\n",
       "       'YMTSANSREDUC', 'YMTAVECREDUC', 'YMTREDUCTION', 'YMTVALMER', 'YORIG1',\n",
       "       'YORIG2', 'YORIG3', 'YORIG4', 'YORIG5', 'YORIG6', 'YORIG7', 'YFREQPASS',\n",
       "       'YCSPCHEF', 'YTYPPROV', 'YREVREF', 'YQUOTFAM', 'YCNTTYP', 'CPY',\n",
       "       'BPAADD', 'CNINAM', 'BPDCRYNAM', 'SIVTYP', 'INVTYP', 'CUR', 'STOMVTFLG',\n",
       "       'PRITYP', 'LAN', 'ORIFCY', 'LINNBR', 'INVDTAAMT', 'TRSCOD', 'ENTCOD',\n",
       "       'EECNAT', 'EECSCH', 'EECSCHR', 'EECLOC', 'DSPTOTQTY', 'DSPTOTWEI',\n",
       "       'DSPTOTVOL', 'DSPWEU', 'DSPVOU', 'YCODTR', 'ZBATCHFLG'],\n",
       "      dtype='object')"
      ]
     },
     "execution_count": 19,
     "metadata": {},
     "output_type": "execute_result"
    }
   ],
   "source": [
    "df.columns"
   ]
  },
  {
   "cell_type": "markdown",
   "metadata": {},
   "source": [
    "## header for the dataframe\n",
    "\n",
    "Just to check that suffix ``_0`` is implicit in the documentation."
   ]
  },
  {
   "cell_type": "code",
   "execution_count": 74,
   "metadata": {
    "collapsed": false
   },
   "outputs": [
    {
     "data": {
      "text/html": [
       "<div>\n",
       "<table border=\"1\" class=\"dataframe\">\n",
       "  <thead>\n",
       "    <tr style=\"text-align: right;\">\n",
       "      <th></th>\n",
       "      <th>name</th>\n",
       "      <th>last_modified</th>\n",
       "      <th>content_type</th>\n",
       "      <th>content_length</th>\n",
       "      <th>blob_type</th>\n",
       "    </tr>\n",
       "  </thead>\n",
       "  <tbody>\n",
       "    <tr>\n",
       "      <th>0</th>\n",
       "      <td>build/SINVOICE_M.csv</td>\n",
       "      <td>Wed, 18 Nov 2015 18:56:27 GMT</td>\n",
       "      <td>application/octet-stream</td>\n",
       "      <td>533771533</td>\n",
       "      <td>BlockBlob</td>\n",
       "    </tr>\n",
       "    <tr>\n",
       "      <th>1</th>\n",
       "      <td>build/Test_CRFFOR.GACCTMPD.csv</td>\n",
       "      <td>Sun, 22 Nov 2015 21:53:38 GMT</td>\n",
       "      <td>application/octet-stream</td>\n",
       "      <td>822231942</td>\n",
       "      <td>BlockBlob</td>\n",
       "    </tr>\n",
       "    <tr>\n",
       "      <th>2</th>\n",
       "      <td>data/ITMMASTER.schema.txt</td>\n",
       "      <td>Mon, 16 Nov 2015 23:00:34 GMT</td>\n",
       "      <td>application/octet-stream</td>\n",
       "      <td>5658</td>\n",
       "      <td>BlockBlob</td>\n",
       "    </tr>\n",
       "    <tr>\n",
       "      <th>3</th>\n",
       "      <td>data/ITMMASTER.txt</td>\n",
       "      <td>Mon, 09 Nov 2015 21:41:00 GMT</td>\n",
       "      <td>application/octet-stream</td>\n",
       "      <td>103096479</td>\n",
       "      <td>BlockBlob</td>\n",
       "    </tr>\n",
       "    <tr>\n",
       "      <th>4</th>\n",
       "      <td>data/SINVOICE.schema.txt</td>\n",
       "      <td>Mon, 16 Nov 2015 23:00:35 GMT</td>\n",
       "      <td>application/octet-stream</td>\n",
       "      <td>10252</td>\n",
       "      <td>BlockBlob</td>\n",
       "    </tr>\n",
       "    <tr>\n",
       "      <th>5</th>\n",
       "      <td>data/SINVOICE.txt</td>\n",
       "      <td>Mon, 09 Nov 2015 21:42:32 GMT</td>\n",
       "      <td>application/octet-stream</td>\n",
       "      <td>1362433753</td>\n",
       "      <td>BlockBlob</td>\n",
       "    </tr>\n",
       "    <tr>\n",
       "      <th>6</th>\n",
       "      <td>data/SINVOICEV.schema.txt</td>\n",
       "      <td>Mon, 16 Nov 2015 23:00:35 GMT</td>\n",
       "      <td>application/octet-stream</td>\n",
       "      <td>7999</td>\n",
       "      <td>BlockBlob</td>\n",
       "    </tr>\n",
       "    <tr>\n",
       "      <th>7</th>\n",
       "      <td>data/SINVOICEV.txt</td>\n",
       "      <td>Mon, 09 Nov 2015 21:44:08 GMT</td>\n",
       "      <td>application/octet-stream</td>\n",
       "      <td>1252461865</td>\n",
       "      <td>BlockBlob</td>\n",
       "    </tr>\n",
       "    <tr>\n",
       "      <th>8</th>\n",
       "      <td>data/enseignes_france.csv</td>\n",
       "      <td>Mon, 09 Nov 2015 21:40:54 GMT</td>\n",
       "      <td>application/octet-stream</td>\n",
       "      <td>6303836</td>\n",
       "      <td>BlockBlob</td>\n",
       "    </tr>\n",
       "    <tr>\n",
       "      <th>9</th>\n",
       "      <td>data/stojou.csv</td>\n",
       "      <td>Mon, 09 Nov 2015 21:55:23 GMT</td>\n",
       "      <td>application/octet-stream</td>\n",
       "      <td>8821375868</td>\n",
       "      <td>BlockBlob</td>\n",
       "    </tr>\n",
       "    <tr>\n",
       "      <th>10</th>\n",
       "      <td>readme.txt</td>\n",
       "      <td>Sun, 22 Nov 2015 18:00:34 GMT</td>\n",
       "      <td>application/octet-stream</td>\n",
       "      <td>45</td>\n",
       "      <td>BlockBlob</td>\n",
       "    </tr>\n",
       "  </tbody>\n",
       "</table>\n",
       "</div>"
      ],
      "text/plain": [
       "                              name                  last_modified  \\\n",
       "0             build/SINVOICE_M.csv  Wed, 18 Nov 2015 18:56:27 GMT   \n",
       "1   build/Test_CRFFOR.GACCTMPD.csv  Sun, 22 Nov 2015 21:53:38 GMT   \n",
       "2        data/ITMMASTER.schema.txt  Mon, 16 Nov 2015 23:00:34 GMT   \n",
       "3               data/ITMMASTER.txt  Mon, 09 Nov 2015 21:41:00 GMT   \n",
       "4         data/SINVOICE.schema.txt  Mon, 16 Nov 2015 23:00:35 GMT   \n",
       "5                data/SINVOICE.txt  Mon, 09 Nov 2015 21:42:32 GMT   \n",
       "6        data/SINVOICEV.schema.txt  Mon, 16 Nov 2015 23:00:35 GMT   \n",
       "7               data/SINVOICEV.txt  Mon, 09 Nov 2015 21:44:08 GMT   \n",
       "8        data/enseignes_france.csv  Mon, 09 Nov 2015 21:40:54 GMT   \n",
       "9                  data/stojou.csv  Mon, 09 Nov 2015 21:55:23 GMT   \n",
       "10                      readme.txt  Sun, 22 Nov 2015 18:00:34 GMT   \n",
       "\n",
       "                content_type  content_length  blob_type  \n",
       "0   application/octet-stream       533771533  BlockBlob  \n",
       "1   application/octet-stream       822231942  BlockBlob  \n",
       "2   application/octet-stream            5658  BlockBlob  \n",
       "3   application/octet-stream       103096479  BlockBlob  \n",
       "4   application/octet-stream           10252  BlockBlob  \n",
       "5   application/octet-stream      1362433753  BlockBlob  \n",
       "6   application/octet-stream            7999  BlockBlob  \n",
       "7   application/octet-stream      1252461865  BlockBlob  \n",
       "8   application/octet-stream         6303836  BlockBlob  \n",
       "9   application/octet-stream      8821375868  BlockBlob  \n",
       "10  application/octet-stream              45  BlockBlob  "
      ]
     },
     "execution_count": 74,
     "metadata": {},
     "output_type": "execute_result"
    }
   ],
   "source": [
    "%blob_ls croix-rouge"
   ]
  },
  {
   "cell_type": "code",
   "execution_count": 9,
   "metadata": {
    "collapsed": false
   },
   "outputs": [
    {
     "data": {
      "text/plain": [
       "'STOFCY_0,UPDCOD_0,ITMREF_0,IPTDAT_0,MVTSEQ_0,MVTIND_0,CSTDAT_0,CSTTIM_0,CSTCOU_0,OWNER_0,LOT_0,SLO_0,BPSLOT_0,LOC_0,WRH_0,SERNUM_0,TRSTYP_0,TRSFAM_0,MVTDES_0,PJT_0,BPRNUM_0,VCRTYP_0,VCRNUM_0,VCRLIN_0,VCRTYPORI_0,VCRNUMORI_0,VCRLINORI_0,VCRSEQORI_0,VCRTYPREG_0,VCRNUMREG_0,VCRLINREG_0,USRFLD1_0,USRFLD2_0,USRFLD3_0,USRFLD4_0,PCU_0,QTYPCU_0,PCUSTUCOE_0,QTYSTU_0,STU_0,PCUORI_0,PCUSTUORI_0,AMTORD_0,AMTVAL_0,VARORD_0,VARVAL_0,PRIORD_0,PRIVAL_0,PRINAT_0,AMTVAL2_0,VARVAL2_0,PRIVAL2_0,PRINAT2_0,PRIREGFLG_0,AMTDEV_0,AMTDEV2_0,SHLDAT_0,STA_0,POT_0,ACT_0,ACTQTY_0,QLYCTLDEM_0,PRNFLG_0,REGFLG_0,LBEFMT_0,LBENBR_0,DIE_0,DIE_1,DIE_2,DIE_3,DIE_4,DIE_5,DIE_6,DIE_7,DIE_8,DIE_9,DIE_10,DIE_11,DIE_12,DIE_13,DIE_14,DIE_15,DIE_16,DIE_17,DIE_18,DIE_19,CCE_0,CCE_1,CCE_2,CCE_3,CCE_4,CCE_5,CCE_6,CCE_7,CCE_8,CCE_9,CCE_10,CCE_11,CCE_12,CCE_13,CCE_14,CCE_15,CCE_16,CCE_17,CCE_18,CCE_19,ENTCOD_0,FINRSPFCY_0,AGGIFAFLG_0,GTE_0,NUMVCR_0,PALNUM_0,CTRNUM_0,BETCPY_0,DLUDAT_0,NEWLTIDAT_0,CREMVTDAT_0,CREMVTTIM_0,CREMVTSEQ_0,EXPNUM_0,PRONUM_0,CREDAT_0,CRETIM_0,CREUSR_0,UPDDAT_0,UPDUSR_0'"
      ]
     },
     "execution_count": 9,
     "metadata": {},
     "output_type": "execute_result"
    }
   ],
   "source": [
    "df = cl.df_head(bs, \"croix-rouge\", \"data/stojou.csv\", as_df=False, stop_at=2000)\n",
    "df.split(\"\\r\")[0]"
   ]
  },
  {
   "cell_type": "code",
   "execution_count": 12,
   "metadata": {
    "collapsed": false
   },
   "outputs": [
    {
     "data": {
      "text/plain": [
       "'\"NUM_0\"\\t\"CPY_0\"\\t\"SALFCY_0\"\\t\"STOFCY_0\"\\t\"BPCINV_0\"\\t\"BPCORD_0\"\\t\"BPCGRU_0\"\\t\"BPAADD_0\"\\t\"BPINAM_0\"\\t\"BPINAM_1\"\\t\"BPIEECNUM_0\"\\t\"CNINAM_0\"\\t\"BPDNAM_0\"\\t\"BPDNAM_1\"\\t\"BPDADDLIG_0\"\\t\"BPDADDLIG_1\"\\t\"BPDADDLIG_2\"\\t\"BPDPOSCOD_0\"\\t\"BPDCTY_0\"\\t\"BPDSAT_0\"\\t\"BPDCRY_0\"\\t\"BPDCRYNAM_0\"\\t\"CNDNAM_0\"\\t\"BPRPAY_0\"\\t\"BPRFCT_0\"\\t\"SIVTYP_0\"\\t\"INVTYP_0\"\\t\"SIHORI_0\"\\t\"SIHORINUM_0\"\\t\"SIHORIDAT_0\"\\t\"INVDAT_0\"\\t\"CUR_0\"\\t\"INVSTA_0\"\\t\"INVCNOSTA_0\"\\t\"STOMVTFLG_0\"\\t\"INVREF_0\"\\t\"PJT_0\"\\t\"PRITYP_0\"\\t\"REP_0\"\\t\"REP_1\"\\t\"CNOREN_0\"\\t\"DEP_0\"\\t\"LAN_0\"\\t\"TSCCOD_0\"\\t\"TSCCOD_1\"\\t\"TSCCOD_2\"\\t\"TSCCOD_3\"\\t\"TSCCOD_4\"\\t\"SIHTEX1_0\"\\t\"SIHTEX2_0\"\\t\"BETFCY_0\"\\t\"BETCPY_0\"\\t\"ORIFCY_0\"\\t\"PIHNUM_0\"\\t\"DISCRGTYP_0\"\\t\"DISCRGTYP_1\"\\t\"DISCRGTYP_2\"\\t\"DISCRGTYP_3\"\\t\"DISCRGTYP_4\"\\t\"DISCRGTYP_5\"\\t\"DISCRGTYP_6\"\\t\"DISCRGTYP_7\"\\t\"DISCRGTYP_8\"\\t\"INVDTALIN_0\"\\t\"INVDTALIN_1\"\\t\"INVDTALIN_2\"\\t\"INVDTALIN_3\"\\t\"INVDTALIN_4\"\\t\"INVDTALIN_5\"\\t\"INVDTALIN_6\"\\t\"INVDTALIN_7\"\\t\"INVDTALIN_8\"\\t\"LINNBR_0\"\\t\"INVDTA_0\"\\t\"INVDTA_1\"\\t\"INVDTA_2\"\\t\"INVDTA_3\"\\t\"INVDTA_4\"\\t\"INVDTA_5\"\\t\"INVDTA_6\"\\t\"INVDTA_7\"\\t\"INVDTA_8\"\\t\"INVDTA_9\"\\t\"INVDTA_10\"\\t\"INVDTA_11\"\\t\"INVDTA_12\"\\t\"INVDTA_13\"\\t\"INVDTA_14\"\\t\"INVDTA_15\"\\t\"INVDTA_16\"\\t\"INVDTA_17\"\\t\"INVDTA_18\"\\t\"INVDTA_19\"\\t\"INVDTA_20\"\\t\"INVDTA_21\"\\t\"INVDTA_22\"\\t\"INVDTA_23\"\\t\"INVDTA_24\"\\t\"INVDTA_25\"\\t\"INVDTA_26\"\\t\"INVDTA_27\"\\t\"INVDTA_28\"\\t\"INVDTA_29\"\\t\"INVDTAAMT_0\"\\t\"INVDTAAMT_1\"\\t\"INVDTAAMT_2\"\\t\"INVDTAAMT_3\"\\t\"INVDTAAMT_4\"\\t\"INVDTAAMT_5\"\\t\"INVDTAAMT_6\"\\t\"INVDTAAMT_7\"\\t\"INVDTAAMT_8\"\\t\"INVDTAAMT_9\"\\t\"INVDTAAMT_10\"\\t\"INVDTAAMT_11\"\\t\"INVDTAAMT_12\"\\t\"INVDTAAMT_13\"\\t\"INVDTAAMT_14\"\\t\"INVDTAAMT_15\"\\t\"INVDTAAMT_16\"\\t\"INVDTAAMT_17\"\\t\"INVDTAAMT_18\"\\t\"INVDTAAMT_19\"\\t\"INVDTAAMT_20\"\\t\"INVDTAAMT_21\"\\t\"INVDTAAMT_22\"\\t\"INVDTAAMT_23\"\\t\"INVDTAAMT_24\"\\t\"INVDTAAMT_25\"\\t\"INVDTAAMT_26\"\\t\"INVDTAAMT_27\"\\t\"INVDTAAMT_28\"\\t\"INVDTAAMT_29\"\\t\"INVDTATYP_0\"\\t\"INVDTATYP_1\"\\t\"INVDTATYP_2\"\\t\"INVDTATYP_3\"\\t\"INVDTATYP_4\"\\t\"INVDTATYP_5\"\\t\"INVDTATYP_6\"\\t\"INVDTATYP_7\"\\t\"INVDTATYP_8\"\\t\"INVDTATYP_9\"\\t\"INVDTATYP_10\"\\t\"INVDTATYP_11\"\\t\"INVDTATYP_12\"\\t\"INVDTATYP_13\"\\t\"INVDTATYP_14\"\\t\"INVDTATYP_15\"\\t\"INVDTATYP_16\"\\t\"INVDTATYP_17\"\\t\"INVDTATYP_18\"\\t\"INVDTATYP_19\"\\t\"INVDTATYP_20\"\\t\"INVDTATYP_21\"\\t\"INVDTATYP_22\"\\t\"INVDTATYP'"
      ]
     },
     "execution_count": 12,
     "metadata": {},
     "output_type": "execute_result"
    }
   ],
   "source": [
    "df = cl.df_head(bs, \"croix-rouge\", \"data/SINVOICEV.txt\", as_df=False, stop_at=2000)\n",
    "df.split(\"\\r\")[0]"
   ]
  },
  {
   "cell_type": "code",
   "execution_count": 13,
   "metadata": {
    "collapsed": false
   },
   "outputs": [
    {
     "data": {
      "text/plain": [
       "'\"SIVTYP_0\"\\t\"INVTYP_0\"\\t\"NUM_0\"\\t\"ORIMOD_0\"\\t\"BPR_0\"\\t\"BPRSAC_0\"\\t\"CPY_0\"\\t\"FCY_0\"\\t\"GTE_0\"\\t\"JOU_0\"\\t\"ACCDAT_0\"\\t\"ACCNUM_0\"\\t\"BPRDAT_0\"\\t\"BPRVCR_0\"\\t\"CUR_0\"\\t\"CURTYP_0\"\\t\"LED_0\"\\t\"LED_1\"\\t\"LED_2\"\\t\"LED_3\"\\t\"LED_4\"\\t\"LED_5\"\\t\"LED_6\"\\t\"LED_7\"\\t\"LED_8\"\\t\"LED_9\"\\t\"CURLED_0\"\\t\"CURLED_1\"\\t\"CURLED_2\"\\t\"CURLED_3\"\\t\"CURLED_4\"\\t\"CURLED_5\"\\t\"CURLED_6\"\\t\"CURLED_7\"\\t\"CURLED_8\"\\t\"CURLED_9\"\\t\"RATMLT_0\"\\t\"RATMLT_1\"\\t\"RATMLT_2\"\\t\"RATMLT_3\"\\t\"RATMLT_4\"\\t\"RATMLT_5\"\\t\"RATMLT_6\"\\t\"RATMLT_7\"\\t\"RATMLT_8\"\\t\"RATMLT_9\"\\t\"RATDIV_0\"\\t\"RATDIV_1\"\\t\"RATDIV_2\"\\t\"RATDIV_3\"\\t\"RATDIV_4\"\\t\"RATDIV_5\"\\t\"RATDIV_6\"\\t\"RATDIV_7\"\\t\"RATDIV_8\"\\t\"RATDIV_9\"\\t\"RATDAT_0\"\\t\"BPRPAY_0\"\\t\"BPAPAY_0\"\\t\"BPYNAM_0\"\\t\"BPYNAM_1\"\\t\"BPYADDLIG_0\"\\t\"BPYADDLIG_1\"\\t\"BPYADDLIG_2\"\\t\"BPYPOSCOD_0\"\\t\"BPYCTY_0\"\\t\"BPYSAT_0\"\\t\"BPYCRY_0\"\\t\"BPYCRYNAM_0\"\\t\"BPRFCT_0\"\\t\"FCTVCR_0\"\\t\"FCTVCRFLG_0\"\\t\"QTCACCNUM_0\"\\t\"STRDUDDAT_0\"\\t\"PTE_0\"\\t\"DEP_0\"\\t\"VAC_0\"\\t\"DIRINVFLG_0\"\\t\"EECNUMDEB_0\"\\t\"STA_0\"\\t\"DES_0\"\\t\"DES_1\"\\t\"DES_2\"\\t\"DES_3\"\\t\"DES_4\"\\t\"INVNUM_0\"\\t\"SNS_0\"\\t\"AMTATI_0\"\\t\"AMTNOT_0\"\\t\"AMTNOTL_0\"\\t\"AMTATIL_0\"\\t\"VATDAT_0\"\\t\"NBRTAX_0\"\\t\"TAX_0\"\\t\"TAX_1\"\\t\"TAX_2\"\\t\"TAX_3\"\\t\"TAX_4\"\\t\"TAX_5\"\\t\"TAX_6\"\\t\"TAX_7\"\\t\"TAX_8\"\\t\"TAX_9\"\\t\"BASTAX_0\"\\t\"BASTAX_1\"\\t\"BASTAX_2\"\\t\"BASTAX_3\"\\t\"BASTAX_4\"\\t\"BASTAX_5\"\\t\"BASTAX_6\"\\t\"BASTAX_7\"\\t\"BASTAX_8\"\\t\"BASTAX_9\"\\t\"AMTTAX_0\"\\t\"AMTTAX_1\"\\t\"AMTTAX_2\"\\t\"AMTTAX_3\"\\t\"AMTTAX_4\"\\t\"AMTTAX_5\"\\t\"AMTTAX_6\"\\t\"AMTTAX_7\"\\t\"AMTTAX_8\"\\t\"AMTTAX_9\"\\t\"THEAMTTAX_0\"\\t\"EXEAMTTAX_0\"\\t\"EXEAMTTAX_1\"\\t\"EXEAMTTAX_2\"\\t\"EXEAMTTAX_3\"\\t\"EXEAMTTAX_4\"\\t\"EXEAMTTAX_5\"\\t\"EXEAMTTAX_6\"\\t\"EXEAMTTAX_7\"\\t\"EXEAMTTAX_8\"\\t\"EXEAMTTAX_9\"\\t\"DIE_0\"\\t\"DIE_1\"\\t\"DIE_2\"\\t\"DIE_3\"\\t\"DIE_4\"\\t\"DIE_5\"\\t\"DIE_6\"\\t\"DIE_7\"\\t\"DIE_8\"\\t\"DIE_9\"\\t\"DIE_10\"\\t\"DIE_11\"\\t\"DIE_12\"\\t\"DIE_13\"\\t\"DIE_14\"\\t\"DIE_15\"\\t\"DIE_16\"\\t\"DIE_17\"\\t\"DIE_18\"\\t\"DIE_19\"\\t\"CCE_0\"\\t\"CCE_1\"\\t\"CCE_2\"\\t\"CCE_3\"\\t\"CCE_4\"\\t\"CCE_5\"\\t\"CCE_6\"\\t\"CCE_7\"\\t\"CCE_8\"\\t\"CCE_9\"\\t\"CCE_10\"\\t\"CCE_11\"\\t\"CCE_12\"\\t\"CCE_13\"\\t\"CCE_14\"\\t\"CCE_15\"\\t\"CCE_16\"\\t\"CCE_17\"\\t\"CCE_18\"\\t\"CCE_19\"\\t\"BPAINV_0\"\\t\"BPRNAM_0\"\\t\"BPRNAM_1\"\\t\"BPAADDLIG_0\"\\t\"BPAADDLIG_1\"\\t\"BPAADDLIG_2\"\\t\"POSCOD_0\"\\t\"CTY_0\"\\t\"SAT_0\"\\t\"CRY_0\"\\t\"CRYNAM_0\"\\t\"BILVCR_0\"\\t\"TRSFAM_0\"\\t\"FIY_0\"\\t\"PER_0\"\\t\"STRDATSVC_0\"\\t\"ENDDATSVC_0\"\\t\"LASDATSVC_0\"\\t\"AMTTAXUSA_0\"\\t\"CAI_0\"\\t\"DATVLYCA'"
      ]
     },
     "execution_count": 13,
     "metadata": {},
     "output_type": "execute_result"
    }
   ],
   "source": [
    "df = cl.df_head(bs, \"croix-rouge\", \"data/SINVOICE.txt\", as_df=False, stop_at=2000)\n",
    "df.split(\"\\r\")[0]"
   ]
  },
  {
   "cell_type": "code",
   "execution_count": 30,
   "metadata": {
    "collapsed": false
   },
   "outputs": [
    {
     "data": {
      "text/plain": [
       "'\"3166290200616\",\"ALI\",\"FL\",\"LGM\",\"HRB\",\"HRB\",\"PRSEC\",\" \",\" \",\" \",\" \",\" \",\" \",\" \",\" \",\" \",\" \",\" \",\" \",\" \",\" \",\" \",\" \",\" \",\" \",\" \",\" \",\" \",\" \",\" \",\" \",\" \",\" \",\" \",\" \",\" \",\" \",\" \",\" \",\" \",\" \",\" \",\" \",\" \",\" \",\" \",\" \",\" \",\"STD\",\"Herbes provence\",\" \",\" \",3,\" \",\"3BGQMTA*caagbg+\",1,0,0,31/12/99,31/12/99,\" \",\"UN\",\"UN\",\"UN\",\"UN\",\"UN\",1,1,1,1,1,1,\"KG\",0,001,\" \",0,02,0,0,\" \",\" \",\" \",\" \",0,0,0,0,0,0,0,0,0,0,0,0,\" \",\" \",\" \",\" \",2,1,\" \",\" \",1,1,\" \",0,0,1,\" \",1,\" \",\" \",0,\" \",\"EXO\",\" \",\" \",1,0,0,1,\" \",\" \",0,0,2,1,\" \",\" \",\" \",\" \",\" \",0,0,0,0,0,0,\" \",\" \",\" \",\" \",\" \",\" \",\" \",\" \",\" \",\" \",31/12/99,1,\" \",\" \",\" \",\" \",0,\" \",\" \",0,1,1,\" \",\" \",\" \",0,2,2,2,1,1,1,1,1,2,2,1,0,\" \",1,1,1,1,22/09/10,\"GPE\",31/12/99,\"HLAM\",\" \",\" \",\" \",\" \",\"1285113600000\",\"1361358448615\",\"0e8b8e42-3071-4e2b-a4fe-b467e722b78f\",0,\" \",0,0,0,0,0,0,0,0,0,0'"
      ]
     },
     "execution_count": 30,
     "metadata": {},
     "output_type": "execute_result"
    }
   ],
   "source": [
    "df = cl.df_head(bs, \"croix-rouge\", \"data/ITMMASTER.txt\", as_df=False, stop_at=2000)\n",
    "df.split(\"\\r\")[0]"
   ]
  },
  {
   "cell_type": "code",
   "execution_count": 14,
   "metadata": {
    "collapsed": false
   },
   "outputs": [
    {
     "data": {
      "text/html": [
       "<div>\n",
       "<table border=\"1\" class=\"dataframe\">\n",
       "  <thead>\n",
       "    <tr style=\"text-align: right;\">\n",
       "      <th></th>\n",
       "      <th>﻿ADRESSE_POSTALE_TEXT</th>\n",
       "      <th>TEXT_1</th>\n",
       "      <th>IMAGE_1/_title</th>\n",
       "      <th>SITE_INTERNET_LINK</th>\n",
       "      <th>shop_name</th>\n",
       "      <th>IMAGE_1</th>\n",
       "      <th>TEXT_3</th>\n",
       "      <th>SITE_INTERNET_LINK/_text</th>\n",
       "      <th>brand</th>\n",
       "      <th>TEXT_4</th>\n",
       "      <th>...</th>\n",
       "      <th>result_address</th>\n",
       "      <th>result_score</th>\n",
       "      <th>result_type</th>\n",
       "      <th>result_id</th>\n",
       "      <th>result_name</th>\n",
       "      <th>result_street</th>\n",
       "      <th>result_postcode</th>\n",
       "      <th>result_city</th>\n",
       "      <th>result_context</th>\n",
       "      <th>result_citycode</th>\n",
       "    </tr>\n",
       "  </thead>\n",
       "  <tbody>\n",
       "    <tr>\n",
       "      <th>0</th>\n",
       "      <td>Le Grand Rivolet</td>\n",
       "      <td>Simply Market MONTCEAUX GUEREINS</td>\n",
       "      <td>Simply-Market</td>\n",
       "      <td>http://www.simplymarket.fr/montceaux-guereins/</td>\n",
       "      <td>Simply Market MONTCEAUX GUEREINS</td>\n",
       "      <td>http://images.grandes-enseignes.com/Simply-Mar...</td>\n",
       "      <td>01090 MONTCEAUX GUEREINS</td>\n",
       "      <td>Site Internet</td>\n",
       "      <td>Simply-Market</td>\n",
       "      <td>NaN</td>\n",
       "      <td>...</td>\n",
       "      <td>Grand Rivolet 01090 Montceaux</td>\n",
       "      <td>0.64</td>\n",
       "      <td>locality</td>\n",
       "      <td>01258_B011_254fe4</td>\n",
       "      <td>Grand Rivolet</td>\n",
       "      <td>NaN</td>\n",
       "      <td>1090</td>\n",
       "      <td>Montceaux</td>\n",
       "      <td>01, Ain, Rhône-Alpes</td>\n",
       "      <td>1258</td>\n",
       "    </tr>\n",
       "    <tr>\n",
       "      <th>1</th>\n",
       "      <td>4 Rue Du Marche,</td>\n",
       "      <td>SPAR Montmerle Sur Saone</td>\n",
       "      <td>Spar</td>\n",
       "      <td>http://annuaire.casino-proximite.fr/c/c/magasi...</td>\n",
       "      <td>SPAR Montmerle Sur Saone</td>\n",
       "      <td>http://images.grandes-enseignes.com/Spar.png</td>\n",
       "      <td>01090 Montmerle Sur Saone</td>\n",
       "      <td>Site Internet</td>\n",
       "      <td>Spar</td>\n",
       "      <td>Tel. 04 74 06 88 04 -</td>\n",
       "      <td>...</td>\n",
       "      <td>4 Rue du Marche 01090 Montmerle-sur-Saône</td>\n",
       "      <td>0.91</td>\n",
       "      <td>housenumber</td>\n",
       "      <td>ADRNIVX_0000000285677493</td>\n",
       "      <td>Rue du Marche</td>\n",
       "      <td>NaN</td>\n",
       "      <td>1090</td>\n",
       "      <td>Montmerle-sur-Saône</td>\n",
       "      <td>01, Ain, Rhône-Alpes</td>\n",
       "      <td>1263</td>\n",
       "    </tr>\n",
       "    <tr>\n",
       "      <th>2</th>\n",
       "      <td>Le Pré de la Cloche</td>\n",
       "      <td>INTERMARCHE SUPER Belleville-sur-Saone</td>\n",
       "      <td>Intermarche</td>\n",
       "      <td>http://www.intermarche.com/magasin_accueil/sas...</td>\n",
       "      <td>INTERMARCHE SUPER Belleville-sur-Saone</td>\n",
       "      <td>http://images.grandes-enseignes.com/Intermarch...</td>\n",
       "      <td>69220 Belleville-sur-Saone</td>\n",
       "      <td>Site Internet</td>\n",
       "      <td>Intermarche</td>\n",
       "      <td>Tel. 04 74 06 45 85 -</td>\n",
       "      <td>...</td>\n",
       "      <td>Prés de la Cloche 69220 Belleville</td>\n",
       "      <td>0.61</td>\n",
       "      <td>locality</td>\n",
       "      <td>69019_B043_44c71c</td>\n",
       "      <td>Prés de la Cloche</td>\n",
       "      <td>NaN</td>\n",
       "      <td>69220</td>\n",
       "      <td>Belleville</td>\n",
       "      <td>69, Rhône, Rhône-Alpes</td>\n",
       "      <td>69019</td>\n",
       "    </tr>\n",
       "    <tr>\n",
       "      <th>3</th>\n",
       "      <td>47 Rue De La Republique,</td>\n",
       "      <td>PETIT CASINO Belleville Sur Saone</td>\n",
       "      <td>Petit-Casino</td>\n",
       "      <td>http://annuaire.casino-proximite.fr/c/c/magasi...</td>\n",
       "      <td>PETIT CASINO Belleville Sur Saone</td>\n",
       "      <td>http://images.grandes-enseignes.com/Petit-Casi...</td>\n",
       "      <td>69220 Belleville Sur Saone</td>\n",
       "      <td>Site Internet</td>\n",
       "      <td>Petit-Casino</td>\n",
       "      <td>Tel. 04 74 66 10 34 -</td>\n",
       "      <td>...</td>\n",
       "      <td>47 Rue de la République 69220 Belleville</td>\n",
       "      <td>0.74</td>\n",
       "      <td>housenumber</td>\n",
       "      <td>ADRNIVX_0000000259819137</td>\n",
       "      <td>Rue de la République</td>\n",
       "      <td>NaN</td>\n",
       "      <td>69220</td>\n",
       "      <td>Belleville</td>\n",
       "      <td>69, Rhône, Rhône-Alpes</td>\n",
       "      <td>69019</td>\n",
       "    </tr>\n",
       "    <tr>\n",
       "      <th>4</th>\n",
       "      <td>AVENUE DE VERDUN</td>\n",
       "      <td>Carrefour Market BELLEVILLE SUR SAONE</td>\n",
       "      <td>Carrefour-Market</td>\n",
       "      <td>http://www.carrefour.fr/magasin/market-bellevi...</td>\n",
       "      <td>Carrefour Market BELLEVILLE SUR SAONE</td>\n",
       "      <td>http://images.grandes-enseignes.com/Carrefour-...</td>\n",
       "      <td>69220 BELLEVILLE SUR SAONE</td>\n",
       "      <td>Site Internet</td>\n",
       "      <td>Carrefour-Market</td>\n",
       "      <td>Tel. 04 74 06 44 10 -</td>\n",
       "      <td>...</td>\n",
       "      <td>Avenue de Verdun 69220 Belleville</td>\n",
       "      <td>0.71</td>\n",
       "      <td>street</td>\n",
       "      <td>69019_XXXX_9d303b</td>\n",
       "      <td>Avenue de Verdun</td>\n",
       "      <td>NaN</td>\n",
       "      <td>69220</td>\n",
       "      <td>Belleville</td>\n",
       "      <td>69, Rhône, Rhône-Alpes</td>\n",
       "      <td>69019</td>\n",
       "    </tr>\n",
       "  </tbody>\n",
       "</table>\n",
       "<p>5 rows × 22 columns</p>\n",
       "</div>"
      ],
      "text/plain": [
       "      ﻿ADRESSE_POSTALE_TEXT                                  TEXT_1  \\\n",
       "0          Le Grand Rivolet        Simply Market MONTCEAUX GUEREINS   \n",
       "1          4 Rue Du Marche,                SPAR Montmerle Sur Saone   \n",
       "2       Le Pré de la Cloche  INTERMARCHE SUPER Belleville-sur-Saone   \n",
       "3  47 Rue De La Republique,       PETIT CASINO Belleville Sur Saone   \n",
       "4          AVENUE DE VERDUN   Carrefour Market BELLEVILLE SUR SAONE   \n",
       "\n",
       "     IMAGE_1/_title                                 SITE_INTERNET_LINK  \\\n",
       "0     Simply-Market     http://www.simplymarket.fr/montceaux-guereins/   \n",
       "1              Spar  http://annuaire.casino-proximite.fr/c/c/magasi...   \n",
       "2       Intermarche  http://www.intermarche.com/magasin_accueil/sas...   \n",
       "3      Petit-Casino  http://annuaire.casino-proximite.fr/c/c/magasi...   \n",
       "4  Carrefour-Market  http://www.carrefour.fr/magasin/market-bellevi...   \n",
       "\n",
       "                                shop_name  \\\n",
       "0        Simply Market MONTCEAUX GUEREINS   \n",
       "1                SPAR Montmerle Sur Saone   \n",
       "2  INTERMARCHE SUPER Belleville-sur-Saone   \n",
       "3       PETIT CASINO Belleville Sur Saone   \n",
       "4   Carrefour Market BELLEVILLE SUR SAONE   \n",
       "\n",
       "                                             IMAGE_1  \\\n",
       "0  http://images.grandes-enseignes.com/Simply-Mar...   \n",
       "1       http://images.grandes-enseignes.com/Spar.png   \n",
       "2  http://images.grandes-enseignes.com/Intermarch...   \n",
       "3  http://images.grandes-enseignes.com/Petit-Casi...   \n",
       "4  http://images.grandes-enseignes.com/Carrefour-...   \n",
       "\n",
       "                       TEXT_3 SITE_INTERNET_LINK/_text             brand  \\\n",
       "0    01090 MONTCEAUX GUEREINS            Site Internet     Simply-Market   \n",
       "1   01090 Montmerle Sur Saone            Site Internet              Spar   \n",
       "2  69220 Belleville-sur-Saone            Site Internet       Intermarche   \n",
       "3  69220 Belleville Sur Saone            Site Internet      Petit-Casino   \n",
       "4  69220 BELLEVILLE SUR SAONE            Site Internet  Carrefour-Market   \n",
       "\n",
       "                  TEXT_4       ...        \\\n",
       "0                    NaN       ...         \n",
       "1  Tel. 04 74 06 88 04 -       ...         \n",
       "2  Tel. 04 74 06 45 85 -       ...         \n",
       "3  Tel. 04 74 66 10 34 -       ...         \n",
       "4  Tel. 04 74 06 44 10 -       ...         \n",
       "\n",
       "                              result_address  result_score  result_type  \\\n",
       "0              Grand Rivolet 01090 Montceaux          0.64     locality   \n",
       "1  4 Rue du Marche 01090 Montmerle-sur-Saône          0.91  housenumber   \n",
       "2         Prés de la Cloche 69220 Belleville          0.61     locality   \n",
       "3   47 Rue de la République 69220 Belleville          0.74  housenumber   \n",
       "4          Avenue de Verdun 69220 Belleville          0.71       street   \n",
       "\n",
       "                  result_id           result_name result_street  \\\n",
       "0         01258_B011_254fe4         Grand Rivolet           NaN   \n",
       "1  ADRNIVX_0000000285677493         Rue du Marche           NaN   \n",
       "2         69019_B043_44c71c     Prés de la Cloche           NaN   \n",
       "3  ADRNIVX_0000000259819137  Rue de la République           NaN   \n",
       "4         69019_XXXX_9d303b      Avenue de Verdun           NaN   \n",
       "\n",
       "  result_postcode          result_city          result_context result_citycode  \n",
       "0            1090            Montceaux    01, Ain, Rhône-Alpes            1258  \n",
       "1            1090  Montmerle-sur-Saône    01, Ain, Rhône-Alpes            1263  \n",
       "2           69220           Belleville  69, Rhône, Rhône-Alpes           69019  \n",
       "3           69220           Belleville  69, Rhône, Rhône-Alpes           69019  \n",
       "4           69220           Belleville  69, Rhône, Rhône-Alpes           69019  \n",
       "\n",
       "[5 rows x 22 columns]"
      ]
     },
     "execution_count": 14,
     "metadata": {},
     "output_type": "execute_result"
    }
   ],
   "source": [
    "df = cl.df_head(bs, \"croix-rouge\", \"data/enseignes_france.csv\", as_df=True, stop_at=None)\n",
    "df.head()"
   ]
  },
  {
   "cell_type": "code",
   "execution_count": 15,
   "metadata": {
    "collapsed": false
   },
   "outputs": [
    {
     "data": {
      "text/plain": [
       "Index(['﻿ADRESSE_POSTALE_TEXT', 'TEXT_1', 'IMAGE_1/_title',\n",
       "       'SITE_INTERNET_LINK', 'shop_name', 'IMAGE_1', 'TEXT_3',\n",
       "       'SITE_INTERNET_LINK/_text', 'brand', 'TEXT_4', 'latitude', 'longitude',\n",
       "       'result_address', 'result_score', 'result_type', 'result_id',\n",
       "       'result_name', 'result_street', 'result_postcode', 'result_city',\n",
       "       'result_context', 'result_citycode'],\n",
       "      dtype='object')"
      ]
     },
     "execution_count": 15,
     "metadata": {},
     "output_type": "execute_result"
    }
   ],
   "source": [
    "df.columns"
   ]
  },
  {
   "cell_type": "code",
   "execution_count": 76,
   "metadata": {
    "collapsed": false
   },
   "outputs": [
    {
     "data": {
      "text/plain": [
       "'\"TYP_0\",\"NUM_0\",\"LIN_0\",\"LEDTYP_0\",\"LED_0\",\"ACCNUM_0\",\"CHRNUM_0\",\"IDTLIN_0\",\"CPY_0\",\"FCYLIN_0\",\"ACCDAT_0\",\"FIY_0\",\"PER_0\",\"COA_0\",\"SAC_0\",\"ACC_0\",\"BPR_0\",\"DSP_0\",\"SNS_0\",\"CUR_0\",\"AMTCUR_0\",\"CURLED_0\",\"AMTLED_0\",\"AMTFLG_0\",\"AMTLED1_0\",\"UOM_0\",\"QTY_0\",\"DES_0\",\"REFINTLIN_0\",\"OFFACC_0\",\"CSLCOD_0\",\"CSLFLO_0\",\"STT1_0\",\"STT2_0\",\"STT3_0\",\"MTC_0\",\"MTCDAT_0\",\"MTCDATMIN_0\",\"MTCDATMAX_0\",\"FLGMTC_0\",\"FREREF_0\",\"CHK_0\",\"CHKDAT_0\",\"MRK_0\",\"TAX_0\",\"TAX2_0\",\"TAX3_0\",\"AMTVAT_0\",\"INDEDVAT_0\",\"ACCNUMORI_0\",\"CODAUTACE_0\",\"CRIMTC_0\",\"OLDLIG_0\",\"ACCNUMDOE_0\"'"
      ]
     },
     "execution_count": 76,
     "metadata": {},
     "output_type": "execute_result"
    }
   ],
   "source": [
    "df = cl.df_head(bs, \"croix-rouge\", \"build/Test_CRFFOR.GACCTMPD.csv\", as_df=False, stop_at=2000)\n",
    "df.split(\"\\n\")[0]"
   ]
  },
  {
   "cell_type": "markdown",
   "metadata": {},
   "source": [
    "## Close connection"
   ]
  },
  {
   "cell_type": "code",
   "execution_count": 16,
   "metadata": {
    "collapsed": false
   },
   "outputs": [
    {
     "data": {
      "text/plain": [
       "True"
      ]
     },
     "execution_count": 16,
     "metadata": {},
     "output_type": "execute_result"
    }
   ],
   "source": [
    "%blob_close"
   ]
  },
  {
   "cell_type": "code",
   "execution_count": null,
   "metadata": {
    "collapsed": true
   },
   "outputs": [],
   "source": []
  }
 ],
 "metadata": {
  "kernelspec": {
   "display_name": "Python 3",
   "language": "python",
   "name": "python3"
  },
  "language_info": {
   "codemirror_mode": {
    "name": "ipython",
    "version": 3
   },
   "file_extension": ".py",
   "mimetype": "text/x-python",
   "name": "python",
   "nbconvert_exporter": "python",
   "pygments_lexer": "ipython3",
   "version": "3.4.3"
  }
 },
 "nbformat": 4,
 "nbformat_minor": 0
}
