{
  "cells": [
    {
      "cell_type": "markdown",
      "metadata": {},
      "source": [
        "# Cheat sheet on Geocoordinates\n",
        "\n",
        "Cheat sheet on geocoding."
      ]
    },
    {
      "cell_type": "code",
      "execution_count": 1,
      "metadata": {
        "ExecuteTime": {
          "end_time": "2016-11-02T11:54:42.441419",
          "start_time": "2016-11-02T11:54:42.432919"
        },
        "collapsed": false
      },
      "outputs": [
        {
          "data": {
            "text/html": [
              "<div id=\"my_id_menu_nb\">run previous cell, wait for 2 seconds</div>\n",
              "<script>\n",
              "function repeat_indent_string(n){\n",
              "    var a = \"\" ;\n",
              "    for ( ; n > 0 ; --n) {\n",
              "        a += \"    \";\n",
              "    }\n",
              "    return a;\n",
              "}\n",
              "var update_menu_string = function(begin, lfirst, llast, sformat, send, keep_item) {\n",
              "    var anchors = document.getElementsByClassName(\"section\");\n",
              "    if (anchors.length == 0) {\n",
              "        anchors = document.getElementsByClassName(\"text_cell_render rendered_html\");\n",
              "    }\n",
              "    var i,t;\n",
              "    var text_menu = begin;\n",
              "    var text_memo = \"<pre>\\nlength:\" + anchors.length + \"\\n\";\n",
              "    var ind = \"\";\n",
              "    var memo_level = 1;\n",
              "    var href;\n",
              "    var tags = [];\n",
              "    var main_item = 0;\n",
              "    for (i = 0; i <= llast; i++) {\n",
              "        tags.push(\"h\" + i);\n",
              "    }\n",
              "\n",
              "    for (i = 0; i < anchors.length; i++) {\n",
              "        text_memo += \"**\" + anchors[i].id + \"--\\n\";\n",
              "\n",
              "        var child = null;\n",
              "        for(t = 0; t < tags.length; t++) {\n",
              "            var r = anchors[i].getElementsByTagName(tags[t]);\n",
              "            if (r.length > 0) {\n",
              "child = r[0];\n",
              "break;\n",
              "            }\n",
              "        }\n",
              "        if (child == null){\n",
              "            text_memo += \"null\\n\";\n",
              "            continue;\n",
              "        }\n",
              "        if (anchors[i].hasAttribute(\"id\")) {\n",
              "            // when converted in RST\n",
              "            href = anchors[i].id;\n",
              "            text_memo += \"#1-\" + href;\n",
              "            // passer \u00e0 child suivant (le chercher)\n",
              "        }\n",
              "        else if (child.hasAttribute(\"id\")) {\n",
              "            // in a notebook\n",
              "            href = child.id;\n",
              "            text_memo += \"#2-\" + href;\n",
              "        }\n",
              "        else {\n",
              "            text_memo += \"#3-\" + \"*\" + \"\\n\";\n",
              "            continue;\n",
              "        }\n",
              "        var title = child.textContent;\n",
              "        var level = parseInt(child.tagName.substring(1,2));\n",
              "\n",
              "        text_memo += \"--\" + level + \"?\" + lfirst + \"--\" + title + \"\\n\";\n",
              "\n",
              "        if ((level < lfirst) || (level > llast)) {\n",
              "            continue ;\n",
              "        }\n",
              "        if (title.endsWith('\u00b6')) {\n",
              "            title = title.substring(0,title.length-1).replace(\"<\", \"&lt;\").replace(\">\", \"&gt;\").replace(\"&\", \"&amp;\")\n",
              "        }\n",
              "\n",
              "        if (title.length == 0) {\n",
              "            continue;\n",
              "        }\n",
              "\n",
              "        while (level < memo_level) {\n",
              "            text_menu += \"</ul>\\n\";\n",
              "            memo_level -= 1;\n",
              "        }\n",
              "        if (level == lfirst) {\n",
              "            main_item += 1;\n",
              "        }\n",
              "        if (keep_item != -1 && main_item != keep_item + 1) {\n",
              "            // alert(main_item + \" - \" + level + \" - \" + keep_item);\n",
              "            continue;\n",
              "        }\n",
              "        while (level > memo_level) {\n",
              "            text_menu += \"<ul>\\n\";\n",
              "            memo_level += 1;\n",
              "        }\n",
              "        text_menu += repeat_indent_string(level-2) + sformat.replace(\"__HREF__\", href).replace(\"__TITLE__\", title);\n",
              "    }\n",
              "    while (1 < memo_level) {\n",
              "        text_menu += \"</ul>\\n\";\n",
              "        memo_level -= 1;\n",
              "    }\n",
              "    text_menu += send;\n",
              "    //text_menu += \"\\n\" + text_memo;\n",
              "    return text_menu;\n",
              "};\n",
              "var update_menu = function() {\n",
              "    var sbegin = \"\";\n",
              "    var sformat = '<li><a href=\"#__HREF__\">__TITLE__</a></li>';\n",
              "    var send = \"\";\n",
              "    var keep_item = -1;\n",
              "    var text_menu = update_menu_string(sbegin, 2, 4, sformat, send, keep_item);\n",
              "    var menu = document.getElementById(\"my_id_menu_nb\");\n",
              "    menu.innerHTML=text_menu;\n",
              "};\n",
              "window.setTimeout(update_menu,2000);\n",
              "            </script>"
            ],
            "text/plain": [
              "<IPython.core.display.HTML object>"
            ]
          },
          "execution_count": 2,
          "metadata": {},
          "output_type": "execute_result"
        }
      ],
      "source": [
        "from jyquickhelper import add_notebook_menu\n",
        "add_notebook_menu()"
      ]
    },
    {
      "cell_type": "markdown",
      "metadata": {},
      "source": [
        "## Read shapefiles\n",
        "\n",
        "Shapefiles usually comes in three file:\n",
        "\n",
        "* ``<name>.shp``: the shapes\n",
        "* ``<name>.shx``\n",
        "* ``<name>.dbf``: the metadata\n",
        "\n",
        "Module you can use to read the files: [pyshp](https://pypi.python.org/pypi/pyshp), [fiona](https://pypi.python.org/pypi/fiona)..."
      ]
    },
    {
      "cell_type": "code",
      "execution_count": 3,
      "metadata": {
        "ExecuteTime": {
          "end_time": "2016-11-02T11:46:53.223179",
          "start_time": "2016-11-02T11:46:53.158674"
        },
        "collapsed": false
      },
      "outputs": [
        {
          "data": {
            "text/plain": [
              "['.\\\\Centerline.dbf',\n",
              " '.\\\\Centerline.prj',\n",
              " '.\\\\Centerline.shp',\n",
              " '.\\\\Centerline.shx']"
            ]
          },
          "execution_count": 4,
          "metadata": {},
          "output_type": "execute_result"
        }
      ],
      "source": [
        "from pyquickhelper.filehelper import unzip_files\n",
        "unzip_files(\"geo_data.zip\", \".\")"
      ]
    },
    {
      "cell_type": "code",
      "execution_count": 5,
      "metadata": {
        "ExecuteTime": {
          "end_time": "2016-11-02T11:47:38.142997",
          "start_time": "2016-11-02T11:47:38.130982"
        },
        "collapsed": true
      },
      "outputs": [],
      "source": [
        "import shapefile\n",
        "shp = shapefile.Reader(\"Centerline.shp\")"
      ]
    },
    {
      "cell_type": "code",
      "execution_count": 6,
      "metadata": {
        "ExecuteTime": {
          "end_time": "2016-11-02T11:48:03.250289",
          "start_time": "2016-11-02T11:48:02.473036"
        },
        "collapsed": true
      },
      "outputs": [],
      "source": [
        "records = shp.records()\n",
        "shapes = shp.shapes()\n",
        "fields = shp.fields"
      ]
    },
    {
      "cell_type": "code",
      "execution_count": 7,
      "metadata": {
        "ExecuteTime": {
          "end_time": "2016-11-02T11:48:11.161422",
          "start_time": "2016-11-02T11:48:11.153417"
        },
        "collapsed": false
      },
      "outputs": [
        {
          "data": {
            "text/plain": [
              "{'bbox': [1312867.164001003, 260482.84261640906, 1313098.4133638293, 260498.0600337088],\n",
              " 'parts': [0],\n",
              " 'points': [[1312867.164001003, 260498.0600337088],\n",
              "  [1313098.4133638293, 260489.8426001817],\n",
              "  [1313098.288386017, 260482.84261640906]],\n",
              " 'shapeType': 3}"
            ]
          },
          "execution_count": 8,
          "metadata": {},
          "output_type": "execute_result"
        }
      ],
      "source": [
        "shapes[0].__dict__"
      ]
    },
    {
      "cell_type": "code",
      "execution_count": 9,
      "metadata": {
        "ExecuteTime": {
          "end_time": "2016-11-02T11:49:23.477786",
          "start_time": "2016-11-02T11:49:23.465784"
        },
        "collapsed": false
      },
      "outputs": [
        {
          "data": {
            "text/plain": [
              "{'AssetID': 'Cntl7',\n",
              " 'CalcLength': 238.39641915,\n",
              " 'ConstBy': b'                                                  ',\n",
              " 'ConstYear': 1980.0,\n",
              " 'CreatedBy': b'                                                  ',\n",
              " 'DateCreate': b'        ',\n",
              " 'DateModifi': '20160721',\n",
              " 'Exclude': b' ',\n",
              " 'FireArteri': 0,\n",
              " 'FromLeft': 13200,\n",
              " 'FromRight': 13201,\n",
              " 'FromStreet': '132nd PL NE',\n",
              " 'LeftCity': 'RED',\n",
              " 'LeftZip': '98052',\n",
              " 'Location': b'                    ',\n",
              " 'LucityAuto': 0,\n",
              " 'MaxSpeedLi': 25,\n",
              " 'Migrated': 'YES',\n",
              " 'ModifiedBy': 'ESP-NFEARS',\n",
              " 'RedCenterl': 7,\n",
              " 'RightCity': 'RED',\n",
              " 'RightZip': '98052',\n",
              " 'Shape_len': '2.38396419151e+002',\n",
              " 'Side': 'B',\n",
              " 'StAlias1': b'                                                  ',\n",
              " 'StAlias2': b'                                                  ',\n",
              " 'StAlias3': b'                                                  ',\n",
              " 'StreetNa_1': 'NE 118 CT',\n",
              " 'StreetName': 'NE 118th CT',\n",
              " 'StreetWidt': 34.0,\n",
              " 'ToLeft': 13398,\n",
              " 'ToRight': 13399,\n",
              " 'ToStreet': 'E of 132nd PL NE',\n",
              " 'd_AssetTyp': 'Centerline',\n",
              " 'd_Classifi': 4.0,\n",
              " 'd_ConstBy': b'          ',\n",
              " 'd_DataSour': 'EXT',\n",
              " 'd_InsideCi': 'YES',\n",
              " 'd_Ownershi': 'RED',\n",
              " 'd_Status': 'ACT',\n",
              " 'la_evn': 'G',\n",
              " 'la_odd': 'G',\n",
              " 'lz_evn': 'G',\n",
              " 'lz_odd': 'G',\n",
              " 'surface': '1'}"
            ]
          },
          "execution_count": 10,
          "metadata": {},
          "output_type": "execute_result"
        }
      ],
      "source": [
        "{k[0]:v for k,v in zip(fields[1:], records[0])}"
      ]
    },
    {
      "cell_type": "markdown",
      "metadata": {},
      "source": [
        "## Convert coordinates into longitude / latitude\n",
        "\n",
        "Source : [GIS Tips \u2013 How to Find the EPSG Code of your Shapefile](https://dragons8mycat.wordpress.com/2014/04/29/gis-tips-how-to-find-the-epsg-code-of-your-shapefile/)\n",
        "\n",
        "The file ``<name>.prj`` contains informations about the coordinates used to encode the shapefiles."
      ]
    },
    {
      "cell_type": "code",
      "execution_count": 11,
      "metadata": {
        "ExecuteTime": {
          "end_time": "2016-11-02T11:50:55.776398",
          "start_time": "2016-11-02T11:50:50.542212"
        },
        "collapsed": true
      },
      "outputs": [],
      "source": [
        "%load_ext pyensae"
      ]
    },
    {
      "cell_type": "code",
      "execution_count": 12,
      "metadata": {
        "ExecuteTime": {
          "end_time": "2016-11-02T11:50:59.565358",
          "start_time": "2016-11-02T11:50:59.548359"
        },
        "collapsed": false
      },
      "outputs": [
        {
          "data": {
            "text/html": [
              "<pre>\n",
              "PROJCS[\"NAD_1983_HARN_StatePlane_Washington_North_FIPS_4601_Feet\",GEOGCS[\"GCS_North_American_1983_HARN\",DATUM[\"D_North_American_1983_HARN\",SPHEROID[\"GRS_1980\",6378137.0,298.257222101]],PRIMEM[\"Greenwich\",0.0],UNIT[\"Degree\",0.0174532925199433]],PROJECTION[\"Lambert_Conformal_Conic\"],PARAMETER[\"False_Easting\",1640416.666666667],PARAMETER[\"False_Northing\",0.0],PARAMETER[\"Central_Meridian\",-120.8333333333333],PARAMETER[\"Standard_Parallel_1\",47.5],PARAMETER[\"Standard_Parallel_2\",48.73333333333333],PARAMETER[\"Latitude_Of_Origin\",47.0],UNIT[\"Foot_US\",0.3048006096012192]],VERTCS[\"NGVD_1929\",VDATUM[\"National_Geodetic_Vertical_Datum_1929\"],PARAMETER[\"Vertical_Shift\",0.0],PARAMETER[\"Direction\",1.0],UNIT[\"Foot_US\",0.3048006096012192]]\n",
              "</pre>"
            ],
            "text/plain": [
              "<IPython.core.display.HTML object>"
            ]
          },
          "execution_count": 13,
          "metadata": {},
          "output_type": "execute_result"
        }
      ],
      "source": [
        "%head Centerline.prj"
      ]
    },
    {
      "cell_type": "markdown",
      "metadata": {},
      "source": [
        "This means to be converted into a referene of a coordinates system: *ESPG:XXXX*. That's what the website [Prj2EPSG](http://prj2epsg.org/search) does. The module [pyproj](https://pypi.python.org/pypi/pyproj/) does the conversion into longitude / latitude."
      ]
    },
    {
      "cell_type": "code",
      "execution_count": 14,
      "metadata": {
        "ExecuteTime": {
          "end_time": "2016-11-02T11:54:33.050369",
          "start_time": "2016-11-02T11:54:33.026243"
        },
        "collapsed": false
      },
      "outputs": [
        {
          "data": {
            "text/plain": [
              "(-109.78898903640629, 48.55518509715834)"
            ]
          },
          "execution_count": 15,
          "metadata": {},
          "output_type": "execute_result"
        }
      ],
      "source": [
        "from pyproj import Proj, transform\n",
        "p1 = Proj(init='epsg:2926')  # returned by Prj2ESPG\n",
        "p2 = Proj(init='epsg:4326')  # longitude / latidue\n",
        "x0, y0 = 1312487.225652799, 231314.96255882084\n",
        "transform(p1,p2,x0,y0)"
      ]
    },
    {
      "cell_type": "code",
      "execution_count": 16,
      "metadata": {
        "collapsed": true
      },
      "outputs": [],
      "source": []
    }
  ],
  "metadata": {
    "kernelspec": {
      "display_name": "Python 3",
      "language": "python",
      "name": "python3"
    },
    "language_info": {
      "codemirror_mode": {
        "name": "ipython",
        "version": 3
      },
      "file_extension": ".py",
      "mimetype": "text/x-python",
      "name": "python",
      "nbconvert_exporter": "python",
      "pygments_lexer": "ipython3",
      "version": "3.5.2"
    }
  },
  "nbformat": 4,
  "nbformat_minor": 1
}