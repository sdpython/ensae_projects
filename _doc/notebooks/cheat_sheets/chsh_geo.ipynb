{
  "cells": [
    {
      "cell_type": "markdown",
      "metadata": {},
      "source": [
        "# Cheat sheet on Geocoordinates\n",
        "\n",
        "Cheat sheet on geocoding."
      ]
    },
    {
      "cell_type": "code",
      "execution_count": 1,
      "metadata": {
        "ExecuteTime": {
          "end_time": "2016-11-02T11:54:42.441419",
          "start_time": "2016-11-02T11:54:42.432919"
        }
      },
      "outputs": [
        {
          "data": {
            "text/html": [
              "<div id=\"my_id_menu_nb\">run previous cell, wait for 2 seconds</div>\n",
              "<script>\n",
              "function repeat_indent_string(n){\n",
              "    var a = \"\" ;\n",
              "    for ( ; n > 0 ; --n)\n",
              "        a += \"    \";\n",
              "    return a;\n",
              "}\n",
              "// look up into all sections and builds an automated menu //\n",
              "var update_menu_string = function(begin, lfirst, llast, sformat, send, keep_item, begin_format, end_format) {\n",
              "    var anchors = document.getElementsByClassName(\"section\");\n",
              "    if (anchors.length == 0) {\n",
              "        anchors = document.getElementsByClassName(\"text_cell_render rendered_html\");\n",
              "    }\n",
              "    var i,t;\n",
              "    var text_menu = begin;\n",
              "    var text_memo = \"<pre>\\nlength:\" + anchors.length + \"\\n\";\n",
              "    var ind = \"\";\n",
              "    var memo_level = 1;\n",
              "    var href;\n",
              "    var tags = [];\n",
              "    var main_item = 0;\n",
              "    var format_open = 0;\n",
              "    for (i = 0; i <= llast; i++)\n",
              "        tags.push(\"h\" + i);\n",
              "\n",
              "    for (i = 0; i < anchors.length; i++) {\n",
              "        text_memo += \"**\" + anchors[i].id + \"--\\n\";\n",
              "\n",
              "        var child = null;\n",
              "        for(t = 0; t < tags.length; t++) {\n",
              "            var r = anchors[i].getElementsByTagName(tags[t]);\n",
              "            if (r.length > 0) {\n",
              "child = r[0];\n",
              "break;\n",
              "            }\n",
              "        }\n",
              "        if (child == null) {\n",
              "            text_memo += \"null\\n\";\n",
              "            continue;\n",
              "        }\n",
              "        if (anchors[i].hasAttribute(\"id\")) {\n",
              "            // when converted in RST\n",
              "            href = anchors[i].id;\n",
              "            text_memo += \"#1-\" + href;\n",
              "            // passer \u00e0 child suivant (le chercher)\n",
              "        }\n",
              "        else if (child.hasAttribute(\"id\")) {\n",
              "            // in a notebook\n",
              "            href = child.id;\n",
              "            text_memo += \"#2-\" + href;\n",
              "        }\n",
              "        else {\n",
              "            text_memo += \"#3-\" + \"*\" + \"\\n\";\n",
              "            continue;\n",
              "        }\n",
              "        var title = child.textContent;\n",
              "        var level = parseInt(child.tagName.substring(1,2));\n",
              "\n",
              "        text_memo += \"--\" + level + \"?\" + lfirst + \"--\" + title + \"\\n\";\n",
              "\n",
              "        if ((level < lfirst) || (level > llast)) {\n",
              "            continue ;\n",
              "        }\n",
              "        if (title.endsWith('\u00b6')) {\n",
              "            title = title.substring(0,title.length-1).replace(\"<\", \"&lt;\")\n",
              "         .replace(\">\", \"&gt;\").replace(\"&\", \"&amp;\");\n",
              "        }\n",
              "        if (title.length == 0) {\n",
              "            continue;\n",
              "        }\n",
              "\n",
              "        while (level < memo_level) {\n",
              "            text_menu += end_format + \"</ul>\\n\";\n",
              "            format_open -= 1;\n",
              "            memo_level -= 1;\n",
              "        }\n",
              "        if (level == lfirst) {\n",
              "            main_item += 1;\n",
              "        }\n",
              "        if (keep_item != -1 && main_item != keep_item + 1) {\n",
              "            // alert(main_item + \" - \" + level + \" - \" + keep_item);\n",
              "            continue;\n",
              "        }\n",
              "        while (level > memo_level) {\n",
              "            text_menu += \"<ul>\\n\";\n",
              "            memo_level += 1;\n",
              "        }\n",
              "        text_menu += repeat_indent_string(level-2);\n",
              "        text_menu += begin_format + sformat.replace(\"__HREF__\", href).replace(\"__TITLE__\", title);\n",
              "        format_open += 1;\n",
              "    }\n",
              "    while (1 < memo_level) {\n",
              "        text_menu += end_format + \"</ul>\\n\";\n",
              "        memo_level -= 1;\n",
              "        format_open -= 1;\n",
              "    }\n",
              "    text_menu += send;\n",
              "    //text_menu += \"\\n\" + text_memo;\n",
              "\n",
              "    while (format_open > 0) {\n",
              "        text_menu += end_format;\n",
              "        format_open -= 1;\n",
              "    }\n",
              "    return text_menu;\n",
              "};\n",
              "var update_menu = function() {\n",
              "    var sbegin = \"\";\n",
              "    var sformat = '<a href=\"#__HREF__\">__TITLE__</a>';\n",
              "    var send = \"\";\n",
              "    var begin_format = '<li>';\n",
              "    var end_format = '</li>';\n",
              "    var keep_item = -1;\n",
              "    var text_menu = update_menu_string(sbegin, 2, 4, sformat, send, keep_item,\n",
              "       begin_format, end_format);\n",
              "    var menu = document.getElementById(\"my_id_menu_nb\");\n",
              "    menu.innerHTML=text_menu;\n",
              "};\n",
              "window.setTimeout(update_menu,2000);\n",
              "            </script>"
            ],
            "text/plain": [
              "<IPython.core.display.HTML object>"
            ]
          },
          "execution_count": 2,
          "metadata": {},
          "output_type": "execute_result"
        }
      ],
      "source": [
        "from jyquickhelper import add_notebook_menu\n",
        "add_notebook_menu()"
      ]
    },
    {
      "cell_type": "markdown",
      "metadata": {},
      "source": [
        "## Read shapefiles\n",
        "\n",
        "Shapefiles usually comes in three file:\n",
        "\n",
        "* ``<name>.shp``: the shapes\n",
        "* ``<name>.shx``\n",
        "* ``<name>.dbf``: the metadata\n",
        "\n",
        "Module you can use to read the files: [pyshp](https://pypi.python.org/pypi/pyshp), [fiona](https://pypi.python.org/pypi/fiona)..."
      ]
    },
    {
      "cell_type": "code",
      "execution_count": 2,
      "metadata": {
        "ExecuteTime": {
          "end_time": "2016-11-02T11:46:53.223179",
          "start_time": "2016-11-02T11:46:53.158674"
        }
      },
      "outputs": [
        {
          "data": {
            "text/plain": [
              "['.\\\\Centerline.dbf',\n",
              " '.\\\\Centerline.prj',\n",
              " '.\\\\Centerline.shp',\n",
              " '.\\\\Centerline.shx']"
            ]
          },
          "execution_count": 3,
          "metadata": {},
          "output_type": "execute_result"
        }
      ],
      "source": [
        "from pyquickhelper.filehelper import unzip_files\n",
        "unzip_files(\"geo_data.zip\", \".\")"
      ]
    },
    {
      "cell_type": "code",
      "execution_count": 3,
      "metadata": {
        "ExecuteTime": {
          "end_time": "2016-11-02T11:47:38.142997",
          "start_time": "2016-11-02T11:47:38.130982"
        }
      },
      "outputs": [],
      "source": [
        "import shapefile\n",
        "shp = shapefile.Reader(\"Centerline.shp\")"
      ]
    },
    {
      "cell_type": "code",
      "execution_count": 4,
      "metadata": {
        "ExecuteTime": {
          "end_time": "2016-11-02T11:48:03.250289",
          "start_time": "2016-11-02T11:48:02.473036"
        }
      },
      "outputs": [],
      "source": [
        "records = shp.records()\n",
        "shapes = shp.shapes()\n",
        "fields = shp.fields"
      ]
    },
    {
      "cell_type": "code",
      "execution_count": 5,
      "metadata": {
        "ExecuteTime": {
          "end_time": "2016-11-02T11:48:11.161422",
          "start_time": "2016-11-02T11:48:11.153417"
        }
      },
      "outputs": [
        {
          "data": {
            "text/plain": [
              "{'shapeType': 3,\n",
              " 'points': [(1312867.164001003, 260498.0600337088),\n",
              "  (1313098.4133638293, 260489.8426001817),\n",
              "  (1313098.288386017, 260482.84261640906)],\n",
              " 'parts': [0],\n",
              " 'bbox': [1312867.164001003, 260482.84261640906, 1313098.4133638293, 260498.0600337088]}"
            ]
          },
          "execution_count": 6,
          "metadata": {},
          "output_type": "execute_result"
        }
      ],
      "source": [
        "shapes[0].__dict__"
      ]
    },
    {
      "cell_type": "code",
      "execution_count": 6,
      "metadata": {
        "ExecuteTime": {
          "end_time": "2016-11-02T11:49:23.477786",
          "start_time": "2016-11-02T11:49:23.465784"
        }
      },
      "outputs": [
        {
          "data": {
            "text/plain": [
              "{'StreetName': 'NE 118th CT',\n",
              " 'FromStreet': '132nd PL NE',\n",
              " 'ToStreet': 'E of 132nd PL NE',\n",
              " 'StreetWidt': 34.0,\n",
              " 'ConstYear': 1980.0,\n",
              " 'ConstBy': '',\n",
              " 'd_Classifi': 4.0,\n",
              " 'd_Ownershi': 'RED',\n",
              " 'd_Status': 'ACT',\n",
              " 'd_DataSour': 'EXT',\n",
              " 'd_InsideCi': 'YES',\n",
              " 'FromLeft': 13200,\n",
              " 'ToLeft': 13398,\n",
              " 'FromRight': 13201,\n",
              " 'ToRight': 13399,\n",
              " 'LeftCity': 'RED',\n",
              " 'RightCity': 'RED',\n",
              " 'LeftZip': '98052',\n",
              " 'RightZip': '98052',\n",
              " 'Side': 'B',\n",
              " 'Exclude': '',\n",
              " 'Location': '',\n",
              " 'lz_evn': 'G',\n",
              " 'lz_odd': 'G',\n",
              " 'la_evn': 'G',\n",
              " 'la_odd': 'G',\n",
              " 'StreetNa_1': 'NE 118 CT',\n",
              " 'FireArteri': 0,\n",
              " 'surface': '1',\n",
              " 'Migrated': 'YES',\n",
              " 'd_ConstBy': '',\n",
              " 'RedCenterl': 7,\n",
              " 'MaxSpeedLi': 25,\n",
              " 'CreatedBy': '',\n",
              " 'DateCreate': b'',\n",
              " 'ModifiedBy': 'ESP-NFEARS',\n",
              " 'DateModifi': datetime.date(2016, 7, 21),\n",
              " 'StAlias1': '',\n",
              " 'StAlias2': '',\n",
              " 'StAlias3': '',\n",
              " 'AssetID': 'Cntl7',\n",
              " 'LucityAuto': 0,\n",
              " 'd_AssetTyp': 'Centerline',\n",
              " 'CalcLength': 238.39641915,\n",
              " 'Shape_len': 238.396419151}"
            ]
          },
          "execution_count": 7,
          "metadata": {},
          "output_type": "execute_result"
        }
      ],
      "source": [
        "{k[0]:v for k,v in zip(fields[1:], records[0])}"
      ]
    },
    {
      "cell_type": "markdown",
      "metadata": {},
      "source": [
        "## Convert coordinates into longitude / latitude\n",
        "\n",
        "Source : [GIS Tips \u2013 How to Find the EPSG Code of your Shapefile](https://dragons8mycat.wordpress.com/2014/04/29/gis-tips-how-to-find-the-epsg-code-of-your-shapefile/)\n",
        "\n",
        "The file ``<name>.prj`` contains informations about the coordinates used to encode the shapefiles."
      ]
    },
    {
      "cell_type": "code",
      "execution_count": 7,
      "metadata": {
        "ExecuteTime": {
          "end_time": "2016-11-02T11:50:55.776398",
          "start_time": "2016-11-02T11:50:50.542212"
        }
      },
      "outputs": [],
      "source": [
        "%load_ext pyensae"
      ]
    },
    {
      "cell_type": "code",
      "execution_count": 8,
      "metadata": {
        "ExecuteTime": {
          "end_time": "2016-11-02T11:50:59.565358",
          "start_time": "2016-11-02T11:50:59.548359"
        }
      },
      "outputs": [
        {
          "data": {
            "text/html": [
              "<pre>\n",
              "PROJCS[\"NAD_1983_HARN_StatePlane_Washington_North_FIPS_4601_Feet\",GEOGCS[\"GCS_North_American_1983_HARN\",DATUM[\"D_North_American_1983_HARN\",SPHEROID[\"GRS_1980\",6378137.0,298.257222101]],PRIMEM[\"Greenwich\",0.0],UNIT[\"Degree\",0.0174532925199433]],PROJECTION[\"Lambert_Conformal_Conic\"],PARAMETER[\"False_Easting\",1640416.666666667],PARAMETER[\"False_Northing\",0.0],PARAMETER[\"Central_Meridian\",-120.8333333333333],PARAMETER[\"Standard_Parallel_1\",47.5],PARAMETER[\"Standard_Parallel_2\",48.73333333333333],PARAMETER[\"Latitude_Of_Origin\",47.0],UNIT[\"Foot_US\",0.3048006096012192]],VERTCS[\"NGVD_1929\",VDATUM[\"National_Geodetic_Vertical_Datum_1929\"],PARAMETER[\"Vertical_Shift\",0.0],PARAMETER[\"Direction\",1.0],UNIT[\"Foot_US\",0.3048006096012192]]\n",
              "</pre>"
            ],
            "text/plain": [
              "<IPython.core.display.HTML object>"
            ]
          },
          "execution_count": 9,
          "metadata": {},
          "output_type": "execute_result"
        }
      ],
      "source": [
        "%head Centerline.prj"
      ]
    },
    {
      "cell_type": "markdown",
      "metadata": {},
      "source": [
        "This means to be converted into another coordinates system: *ESPG:XXXX*. That's what the website [Prj2EPSG](http://prj2epsg.org/search) does. The module [pyproj](https://pypi.python.org/pypi/pyproj/) does the conversion into longitude / latitude."
      ]
    },
    {
      "cell_type": "code",
      "execution_count": 9,
      "metadata": {
        "ExecuteTime": {
          "end_time": "2016-11-02T11:54:33.050369",
          "start_time": "2016-11-02T11:54:33.026243"
        }
      },
      "outputs": [
        {
          "data": {
            "text/plain": [
              "(-109.78898903640629, 48.55518509715834)"
            ]
          },
          "execution_count": 10,
          "metadata": {},
          "output_type": "execute_result"
        }
      ],
      "source": [
        "from pyproj import Proj, transform\n",
        "p1 = Proj(init='epsg:2926')  # returned by Prj2ESPG\n",
        "p2 = Proj(init='epsg:4326')  # longitude / latidue\n",
        "x0, y0 = 1312487.225652799, 231314.96255882084\n",
        "transform(p1,p2,x0,y0)"
      ]
    },
    {
      "cell_type": "code",
      "execution_count": 10,
      "metadata": {},
      "outputs": [],
      "source": []
    }
  ],
  "metadata": {
    "kernelspec": {
      "display_name": "Python 3",
      "language": "python",
      "name": "python3"
    },
    "language_info": {
      "codemirror_mode": {
        "name": "ipython",
        "version": 3
      },
      "file_extension": ".py",
      "mimetype": "text/x-python",
      "name": "python",
      "nbconvert_exporter": "python",
      "pygments_lexer": "ipython3",
      "version": "3.7.0"
    }
  },
  "nbformat": 4,
  "nbformat_minor": 1
}