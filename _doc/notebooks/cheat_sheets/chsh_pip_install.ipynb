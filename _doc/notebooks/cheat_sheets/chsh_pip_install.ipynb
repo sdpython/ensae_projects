{
  "cells": [
    {
      "cell_type": "markdown",
      "metadata": {},
      "source": [
        "# Pip install from a notebook"
      ]
    },
    {
      "cell_type": "code",
      "execution_count": null,
      "metadata": {
        "collapsed": false
      },
      "outputs": [
        {
          "data": {
            "text/html": [
              "<b>Plan</b>\n",
              "<div id=\"my_menu_id\">run previous cell, wait for 2 seconds</div>\n",
              "<script>\n",
              "function repeat_indent_string(n){\n",
              "    var a = \"\" ;\n",
              "    for ( ; n > 0 ; --n) {\n",
              "        a += \"    \";\n",
              "    }\n",
              "    return a;\n",
              "}\n",
              "var update_menu_string = function(begin, lfirst, llast, sformat, send) {\n",
              "    var anchors = document.getElementsByClassName(\"section\");\n",
              "    if (anchors.length == 0) {\n",
              "        anchors = document.getElementsByClassName(\"text_cell_render rendered_html\");\n",
              "    }\n",
              "    var i,t;\n",
              "    var text_menu = begin;\n",
              "    var text_memo = \"<pre>\\nlength:\" + anchors.length + \"\\n\";\n",
              "    var ind = \"\";\n",
              "    var memo_level = 1;\n",
              "    var href;\n",
              "    var tags = [];\n",
              "    for (i = 0; i <= llast; i++) {\n",
              "        tags.push(\"h\" + i);\n",
              "    }\n",
              "\n",
              "    for (i = 0; i < anchors.length; i++) {\n",
              "        text_memo += \"**\" + anchors[i].id + \"--\\n\";\n",
              "\n",
              "        var child = null;\n",
              "        for(t = 0; t < tags.length; t++) {\n",
              "            var r = anchors[i].getElementsByTagName(tags[t]);\n",
              "            if (r.length > 0) {\n",
              "child = r[0];\n",
              "break;\n",
              "            }\n",
              "        }\n",
              "        if (child == null){\n",
              "            text_memo += \"null\\n\";\n",
              "            continue;\n",
              "        }\n",
              "\n",
              "        if (anchors[i].hasAttribute(\"id\")) {\n",
              "            // when converted in RST\n",
              "            href = anchors[i].id;\n",
              "            text_memo += \"#1-\" + href;\n",
              "            // passer \u00e0 child suivant (le chercher)\n",
              "        }\n",
              "        else if (child.hasAttribute(\"id\")) {\n",
              "            // in a notebook\n",
              "            href = child.id;\n",
              "            text_memo += \"#2-\" + href;\n",
              "        }\n",
              "        else {\n",
              "            text_memo += \"#3-\" + \"*\" + \"\\n\";\n",
              "            continue;\n",
              "        }\n",
              "        var title = child.textContent;\n",
              "        var level = parseInt(child.tagName.substring(1,2));\n",
              "\n",
              "        text_memo += \"--\" + level + \"?\" + lfirst + \"--\" + title + \"\\n\";\n",
              "\n",
              "        if ((level < lfirst) || (level > llast)) {\n",
              "            continue ;\n",
              "        }\n",
              "        if (title.endsWith('\u00b6')) {\n",
              "            title = title.substring(0,title.length-1).replace(\"<\", \"&lt;\").replace(\">\", \"&gt;\").replace(\"&\", \"&amp;\")\n",
              "        }\n",
              "\n",
              "        if (title.length == 0) {\n",
              "            continue;\n",
              "        }\n",
              "        while (level > memo_level) {\n",
              "            text_menu += \"<ul>\\n\";\n",
              "            memo_level += 1;\n",
              "        }\n",
              "        while (level < memo_level) {\n",
              "            text_menu += \"</ul>\\n\";\n",
              "            memo_level -= 1;\n",
              "        }\n",
              "        text_menu += repeat_indent_string(level-2) + sformat.replace(\"__HREF__\", href).replace(\"__TITLE__\", title);\n",
              "    }\n",
              "    while (1 < memo_level) {\n",
              "        text_menu += \"</ul>\\n\";\n",
              "        memo_level -= 1;\n",
              "    }\n",
              "    text_menu += send;\n",
              "    //text_menu += \"\\n\" + text_memo;\n",
              "    return text_menu;\n",
              "};\n",
              "var update_menu = function() {\n",
              "    var sbegin = \"\";\n",
              "    var sformat = '<li><a href=\"#__HREF__\">__TITLE__</a></li>';\n",
              "    var send = \"\";\n",
              "    var text_menu = update_menu_string(sbegin, 2, 4, sformat, send);\n",
              "    var menu = document.getElementById(\"my_menu_id\");\n",
              "    menu.innerHTML=text_menu;\n",
              "};\n",
              "window.setTimeout(update_menu,2000);\n",
              "            </script>"
            ],
            "text/plain": [
              "<IPython.core.display.HTML object>"
            ]
          },
          "execution_count": null,
          "metadata": {},
          "output_type": "execute_result"
        }
      ],
      "source": [
        "from jyquickhelper import add_notebook_menu\n",
        "add_notebook_menu()"
      ]
    },
    {
      "cell_type": "markdown",
      "metadata": {},
      "source": [
        "## Update or install a module from the notebook\n",
        "\n",
        "Running ``pip install`` from the command line requires to be in the right folder. And sometimes, several python installations interfere between each others. Why doing it from the notebook itself:"
      ]
    },
    {
      "cell_type": "code",
      "execution_count": null,
      "metadata": {
        "collapsed": true
      },
      "outputs": [],
      "source": [
        "import pip"
      ]
    },
    {
      "cell_type": "code",
      "execution_count": null,
      "metadata": {
        "collapsed": false
      },
      "outputs": [
        {
          "name": "stdout",
          "output_type": "stream",
          "text": [
            "Requirement already satisfied (use --upgrade to upgrade): qgrid in c:\\python34_x64\\lib\\site-packages\n",
            "Requirement already satisfied (use --upgrade to upgrade): numpy in c:\\python34_x64\\lib\\site-packages (from qgrid)\n",
            "Requirement already satisfied (use --upgrade to upgrade): pandas in c:\\python34_x64\\lib\\site-packages (from qgrid)\n",
            "Requirement already satisfied (use --upgrade to upgrade): ipython[notebook] in c:\\python34_x64\\lib\\site-packages (from qgrid)\n",
            "Requirement already satisfied (use --upgrade to upgrade): python-dateutil>=2 in c:\\python34_x64\\lib\\site-packages (from pandas->qgrid)\n",
            "Requirement already satisfied (use --upgrade to upgrade): pytz>=2011k in c:\\python34_x64\\lib\\site-packages (from pandas->qgrid)\n",
            "Requirement already satisfied (use --upgrade to upgrade): pickleshare in c:\\python34_x64\\lib\\site-packages (from ipython[notebook]->qgrid)\n",
            "Requirement already satisfied (use --upgrade to upgrade): decorator in c:\\python34_x64\\lib\\site-packages (from ipython[notebook]->qgrid)\n",
            "Requirement already satisfied (use --upgrade to upgrade): traitlets in c:\\python34_x64\\lib\\site-packages (from ipython[notebook]->qgrid)\n",
            "Requirement already satisfied (use --upgrade to upgrade): simplegeneric>0.8 in c:\\python34_x64\\lib\\site-packages (from ipython[notebook]->qgrid)\n",
            "Requirement already satisfied (use --upgrade to upgrade): notebook in c:\\python34_x64\\lib\\site-packages (from ipython[notebook]->qgrid)\n",
            "Requirement already satisfied (use --upgrade to upgrade): six>=1.5 in c:\\python34_x64\\lib\\site-packages (from python-dateutil>=2->pandas->qgrid)\n",
            "Requirement already satisfied (use --upgrade to upgrade): path.py in c:\\python34_x64\\lib\\site-packages (from pickleshare->ipython[notebook]->qgrid)\n",
            "Requirement already satisfied (use --upgrade to upgrade): ipython-genutils in c:\\python34_x64\\lib\\site-packages (from traitlets->ipython[notebook]->qgrid)\n",
            "Requirement already satisfied (use --upgrade to upgrade): nbformat in c:\\python34_x64\\lib\\site-packages (from notebook->ipython[notebook]->qgrid)\n",
            "Requirement already satisfied (use --upgrade to upgrade): tornado>=4 in c:\\python34_x64\\lib\\site-packages (from notebook->ipython[notebook]->qgrid)\n",
            "Requirement already satisfied (use --upgrade to upgrade): jinja2 in c:\\python34_x64\\lib\\site-packages (from notebook->ipython[notebook]->qgrid)\n",
            "Requirement already satisfied (use --upgrade to upgrade): jupyter-core in c:\\python34_x64\\lib\\site-packages (from notebook->ipython[notebook]->qgrid)\n",
            "Requirement already satisfied (use --upgrade to upgrade): nbconvert in c:\\python34_x64\\lib\\site-packages (from notebook->ipython[notebook]->qgrid)\n",
            "Requirement already satisfied (use --upgrade to upgrade): jupyter-client in c:\\python34_x64\\lib\\site-packages (from notebook->ipython[notebook]->qgrid)\n",
            "Requirement already satisfied (use --upgrade to upgrade): ipykernel in c:\\python34_x64\\lib\\site-packages (from notebook->ipython[notebook]->qgrid)\n",
            "Requirement already satisfied (use --upgrade to upgrade): jsonschema!=2.5.0,>=2.0 in c:\\python34_x64\\lib\\site-packages (from nbformat->notebook->ipython[notebook]->qgrid)\n",
            "Requirement already satisfied (use --upgrade to upgrade): backports-abc>=0.4 in c:\\python34_x64\\lib\\site-packages (from tornado>=4->notebook->ipython[notebook]->qgrid)\n",
            "Requirement already satisfied (use --upgrade to upgrade): MarkupSafe in c:\\python34_x64\\lib\\site-packages (from jinja2->notebook->ipython[notebook]->qgrid)\n",
            "Requirement already satisfied (use --upgrade to upgrade): mistune!=0.6 in c:\\python34_x64\\lib\\site-packages (from nbconvert->notebook->ipython[notebook]->qgrid)\n",
            "Requirement already satisfied (use --upgrade to upgrade): pygments in c:\\python34_x64\\lib\\site-packages (from nbconvert->notebook->ipython[notebook]->qgrid)\n",
            "Requirement already satisfied (use --upgrade to upgrade): pyzmq>=13 in c:\\python34_x64\\lib\\site-packages (from jupyter-client->notebook->ipython[notebook]->qgrid)\n"
          ]
        },
        {
          "data": {
            "text/plain": [
              "0"
            ]
          },
          "execution_count": null,
          "metadata": {},
          "output_type": "execute_result"
        }
      ],
      "source": [
        "pip.main(\"install qgrid\".split())"
      ]
    },
    {
      "cell_type": "markdown",
      "metadata": {},
      "source": [
        "## Interesting options"
      ]
    },
    {
      "cell_type": "markdown",
      "metadata": {},
      "source": [
        "### Avoid installing dependencies"
      ]
    },
    {
      "cell_type": "code",
      "execution_count": null,
      "metadata": {
        "collapsed": false
      },
      "outputs": [
        {
          "name": "stdout",
          "output_type": "stream",
          "text": [
            "Requirement already satisfied (use --upgrade to upgrade): qgrid in c:\\python34_x64\\lib\\site-packages\n"
          ]
        },
        {
          "data": {
            "text/plain": [
              "0"
            ]
          },
          "execution_count": null,
          "metadata": {},
          "output_type": "execute_result"
        }
      ],
      "source": [
        "pip.main(\"install qgrid --no-deps\".split())"
      ]
    },
    {
      "cell_type": "markdown",
      "metadata": {},
      "source": [
        "### Upgrade"
      ]
    },
    {
      "cell_type": "code",
      "execution_count": null,
      "metadata": {
        "collapsed": false
      },
      "outputs": [
        {
          "name": "stdout",
          "output_type": "stream",
          "text": [
            "Requirement already up-to-date: qgrid in c:\\python34_x64\\lib\\site-packages\n"
          ]
        },
        {
          "data": {
            "text/plain": [
              "0"
            ]
          },
          "execution_count": null,
          "metadata": {},
          "output_type": "execute_result"
        }
      ],
      "source": [
        "pip.main(\"install qgrid --upgrade --no-deps\".split())"
      ]
    },
    {
      "cell_type": "markdown",
      "metadata": {},
      "source": [
        "### No cache\n",
        "\n",
        "By default, [pip](https://pypi.python.org/pypi/pip) uses cached version. So, if a module has just been updated, [pip](https://pypi.python.org/pypi/pip) might choose to use the previous version. To tell it not to do so:"
      ]
    },
    {
      "cell_type": "code",
      "execution_count": null,
      "metadata": {
        "collapsed": false
      },
      "outputs": [
        {
          "name": "stdout",
          "output_type": "stream",
          "text": [
            "Requirement already up-to-date: qgrid in c:\\python34_x64\\lib\\site-packages\n"
          ]
        },
        {
          "data": {
            "text/plain": [
              "0"
            ]
          },
          "execution_count": null,
          "metadata": {},
          "output_type": "execute_result"
        }
      ],
      "source": [
        "pip.main(\"install qgrid --upgrade --no-deps --no-cache-dir\".split())"
      ]
    },
    {
      "cell_type": "markdown",
      "metadata": {},
      "source": [
        "## For the hackathon...\n",
        "\n",
        "``pip.main(\"install pyquickhelper pyensae ensae_projects --upgrade --no-deps --no-cache-dir\".split())``"
      ]
    },
    {
      "cell_type": "code",
      "execution_count": null,
      "metadata": {
        "collapsed": true
      },
      "outputs": [],
      "source": []
    }
  ],
  "metadata": {
    "kernelspec": {
      "display_name": "Python 3",
      "language": "python",
      "name": "python3"
    },
    "language_info": {
      "codemirror_mode": {
        "name": "ipython",
        "version": 3
      },
      "file_extension": ".py",
      "mimetype": "text/x-python",
      "name": "python",
      "nbconvert_exporter": "python",
      "pygments_lexer": "ipython3",
      "version": "3.4.3"
    }
  },
  "nbformat": 4,
  "nbformat_minor": 0
}