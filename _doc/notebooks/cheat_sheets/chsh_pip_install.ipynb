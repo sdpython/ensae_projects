{
  "cells": [
    {
      "cell_type": "markdown",
      "metadata": {},
      "source": [
        "# Pip install from a notebook\n",
        "\n",
        "How to install a module from a notebook."
      ]
    },
    {
      "cell_type": "code",
      "execution_count": 1,
      "metadata": {},
      "outputs": [
        {
          "data": {
            "text/html": [
              "<div id=\"my_id_menu_nb\">run previous cell, wait for 2 seconds</div>\n",
              "<script>\n",
              "function repeat_indent_string(n){\n",
              "    var a = \"\" ;\n",
              "    for ( ; n > 0 ; --n)\n",
              "        a += \"    \";\n",
              "    return a;\n",
              "}\n",
              "// look up into all sections and builds an automated menu //\n",
              "var update_menu_string = function(begin, lfirst, llast, sformat, send, keep_item, begin_format, end_format) {\n",
              "    var anchors = document.getElementsByClassName(\"section\");\n",
              "    if (anchors.length == 0) {\n",
              "        anchors = document.getElementsByClassName(\"text_cell_render rendered_html\");\n",
              "    }\n",
              "    var i,t;\n",
              "    var text_menu = begin;\n",
              "    var text_memo = \"<pre>\\nlength:\" + anchors.length + \"\\n\";\n",
              "    var ind = \"\";\n",
              "    var memo_level = 1;\n",
              "    var href;\n",
              "    var tags = [];\n",
              "    var main_item = 0;\n",
              "    var format_open = 0;\n",
              "    for (i = 0; i <= llast; i++)\n",
              "        tags.push(\"h\" + i);\n",
              "\n",
              "    for (i = 0; i < anchors.length; i++) {\n",
              "        text_memo += \"**\" + anchors[i].id + \"--\\n\";\n",
              "\n",
              "        var child = null;\n",
              "        for(t = 0; t < tags.length; t++) {\n",
              "            var r = anchors[i].getElementsByTagName(tags[t]);\n",
              "            if (r.length > 0) {\n",
              "child = r[0];\n",
              "break;\n",
              "            }\n",
              "        }\n",
              "        if (child == null) {\n",
              "            text_memo += \"null\\n\";\n",
              "            continue;\n",
              "        }\n",
              "        if (anchors[i].hasAttribute(\"id\")) {\n",
              "            // when converted in RST\n",
              "            href = anchors[i].id;\n",
              "            text_memo += \"#1-\" + href;\n",
              "            // passer \u00e0 child suivant (le chercher)\n",
              "        }\n",
              "        else if (child.hasAttribute(\"id\")) {\n",
              "            // in a notebook\n",
              "            href = child.id;\n",
              "            text_memo += \"#2-\" + href;\n",
              "        }\n",
              "        else {\n",
              "            text_memo += \"#3-\" + \"*\" + \"\\n\";\n",
              "            continue;\n",
              "        }\n",
              "        var title = child.textContent;\n",
              "        var level = parseInt(child.tagName.substring(1,2));\n",
              "\n",
              "        text_memo += \"--\" + level + \"?\" + lfirst + \"--\" + title + \"\\n\";\n",
              "\n",
              "        if ((level < lfirst) || (level > llast)) {\n",
              "            continue ;\n",
              "        }\n",
              "        if (title.endsWith('\u00b6')) {\n",
              "            title = title.substring(0,title.length-1).replace(\"<\", \"&lt;\")\n",
              "         .replace(\">\", \"&gt;\").replace(\"&\", \"&amp;\");\n",
              "        }\n",
              "        if (title.length == 0) {\n",
              "            continue;\n",
              "        }\n",
              "\n",
              "        while (level < memo_level) {\n",
              "            text_menu += end_format + \"</ul>\\n\";\n",
              "            format_open -= 1;\n",
              "            memo_level -= 1;\n",
              "        }\n",
              "        if (level == lfirst) {\n",
              "            main_item += 1;\n",
              "        }\n",
              "        if (keep_item != -1 && main_item != keep_item + 1) {\n",
              "            // alert(main_item + \" - \" + level + \" - \" + keep_item);\n",
              "            continue;\n",
              "        }\n",
              "        while (level > memo_level) {\n",
              "            text_menu += \"<ul>\\n\";\n",
              "            memo_level += 1;\n",
              "        }\n",
              "        text_menu += repeat_indent_string(level-2);\n",
              "        text_menu += begin_format + sformat.replace(\"__HREF__\", href).replace(\"__TITLE__\", title);\n",
              "        format_open += 1;\n",
              "    }\n",
              "    while (1 < memo_level) {\n",
              "        text_menu += end_format + \"</ul>\\n\";\n",
              "        memo_level -= 1;\n",
              "        format_open -= 1;\n",
              "    }\n",
              "    text_menu += send;\n",
              "    //text_menu += \"\\n\" + text_memo;\n",
              "\n",
              "    while (format_open > 0) {\n",
              "        text_menu += end_format;\n",
              "        format_open -= 1;\n",
              "    }\n",
              "    return text_menu;\n",
              "};\n",
              "var update_menu = function() {\n",
              "    var sbegin = \"\";\n",
              "    var sformat = '<a href=\"#__HREF__\">__TITLE__</a>';\n",
              "    var send = \"\";\n",
              "    var begin_format = '<li>';\n",
              "    var end_format = '</li>';\n",
              "    var keep_item = -1;\n",
              "    var text_menu = update_menu_string(sbegin, 2, 4, sformat, send, keep_item,\n",
              "       begin_format, end_format);\n",
              "    var menu = document.getElementById(\"my_id_menu_nb\");\n",
              "    menu.innerHTML=text_menu;\n",
              "};\n",
              "window.setTimeout(update_menu,2000);\n",
              "            </script>"
            ],
            "text/plain": [
              "<IPython.core.display.HTML object>"
            ]
          },
          "execution_count": 2,
          "metadata": {},
          "output_type": "execute_result"
        }
      ],
      "source": [
        "from jyquickhelper import add_notebook_menu\n",
        "add_notebook_menu()"
      ]
    },
    {
      "cell_type": "markdown",
      "metadata": {},
      "source": [
        "## Update or install a module from the notebook\n",
        "\n",
        "Running ``pip install`` from the command line requires to be in the right folder. And sometimes, several python installations interfere between each others. Why doing it from the notebook itself:"
      ]
    },
    {
      "cell_type": "code",
      "execution_count": 2,
      "metadata": {},
      "outputs": [],
      "source": [
        "try:\n",
        "    # pip >= 10.0\n",
        "    from pip._internal import main as pip_main\n",
        "except Exception:\n",
        "    # pip < 10.0\n",
        "    from pip import main as pip_main"
      ]
    },
    {
      "cell_type": "code",
      "execution_count": 3,
      "metadata": {
        "scrolled": false
      },
      "outputs": [
        {
          "name": "stderr",
          "output_type": "stream",
          "text": [
            "zeroconf 0.19.1 requires enum-compat, which is not installed.\n",
            "zarr 2.2.0 requires asciitree, which is not installed.\n",
            "typecheck-decorator 1.3 requires typing, which is not installed.\n",
            "tensorflow 1.7.0 requires astor>=0.6.0, which is not installed.\n",
            "tensorflow 1.7.0 requires gast>=0.2.0, which is not installed.\n",
            "tensorflow 1.7.0 requires grpcio>=1.8.6, which is not installed.\n",
            "tensorflow 1.7.0 requires tensorboard<1.8.0,>=1.7.0, which is not installed.\n",
            "streamparse 3.13.1 requires texttable, which is not installed.\n",
            "spyder 3.2.8 requires rope>=0.10.5, which is not installed.\n",
            "skll 1.5.2 requires PrettyTable, which is not installed.\n",
            "scoop 0.7.1.1 requires argparse>=1.1, which is not installed.\n",
            "orange3 3.12.0 requires keyrings.alt, which is not installed.\n",
            "orange3-text 0.3.0 requires typing, which is not installed.\n",
            "orange3-imageanalytics 0.2.0 requires hypertemp, which is not installed.\n",
            "lz4 1.0.0 requires deprecation, which is not installed.\n",
            "lmfit 0.9.9 requires asteval, which is not installed.\n",
            "homeassistant 0.60.1 requires typing<4,>=3, which is not installed.\n",
            "grin 1.2.1 requires argparse>=1.1, which is not installed.\n",
            "geopy 1.13.0 requires geographiclib<2,>=1.49, which is not installed.\n",
            "fcn 6.3.0 requires chainercv, which is not installed.\n",
            "db-py 0.5.3 requires prettytable==0.7.2, which is not installed.\n",
            "arctic 1.62.0 requires enum34, which is not installed.\n",
            "zipline 1.1.1 has requirement bcolz<1,>=0.12.1, but you'll have bcolz 1.2.0 which is incompatible.\n",
            "zipline 1.1.1 has requirement pandas<0.19,>=0.18.1, but you'll have pandas 0.22.0 which is incompatible.\n",
            "tensorflow-tensorboard 1.5.1 has requirement bleach==1.5.0, but you'll have bleach 2.1.3 which is incompatible.\n",
            "tensorflow-tensorboard 1.5.1 has requirement html5lib==0.9999999, but you'll have html5lib 1.0.1 which is incompatible.\n",
            "spyder 3.2.8 has requirement pyqt5<5.10; python_version >= \"3\", but you'll have pyqt5 5.10.1 which is incompatible.\n",
            "spacy 2.0.9 has requirement ftfy<5.0.0,>=4.4.2, but you'll have ftfy 5.3.0 which is incompatible.\n",
            "spacy 2.0.9 has requirement html5lib==1.0b8, but you'll have html5lib 1.0.1 which is incompatible.\n",
            "spacy 2.0.9 has requirement msgpack-numpy==0.4.1, but you'll have msgpack-numpy 0.4.3 which is incompatible.\n",
            "spacy 2.0.9 has requirement msgpack-python==0.5.4, but you'll have msgpack-python 0.5.1 which is incompatible.\n",
            "spacy 2.0.9 has requirement regex==2017.4.5, but you'll have regex 2018.2.21 which is incompatible.\n",
            "recommonmark 0.4.0 has requirement commonmark<=0.5.4, but you'll have commonmark 0.7.5 which is incompatible.\n",
            "nb-mermaid 0.1.0 has requirement IPython<4.0,>3.0, but you'll have ipython 6.3.1 which is incompatible.\n",
            "mezzanine 4.2.3 has requirement django<1.11,>=1.8, but you'll have django 2.0.4 which is incompatible.\n",
            "luigi 2.7.5 has requirement tornado<5,>=4.0, but you'll have tornado 5.0.1 which is incompatible.\n",
            "hyper 0.7.0 has requirement h2<3.0,>=2.4, but you'll have h2 3.0.1 which is incompatible.\n",
            "hyper 0.7.0 has requirement hyperframe<4.0,>=3.2, but you'll have hyperframe 5.1.0 which is incompatible.\n",
            "homeassistant 0.60.1 has requirement aiohttp==2.3.6, but you'll have aiohttp 2.3.7 which is incompatible.\n",
            "homeassistant 0.60.1 has requirement yarl==0.16.0, but you'll have yarl 0.17.0 which is incompatible.\n",
            "flake8 3.5.0 has requirement pycodestyle<2.4.0,>=2.0.0, but you'll have pycodestyle 2.4.0 which is incompatible.\n",
            "django-userena 2.0.1 has requirement django-guardian<=1.4.1, but you'll have django-guardian 1.4.9 which is incompatible.\n",
            "django-userena 2.0.1 has requirement html2text==2014.12.29, but you'll have html2text 2018.1.9 which is incompatible.\n",
            "django-celery 3.2.2 has requirement celery<4.0,>=3.1.15, but you'll have celery 4.1.0 which is incompatible.\n",
            "django-audiotracks 0.2.4 has requirement mutagenx==1.22, but you'll have mutagenx 1.24 which is incompatible.\n",
            "coremltools 0.8 has requirement six==1.10.0, but you'll have six 1.11.0 which is incompatible.\n",
            "cobra 0.9.1 has requirement ruamel.yaml<0.15, but you'll have ruamel-yaml 0.15.37 which is incompatible.\n",
            "botocore 1.10.4 has requirement python-dateutil<2.7.0,>=2.1, but you'll have python-dateutil 2.7.2 which is incompatible.\n",
            "azure-mgmt 2.0.0 has requirement azure-mgmt-authorization~=0.30.0, but you'll have azure-mgmt-authorization 0.40.0 which is incompatible.\n",
            "azure-mgmt 2.0.0 has requirement azure-mgmt-batchai~=0.2.0, but you'll have azure-mgmt-batchai 1.0.0 which is incompatible.\n",
            "azure-mgmt 2.0.0 has requirement azure-mgmt-billing~=0.1.0, but you'll have azure-mgmt-billing 0.2.0 which is incompatible.\n",
            "azure-mgmt 2.0.0 has requirement azure-mgmt-containerinstance~=0.3.1, but you'll have azure-mgmt-containerinstance 0.4.0 which is incompatible.\n",
            "azure-mgmt 2.0.0 has requirement azure-mgmt-datafactory~=0.4.0, but you'll have azure-mgmt-datafactory 0.6.0 which is incompatible.\n",
            "azure-mgmt 2.0.0 has requirement azure-mgmt-datalake-analytics~=0.3.0, but you'll have azure-mgmt-datalake-analytics 0.4.0 which is incompatible.\n",
            "azure-mgmt 2.0.0 has requirement azure-mgmt-datalake-store~=0.3.0, but you'll have azure-mgmt-datalake-store 0.4.0 which is incompatible.\n",
            "azure-mgmt 2.0.0 has requirement azure-mgmt-monitor~=0.4.0, but you'll have azure-mgmt-monitor 0.5.0 which is incompatible.\n",
            "azure-mgmt 2.0.0 has requirement azure-mgmt-rdbms~=0.1.0, but you'll have azure-mgmt-rdbms 1.1.0 which is incompatible.\n",
            "azure-mgmt 2.0.0 has requirement azure-mgmt-subscription~=0.1.0, but you'll have azure-mgmt-subscription 0.2.0 which is incompatible.\n",
            "azure-mgmt 2.0.0 has requirement azure-mgmt-web~=0.34.1, but you'll have azure-mgmt-web 0.35.0 which is incompatible.\n",
            "altair 1.2.1 has requirement vega==0.4.4, but you'll have vega 0.5.0 which is incompatible.\n",
            "releases 1.4.1 has requirement sphinx<1.7,>=1.3, but you'll have sphinx 1.7.2 which is incompatible.\n"
          ]
        },
        {
          "data": {
            "text/plain": [
              "0"
            ]
          },
          "execution_count": 4,
          "metadata": {},
          "output_type": "execute_result"
        }
      ],
      "source": [
        "pip_main(\"install -q qgrid\".split())"
      ]
    },
    {
      "cell_type": "markdown",
      "metadata": {},
      "source": [
        "## Interesting options"
      ]
    },
    {
      "cell_type": "markdown",
      "metadata": {},
      "source": [
        "### Avoid installing dependencies"
      ]
    },
    {
      "cell_type": "code",
      "execution_count": 4,
      "metadata": {},
      "outputs": [],
      "source": [
        "try:\n",
        "    pip_main(\"install -q qgrid --no-deps\".split())\n",
        "except Exception as e:\n",
        "    print(e)"
      ]
    },
    {
      "cell_type": "markdown",
      "metadata": {},
      "source": [
        "### Upgrade"
      ]
    },
    {
      "cell_type": "code",
      "execution_count": 5,
      "metadata": {},
      "outputs": [],
      "source": [
        "try:\n",
        "    pip_main(\"install -q qgrid --upgrade --no-deps\".split())\n",
        "except Exception as e:\n",
        "    print(e)"
      ]
    },
    {
      "cell_type": "markdown",
      "metadata": {},
      "source": [
        "### No cache\n",
        "\n",
        "By default, [pip](https://pypi.python.org/pypi/pip) uses cached version. So, if a module has just been updated, [pip](https://pypi.python.org/pypi/pip) might choose to use the previous version. To tell it not to do so:"
      ]
    },
    {
      "cell_type": "code",
      "execution_count": 6,
      "metadata": {},
      "outputs": [
        {
          "data": {
            "text/plain": [
              "0"
            ]
          },
          "execution_count": 7,
          "metadata": {},
          "output_type": "execute_result"
        }
      ],
      "source": [
        "pip_main(\"install -q qgrid --upgrade --no-deps --no-cache-dir\".split())"
      ]
    },
    {
      "cell_type": "markdown",
      "metadata": {},
      "source": [
        "## For the hackathon...\n",
        "\n",
        "``pip_main(\"install pyquickhelper pyensae ensae_projects --upgrade --no-deps --no-cache-dir\".split())``"
      ]
    },
    {
      "cell_type": "code",
      "execution_count": 7,
      "metadata": {},
      "outputs": [],
      "source": []
    },
    {
      "cell_type": "code",
      "execution_count": 8,
      "metadata": {},
      "outputs": [],
      "source": []
    }
  ],
  "metadata": {
    "kernelspec": {
      "display_name": "Python 3",
      "language": "python",
      "name": "python3"
    },
    "language_info": {
      "codemirror_mode": {
        "name": "ipython",
        "version": 3
      },
      "file_extension": ".py",
      "mimetype": "text/x-python",
      "name": "python",
      "nbconvert_exporter": "python",
      "pygments_lexer": "ipython3",
      "version": "3.6.4"
    }
  },
  "nbformat": 4,
  "nbformat_minor": 1
}