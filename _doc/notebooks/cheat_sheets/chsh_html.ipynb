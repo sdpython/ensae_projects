{
  "cells": [
    {
      "cell_type": "markdown",
      "metadata": {},
      "source": [
        "# Cheat Sheet on HTML\n",
        "\n",
        "Parse HTML and extract information."
      ]
    },
    {
      "cell_type": "code",
      "execution_count": null,
      "metadata": {},
      "outputs": [
        {
          "data": {
            "text/html": [
              "<div id=\"my_id_menu_nb\">run previous cell, wait for 2 seconds</div>\n",
              "<script>\n",
              "function repeat_indent_string(n){\n",
              "    var a = \"\" ;\n",
              "    for ( ; n > 0 ; --n)\n",
              "        a += \"    \";\n",
              "    return a;\n",
              "}\n",
              "var update_menu_string = function(begin, lfirst, llast, sformat, send, keep_item, begin_format, end_format) {\n",
              "    var anchors = document.getElementsByClassName(\"section\");\n",
              "    if (anchors.length == 0) {\n",
              "        anchors = document.getElementsByClassName(\"text_cell_render rendered_html\");\n",
              "    }\n",
              "    var i,t;\n",
              "    var text_menu = begin;\n",
              "    var text_memo = \"<pre>\\nlength:\" + anchors.length + \"\\n\";\n",
              "    var ind = \"\";\n",
              "    var memo_level = 1;\n",
              "    var href;\n",
              "    var tags = [];\n",
              "    var main_item = 0;\n",
              "    var format_open = 0;\n",
              "    for (i = 0; i <= llast; i++)\n",
              "        tags.push(\"h\" + i);\n",
              "\n",
              "    for (i = 0; i < anchors.length; i++) {\n",
              "        text_memo += \"**\" + anchors[i].id + \"--\\n\";\n",
              "\n",
              "        var child = null;\n",
              "        for(t = 0; t < tags.length; t++) {\n",
              "            var r = anchors[i].getElementsByTagName(tags[t]);\n",
              "            if (r.length > 0) {\n",
              "child = r[0];\n",
              "break;\n",
              "            }\n",
              "        }\n",
              "        if (child == null) {\n",
              "            text_memo += \"null\\n\";\n",
              "            continue;\n",
              "        }\n",
              "        if (anchors[i].hasAttribute(\"id\")) {\n",
              "            // when converted in RST\n",
              "            href = anchors[i].id;\n",
              "            text_memo += \"#1-\" + href;\n",
              "            // passer \u00e0 child suivant (le chercher)\n",
              "        }\n",
              "        else if (child.hasAttribute(\"id\")) {\n",
              "            // in a notebook\n",
              "            href = child.id;\n",
              "            text_memo += \"#2-\" + href;\n",
              "        }\n",
              "        else {\n",
              "            text_memo += \"#3-\" + \"*\" + \"\\n\";\n",
              "            continue;\n",
              "        }\n",
              "        var title = child.textContent;\n",
              "        var level = parseInt(child.tagName.substring(1,2));\n",
              "\n",
              "        text_memo += \"--\" + level + \"?\" + lfirst + \"--\" + title + \"\\n\";\n",
              "\n",
              "        if ((level < lfirst) || (level > llast)) {\n",
              "            continue ;\n",
              "        }\n",
              "        if (title.endsWith('\u00b6')) {\n",
              "            title = title.substring(0,title.length-1).replace(\"<\", \"&lt;\")\n",
              "         .replace(\">\", \"&gt;\").replace(\"&\", \"&amp;\");\n",
              "        }\n",
              "        if (title.length == 0) {\n",
              "            continue;\n",
              "        }\n",
              "\n",
              "        while (level < memo_level) {\n",
              "            text_menu += end_format + \"</ul>\\n\";\n",
              "            format_open -= 1;\n",
              "            memo_level -= 1;\n",
              "        }\n",
              "        if (level == lfirst) {\n",
              "            main_item += 1;\n",
              "        }\n",
              "        if (keep_item != -1 && main_item != keep_item + 1) {\n",
              "            // alert(main_item + \" - \" + level + \" - \" + keep_item);\n",
              "            continue;\n",
              "        }\n",
              "        while (level > memo_level) {\n",
              "            text_menu += \"<ul>\\n\";\n",
              "            memo_level += 1;\n",
              "        }\n",
              "        text_menu += repeat_indent_string(level-2);\n",
              "        text_menu += begin_format + sformat.replace(\"__HREF__\", href).replace(\"__TITLE__\", title);\n",
              "        format_open += 1;\n",
              "    }\n",
              "    while (1 < memo_level) {\n",
              "        text_menu += end_format + \"</ul>\\n\";\n",
              "        memo_level -= 1;\n",
              "        format_open -= 1;\n",
              "    }\n",
              "    text_menu += send;\n",
              "    //text_menu += \"\\n\" + text_memo;\n",
              "\n",
              "    while (format_open > 0) {\n",
              "        text_menu += end_format;\n",
              "        format_open -= 1;\n",
              "    }\n",
              "    return text_menu;\n",
              "};\n",
              "var update_menu = function() {\n",
              "    var sbegin = \"\";\n",
              "    var sformat = '<a href=\"#__HREF__\">__TITLE__</a>';\n",
              "    var send = \"\";\n",
              "    var begin_format = '<li>';\n",
              "    var end_format = '</li>';\n",
              "    var keep_item = -1;\n",
              "    var text_menu = update_menu_string(sbegin, 2, 4, sformat, send, keep_item,\n",
              "       begin_format, end_format);\n",
              "    var menu = document.getElementById(\"my_id_menu_nb\");\n",
              "    menu.innerHTML=text_menu;\n",
              "};\n",
              "window.setTimeout(update_menu,2000);\n",
              "            </script>"
            ],
            "text/plain": [
              "<IPython.core.display.HTML object>"
            ]
          },
          "execution_count": null,
          "metadata": {},
          "output_type": "execute_result"
        }
      ],
      "source": [
        "from jyquickhelper import add_notebook_menu\n",
        "add_notebook_menu()"
      ]
    },
    {
      "cell_type": "markdown",
      "metadata": {},
      "source": [
        "## Parse with Python and convert it into JSON\n",
        "\n",
        "Inspired from [Convert HTML into JSON](http://www.xavierdupre.fr/blog/2013-10-27_nojs.html). We convet a page into JSON."
      ]
    },
    {
      "cell_type": "code",
      "execution_count": null,
      "metadata": {
        "collapsed": true
      },
      "outputs": [],
      "source": [
        "import html.parser\n",
        "\n",
        "class HTMLtoJSONParser(html.parser.HTMLParser):\n",
        "    def __init__(self, raise_exception = True) :\n",
        "        html.parser.HTMLParser.__init__(self)\n",
        "        self.doc  = { }\n",
        "        self.path = []\n",
        "        self.cur  = self.doc\n",
        "        self.line = 0\n",
        "        self.raise_exception = raise_exception\n",
        "         \n",
        "    @property\n",
        "    def json(self):\n",
        "        return self.doc\n",
        "         \n",
        "    @staticmethod\n",
        "    def to_json(content, raise_exception = True):\n",
        "        parser = HTMLtoJSONParser(raise_exception = raise_exception)\n",
        "        parser.feed(content)\n",
        "        return parser.json\n",
        "         \n",
        "    def handle_starttag(self, tag, attrs):\n",
        "        self.path.append(tag)\n",
        "        attrs = { k:v for k,v in attrs }\n",
        "        if tag in self.cur :\n",
        "            if isinstance(self.cur[tag],list) :\n",
        "                self.cur[tag].append(  { \"__parent__\": self.cur } )\n",
        "                self.cur = self.cur[tag][-1]\n",
        "            else :\n",
        "                self.cur[tag] = [ self.cur[tag] ]\n",
        "                self.cur[tag].append(  { \"__parent__\": self.cur } )\n",
        "                self.cur = self.cur[tag][-1]\n",
        "        else :\n",
        "            self.cur[tag] = { \"__parent__\": self.cur }\n",
        "            self.cur = self.cur[tag]\n",
        "             \n",
        "        for a, v in attrs.items():\n",
        "            self.cur[\"#\" + a] = v\n",
        "        self.cur[\"\"] = \"\"\n",
        "                 \n",
        "    def handle_endtag(self, tag):\n",
        "        if tag != self.path[-1] and self.raise_exception :\n",
        "            raise Exception(\"html is malformed around line: {0} (it might be because \" \\\n",
        "                            \"of a tag <br>, <hr>, <img .. > not closed)\".format(self.line))\n",
        "        del self.path[-1]\n",
        "        memo = self.cur\n",
        "        self.cur = self.cur[\"__parent__\"]\n",
        "        self.clean(memo)\n",
        "                 \n",
        "    def handle_data(self, data):\n",
        "        self.line += data.count(\"\\n\")\n",
        "        if \"\" in self.cur :\n",
        "            self.cur[\"\"] += data\n",
        "             \n",
        "    def clean(self, values):\n",
        "        keys = list(values.keys())\n",
        "        for k in keys:\n",
        "            v = values[k]\n",
        "            if isinstance(v, str) :\n",
        "                #print (\"clean\", k,[v])\n",
        "                c = v.strip(\" \\n\\r\\t\")\n",
        "                if c != v : \n",
        "                    if len(c) > 0 : \n",
        "                        values[k] = c\n",
        "                    else : \n",
        "                        del values[k]\n",
        "        del values[\"__parent__\"]"
      ]
    },
    {
      "cell_type": "markdown",
      "metadata": {},
      "source": [
        "The following [Informations surfaciques du PLU (doc. du 10.09.2010) de la commune de Bannay](https://www.data.gouv.fr/fr/datasets/informations-surfaciques-du-plu-doc-du-10-09-2010-de-la-commune-de-bannay/) contains some links we need to extract. We cache the page to avoid loading it again every time we run the script."
      ]
    },
    {
      "cell_type": "code",
      "execution_count": null,
      "metadata": {},
      "outputs": [],
      "source": [
        "import os\n",
        "cache = \"cache_content.html.bytes\"\n",
        "if not os.path.exists(cache):\n",
        "    import urllib.request\n",
        "    url = \"https://www.data.gouv.fr/fr/datasets/informations-surfaciques-du-plu-doc-du-10-09-2010-de-la-commune-de-bannay/\"\n",
        "    with urllib.request.urlopen(url) as response:\n",
        "       content = response.read()\n",
        "    with open(cache, \"wb\") as f:\n",
        "        f.write(content)\n",
        "else:\n",
        "    with open(cache, \"rb\") as f:\n",
        "        content = f.read()"
      ]
    },
    {
      "cell_type": "code",
      "execution_count": null,
      "metadata": {},
      "outputs": [
        {
          "data": {
            "text/plain": [
              "bytes"
            ]
          },
          "execution_count": null,
          "metadata": {},
          "output_type": "execute_result"
        }
      ],
      "source": [
        "type(content)"
      ]
    },
    {
      "cell_type": "markdown",
      "metadata": {},
      "source": [
        "We need to convert it into str. The encoding should utf-8."
      ]
    },
    {
      "cell_type": "code",
      "execution_count": null,
      "metadata": {},
      "outputs": [
        {
          "data": {
            "text/plain": [
              "str"
            ]
          },
          "execution_count": null,
          "metadata": {},
          "output_type": "execute_result"
        }
      ],
      "source": [
        "page = content.decode(\"utf-8\")\n",
        "type(page)"
      ]
    },
    {
      "cell_type": "markdown",
      "metadata": {},
      "source": [
        "We catch an error if there is any."
      ]
    },
    {
      "cell_type": "code",
      "execution_count": null,
      "metadata": {},
      "outputs": [
        {
          "name": "stdout",
          "output_type": "stream",
          "text": [
            "html is malformed around line: 66 (it might be because of a tag <br>, <hr>, <img .. > not closed)\n"
          ]
        }
      ],
      "source": [
        "try:\n",
        "    js = HTMLtoJSONParser.to_json(page)\n",
        "    error = False\n",
        "except Exception as e:\n",
        "    error = True\n",
        "    print(e)"
      ]
    },
    {
      "cell_type": "markdown",
      "metadata": {},
      "source": [
        "Let's see:"
      ]
    },
    {
      "cell_type": "code",
      "execution_count": null,
      "metadata": {},
      "outputs": [
        {
          "name": "stdout",
          "output_type": "stream",
          "text": [
            "040 <meta name=\"check-urls\" content=\"true\" />\n",
            "041 <meta name=\"check-urls-ignore\" content=\"%5B%5D\" />\n",
            "042 <meta name=\"territory-enabled\" content=\"true\">\n",
            "043 \n"
          ]
        }
      ],
      "source": [
        "if error:\n",
        "    lines = page.split(\"\\n\")\n",
        "    line = 42\n",
        "    around = 2\n",
        "    begin = max(0, line-around)\n",
        "    end = min(len(lines), line+around)\n",
        "    for i in range(begin, end):\n",
        "        print(\"%03d %s\" % (i, lines[i]))\n",
        "else:\n",
        "    print(\"No error.\")"
      ]
    },
    {
      "cell_type": "markdown",
      "metadata": {},
      "source": [
        "HTML format is very often malformed and browsers are used to it. That's why there exists module such as [beautifulsoup](https://www.crummy.com/software/BeautifulSoup/bs4/)."
      ]
    },
    {
      "cell_type": "markdown",
      "metadata": {},
      "source": [
        "## With beautifulsoup\n",
        "\n",
        "Very easy to extract all urls."
      ]
    },
    {
      "cell_type": "code",
      "execution_count": null,
      "metadata": {},
      "outputs": [],
      "source": [
        "from bs4 import BeautifulSoup\n",
        "soup = BeautifulSoup(content, 'html.parser')"
      ]
    },
    {
      "cell_type": "code",
      "execution_count": null,
      "metadata": {},
      "outputs": [
        {
          "data": {
            "text/plain": [
              "[<a class=\"navbar-brand\" href=\"/fr/\">Data.gouv.fr</a>,\n",
              " <a href=\"/fr/faq/\">D\u00e9couvrez l'OpenData</a>,\n",
              " <a href=\"/fr/faq/citizen/\">En tant que citoyen</a>,\n",
              " <a href=\"/fr/faq/producer/\">En tant que producteur</a>]"
            ]
          },
          "execution_count": null,
          "metadata": {},
          "output_type": "execute_result"
        }
      ],
      "source": [
        "url = list(soup.find_all(\"a\"))\n",
        "url[:4]"
      ]
    },
    {
      "cell_type": "markdown",
      "metadata": {},
      "source": [
        "About JSON, because I don't want to change my code too much, I use [prettify](https://www.crummy.com/software/BeautifulSoup/bs4/doc/) before calling the code above."
      ]
    },
    {
      "cell_type": "code",
      "execution_count": null,
      "metadata": {},
      "outputs": [],
      "source": [
        "with open(\"clean_content.html\", \"w\", encoding=\"utf-8\") as f:\n",
        "    f.write(soup.prettify())\n",
        "js = HTMLtoJSONParser.to_json(soup.prettify())"
      ]
    },
    {
      "cell_type": "markdown",
      "metadata": {},
      "source": [
        "Now, I use javascript to go through it."
      ]
    },
    {
      "cell_type": "code",
      "execution_count": null,
      "metadata": {},
      "outputs": [
        {
          "data": {
            "text/html": [
              "<div id=\"bd9d8526-6af3-4cf3-9295-6869e8bb19db\" style=\"height: 100%; width:100%;\"></div>\n",
              "<script>\n",
              "\n",
              "        require([\"https://rawgit.com/caldwell/renderjson/master/renderjson.js\"], function() {\n",
              "        document.getElementById('bd9d8526-6af3-4cf3-9295-6869e8bb19db').appendChild(renderjson({\"html\": {\"#lang\": \"fr\", \"head\": {\"meta\": [{\"#charset\": \"utf-8\", \"\": \"\"}, {\"#content\": \"Informations surfaciques du PLU (doc. du 10.09.2010) de la commune de Bannay - Data.gouv.fr\", \"#property\": \"og:title\", \"\": \"\"}, {\"#content\": \"Les informations surfaciques, lin\\u00e9aires ou ponctuelles \\u2026\", \"#name\": \"description\", \"\": \"\"}, {\"#content\": \"Les informations surfaciques, lin\\u00e9aires ou ponctuelles \\u2026\", \"#property\": \"og:description\", \"\": \"\"}, {\"#content\": \"https://www.data.gouv.fr/s/avatars/51/0102fba7ec46be99d5efe903c26aa1-100.png\", \"#property\": \"og:image\", \"\": \"\"}, {\"#content\": \"opendata, udata, jeu de donn\\u00e9es, donnees-ouvertes, passerelle-inspire, planning-cadastre, usage-des-sols\", \"#name\": \"keywords\", \"\": \"\"}, {\"#content\": \"/_themes/gouvfr/\", \"#name\": \"theme-static-root\", \"\": \"\"}, {\"#content\": \"/static/\", \"#name\": \"static-root\", \"\": \"\"}, {\"#content\": \"/api/1/\", \"#name\": \"api-root\", \"\": \"\"}, {\"#content\": \"/fr/admin/\", \"#name\": \"admin-root\", \"\": \"\"}, {\"#content\": \"https://www.data.gouv.fr/api/1/swagger.json\", \"#name\": \"api-specs\", \"\": \"\"}, {\"#content\": \"/fr/login\", \"#name\": \"auth-url\", \"\": \"\"}, {\"#content\": \"https://github.com/etalab/udata\", \"#name\": \"github\", \"\": \"\"}, {\"#content\": \"https://c6623f611eea494aaa3be1d4deb63384@sentry.data.gouv.fr/3\", \"#data-release\": \"\", \"#data-tags\": \"%7B%22udata%22%3A%20%221.0.11%22%2C%20%22udata_gouvfr%22%3A%20%221.0.9%22%2C%20%22udata_piwik%22%3A%20%220.9.1%22%2C%20%22udata_youckan%22%3A%20%221.0.0%22%7D\", \"#name\": \"sentry\", \"\": \"\"}, {\"#content\": \"1503610502##24b5e72ea7b85a3dd5983a08b822f50b9616c05d\", \"#name\": \"csrf-token\", \"\": \"\"}, {\"#content\": \"Data.gouv.fr\", \"#name\": \"site-title\", \"\": \"\"}, {\"#content\": \"#notifications-container\", \"#name\": \"notify-in\", \"\": \"\"}, {\"#content\": \"true\", \"#name\": \"check-urls\", \"\": \"\"}, {\"#content\": \"%5B%5D\", \"#name\": \"check-urls-ignore\", \"\": \"\"}, {\"#content\": \"true\", \"#name\": \"territory-enabled\", \"\": \"\"}, {\"#content\": \"false\", \"#name\": \"delete-me-enabled\", \"\": \"\"}, {\"#content\": \"width=device-width, initial-scale=1.0\", \"#name\": \"viewport\", \"\": \"\"}], \"title\": {\"\": \"Informations surfaciques du PLU (doc. du 10.09.2010) de la commune de Bannay - Data.gouv.fr\"}, \"link\": [{\"#href\": \"http://www.etalab.gouv.fr/\", \"#rel\": \"author\", \"\": \"\"}, {\"#href\": \"/en/datasets/informations-surfaciques-du-plu-doc-du-10-09-2010-de-la-commune-de-bannay/\", \"#hreflang\": \"en\", \"#rel\": \"alternate\", \"\": \"\"}, {\"#href\": \"/es/datasets/informations-surfaciques-du-plu-doc-du-10-09-2010-de-la-commune-de-bannay/\", \"#hreflang\": \"es\", \"#rel\": \"alternate\", \"\": \"\"}, {\"#href\": \"/static/common.css?_=1.0.11\", \"#rel\": \"stylesheet\", \"\": \"\"}, {\"#href\": \"/static/dataset.css?_=1.0.11\", \"#rel\": \"stylesheet\", \"\": \"\"}, {\"#href\": \"/_themes/gouvfr/theme.css?_=1.0.9\", \"#rel\": \"stylesheet\", \"\": \"\"}, {\"#href\": \"/fr/datasets/recent.atom\", \"#rel\": \"alternate\", \"#title\": \"Jeux de donn\\u00e9es recents\", \"#type\": \"application/atom+xml\", \"link\": {\"#href\": \"/fr/reuses/recent.atom\", \"#rel\": \"alternate\", \"#title\": \"R\\u00e9utilisations r\\u00e9centes\", \"#type\": \"application/atom+xml\", \"link\": {\"#href\": \"/fr/datasets/informations-surfaciques-du-plu-doc-du-10-09-2010-de-la-commune-de-bannay/\", \"#rel\": \"canonical\", \"link\": {\"#href\": \"/_themes/gouvfr/img/favicon.png?_=1.0.9\", \"#rel\": \"shortcut icon\", \"\": \"\"}}}}], \"script\": {\"#id\": \"json_ld\", \"#type\": \"application/ld+json\", \"\": \"{\\\"@context\\\": \\\"http://schema.org\\\", \\\"@id\\\": \\\"56eedd5188ee380ac8908574\\\", \\\"@type\\\": \\\"Dataset\\\", \\\"alternateName\\\": \\\"informations-surfaciques-du-plu-doc-du-10-09-2010-de-la-commune-de-bannay\\\", \\\"author\\\": {\\\"@context\\\": \\\"http://schema.org\\\", \\\"@type\\\": \\\"Organization\\\", \\\"alternateName\\\": \\\"direction-departementale-des-territoires-du-cher\\\", \\\"description\\\": \\\"Direction D\\\\u00e9partementale des Territoires du Cher\\\", \\\"logo\\\": \\\"https://www.data.gouv.fr/s/avatars/51/0102fba7ec46be99d5efe903c26aa1-100.png\\\", \\\"name\\\": \\\"Direction D\\\\u00e9partementale des Territoires du Cher\\\", \\\"url\\\": \\\"https://www.data.gouv.fr/fr/organizations/direction-departementale-des-territoires-du-cher/\\\"}, \\\"contributedDistribution\\\": [], \\\"dateCreated\\\": \\\"2016-03-20T18:26:41.217000\\\", \\\"dateModified\\\": \\\"2017-06-22T13:54:59.573000\\\", \\\"description\\\": \\\"Les informations surfaciques, lin\\\\u00e9aires ou ponctuelles figurant sur les documents graphiques d'un document d'urbanisme PLU ou POS sont ajout\\\\u00e9es soit pour des raisons r\\\\u00e8glementaires, soit \\\\u00e0 titre d'information : - les informations qui sont \\\\u00e0 annexer aux documents d'urbanisme conform\\\\u00e9ment aux articles R123-13 et R123-14 du code de l'urbanisme,- les informations report\\\\u00e9es sur les documents graphiques \\\\u00e0 titre d'information. Origine Une information surfacique, lin\\\\u00e9aire ou ponctuelle est repr\\\\u00e9sent\\\\u00e9e sur le document graphique du PLU ou POS. Sa g\\\\u00e9om\\\\u00e9trie est g\\\\u00e9n\\\\u00e9ralement obtenue par num\\\\u00e9risation des figur\\\\u00e9s dessin\\\\u00e9s en surcharge du plan de zonage r\\\\u00e8glementaire. La table g\\\\u00e9ographique r\\\\u00e9sultante doit contenir tous les objets g\\\\u00e9ographiques \\\\u00e0 caract\\\\u00e8re informatif du document d'urbanisme. Organisations partenaires DDT Cher Liens annexes Vue HTML des m\\\\u00e9tadonn\\\\u00e9es sur internet Vue XML des m\\\\u00e9tadonn\\\\u00e9es Standard de donn\\\\u00e9es COVADIS : P\\\\u00e9rim\\\\u00e8tre informatif d'un PLU Acc\\\\u00e8s au service de t\\\\u00e9l\\\\u00e9chargement simple du jeu et des documents associ\\\\u00e9s \\\\u279e Consulter cette fiche sur inspire.data.gouv.fr\\\", \\\"distribution\\\": [{\\\"@id\\\": \\\"ea1b4282-257f-4203-9751-70712af417be\\\", \\\"@type\\\": \\\"DataDownload\\\", \\\"contentUrl\\\": \\\"http://atom.geo-ide.developpement-durable.gouv.fr/atomArchive/GetResource?id=76023a90-6413-48a9-990c-de8223a156a1&dataType=dataset\\\", \\\"dateCreated\\\": \\\"2017-06-22T13:54:59.583000\\\", \\\"dateModified\\\": \\\"2017-06-22T13:54:59.583000\\\", \\\"datePublished\\\": \\\"2017-06-22T13:54:59.583000\\\", \\\"encodingFormat\\\": \\\"ZIP\\\", \\\"interactionStatistic\\\": {\\\"@type\\\": \\\"InteractionCounter\\\", \\\"interactionType\\\": {\\\"@type\\\": \\\"DownloadAction\\\"}, \\\"userInteractionCount\\\": 0}, \\\"name\\\": \\\"Archive compl\\\\u00e8te\\\", \\\"url\\\": \\\"https://www.data.gouv.fr/fr/datasets/r/ea1b4282-257f-4203-9751-70712af417be\\\"}, {\\\"@id\\\": \\\"014954a2-1ab7-4b20-9d35-109dc4e87970\\\", \\\"@type\\\": \\\"DataDownload\\\", \\\"contentUrl\\\": \\\"https://inspire.data.gouv.fr/api/geogw/file-packages/d4d6c6245a0a2f3745b36682a8de20d9e126e98e/download?format=GeoJSON&projection=WGS84\\\", \\\"dateCreated\\\": \\\"2017-06-22T13:54:59.584000\\\", \\\"dateModified\\\": \\\"2017-06-22T13:54:59.584000\\\", \\\"datePublished\\\": \\\"2017-06-22T13:54:59.584000\\\", \\\"description\\\": \\\"Conversion \\\\u00e0 la vol\\\\u00e9e au format GeoJSON\\\", \\\"encodingFormat\\\": \\\"JSON\\\", \\\"interactionStatistic\\\": {\\\"@type\\\": \\\"InteractionCounter\\\", \\\"interactionType\\\": {\\\"@type\\\": \\\"DownloadAction\\\"}, \\\"userInteractionCount\\\": 0}, \\\"name\\\": \\\"N_INFO_SURF_18020_018.TAB (export GeoJSON)\\\", \\\"url\\\": \\\"https://www.data.gouv.fr/fr/datasets/r/014954a2-1ab7-4b20-9d35-109dc4e87970\\\"}, {\\\"@id\\\": \\\"13bdec08-89bc-4d16-99b2-203a8276f44f\\\", \\\"@type\\\": \\\"DataDownload\\\", \\\"contentUrl\\\": \\\"https://inspire.data.gouv.fr/api/geogw/file-packages/d4d6c6245a0a2f3745b36682a8de20d9e126e98e/download?format=SHP&projection=WGS84\\\", \\\"dateCreated\\\": \\\"2017-06-22T13:54:59.585000\\\", \\\"dateModified\\\": \\\"2017-06-22T13:54:59.585000\\\", \\\"datePublished\\\": \\\"2017-06-22T13:54:59.585000\\\", \\\"description\\\": \\\"Conversion \\\\u00e0 la vol\\\\u00e9e au format Shapefile (WGS-84)\\\", \\\"encodingFormat\\\": \\\"SHP\\\", \\\"interactionStatistic\\\": {\\\"@type\\\": \\\"InteractionCounter\\\", \\\"interactionType\\\": {\\\"@type\\\": \\\"DownloadAction\\\"}, \\\"userInteractionCount\\\": 0}, \\\"name\\\": \\\"N_INFO_SURF_18020_018.TAB (export SHP/WGS-84)\\\", \\\"url\\\": \\\"https://www.data.gouv.fr/fr/datasets/r/13bdec08-89bc-4d16-99b2-203a8276f44f\\\"}], \\\"extras\\\": [{\\\"@type\\\": \\\"http://schema.org/PropertyValue\\\", \\\"name\\\": \\\"geogw_recordId\\\", \\\"value\\\": \\\"feca72a63a0f13bd040ec402c8df1cea4220a1df\\\"}], \\\"keywords\\\": \\\"donnees-ouvertes,passerelle-inspire,planning-cadastre,usage-des-sols\\\", \\\"license\\\": \\\"https://www.etalab.gouv.fr/licence-ouverte-open-licence\\\", \\\"name\\\": \\\"Informations surfaciques du PLU (doc. du 10.09.2010) de la commune de Bannay\\\", \\\"url\\\": \\\"https://www.data.gouv.fr/fr/datasets/informations-surfaciques-du-plu-doc-du-10-09-2010-de-la-commune-de-bannay/\\\"}\"}}, \"body\": {\"#class\": \"dataset-display theme-default\", \"section\": [{\"#class\": \"header\", \"div\": {\"#class\": \"container\", \"nav\": {\"#class\": \"navbar navbar-default navbar-static-top\", \"header\": {\"#class\": \"navbar-header\", \"button\": {\"#class\": \"navbar-toggle\", \"#data-target\": \".navbar-collapse, .subnav-collapse, .sidebg-collapse\", \"#data-toggle\": \"collapse\", \"#type\": \"button\", \"span\": [{\"#class\": \"sr-only\", \"\": \"Navigation\"}, {\"#class\": \"icon-bar\"}, {\"#class\": \"icon-bar\"}, {\"#class\": \"icon-bar\"}]}, \"a\": {\"#class\": \"navbar-brand\", \"#href\": \"/fr/\", \"\": \"Data.gouv.fr\"}, \"p\": {\"#class\": \"navbar-text pull-right\", \"\": \"Plateforme ouverte des donn\\u00e9es publiques fran\\u00e7aises\"}}}}}, {\"#class\": \"topmenu collapse navbar-collapse\", \"div\": {\"#class\": \"container\", \"nav\": {\"#class\": \"navbar navbar-default navbar-static-top\", \"ul\": [{\"#class\": \"nav navbar-nav links\", \"li\": [{\"#class\": \"dropdown dropdown-hover\", \"a\": {\"#href\": \"/fr/faq/\", \"\": \"D\\u00e9couvrez l'OpenData\"}, \"ul\": {\"#class\": \"dropdown-menu\", \"#role\": \"menu\", \"li\": [{\"a\": {\"#href\": \"/fr/faq/citizen/\", \"\": \"En tant que citoyen\"}}, {\"a\": {\"#href\": \"/fr/faq/producer/\", \"\": \"En tant que producteur\"}}, {\"a\": {\"#href\": \"/fr/faq/reuser/\", \"\": \"En tant que r\\u00e9utilisateur\"}}, {\"a\": {\"#href\": \"/fr/faq/developer/\", \"\": \"En tant que d\\u00e9veloppeur\"}}, {\"a\": {\"#href\": \"/fr/faq/system-integrator/\", \"\": \"En tant qu\\u2019int\\u00e9grateur\"}}]}}, {\"#class\": \"dropdown dropdown-hover\", \"a\": {\"#href\": \"/fr/datasets/\", \"\": \"Donn\\u00e9es\"}, \"ul\": {\"#class\": \"dropdown-menu\", \"#role\": \"menu\", \"li\": [{\"a\": {\"#href\": \"/fr/datasets/\", \"\": \"Jeux de donn\\u00e9es\"}}, {\"a\": {\"#href\": \"/fr/reuses/\", \"\": \"R\\u00e9utilisations\"}}, {\"a\": {\"#href\": \"/fr/organizations/\", \"\": \"Organisations\"}}]}}, {\"a\": {\"#href\": \"/fr/dashboard/\", \"\": \"Tableau de bord\"}}]}, {\"#class\": \"nav navbar-nav navbar-right\", \"li\": [{\"#class\": \"dropdown language\", \"button\": {\"#class\": \"btn btn-link dropdown-toggle\", \"#data-toggle\": \"dropdown\", \"img\": {\"#alt\": \"Current locale flag\", \"#height\": \"16\", \"#src\": \"/_themes/gouvfr/img/flags/fr.png?_=1.0.9\", \"#width\": \"16\", \"\": \"\"}}, \"ul\": {\"#class\": \"dropdown-menu\", \"li\": [{\"a\": {\"#href\": \"https://www.data.gouv.fr/fr/datasets/informations-surfaciques-du-plu-doc-du-10-09-2010-de-la-commune-de-bannay/\", \"\": \"Fran\\u00e7ais\", \"img\": {\"#alt\": \"Fran\\u00e7ais flag\", \"#height\": \"16\", \"#src\": \"/_themes/gouvfr/img/flags/fr.png?_=1.0.9\", \"#width\": \"16\", \"\": \"\"}}}, {\"a\": {\"#href\": \"https://www.data.gouv.fr/en/datasets/informations-surfaciques-du-plu-doc-du-10-09-2010-de-la-commune-de-bannay/\", \"\": \"English\", \"img\": {\"#alt\": \"English flag\", \"#height\": \"16\", \"#src\": \"/_themes/gouvfr/img/flags/en.png?_=1.0.9\", \"#width\": \"16\", \"\": \"\"}}}, {\"a\": {\"#href\": \"https://www.data.gouv.fr/es/datasets/informations-surfaciques-du-plu-doc-du-10-09-2010-de-la-commune-de-bannay/\", \"\": \"Espa\\u00f1ol\", \"img\": {\"#alt\": \"Espa\\u00f1ol flag\", \"#height\": \"16\", \"#src\": \"/_themes/gouvfr/img/flags/es.png?_=1.0.9\", \"#width\": \"16\", \"\": \"\"}}}]}}, {\"a\": {\"#href\": \"/fr/login?next=https%3A%2F%2Fwww.data.gouv.fr%2Ffr%2Fdatasets%2Finformations-surfaciques-du-plu-doc-du-10-09-2010-de-la-commune-de-bannay%2F\", \"#title\": \"Connexion / Inscription\", \"\": \"Connexion / Inscription\", \"span\": {\"#class\": \"glyphicon glyphicon-log-in\"}}}]}]}}}, {\"#id\": \"notifications-container\"}, {\"#class\": \"content noncertified\", \"div\": {\"#class\": \"container dataset-container\", \"div\": {\"#class\": \"row\", \"div\": {\"#class\": \"col-md-9 col-sm-9 smaller\", \"div\": [{\"#class\": \"page-header\", \"h2\": {\"\": \"Informations surfaciques du PLU (doc. du 10.09.2010) de la commune de Bannay\"}, \"div\": {\"#class\": \"row\", \"p\": {\"#class\": \"col-md-12\", \"small\": {}}}}, {\"#class\": \"row\", \"div\": {\"#class\": \"col-xs-12\", \"p\": [{\"\": \"Les informations surfaciques, lin\\u00e9aires ou ponctuelles figurant sur les documents graphiques d'un document d'urbanisme PLU ou POS sont ajout\\u00e9es soit pour des raisons r\\u00e8glementaires, soit \\u00e0 titre d'information : - les informations qui sont \\u00e0 annexer aux documents d'urbanisme conform\\u00e9ment aux articles R123-13 et R123-14 du code de l'urbanisme,- les informations report\\u00e9es sur les documents graphiques \\u00e0 titre d'information.\"}, {\"strong\": {\"\": \"Origine\"}}, {\"\": \"Une information surfacique, lin\\u00e9aire ou ponctuelle est repr\\u00e9sent\\u00e9e sur le document graphique du PLU ou POS. Sa g\\u00e9om\\u00e9trie est g\\u00e9n\\u00e9ralement obtenue par num\\u00e9risation des figur\\u00e9s dessin\\u00e9s en surcharge du plan de zonage r\\u00e8glementaire. La table g\\u00e9ographique r\\u00e9sultante doit contenir tous les objets g\\u00e9ographiques \\u00e0 caract\\u00e8re informatif du document d'urbanisme.\"}, {\"strong\": {\"\": \"Organisations partenaires\"}}, {\"\": \"DDT Cher\"}, {\"strong\": {\"\": \"Liens annexes\"}}, {\"\": \"\\u279e\", \"a\": {\"#href\": \"https://inspire.data.gouv.fr/datasets/feca72a63a0f13bd040ec402c8df1cea4220a1df\", \"#rel\": \"nofollow\", \"\": \"Consulter cette fiche sur inspire.data.gouv.fr\"}}], \"ul\": {\"li\": [{\"a\": {\"#href\": \"http://catalogue.geo-ide.developpement-durable.gouv.fr/catalogue/apps/search/?uuid=fr-120066022-jdd-9aa78605-d6ce-487f-b2b7-5e3cbd364cc3\", \"#rel\": \"nofollow\", \"\": \"Vue HTML des m\\u00e9tadonn\\u00e9es sur internet\"}}, {\"a\": {\"#href\": \"http://catalogue.geo-ide.developpement-durable.gouv.fr/catalogue/srv/fre/xml_iso19139?uuid=fr-120066022-jdd-9aa78605-d6ce-487f-b2b7-5e3cbd364cc3\", \"#rel\": \"nofollow\", \"\": \"Vue XML des m\\u00e9tadonn\\u00e9es\"}}, {\"a\": {\"#href\": \"http://geostandards.developpement-durable.gouv.fr/afficherPageStandard.do?jeu=N_INFO_SURF_ccccc\", \"#rel\": \"nofollow\", \"\": \"Standard de donn\\u00e9es COVADIS : P\\u00e9rim\\u00e8tre informatif d'un PLU\"}}, {\"a\": {\"#href\": \"http://atom.geo-ide.developpement-durable.gouv.fr/atomMetadata/GetResourceDescription?id=76023a90-6413-48a9-990c-de8223a156a1&scope=INTERNET\", \"#rel\": \"nofollow\", \"\": \"Acc\\u00e8s au service de t\\u00e9l\\u00e9chargement simple du jeu et des documents associ\\u00e9s\"}}]}}}, {\"#class\": \"list-group resources-list\", \"h3\": {\"\": \"Ressources\"}, \"div\": [{\"#@click\": \"showResource('ea1b4282-257f-4203-9751-70712af417be', $event, false)\", \"#class\": \"list-group-item\", \"#data-checkurl\": \"/api/1/datasets/checkurl/\", \"#id\": \"resource-ea1b4282-257f-4203-9751-70712af417be\", \"div\": {\"#class\": \"format-label pull-left ellipsis-dot\", \"#tooltip-placement\": \"left\", \"#v-tooltip\": \"\", \"span\": {\"#data-format\": \"zip\", \"\": \"zip\"}}, \"h4\": {\"#class\": \"list-group-item-heading ellipsis\", \"a\": {\"#href\": \"http://atom.geo-ide.developpement-durable.gouv.fr/atomArchive/GetResource?id=76023a90-6413-48a9-990c-de8223a156a1&dataType=dataset\", \"span\": {\"\": \"Archive compl\\u00e8te\"}}}, \"p\": {\"#class\": \"list-group-item-text ellipsis\", \"\": \"Derni\\u00e8re modification le jeudi 22 juin 2017\"}}, {\"#@click\": \"showResource('014954a2-1ab7-4b20-9d35-109dc4e87970', $event, false)\", \"#class\": \"list-group-item\", \"#data-checkurl\": \"/api/1/datasets/checkurl/\", \"#id\": \"resource-014954a2-1ab7-4b20-9d35-109dc4e87970\", \"div\": {\"#class\": \"format-label pull-left ellipsis-dot\", \"#tooltip-placement\": \"left\", \"#v-tooltip\": \"\", \"span\": {\"#data-format\": \"json\", \"\": \"json\"}}, \"h4\": {\"#class\": \"list-group-item-heading ellipsis\", \"a\": {\"#href\": \"https://inspire.data.gouv.fr/api/geogw/file-packages/d4d6c6245a0a2f3745b36682a8de20d9e126e98e/download?format=GeoJSON&projection=WGS84\", \"span\": {\"\": \"N_INFO_SURF_18020_018.TAB (export GeoJSON)\"}}}, \"p\": {\"#class\": \"list-group-item-text ellipsis\", \"\": \"Derni\\u00e8re modification le jeudi 22 juin 2017\"}}, {\"#@click\": \"showResource('13bdec08-89bc-4d16-99b2-203a8276f44f', $event, false)\", \"#class\": \"list-group-item\", \"#data-checkurl\": \"/api/1/datasets/checkurl/\", \"#id\": \"resource-13bdec08-89bc-4d16-99b2-203a8276f44f\", \"div\": {\"#class\": \"format-label pull-left ellipsis-dot\", \"#tooltip-placement\": \"left\", \"#v-tooltip\": \"\", \"span\": {\"#data-format\": \"shp\", \"\": \"shp\"}}, \"h4\": {\"#class\": \"list-group-item-heading ellipsis\", \"a\": {\"#href\": \"https://inspire.data.gouv.fr/api/geogw/file-packages/d4d6c6245a0a2f3745b36682a8de20d9e126e98e/download?format=SHP&projection=WGS84\", \"span\": {\"\": \"N_INFO_SURF_18020_018.TAB (export SHP/WGS-84)\"}}}, \"p\": {\"#class\": \"list-group-item-text ellipsis\", \"\": \"Derni\\u00e8re modification le jeudi 22 juin 2017\"}}]}, {\"#class\": \"row opinion\", \"div\": {\"#class\": \"btn-toolbar\", \"div\": [{\"#class\": \"btn-group btn-group-sm\", \"follow-button\": {\"#classes\": \"btn-primary\", \"#tooltip-placement\": \"top\", \"#url\": \"/api/1/datasets/56eedd5188ee380ac8908574/followers/\"}}, {\"#class\": \"btn-group btn-group-sm\", \"share-button\": {\"#title\": \"Informations surfaciques du PLU (doc. du 10.09.2010) de la commune de Bannay\", \"#url\": \"https://www.data.gouv.fr/fr/datasets/informations-surfaciques-du-plu-doc-du-10-09-2010-de-la-commune-de-bannay/\"}}, {\"#class\": \"btn-group btn-group-sm\", \"button\": {\"#class\": \"btn btn-primary btn-integrate\", \"#data-dataset-id\": \"56eedd5188ee380ac8908574\", \"#data-documentation-url\": \"/fr/faq/developer/#embed\", \"#data-site-url\": \"https://www.data.gouv.fr/\", \"#data-widget-url\": \"/static/widgets.js\", \"#title\": \"Int\\u00e9grer\", \"#tooltip-placement\": \"top\", \"#type\": \"button\", \"#v-tooltip\": \"\", \"span\": {\"#class\": \"fa fa-code\"}}}, {\"#class\": \"btn-group btn-group-sm\", \"button\": {\"#class\": \"btn btn-danger btn-issues\", \"#data-api-url\": \"/api/1/issues/?for=56eedd5188ee380ac8908574\", \"#data-subject-class\": \"Dataset\", \"#data-subject-id\": \"56eedd5188ee380ac8908574\", \"#title\": \"Anomalies\", \"#tooltip-placement\": \"top\", \"#type\": \"button\", \"#v-tooltip\": \"\", \"span\": [{\"#class\": \"fa fa-warning\"}, {\"#class\": \"count\"}]}}]}}]}, \"aside\": {\"#class\": \"col-md-3 col-sm-3\", \"div\": [{\"#class\": \"panel panel-default text-center\", \"div\": {\"#class\": \"panel-body\", \"h3\": {\"#class\": \"text-left\", \"\": \"Producteur\"}, \"a\": {\"#href\": \"https://www.data.gouv.fr/fr/organizations/direction-departementale-des-territoires-du-cher/\", \"#title\": \"Direction D\\u00e9partementale des Territoires du Cher\", \"img\": {\"#alt\": \"Direction D\\u00e9partementale des Territoires du Cher\", \"#class\": \"organization-logo producer img-responsive\", \"#src\": \"/s/avatars/51/0102fba7ec46be99d5efe903c26aa1.png\", \"\": \"\"}}, \"div\": {\"#class\": \"caption text-left\", \"p\": {\"\": \"Direction D\\u00e9partementale des Territoires du Cher\", \"a\": {\"#class\": \"btn btn-grey btn-primary btn-mini\", \"#href\": \"/fr/organizations/direction-departementale-des-territoires-du-cher/\", \"#title\": \"plus\", \"\": \"+\"}}, \"follow-button\": {\"#classes\": \"btn-block btn-sm btn-left btn-warning\", \"#tooltip\": \"Je serais inform\\u00e9 de l'activit\\u00e9 de cette organisation\", \"#url\": \"/api/1/organizations/56eed43ec751df31e5d6e93b/followers/\", \"#with-label\": \"\"}}}}, {\"#class\": \"panel panel-default\", \"div\": {\"#class\": \"panel-body\", \"h3\": {\"\": \"Informations\"}, \"ul\": {\"#class\": \"list-unstyled infos-list\", \"li\": [{\"a\": [{\"#class\": \"btn btn-default btn-xs\", \"#href\": \"\", \"#title\": \"Licence\", \"#v-tooltip\": \"\", \"span\": {\"#class\": \"glyphicon glyphicon-copyright-mark\"}}, {\"#href\": \"https://www.etalab.gouv.fr/licence-ouverte-open-licence\", \"\": \"Licence Ouverte / Open Licence\"}]}, {\"\": \"Inconnu\", \"a\": {\"#class\": \"btn btn-default btn-xs\", \"#href\": \"\", \"#title\": \"Fr\\u00e9quence\", \"#v-tooltip\": \"\", \"span\": {\"#class\": \"glyphicon glyphicon-duplicate\"}}}, {\"\": \"20 mars 2016\", \"a\": {\"#class\": \"btn btn-default btn-xs\", \"#href\": \"\", \"#title\": \"Date de cr\\u00e9ation\", \"#v-tooltip\": \"\", \"span\": {\"#class\": \"glyphicon glyphicon-time\"}}}, {\"\": \"22 juin 2017\", \"a\": {\"#class\": \"btn btn-default btn-xs\", \"#href\": \"\", \"#title\": \"Date de modification\", \"#v-tooltip\": \"\", \"span\": {\"#class\": \"glyphicon glyphicon-refresh\"}}}, {\"\": \"22 juin 2017\", \"a\": {\"#class\": \"btn btn-default btn-xs\", \"#href\": \"\", \"#title\": \"Derni\\u00e8re mise \\u00e0 jour de ressource\", \"#v-tooltip\": \"\", \"span\": {\"#class\": \"glyphicon glyphicon-save-file\"}}}]}, \"div\": {\"#class\": \"tags\", \"a\": [{\"#class\": \"btn btn-primary btn-grey btn-xs\", \"#href\": \"/fr/search/?tag=donnees-ouvertes\", \"#title\": \"donnees-ouvertes\", \"\": \"donnees-ouv...\"}, {\"#class\": \"btn btn-primary btn-grey btn-xs\", \"#href\": \"/fr/search/?tag=passerelle-inspire\", \"#title\": \"passerelle-inspire\", \"\": \"passerelle-...\"}, {\"#class\": \"btn btn-primary btn-grey btn-xs\", \"#href\": \"/fr/search/?tag=planning-cadastre\", \"#title\": \"planning-cadastre\", \"\": \"planning-ca...\"}, {\"#class\": \"btn btn-primary btn-grey btn-xs\", \"#href\": \"/fr/search/?tag=usage-des-sols\", \"#title\": \"usage-des-sols\", \"\": \"usage-des-sols\"}, {\"#@click\": \"suggestTag\", \"#class\": \"btn btn-primary btn-dark btn-xs suggest-tag\", \"#title\": \"Sugg\\u00e9rer un mot-cl\\u00e9 avec un nouveau fil de discussion\", \"#tooltip-placement\": \"right\", \"#v-tooltip\": \"\", \"\": \"Sugg\\u00e9rer un mot-cl\\u00e9\"}]}, \"button\": {\"#@click\": \"showDetails\", \"#class\": \"btn btn-primary btn-extras btn-block btn-sm icon-left\", \"#title\": \"D\\u00e9tails\", \"#type\": \"button\", \"\": \"D\\u00e9tails\", \"span\": {\"#class\": \"glyphicon glyphicon-info-sign\"}}}}]}}}}, {\"#class\": \"community_container\", \"header\": {\"div\": {\"#class\": \"container\", \"div\": [{\"#class\": \"cover-communaute\"}, {\"#class\": \"page-header\", \"h2\": {\"\": \"Contributions communautaires\"}, \"small\": {\"\": \"Explorer avec Data.gouv.fr\"}}]}}, \"div\": {\"#class\": \"container\", \"h3\": [{\"\": \"Discussions\"}, {\"\": \"Ressources communautaires\"}, {\"\": \"R\\u00e9utilisations\"}], \"div\": [{\"#class\": \"row\", \"discussion-threads\": {\"#class\": \"col-sm-9\", \"#subject-class\": \"Dataset\", \"#subject-id\": \"56eedd5188ee380ac8908574\", \"#v-ref:discussions\": \"\"}, \"div\": {\"#class\": \"col-sm-3 note\", \"p\": {\"\": \"Discussion entre l'organisation et la communaut\\u00e9 \\u00e0 propos de ce jeu de donn\\u00e9es.\"}}}, {\"#class\": \"row\", \"div\": [{\"#class\": \"col-sm-9 list-group resources-list smaller\", \"a\": {\"#class\": \"list-group-item add\", \"#href\": \"/fr/admin/community-resource/new/?dataset_id=56eedd5188ee380ac8908574\", \"div\": {\"#class\": \"format-label pull-left\", \"\": \"+\"}, \"h4\": {\"#class\": \"list-group-item-heading\", \"\": \"Nouvelle ressource communautaire\"}}}, {\"#class\": \"col-sm-3 note\", \"p\": {\"\": \"Vous avez construit une base de donn\\u00e9es plus compl\\u00e8te que celles pr\\u00e9sent\\u00e9es ici ? C'est le moment de la partager !\"}}]}, {\"#class\": \"row\", \"div\": [{\"#class\": \"col-sm-9 reuses-list smaller\", \"div\": {\"#class\": \"row\", \"div\": {\"#class\": \"col-sm-6 col-md-4\", \"a\": {\"#@click\": \"addReuse($event)\", \"#class\": \"thumbnail reuse add\", \"#href\": \"/fr/admin/reuse/new/?dataset_id=56eedd5188ee380ac8908574\", \"#v-el:add-reuse\": \"\", \"div\": [{\"#class\": \"preview\", \"\": \"+\"}, {\"#class\": \"caption\", \"h4\": {\"\": \"Ajouter une r\\u00e9utilisation\"}}]}}}}, {\"#class\": \"col-sm-3 note\", \"p\": {\"\": \"Vous avez r\\u00e9utilis\\u00e9 ces donn\\u00e9es et publi\\u00e9 un article, une infographie, ou une application ?\\nC'est le moment de vous faire conna\\u00eetre !\\nR\\u00e9f\\u00e9rencez votre travail en quelques clics et augmentez votre visibilit\\u00e9.\"}}]}]}}, {\"#class\": \"footer\", \"div\": {\"#class\": \"container\", \"footer\": {\"#class\": \"row\", \"section\": [{\"#class\": \"col-xs-6 col-sm-3 col-md-2 col-lg-2\", \"h5\": {\"\": \"L'Open Data\"}, \"ul\": {\"li\": [{\"a\": {\"#href\": \"/fr/faq/citizen/\", \"\": \"En tant que citoyen\"}}, {\"a\": {\"#href\": \"/fr/faq/producer/\", \"\": \"En tant que producteur\"}}, {\"a\": {\"#href\": \"/fr/faq/reuser/\", \"\": \"En tant que r\\u00e9utilisateur\"}}, {\"a\": {\"#href\": \"/fr/faq/developer/\", \"\": \"En tant que d\\u00e9veloppeur\"}}, {\"a\": {\"#href\": \"/fr/faq/system-integrator/\", \"\": \"En tant qu\\u2019int\\u00e9grateur\"}}, {\"a\": {\"#href\": \"/fr/reference\", \"\": \"Donn\\u00e9e de r\\u00e9f\\u00e9rence\"}}, {\"a\": {\"#href\": \"/fr/licences\", \"\": \"Licences\"}}, {\"a\": {\"#href\": \"/fr/apidoc/\", \"\": \"API\"}}, {\"a\": {\"#href\": \"/fr/credits/\", \"\": \"Cr\\u00e9dits\"}}, {\"a\": {\"#href\": \"/fr/terms/\", \"\": \"Conditions g\\u00e9n\\u00e9rales d'utilisation\"}}]}}, {\"#class\": \"col-xs-6 col-sm-3 col-md-2 col-lg-2\", \"h5\": {\"\": \"Th\\u00e9matiques\"}, \"ul\": {\"li\": [{\"a\": {\"#href\": \"/fr/topics/agriculture-et-alimentation/\", \"#title\": \"Agriculture et Alimentation\", \"\": \"Agriculture et Alimentation\"}}, {\"a\": {\"#href\": \"/fr/topics/culture/\", \"#title\": \"Culture\", \"\": \"Culture\"}}, {\"a\": {\"#href\": \"/fr/topics/economie-et-emploi/\", \"#title\": \"\\u00c9conomie et Emploi\", \"\": \"\\u00c9conomie et Emploi\"}}, {\"a\": {\"#href\": \"/fr/topics/education-et-recherche/\", \"#title\": \"\\u00c9ducation et Recherche\", \"\": \"\\u00c9ducation et Recherche\"}}, {\"a\": {\"#href\": \"/fr/topics/international-et-europe/\", \"#title\": \"International et Europe\", \"\": \"International et Europe\"}}, {\"a\": {\"#href\": \"/fr/topics/logement-developpement-durable-et-energie/\", \"#title\": \"Logement, D\\u00e9veloppement Durable et \\u00c9nergie\", \"\": \"Logement, D\\u00e9veloppement Durable et \\u00c9nergie\"}}, {\"a\": {\"#href\": \"/fr/topics/sante-et-social/\", \"#title\": \"Sant\\u00e9 et Social\", \"\": \"Sant\\u00e9 et Social\"}}, {\"a\": {\"#href\": \"/fr/topics/societe/\", \"#title\": \"Soci\\u00e9t\\u00e9\", \"\": \"Soci\\u00e9t\\u00e9\"}}, {\"a\": {\"#href\": \"/fr/topics/territoires-et-transports/\", \"#title\": \"Territoires, Transports, Tourisme\", \"\": \"Territoires, Transports, Tourisme\"}}]}}, {\"#class\": \"col-xs-6 col-sm-3 col-md-2 col-lg-2\", \"h5\": {\"\": \"R\\u00e9seau\"}, \"ul\": {\"li\": [{\"a\": {\"#href\": \"http://www.gouvernement.fr\", \"\": \"Gouvernement.fr\"}}, {\"a\": {\"#href\": \"http://www.france.fr\", \"\": \"France.fr\"}}, {\"a\": {\"#href\": \"http://www.legifrance.gouv.fr\", \"\": \"Legifrance.gouv.fr\"}}, {\"a\": {\"#href\": \"http://www.service-public.fr\", \"\": \"Service-public.fr\"}}, {\"a\": {\"#href\": \"http://opendatafrance.net\", \"\": \"Opendata France\"}}, {\"a\": {\"#href\": \"http://www.cada.fr\", \"\": \"CADA.fr\"}}, {\"a\": {\"#href\": \"https://www.etalab.gouv.fr\", \"\": \"Etalab.gouv.fr\"}}]}}, {\"#class\": \"col-xs-6 col-sm-3 col-md-4 col-lg-4 social\", \"h5\": {\"\": \"Contact\"}, \"a\": [{\"#href\": \"https://twitter.com/datagouvfr\", \"#title\": \"Twitter\", \"span\": {\"#class\": \"fa fa-twitter-square\"}}, {\"#href\": \"https://fb.me/etalab\", \"#title\": \"Facebook\", \"span\": {\"#class\": \"fa fa-facebook-square\"}}, {\"#href\": \"https://plus.google.com/117902389749487955734\", \"#title\": \"Google+\", \"span\": {\"#class\": \"fa fa-google-plus-square\"}}, {\"#href\": \"https://github.com/etalab\", \"#title\": \"github\", \"span\": {\"#class\": \"fa fa-github-square\"}}, {\"#href\": \"mailto:info%40data.gouv.fr\", \"span\": {\"#class\": \"fa fa-envelope-square\"}}, {\"#class\": \"feed-icon\", \"#data-content\": \"<a title=\\\"Jeux de donn\\u00e9es\\\" href=\\\"/fr/datasets/recent.atom\\\"><span class=\\\"fa fa-rss\\\"></span>Jeux de donn\\u00e9es</a><br/>\\n                    <a title=\\\"R\\u00e9utilisations\\\" href=\\\"/fr/reuses/recent.atom\\\"><span class=\\\"fa fa-rss\\\"></span>R\\u00e9utilisations</a>\", \"#data-html\": \"true\", \"#data-placement\": \"top\", \"#data-toggle\": \"popover\", \"#data-trigger\": \"focus\", \"#href\": \"#\", \"#tabindex\": \"-1\", \"#title\": \"Flux\", \"span\": {\"#class\": \"fa fa-rss-square\"}}]}, {\"#class\": \"col-xs-9 col-xs-offset-3 col-sm-offset-0 col-sm-2 col-md-2 col-lg-2\", \"a\": [{\"#href\": \"http://www.etalab.gouv.fr\", \"#title\": \"Aller sur le blog d'Etalab\", \"svg\": {\"#class\": \"logo\", \"#height\": \"82.125\", \"#version\": \"1.1\", \"#viewbox\": \"0 0 282.35001 82.125\", \"#width\": \"282.35001\", \"#xml:space\": \"preserve\", \"#xmlns\": \"http://www.w3.org/2000/svg\", \"#xmlns:svg\": \"http://www.w3.org/2000/svg\", \"style\": {\"\": \".s0{fill:#a2a2a3;}\"}, \"g\": {\"#transform\": \"matrix(1.25,0,0,-1.25,0,82.125)\", \"path\": [{\"#d\": \"m14.1527 27.0371c6.6653 0 8.6504 0.3602 9.3715 0.9024 0.2672 0.1804 0.5403 0.5402 0.5403 1.7117 0 2.5226-1.7125 5.6789-6.9379 5.6789-5.3184 0-9.91527-4.8688-10.00394-7.8418 0-0.1817 0-0.4512 0.63164-0.4512l6.3984 0zM8.56445 24.3348c-2.34414 0-2.4332-0.1805-2.4332-2.4344 0-9.1035 5.31525-16.85157 14.95665-16.85157 2.9766 0 5.5019 0.90156 8.2914 4.41484 0.9023 0.27071 1.5344-0.26953 1.6234-1.07969C28.032 2.25273 21.5391 0 16.8563 0 10.9949 0 6.40156 2.52227 3.78672 5.95039 1.08633 9.46367 0 13.6992 0 17.6641 0 28.7477 7.30313 38.032 18.1176 38.032c7.748 0 12.7961-5.3164 12.7961-10.7254 0-1.2605-0.1809-1.9804-0.3617-2.341-0.2704-0.5418-1.5286-0.6308-5.3153-0.6308l-16.67225 0M48.7551 32.9859c-1.5281 0-1.6172-0.2703-1.6172-2.1636l0-16.8535c0-5.22583 0.632-10.00396 6.5793-10.00396 0.8988 0 1.7062 0.18164 2.4332 0.45118 0.8101 0.27343 1.9824 1.26171 2.2496 1.26171 0.7211 0 1.0863-0.98828 0.9023-1.53125C57.6785 2.25273 54.4379 0 49.8383 0 42.0867 0 40.4668 4.32695 40.4668 9.73438l0 20.63672c0 2.4336-0.0859 2.6148-1.8875 2.6148l-2.5285 0c-0.5403 0.3618-0.6289 1.3528-0.2699 1.893 2.6113 0.8102 4.8699 1.9809 5.766 2.7938 1.1719 1.0789 2.8844 3.5125 3.7867 5.3164 0.4539 0.1812 1.534 0.1812 1.8934-0.4504l0-4.0559c0-1.623 0.0918-1.7117 1.6203-1.7117l10.0039 0c1.0801-0.8137 0.8988-3.2469 0.0886-3.7852l-10.1847 0M75.977 4.05742c1.7984 0 4.6 1.34961 5.496 2.25235 1.0801 1.08281 1.1723 2.34453 1.1723 4.23513l0.1813 5.3145c0 0.9941-0.3621 1.1719-0.9024 1.1719-0.5398 0-2.0742-0.3586-3.6976-0.9012-5.3149-1.7992-7.9297-3.1496-7.9297-6.66643 0-1.53398 1.0804-5.40625 5.6801-5.40625zM81.5621 19.916c1.3535 0.4512 1.4422 1.2656 1.5348 2.6145l0.0886 4.1461c0.0887 3.3371-0.9914 7.8418-6.5824 7.8418-2.5191 0-5.5851-1.2625-5.7656-4.0571-0.0895-1.4437-0.1781-2.5218-0.8965-3.064-1.3558-1.0821-3.7867-1.711-5.1398-1.711-0.8102 0-1.2645 0.4485-1.2645 1.2602 0 4.6859 10.1852 11.0855 16.7641 11.0855 6.4875 0 9.6422-3.7871 9.3722-10.5437L89.1328 11.8086c-0.1812-4.14844 0.6317-7.84376 4.1453-7.84376 0.9028 0 1.7157 0.27344 2.2555 0.54414 0.4453 0.26915 0.9023 0.62891 1.1727 0.62891 0.3558 0 0.632-0.54023 0.632-1.17305C97.3383 3.51758 94.1809 0 89.7645 0 87.598 0 85.4352 0.810547 83.9066 2.79883 83.5445 3.33594 83.0043 4.05742 82.4645 4.05742 81.832 4.05742 80.752 3.24727 78.9477 2.25273 76.9684 1.17266 74.9859 0 72.4605 0 69.8461 0 67.6824 0.724609 66.1543 2.07539 64.4391 3.60625 63.359 5.86133 63.359 8.38398c0 3.51642 1.7125 5.58482 7.4785 7.65982l10.7246 3.8722M111.215 11.3574c0-6.49021 0.178-7.39256 3.425-7.83982l2.16-0.27031c0.629-0.44844 0.451-1.98282-0.175-2.252348-2.977 0.177738-5.591 0.269528-8.749 0.269528-3.24 0-5.944-0.09179-8.6502-0.269528C98.5961 1.26445 98.4156 2.79883 99.0473 3.24727l2.0747 0.27031c3.333 0.44726 3.424 1.34961 3.424 7.83982l0 40.734c0 5.3149-0.091 5.8563-2.792 7.4793l-0.905 0.5422c-0.452 0.2699-0.452 1.5312 0 1.7996 2.255 0.7211 6.487 2.0742 9.734 3.7867 0.362 0 0.721-0.1797 0.902-0.5402-0.092-2.7035-0.27-7.2113-0.27-11.1762l0-42.6254M134.647 4.05742c1.798 0 4.594 1.34961 5.497 2.25235 1.08 1.08281 1.171 2.34453 1.171 4.23513l0.181 5.3145c0 0.9941-0.362 1.1719-0.908 1.1719-0.537 0-2.068-0.3586-3.692-0.9012-5.315-1.7992-7.929-3.1496-7.929-6.66643 0-1.53398 1.083-5.40625 5.68-5.40625zm5.585 15.85858c1.353 0.4512 1.446 1.2656 1.535 2.6145l0.088 4.1461c0.092 3.3371-0.991 7.8418-6.576 7.8418-2.525 0-5.591-1.2625-5.769-4.0571-0.092-1.4437-0.181-2.5218-0.902-3.064-1.353-1.0821-3.784-1.711-5.137-1.711-0.81 0-1.261 0.4485-1.261 1.2602 0 4.6859 10.182 11.0855 16.761 11.0855 6.487 0 9.641-3.7871 9.375-10.5437l-0.543-15.6797c-0.182-4.14844 0.632-7.84376 4.148-7.84376 0.897 0 1.706 0.27344 2.249 0.54414 0.448 0.26915 0.9 0.62891 1.173 0.62891 0.358 0 0.635-0.54023 0.635-1.17305C156.008 3.51758 152.848 0 148.435 0c-2.164 0-4.331 0.810547-5.859 2.79883-0.358 0.53711-0.898 1.25859-1.442 1.25859-0.629 0-1.712-0.81015-3.517-1.80469C135.635 1.17266 133.656 0 131.131 0c-2.615 0-4.778 0.724609-6.307 2.07539-1.712 1.53086-2.796 3.78594-2.796 6.30859 0 3.51642 1.716 5.58482 7.482 7.65982l10.722 3.8722M168.713 13.5215c0-3.1582 0.721-5.95002 2.252-7.84377 1.534-1.89062 3.965-2.97343 6.849-2.97343 8.469 0 11.805 7.21054 11.805 14.9598 0 9.2824-4.771 16.4937-13.698 16.4937-2.7 0-4.87-0.6336-6.125-1.4422-0.902-0.632-1.083-1.6234-1.083-5.1386l0-14.0555zm-6.669 38.5699c0 5.3149-0.089 5.8563-2.795 7.4793l-0.902 0.5422c-0.449 0.2699-0.449 1.5312 0 1.7996 2.074 0.8117 6.397 1.984 9.825 3.7867 0.359 0 0.722-0.1797 0.899-0.5402-0.177-3.1531-0.358-7.2113-0.358-11.1762l0-17.0324c0-1.5328 0.358-1.8902 0.898-1.8902 2.348 1.35 5.951 2.9718 10.367 2.9718 10.273 0 17.211-7.7484 17.211-17.6648C197.189 8.38398 188.539 0 176.461 0c-3.33 0-5.856 0.541016-7.659 1.17266-1.894 0.54023-3.06 1.17187-3.787 1.17187-0.721 0-1.443-0.72344-1.888-1.349608-0.092-0.092578-0.181-0.092578-0.361-0.092578-0.366 0-0.722 0.181636-0.903 0.540236 0.092 1.26172 0.181 2.97344 0.181 7.65976l0 42.98906\", \"#fill\": \"#a2a2a3\"}, {\"#d\": \"m178.21 52.398c0-1.53 1.003-2.5964 2.394-2.5964 0.917 0 1.647 0.4406 2.224 1.0515l0 3.3942c-0.53 0.457-1.224 0.8129-2.157 0.8129-1.476 0-2.461-1.1539-2.461-2.6622zm5.784-3.905c0-0.8973-0.236-1.5926-0.659-2.102-0.611-0.7453-1.627-1.0527-2.75-1.0527-1.136 0-2.016 0.3547-2.458 0.7812-0.258 0.2543-0.374 0.5414-0.374 0.8301 0 0.4922 0.358 0.8805 0.847 0.8805 0.423 0 0.712-0.3203 0.712-0.727 0-0.1707-0.046-0.339-0.148-0.4742 0.218-0.1383 0.69-0.2887 1.421-0.2887 0.712 0 1.391 0.1856 1.813 0.7106 0.271 0.341 0.43 0.7793 0.43 1.393l0 1.4074c-0.595-0.611-1.307-1.0664-2.409-1.0664-1.884 0-3.434 1.4925-3.434 3.5945 0 1.9539 1.431 3.7148 3.581 3.7148 0.967 0 1.732-0.3894 2.311-0.9308l0 0.7976 2.29 0 0-1.0375-1.173 0 0-6.4304M192.464 52.3457c0 1.5957-1.013 2.7313-2.492 2.7313-1.476 0-2.494-1.1356-2.494-2.7313 0-1.6121 1.018-2.7309 2.494-2.7309 1.479 0 2.492 1.1188 2.492 2.7309zm-6.208 0c0 2.0359 1.473 3.7484 3.716 3.7484 2.24 0 3.716-1.6937 3.716-3.7484 0-2.0543-1.476-3.75-3.716-3.75-2.255 0-3.716 1.6816-3.716 3.75M196.051 49.5625c-0.221 0.3883-0.34 0.9008-0.34 1.4773l0 3.8836-1.154 0 0 1.0375 2.326 0 0-4.6996c0-0.4082 0.064-0.7336 0.199-0.9699 0.225-0.4238 0.596-0.6094 1.185-0.6094 0.902 0 1.7 0.5758 2.378 1.2735l0 3.9679-1.188 0 0 1.0375 2.36 0 0-6.2109 1.154 0 0-1.0176-2.292 0 0 1.3395c-0.675-0.7981-1.663-1.4762-2.7-1.4762-0.949 0-1.572 0.3563-1.928 0.9668M204.398 54.9234l-0.948 0 0 1.0375 3.357 0 0-1.0004-1.154 0 2.139-4.7707 2.12 4.7707-1.19 0 0 1.0004 3.344 0 0-1.0375-0.948 0-3.038-6.4304-0.644 0-3.038 6.4304M211.784 49.6621c0 0.5957 0.443 1.0715 1.031 1.0715 0.595 0 1.038-0.4758 1.038-1.0715 0-0.5902-0.443-1.0664-1.038-1.0664-0.588 0-1.031 0.4762-1.031 1.0664M218.452 60.234c-0.223-0.0508-0.426-0.1504-0.558-0.3395-0.261-0.3023-0.396-0.7945-0.396-1.5097l0-2.4239 1.872 0 0-1.0375-1.872 0 0-5.1734 1.412 0 0-1.0176-3.75 0 0 1.0176 1.172 0 0 5.1734-1.292 0 0 1.0375 1.292 0 0 2.1524c0 1.1722 0.206 1.9531 0.761 2.5117 0.424 0.4098 0.933 0.6629 1.648 0.6629 0.782 0 1.32-0.3742 1.32-0.968 0-0.4758-0.32-0.798-0.731-0.798-0.473 0-0.742 0.3066-0.878 0.7121M225.885 55.1461c0-0.457-0.36-0.8652-0.814-0.8652-0.441 0-0.748 0.2882-0.865 0.6086-0.546-0.1532-1.206-0.7961-1.561-1.5247l0-3.6148 1.356 0 0-1.0176-3.68 0 0 1.0176 1.154 0 0 5.1734-1.154 0 0 1.0375 2.271 0 0-1.6464c0.561 1.0019 1.424 1.7796 2.21 1.7796 0.712 0 1.083-0.457 1.083-0.948\", \"#fill\": \"#a2a2a3\"}]}}}, {\"#href\": \"https://github.com/opendatateam/udata/\", \"#title\": \"Moteur open-source\", \"\": \"udata\"}, {\"#href\": \"https://pypi.python.org/pypi/udata/1.0.11/\", \"#title\": \"Version d\\u00e9ploy\\u00e9e\", \"\": \"1.0.11\"}, {\"#href\": \"https://github.com/etalab/udata-gouvfr/\", \"#title\": \"Extension pour Data.gouv.fr\", \"\": \"udata-gouvfr\"}, {\"#href\": \"https://pypi.python.org/pypi/udata-gouvfr/1.0.9/\", \"#title\": \"Version d\\u00e9ploy\\u00e9e\", \"\": \"1.0.9\"}], \"br\": [{\"\": \"\"}, {\"\": \"\"}]}], \"p\": {\"#class\": \"bottom-right\", \"a\": {\"#href\": \"#\", \"\": \"Haut de page\"}}}}}], \"nav\": {\"#class\": \"navbar navbar-static-top navbar-subnav\", \"div\": {\"#class\": \"container\", \"div\": [{\"#class\": \"cover-marianne\"}, {\"#class\": \"search_bar row\", \"#role\": \"search\", \"div\": [{\"#class\": \"col-sm-4 col-md-6 col-lg-6 col-xs-12\", \"site-search\": {\"#action\": \"/fr/search/\", \"#placeholder\": \"Recherche\", \"#v-ref:search\": \"\", \"form\": {\"#action\": \"/fr/search/\", \"#class\": \"site-search\", \"div\": {\"#class\": \"input-group\", \"div\": {\"#class\": \"input-group-btn\", \"button\": {\"#class\": \"btn\", \"#type\": \"submit\", \"i\": {\"#class\": \"fa fa-search\"}}}, \"label\": {\"#class\": \"hidden\", \"#for\": \"search\", \"\": \"Recherche\"}, \"input\": {\"#class\": \"form-control\", \"#id\": \"search\", \"#name\": \"q\", \"#placeholder\": \"Recherche\", \"#type\": \"search\", \"\": \"\"}}}}}, {\"#class\": \"form-group col-sm-4 col-md-3 col-lg-3 col-xs-12\", \"button\": {\"#class\": \"dropdown-toggle btn-block btn-light\", \"#data-toggle\": \"dropdown\", \"\": \"Th\\u00e9matiques\", \"span\": {\"#class\": \"glyphicon glyphicon-chevron-down pull-right hidden-sm\"}}, \"ul\": {\"#aria-labelledby\": \"topics\", \"#class\": \"dropdown-menu\", \"#role\": \"menu\", \"li\": [{\"#role\": \"presentation\", \"a\": {\"#href\": \"/fr/topics/agriculture-et-alimentation/\", \"#role\": \"menuitem\", \"#tabindex\": \"-1\", \"\": \"Agriculture et Alimentation\"}}, {\"#role\": \"presentation\", \"a\": {\"#href\": \"/fr/topics/culture/\", \"#role\": \"menuitem\", \"#tabindex\": \"-1\", \"\": \"Culture\"}}, {\"#role\": \"presentation\", \"a\": {\"#href\": \"/fr/topics/economie-et-emploi/\", \"#role\": \"menuitem\", \"#tabindex\": \"-1\", \"\": \"\\u00c9conomie et Emploi\"}}, {\"#role\": \"presentation\", \"a\": {\"#href\": \"/fr/topics/education-et-recherche/\", \"#role\": \"menuitem\", \"#tabindex\": \"-1\", \"\": \"\\u00c9ducation et Recherche\"}}, {\"#role\": \"presentation\", \"a\": {\"#href\": \"/fr/topics/international-et-europe/\", \"#role\": \"menuitem\", \"#tabindex\": \"-1\", \"\": \"International et Europe\"}}, {\"#role\": \"presentation\", \"a\": {\"#href\": \"/fr/topics/logement-developpement-durable-et-energie/\", \"#role\": \"menuitem\", \"#tabindex\": \"-1\", \"\": \"Logement, D\\u00e9veloppement Durable et \\u00c9nergie\"}}, {\"#role\": \"presentation\", \"a\": {\"#href\": \"/fr/topics/sante-et-social/\", \"#role\": \"menuitem\", \"#tabindex\": \"-1\", \"\": \"Sant\\u00e9 et Social\"}}, {\"#role\": \"presentation\", \"a\": {\"#href\": \"/fr/topics/societe/\", \"#role\": \"menuitem\", \"#tabindex\": \"-1\", \"\": \"Soci\\u00e9t\\u00e9\"}}, {\"#role\": \"presentation\", \"a\": {\"#href\": \"/fr/topics/territoires-et-transports/\", \"#role\": \"menuitem\", \"#tabindex\": \"-1\", \"\": \"Territoires, Transports, Tourisme\"}}]}}, {\"#class\": \"col-sm-4 col-md-3 col-lg-3 col-xs-12 collapse subnav-collapse\", \"a\": {\"#class\": \"btn btn-primary btn-transparent btn-block btn-md icon-left\", \"#data-target\": \"#publish-action-modal\", \"#data-toggle\": \"modal\", \"#title\": \"Contribuez !\", \"\": \"Contribuez !\", \"span\": {\"#class\": \"glyphicon glyphicon-plus\"}}}]}]}}, \"div\": [{\"#v-el:modal\": \"\"}, {\"#aria-hidden\": \"true\", \"#class\": \"modal fade\", \"#id\": \"publish-action-modal\", \"#role\": \"dialog\", \"#tabindex\": \"-1\", \"div\": {\"#class\": \"modal-dialog\", \"div\": {\"#class\": \"modal-content\", \"div\": [{\"#class\": \"modal-header\", \"button\": {\"#aria-hidden\": \"true\", \"#class\": \"close\", \"#data-dismiss\": \"modal\", \"#type\": \"button\", \"\": \"\\u00d7\"}}, {\"#class\": \"modal-body\", \"div\": {\"#class\": \"list-group actions-list\", \"a\": [{\"#class\": \"list-group-item\", \"#href\": \"/fr/admin/dataset/new/\", \"div\": {\"#class\": \"action-icon\", \"span\": {\"#class\": \"fa fa-cubes fa-3x\"}}, \"h4\": {\"#class\": \"list-group-item-heading\", \"\": \"Publiez un jeu de donn\\u00e9es\"}, \"p\": {\"#class\": \"list-group-item-text\", \"\": \"Contribuer et ajouter un nouveau jeu de donn\\u00e9es au catalogue de ce site\"}}, {\"#class\": \"list-group-item\", \"#href\": \"/fr/admin/reuse/new/\", \"div\": {\"#class\": \"action-icon\", \"span\": {\"#class\": \"fa fa-retweet fa-3x\"}}, \"h4\": {\"#class\": \"list-group-item-heading\", \"\": \"Publiez une r\\u00e9utilisation\"}, \"p\": {\"#class\": \"list-group-item-text\", \"\": \"Contribuer et ajouter une nouvelle r\\u00e9utilisation au catalogue de ce site.\"}}, {\"#class\": \"list-group-item\", \"#href\": \"/fr/admin/organization/new/\", \"div\": {\"#class\": \"action-icon\", \"span\": {\"#class\": \"fa fa-building-o fa-3x\"}}, \"h4\": {\"#class\": \"list-group-item-heading\", \"\": \"Cr\\u00e9ez ou trouvez votre organisation\"}, \"p\": {\"#class\": \"list-group-item-text\", \"\": \"Vous pouvez cr\\u00e9er une nouvelle organisation ou trouver la v\\u00f4tre\"}}]}}]}}}], \"script\": [{\"#src\": \"/static/common.js?_=1.0.11\"}, {\"#src\": \"/static/dataset.js?_=1.0.11\"}, {\"#type\": \"text/javascript\", \"\": \"var _paq = _paq || [];\\n  \\n  \\n  _paq.push(['trackPageView']);\\n  _paq.push(['enableLinkTracking']);\\n  (function() {\\n    var u=((\\\"https:\\\" == document.location.protocol) ? \\\"https\\\" : \\\"http\\\") + \\\"://stats.data.gouv.fr/\\\";\\n    _paq.push(['setTrackerUrl', u+'piwik.php']);\\n    _paq.push(['setSiteId', 1]);\\n    var d=document, g=d.createElement('script'), s=d.getElementsByTagName('script')[0]; g.type='text/javascript';\\n    g.defer=true; g.async=true; g.src=u+'piwik.js'; s.parentNode.insertBefore(g,s);\\n  })();\\n\\n  \\n  var goals = {\\\"NEW_DATASET\\\": 7, \\\"NEW_FOLLOW\\\": 3, \\\"NEW_REUSE\\\": 6, \\\"RESOURCE_DOWNLOAD\\\": 4, \\\"RESOURCE_REDIRECT\\\": 10, \\\"SHARE\\\": 11};\\n  for (var goal in goals) {\\n    var value = goals[goal];\\n    uData.pubsub.subscribe(goal, function () {\\n      uData.log.debug('Tracking goal', goal, 'with value', value);\\n      _paq.push(['trackGoal', value]);\\n    });\\n  }\"}], \"noscript\": {\"p\": {\"img\": {\"#alt\": \"\", \"#src\": \"http://stats.data.gouv.fr/piwik.php?idsite=1\", \"#style\": \"border:0;\", \"\": \"\"}}}}}}))\n",
              "        }); \n",
              "</script>\n"
            ],
            "text/plain": [
              "<jyquickhelper.json_helper.RenderJSON at 0x1c9e8c9a470>"
            ]
          },
          "execution_count": null,
          "metadata": {},
          "output_type": "execute_result"
        }
      ],
      "source": [
        "from jyquickhelper import JSONJS\n",
        "JSONJS(js)"
      ]
    },
    {
      "cell_type": "code",
      "execution_count": null,
      "metadata": {
        "collapsed": true
      },
      "outputs": [],
      "source": []
    }
  ],
  "metadata": {
    "kernelspec": {
      "display_name": "Python 3",
      "language": "python",
      "name": "python3"
    },
    "language_info": {
      "codemirror_mode": {
        "name": "ipython",
        "version": 3
      },
      "file_extension": ".py",
      "mimetype": "text/x-python",
      "name": "python",
      "nbconvert_exporter": "python",
      "pygments_lexer": "ipython3",
      "version": "3.6.1"
    }
  },
  "nbformat": 4,
  "nbformat_minor": 2
}