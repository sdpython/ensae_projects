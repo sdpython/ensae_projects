{
  "cells": [
    {
      "cell_type": "markdown",
      "metadata": {},
      "source": [
        "# Walk through all streets in a city"
      ]
    },
    {
      "cell_type": "code",
      "execution_count": null,
      "metadata": {
        "ExecuteTime": {
          "end_time": "2016-10-29T17:36:27.208293",
          "start_time": "2016-10-29T17:36:26.969888"
        },
        "collapsed": false
      },
      "outputs": [],
      "source": [
        "%matplotlib inline\n",
        "import matplotlib.pyplot as plt\n",
        "plt.style.use(\"ggplot\")"
      ]
    },
    {
      "cell_type": "code",
      "execution_count": null,
      "metadata": {
        "ExecuteTime": {
          "end_time": "2016-10-29T17:36:27.223807",
          "start_time": "2016-10-29T17:36:27.210808"
        },
        "collapsed": false
      },
      "outputs": [
        {
          "data": {
            "text/html": [
              "<div id=\"my_id_menu_nb\">run previous cell, wait for 2 seconds</div>\n",
              "<script>\n",
              "function repeat_indent_string(n){\n",
              "    var a = \"\" ;\n",
              "    for ( ; n > 0 ; --n) {\n",
              "        a += \"    \";\n",
              "    }\n",
              "    return a;\n",
              "}\n",
              "var update_menu_string = function(begin, lfirst, llast, sformat, send, keep_item) {\n",
              "    var anchors = document.getElementsByClassName(\"section\");\n",
              "    if (anchors.length == 0) {\n",
              "        anchors = document.getElementsByClassName(\"text_cell_render rendered_html\");\n",
              "    }\n",
              "    var i,t;\n",
              "    var text_menu = begin;\n",
              "    var text_memo = \"<pre>\\nlength:\" + anchors.length + \"\\n\";\n",
              "    var ind = \"\";\n",
              "    var memo_level = 1;\n",
              "    var href;\n",
              "    var tags = [];\n",
              "    var main_item = 0;\n",
              "    for (i = 0; i <= llast; i++) {\n",
              "        tags.push(\"h\" + i);\n",
              "    }\n",
              "\n",
              "    for (i = 0; i < anchors.length; i++) {\n",
              "        text_memo += \"**\" + anchors[i].id + \"--\\n\";\n",
              "\n",
              "        var child = null;\n",
              "        for(t = 0; t < tags.length; t++) {\n",
              "            var r = anchors[i].getElementsByTagName(tags[t]);\n",
              "            if (r.length > 0) {\n",
              "child = r[0];\n",
              "break;\n",
              "            }\n",
              "        }\n",
              "        if (child == null){\n",
              "            text_memo += \"null\\n\";\n",
              "            continue;\n",
              "        }\n",
              "        if (anchors[i].hasAttribute(\"id\")) {\n",
              "            // when converted in RST\n",
              "            href = anchors[i].id;\n",
              "            text_memo += \"#1-\" + href;\n",
              "            // passer \u00e0 child suivant (le chercher)\n",
              "        }\n",
              "        else if (child.hasAttribute(\"id\")) {\n",
              "            // in a notebook\n",
              "            href = child.id;\n",
              "            text_memo += \"#2-\" + href;\n",
              "        }\n",
              "        else {\n",
              "            text_memo += \"#3-\" + \"*\" + \"\\n\";\n",
              "            continue;\n",
              "        }\n",
              "        var title = child.textContent;\n",
              "        var level = parseInt(child.tagName.substring(1,2));\n",
              "\n",
              "        text_memo += \"--\" + level + \"?\" + lfirst + \"--\" + title + \"\\n\";\n",
              "\n",
              "        if ((level < lfirst) || (level > llast)) {\n",
              "            continue ;\n",
              "        }\n",
              "        if (title.endsWith('\u00b6')) {\n",
              "            title = title.substring(0,title.length-1).replace(\"<\", \"&lt;\").replace(\">\", \"&gt;\").replace(\"&\", \"&amp;\")\n",
              "        }\n",
              "\n",
              "        if (title.length == 0) {\n",
              "            continue;\n",
              "        }\n",
              "\n",
              "        while (level < memo_level) {\n",
              "            text_menu += \"</ul>\\n\";\n",
              "            memo_level -= 1;\n",
              "        }\n",
              "        if (level == lfirst) {\n",
              "            main_item += 1;\n",
              "        }\n",
              "        if (keep_item != -1 && main_item != keep_item + 1) {\n",
              "            // alert(main_item + \" - \" + level + \" - \" + keep_item);\n",
              "            continue;\n",
              "        }\n",
              "        while (level > memo_level) {\n",
              "            text_menu += \"<ul>\\n\";\n",
              "            memo_level += 1;\n",
              "        }\n",
              "        text_menu += repeat_indent_string(level-2) + sformat.replace(\"__HREF__\", href).replace(\"__TITLE__\", title);\n",
              "    }\n",
              "    while (1 < memo_level) {\n",
              "        text_menu += \"</ul>\\n\";\n",
              "        memo_level -= 1;\n",
              "    }\n",
              "    text_menu += send;\n",
              "    //text_menu += \"\\n\" + text_memo;\n",
              "    return text_menu;\n",
              "};\n",
              "var update_menu = function() {\n",
              "    var sbegin = \"\";\n",
              "    var sformat = '<li><a href=\"#__HREF__\">__TITLE__</a></li>';\n",
              "    var send = \"\";\n",
              "    var keep_item = -1;\n",
              "    var text_menu = update_menu_string(sbegin, 2, 4, sformat, send, keep_item);\n",
              "    var menu = document.getElementById(\"my_id_menu_nb\");\n",
              "    menu.innerHTML=text_menu;\n",
              "};\n",
              "window.setTimeout(update_menu,2000);\n",
              "            </script>"
            ],
            "text/plain": [
              "<IPython.core.display.HTML object>"
            ]
          },
          "execution_count": null,
          "metadata": {},
          "output_type": "execute_result"
        }
      ],
      "source": [
        "from jyquickhelper import add_notebook_menu\n",
        "add_notebook_menu()"
      ]
    },
    {
      "cell_type": "markdown",
      "metadata": {},
      "source": [
        "## Problem description"
      ]
    },
    {
      "cell_type": "code",
      "execution_count": null,
      "metadata": {
        "collapsed": true
      },
      "outputs": [],
      "source": []
    },
    {
      "cell_type": "markdown",
      "metadata": {},
      "source": [
        "## Data\n",
        "\n",
        "[Seattle streets](https://data.seattle.gov/dataset/Street-Network-Database/afip-2mzr/data) from [data.seattle.gov](https://data.seattle.gov/)"
      ]
    },
    {
      "cell_type": "markdown",
      "metadata": {},
      "source": [
        "### Read the data"
      ]
    },
    {
      "cell_type": "code",
      "execution_count": null,
      "metadata": {
        "ExecuteTime": {
          "end_time": "2016-10-29T17:36:34.869987",
          "start_time": "2016-10-29T17:36:27.227309"
        },
        "collapsed": false
      },
      "outputs": [],
      "source": [
        "import shapefile, os\n",
        "if os.path.exists(\"Street_Network_Database/WGS84/Street_Network_Database.shp\"):\n",
        "    rshp = shapefile.Reader(\"Street_Network_Database/WGS84/Street_Network_Database.shp\")\n",
        "    shapes = rshp.shapes()\n",
        "    records = rshp.records()\n",
        "else:\n",
        "    from pyensae.datasource import download_data\n",
        "    files = download_data(\"WGS84_seattle_street.zip\")\n",
        "    rshp = shapefile.Reader(\"Street_Network_Database.shp\")\n",
        "    shapes = rshp.shapes()\n",
        "    records = rshp.records()    "
      ]
    },
    {
      "cell_type": "code",
      "execution_count": null,
      "metadata": {
        "ExecuteTime": {
          "end_time": "2016-10-29T17:36:34.880508",
          "start_time": "2016-10-29T17:36:34.872498"
        },
        "collapsed": false
      },
      "outputs": [
        {
          "data": {
            "text/plain": [
              "{'bbox': [-122.34721334599999, 47.46946425100003, -122.346519546, 47.469471997000035],\n",
              " 'parts': [0],\n",
              " 'points': [[-122.34651954599997, 47.46947199700003],\n",
              "  [-122.34721334599999, 47.46946425100003]],\n",
              " 'shapeType': 3}"
            ]
          },
          "execution_count": null,
          "metadata": {},
          "output_type": "execute_result"
        }
      ],
      "source": [
        "shapes[0].__dict__"
      ]
    },
    {
      "cell_type": "code",
      "execution_count": null,
      "metadata": {
        "ExecuteTime": {
          "end_time": "2016-10-29T17:36:34.913511",
          "start_time": "2016-10-29T17:36:34.884515"
        },
        "collapsed": false
      },
      "outputs": [
        {
          "data": {
            "text/plain": [
              "{'ACCESS_COD': 1,\n",
              " 'AGENCY_COD': 1,\n",
              " 'ARTERIAL_C': 0,\n",
              " 'CITYCODE': 0,\n",
              " 'COMPKEY': 0,\n",
              " 'COMPTYPE': 0,\n",
              " 'DIVIDED_CO': 1,\n",
              " 'F_INTR_ID': 21642,\n",
              " 'GIS_SEG_LE': '1.71624048000e+002',\n",
              " 'LEGALLOC_C': 1,\n",
              " 'L_ADRS_FRO': 977,\n",
              " 'L_ADRS_TO': 999,\n",
              " 'L_CITY': 'BURIEN',\n",
              " 'L_STATE': 'WA',\n",
              " 'L_ZIP': '98166',\n",
              " 'ORD_PRE_DI': 'SW',\n",
              " 'ORD_STNAME': 'SW 149TH ST',\n",
              " 'ORD_STREET': '149TH',\n",
              " 'ORD_STRE_1': 'ST',\n",
              " 'ORD_SUF_DI': b'  ',\n",
              " 'R_ADRS_FRO': 976,\n",
              " 'R_ADRS_TO': 998,\n",
              " 'R_CITY': 'BURIEN',\n",
              " 'R_STATE': 'WA',\n",
              " 'R_ZIP': '98166',\n",
              " 'SEGMENT_TY': 1,\n",
              " 'SHAPE_Leng': '6.93843239173e-004',\n",
              " 'SNDSEG_UPD': '20040519',\n",
              " 'SND_FEACOD': 1,\n",
              " 'SND_ID': 37898,\n",
              " 'STNAME_ID': 2569,\n",
              " 'STRUCTURE_': 1,\n",
              " 'ST_CODE': 0,\n",
              " 'T_INTR_ID': 21641,\n",
              " 'UNITID': '0',\n",
              " 'UNITID2': '0',\n",
              " 'VEHICLE_US': 1}"
            ]
          },
          "execution_count": null,
          "metadata": {},
          "output_type": "execute_result"
        }
      ],
      "source": [
        "{k[0]:v for k,v in zip(rshp.fields[1:], records[0])}"
      ]
    },
    {
      "cell_type": "markdown",
      "metadata": {},
      "source": [
        "### Short example"
      ]
    },
    {
      "cell_type": "code",
      "execution_count": null,
      "metadata": {
        "ExecuteTime": {
          "end_time": "2016-10-29T17:36:34.937514",
          "start_time": "2016-10-29T17:36:34.920520"
        },
        "collapsed": false
      },
      "outputs": [
        {
          "data": {
            "text/plain": [
              "[[-122.31554790099995, 47.511287922000065],\n",
              " [-122.31553241799998, 47.51120351700007],\n",
              " [-122.31552978999997, 47.51118938700006],\n",
              " [-122.31546052299996, 47.51092530900007],\n",
              " [-122.31537415499997, 47.510596031000034],\n",
              " [-122.31534125099995, 47.51046084500007],\n",
              " [-122.31532328399999, 47.51032437400005]]"
            ]
          },
          "execution_count": null,
          "metadata": {},
          "output_type": "execute_result"
        }
      ],
      "source": [
        "streets5 = list(zip(records[:5], shapes[:5]))\n",
        "streets5[2][1].points"
      ]
    },
    {
      "cell_type": "code",
      "execution_count": null,
      "metadata": {
        "ExecuteTime": {
          "end_time": "2016-10-29T17:36:35.812608",
          "start_time": "2016-10-29T17:36:34.942513"
        },
        "collapsed": false
      },
      "outputs": [
        {
          "name": "stdout",
          "output_type": "stream",
          "text": [
            "[-122.34721334599999, 47.46946425100003, -122.346519546, 47.469471997000035]\n"
          ]
        },
        {
          "data": {
            "text/html": [
              "<div style=\"width:50%;\"><div style=\"position:relative;width:100%;height:0;padding-bottom:60%;\"><iframe src=\"data:text/html;base64,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\" style=\"position:absolute;width:100%;height:100%;left:0;top:0;\"></iframe></div></div>"
            ],
            "text/plain": [
              "<pyensae.notebook_helper.folium_helper.folium_html_map.<locals>.CustomFoliumMap at 0x25361c48a90>"
            ]
          },
          "execution_count": null,
          "metadata": {},
          "output_type": "execute_result"
        }
      ],
      "source": [
        "from random import randint\n",
        "\n",
        "import folium\n",
        "c = streets5[0][1]\n",
        "print(c.bbox)\n",
        "map_osm = folium.Map(location=[c.bbox[1], c.bbox[0]])\n",
        "for rec, shape in streets5:\n",
        "    d = {k[0]:v for k,v in zip(rshp.fields[1:], rec)}\n",
        "    map_osm.add_child(folium.Marker([shape.bbox[1], shape.bbox[0]], popup='Start'))\n",
        "    map_osm.add_child(folium.PolyLine(locations=shape.points, latlon=False, popup=str(d), weight=10))\n",
        "from pyensae.notebook_helper import folium_html_map\n",
        "folium_html_map(map_osm, width=\"50%\")"
      ]
    },
    {
      "cell_type": "code",
      "execution_count": null,
      "metadata": {
        "collapsed": true
      },
      "outputs": [],
      "source": []
    }
  ],
  "metadata": {
    "kernelspec": {
      "display_name": "Python 3",
      "language": "python",
      "name": "python3"
    },
    "language_info": {
      "codemirror_mode": {
        "name": "ipython",
        "version": 3
      },
      "file_extension": ".py",
      "mimetype": "text/x-python",
      "name": "python",
      "nbconvert_exporter": "python",
      "pygments_lexer": "ipython3",
      "version": "3.5.0"
    }
  },
  "nbformat": 4,
  "nbformat_minor": 1
}