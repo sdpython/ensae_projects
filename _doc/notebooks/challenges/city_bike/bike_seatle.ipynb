{
  "cells": [
    {
      "cell_type": "markdown",
      "metadata": {},
      "source": [
        "# Seattle\n",
        "\n",
        "This notebooks displays some of the data available at [Pronto Open Data](http://www.prontocycleshare.com/data). We assume the data was downloaded."
      ]
    },
    {
      "cell_type": "code",
      "execution_count": 1,
      "metadata": {},
      "outputs": [
        {
          "data": {
            "text/html": [
              "<div id=\"my_id_menu_nb\">run previous cell, wait for 2 seconds</div>\n",
              "<script>\n",
              "function repeat_indent_string(n){\n",
              "    var a = \"\" ;\n",
              "    for ( ; n > 0 ; --n)\n",
              "        a += \"    \";\n",
              "    return a;\n",
              "}\n",
              "var update_menu_string = function(begin, lfirst, llast, sformat, send, keep_item, begin_format, end_format) {\n",
              "    var anchors = document.getElementsByClassName(\"section\");\n",
              "    if (anchors.length == 0) {\n",
              "        anchors = document.getElementsByClassName(\"text_cell_render rendered_html\");\n",
              "    }\n",
              "    var i,t;\n",
              "    var text_menu = begin;\n",
              "    var text_memo = \"<pre>\\nlength:\" + anchors.length + \"\\n\";\n",
              "    var ind = \"\";\n",
              "    var memo_level = 1;\n",
              "    var href;\n",
              "    var tags = [];\n",
              "    var main_item = 0;\n",
              "    var format_open = 0;\n",
              "    for (i = 0; i <= llast; i++)\n",
              "        tags.push(\"h\" + i);\n",
              "\n",
              "    for (i = 0; i < anchors.length; i++) {\n",
              "        text_memo += \"**\" + anchors[i].id + \"--\\n\";\n",
              "\n",
              "        var child = null;\n",
              "        for(t = 0; t < tags.length; t++) {\n",
              "            var r = anchors[i].getElementsByTagName(tags[t]);\n",
              "            if (r.length > 0) {\n",
              "child = r[0];\n",
              "break;\n",
              "            }\n",
              "        }\n",
              "        if (child == null) {\n",
              "            text_memo += \"null\\n\";\n",
              "            continue;\n",
              "        }\n",
              "        if (anchors[i].hasAttribute(\"id\")) {\n",
              "            // when converted in RST\n",
              "            href = anchors[i].id;\n",
              "            text_memo += \"#1-\" + href;\n",
              "            // passer \u00e0 child suivant (le chercher)\n",
              "        }\n",
              "        else if (child.hasAttribute(\"id\")) {\n",
              "            // in a notebook\n",
              "            href = child.id;\n",
              "            text_memo += \"#2-\" + href;\n",
              "        }\n",
              "        else {\n",
              "            text_memo += \"#3-\" + \"*\" + \"\\n\";\n",
              "            continue;\n",
              "        }\n",
              "        var title = child.textContent;\n",
              "        var level = parseInt(child.tagName.substring(1,2));\n",
              "\n",
              "        text_memo += \"--\" + level + \"?\" + lfirst + \"--\" + title + \"\\n\";\n",
              "\n",
              "        if ((level < lfirst) || (level > llast)) {\n",
              "            continue ;\n",
              "        }\n",
              "        if (title.endsWith('\u00b6')) {\n",
              "            title = title.substring(0,title.length-1).replace(\"<\", \"&lt;\")\n",
              "         .replace(\">\", \"&gt;\").replace(\"&\", \"&amp;\");\n",
              "        }\n",
              "        if (title.length == 0) {\n",
              "            continue;\n",
              "        }\n",
              "\n",
              "        while (level < memo_level) {\n",
              "            text_menu += end_format + \"</ul>\\n\";\n",
              "            format_open -= 1;\n",
              "            memo_level -= 1;\n",
              "        }\n",
              "        if (level == lfirst) {\n",
              "            main_item += 1;\n",
              "        }\n",
              "        if (keep_item != -1 && main_item != keep_item + 1) {\n",
              "            // alert(main_item + \" - \" + level + \" - \" + keep_item);\n",
              "            continue;\n",
              "        }\n",
              "        while (level > memo_level) {\n",
              "            text_menu += \"<ul>\\n\";\n",
              "            memo_level += 1;\n",
              "        }\n",
              "        text_menu += repeat_indent_string(level-2);\n",
              "        text_menu += begin_format + sformat.replace(\"__HREF__\", href).replace(\"__TITLE__\", title);\n",
              "        format_open += 1;\n",
              "    }\n",
              "    while (1 < memo_level) {\n",
              "        text_menu += end_format + \"</ul>\\n\";\n",
              "        memo_level -= 1;\n",
              "        format_open -= 1;\n",
              "    }\n",
              "    text_menu += send;\n",
              "    //text_menu += \"\\n\" + text_memo;\n",
              "\n",
              "    while (format_open > 0) {\n",
              "        text_menu += end_format;\n",
              "        format_open -= 1;\n",
              "    }\n",
              "    return text_menu;\n",
              "};\n",
              "var update_menu = function() {\n",
              "    var sbegin = \"\";\n",
              "    var sformat = '<a href=\"#__HREF__\">__TITLE__</a>';\n",
              "    var send = \"\";\n",
              "    var begin_format = '<li>';\n",
              "    var end_format = '</li>';\n",
              "    var keep_item = -1;\n",
              "    var text_menu = update_menu_string(sbegin, 2, 4, sformat, send, keep_item,\n",
              "       begin_format, end_format);\n",
              "    var menu = document.getElementById(\"my_id_menu_nb\");\n",
              "    menu.innerHTML=text_menu;\n",
              "};\n",
              "window.setTimeout(update_menu,2000);\n",
              "            </script>"
            ],
            "text/plain": [
              "<IPython.core.display.HTML object>"
            ]
          },
          "execution_count": 2,
          "metadata": {},
          "output_type": "execute_result"
        }
      ],
      "source": [
        "from jyquickhelper import add_notebook_menu\n",
        "add_notebook_menu()"
      ]
    },
    {
      "cell_type": "code",
      "execution_count": 2,
      "metadata": {},
      "outputs": [],
      "source": [
        "%matplotlib inline"
      ]
    },
    {
      "cell_type": "markdown",
      "metadata": {},
      "source": [
        "## Data"
      ]
    },
    {
      "cell_type": "code",
      "execution_count": 3,
      "metadata": {},
      "outputs": [],
      "source": [
        "from pyensae.datasource import download_data\n",
        "file = download_data(\"open_data_2016-12.zip\", url=\"https://s3.amazonaws.com/pronto-data/\")"
      ]
    },
    {
      "cell_type": "markdown",
      "metadata": {},
      "source": [
        "### Stations"
      ]
    },
    {
      "cell_type": "code",
      "execution_count": 4,
      "metadata": {},
      "outputs": [
        {
          "data": {
            "text/html": [
              "<div>\n",
              "<style scoped>\n",
              "    .dataframe tbody tr th:only-of-type {\n",
              "        vertical-align: middle;\n",
              "    }\n",
              "\n",
              "    .dataframe tbody tr th {\n",
              "        vertical-align: top;\n",
              "    }\n",
              "\n",
              "    .dataframe thead th {\n",
              "        text-align: right;\n",
              "    }\n",
              "</style>\n",
              "<table border=\"1\" class=\"dataframe\">\n",
              "  <thead>\n",
              "    <tr style=\"text-align: right;\">\n",
              "      <th></th>\n",
              "      <th>station_id</th>\n",
              "      <th>name</th>\n",
              "      <th>lat</th>\n",
              "      <th>long</th>\n",
              "      <th>install_date</th>\n",
              "      <th>install_dockcount</th>\n",
              "      <th>modification_date</th>\n",
              "      <th>current_dockcount</th>\n",
              "      <th>decommission_date</th>\n",
              "    </tr>\n",
              "  </thead>\n",
              "  <tbody>\n",
              "    <tr>\n",
              "      <th>0</th>\n",
              "      <td>CH-06</td>\n",
              "      <td>12th Ave &amp; E Denny Way</td>\n",
              "      <td>47.618549</td>\n",
              "      <td>-122.317017</td>\n",
              "      <td>10/13/2014</td>\n",
              "      <td>16</td>\n",
              "      <td>NaN</td>\n",
              "      <td>16</td>\n",
              "      <td>NaN</td>\n",
              "    </tr>\n",
              "    <tr>\n",
              "      <th>1</th>\n",
              "      <td>CH-15</td>\n",
              "      <td>12th Ave &amp; E Mercer St</td>\n",
              "      <td>47.624142</td>\n",
              "      <td>-122.316811</td>\n",
              "      <td>10/13/2014</td>\n",
              "      <td>16</td>\n",
              "      <td>NaN</td>\n",
              "      <td>16</td>\n",
              "      <td>NaN</td>\n",
              "    </tr>\n",
              "    <tr>\n",
              "      <th>2</th>\n",
              "      <td>CD-01</td>\n",
              "      <td>12th Ave &amp; E Yesler Way</td>\n",
              "      <td>47.602103</td>\n",
              "      <td>-122.316923</td>\n",
              "      <td>5/22/2015</td>\n",
              "      <td>16</td>\n",
              "      <td>8/9/2016</td>\n",
              "      <td>0</td>\n",
              "      <td>8/9/2016</td>\n",
              "    </tr>\n",
              "    <tr>\n",
              "      <th>3</th>\n",
              "      <td>UD-04</td>\n",
              "      <td>12th Ave &amp; NE Campus Pkwy</td>\n",
              "      <td>47.656395</td>\n",
              "      <td>-122.315620</td>\n",
              "      <td>10/13/2014</td>\n",
              "      <td>16</td>\n",
              "      <td>NaN</td>\n",
              "      <td>16</td>\n",
              "      <td>NaN</td>\n",
              "    </tr>\n",
              "    <tr>\n",
              "      <th>4</th>\n",
              "      <td>CH-05</td>\n",
              "      <td>15th Ave E &amp; E Thomas St</td>\n",
              "      <td>47.620712</td>\n",
              "      <td>-122.312805</td>\n",
              "      <td>10/13/2014</td>\n",
              "      <td>16</td>\n",
              "      <td>NaN</td>\n",
              "      <td>16</td>\n",
              "      <td>NaN</td>\n",
              "    </tr>\n",
              "  </tbody>\n",
              "</table>\n",
              "</div>"
            ],
            "text/plain": [
              "  station_id                       name        lat        long install_date  \\\n",
              "0      CH-06     12th Ave & E Denny Way  47.618549 -122.317017   10/13/2014   \n",
              "1      CH-15     12th Ave & E Mercer St  47.624142 -122.316811   10/13/2014   \n",
              "2      CD-01    12th Ave & E Yesler Way  47.602103 -122.316923    5/22/2015   \n",
              "3      UD-04  12th Ave & NE Campus Pkwy  47.656395 -122.315620   10/13/2014   \n",
              "4      CH-05   15th Ave E & E Thomas St  47.620712 -122.312805   10/13/2014   \n",
              "\n",
              "   install_dockcount modification_date  current_dockcount decommission_date  \n",
              "0                 16               NaN                 16               NaN  \n",
              "1                 16               NaN                 16               NaN  \n",
              "2                 16          8/9/2016                  0          8/9/2016  \n",
              "3                 16               NaN                 16               NaN  \n",
              "4                 16               NaN                 16               NaN  "
            ]
          },
          "execution_count": 5,
          "metadata": {},
          "output_type": "execute_result"
        }
      ],
      "source": [
        "import pandas\n",
        "stations = df = pandas.read_csv(\"2016-12_station_data.csv\")\n",
        "df.head()"
      ]
    },
    {
      "cell_type": "code",
      "execution_count": 5,
      "metadata": {},
      "outputs": [
        {
          "data": {
            "text/html": [
              "<div style=\"width:80%;\"><div style=\"position:relative;width:100%;height:0;padding-bottom:60%;\"><iframe src=\"data:text/html;charset=utf-8;base64,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\" style=\"position:absolute;width:100%;height:100%;left:0;top:0;border:none !important;\" allowfullscreen webkitallowfullscreen mozallowfullscreen></iframe></div></div>"
            ],
            "text/plain": [
              "<pyensae.notebook_helper.folium_helper.folium_html_map.<locals>.CustomFoliumMap at 0x1989cf22208>"
            ]
          },
          "execution_count": 6,
          "metadata": {},
          "output_type": "execute_result"
        }
      ],
      "source": [
        "import folium\n",
        "from pyensae.notebook_helper import folium_html_map\n",
        "minx, maxx = df.lat.min(), df.lat.max()\n",
        "miny, maxy = df.long.min(), df.long.max()\n",
        "map_osm = folium.Map(location=[47.618549, -122.317017], \n",
        "                     min_lat=minx, max_lat=maxx, min_lon=miny, max_lon=maxy, zoom_start=12)\n",
        "for i, rows in enumerate(df.to_dict(\"records\")):\n",
        "    x,y = rows[\"lat\"], rows[\"long\"]\n",
        "    # folium does not like quotes in strings.\n",
        "    name = rows[\"name\"].replace(\"/\", \"-\").replace(\"'\", '')\n",
        "    if len(name) > 15:\n",
        "        name = name[:15]\n",
        "    map_osm.add_child(folium.CircleMarker([x, y], popup=name, radius=5))\n",
        "folium_html_map(map_osm, width=\"80%\")"
      ]
    },
    {
      "cell_type": "markdown",
      "metadata": {},
      "source": [
        "### Trips"
      ]
    },
    {
      "cell_type": "code",
      "execution_count": 6,
      "metadata": {},
      "outputs": [
        {
          "data": {
            "text/html": [
              "<div>\n",
              "<style scoped>\n",
              "    .dataframe tbody tr th:only-of-type {\n",
              "        vertical-align: middle;\n",
              "    }\n",
              "\n",
              "    .dataframe tbody tr th {\n",
              "        vertical-align: top;\n",
              "    }\n",
              "\n",
              "    .dataframe thead th {\n",
              "        text-align: right;\n",
              "    }\n",
              "</style>\n",
              "<table border=\"1\" class=\"dataframe\">\n",
              "  <thead>\n",
              "    <tr style=\"text-align: right;\">\n",
              "      <th></th>\n",
              "      <th>trip_id</th>\n",
              "      <th>starttime</th>\n",
              "      <th>stoptime</th>\n",
              "      <th>bikeid</th>\n",
              "      <th>tripduration</th>\n",
              "      <th>from_station_name</th>\n",
              "      <th>to_station_name</th>\n",
              "      <th>from_station_id</th>\n",
              "      <th>to_station_id</th>\n",
              "      <th>usertype</th>\n",
              "      <th>gender</th>\n",
              "      <th>birthyear</th>\n",
              "    </tr>\n",
              "  </thead>\n",
              "  <tbody>\n",
              "    <tr>\n",
              "      <th>0</th>\n",
              "      <td>431</td>\n",
              "      <td>10/13/2014 10:31</td>\n",
              "      <td>10/13/2014 10:48</td>\n",
              "      <td>SEA00298</td>\n",
              "      <td>985.935</td>\n",
              "      <td>2nd Ave &amp; Spring St</td>\n",
              "      <td>Occidental Park / Occidental Ave S &amp; S Washing...</td>\n",
              "      <td>CBD-06</td>\n",
              "      <td>PS-04</td>\n",
              "      <td>Member</td>\n",
              "      <td>Male</td>\n",
              "      <td>1960.0</td>\n",
              "    </tr>\n",
              "    <tr>\n",
              "      <th>1</th>\n",
              "      <td>432</td>\n",
              "      <td>10/13/2014 10:32</td>\n",
              "      <td>10/13/2014 10:48</td>\n",
              "      <td>SEA00195</td>\n",
              "      <td>926.375</td>\n",
              "      <td>2nd Ave &amp; Spring St</td>\n",
              "      <td>Occidental Park / Occidental Ave S &amp; S Washing...</td>\n",
              "      <td>CBD-06</td>\n",
              "      <td>PS-04</td>\n",
              "      <td>Member</td>\n",
              "      <td>Male</td>\n",
              "      <td>1970.0</td>\n",
              "    </tr>\n",
              "    <tr>\n",
              "      <th>2</th>\n",
              "      <td>433</td>\n",
              "      <td>10/13/2014 10:33</td>\n",
              "      <td>10/13/2014 10:48</td>\n",
              "      <td>SEA00486</td>\n",
              "      <td>883.831</td>\n",
              "      <td>2nd Ave &amp; Spring St</td>\n",
              "      <td>Occidental Park / Occidental Ave S &amp; S Washing...</td>\n",
              "      <td>CBD-06</td>\n",
              "      <td>PS-04</td>\n",
              "      <td>Member</td>\n",
              "      <td>Female</td>\n",
              "      <td>1988.0</td>\n",
              "    </tr>\n",
              "    <tr>\n",
              "      <th>3</th>\n",
              "      <td>434</td>\n",
              "      <td>10/13/2014 10:34</td>\n",
              "      <td>10/13/2014 10:48</td>\n",
              "      <td>SEA00333</td>\n",
              "      <td>865.937</td>\n",
              "      <td>2nd Ave &amp; Spring St</td>\n",
              "      <td>Occidental Park / Occidental Ave S &amp; S Washing...</td>\n",
              "      <td>CBD-06</td>\n",
              "      <td>PS-04</td>\n",
              "      <td>Member</td>\n",
              "      <td>Female</td>\n",
              "      <td>1977.0</td>\n",
              "    </tr>\n",
              "    <tr>\n",
              "      <th>4</th>\n",
              "      <td>435</td>\n",
              "      <td>10/13/2014 10:34</td>\n",
              "      <td>10/13/2014 10:49</td>\n",
              "      <td>SEA00202</td>\n",
              "      <td>923.923</td>\n",
              "      <td>2nd Ave &amp; Spring St</td>\n",
              "      <td>Occidental Park / Occidental Ave S &amp; S Washing...</td>\n",
              "      <td>CBD-06</td>\n",
              "      <td>PS-04</td>\n",
              "      <td>Member</td>\n",
              "      <td>Male</td>\n",
              "      <td>1971.0</td>\n",
              "    </tr>\n",
              "  </tbody>\n",
              "</table>\n",
              "</div>"
            ],
            "text/plain": [
              "   trip_id         starttime          stoptime    bikeid  tripduration  \\\n",
              "0      431  10/13/2014 10:31  10/13/2014 10:48  SEA00298       985.935   \n",
              "1      432  10/13/2014 10:32  10/13/2014 10:48  SEA00195       926.375   \n",
              "2      433  10/13/2014 10:33  10/13/2014 10:48  SEA00486       883.831   \n",
              "3      434  10/13/2014 10:34  10/13/2014 10:48  SEA00333       865.937   \n",
              "4      435  10/13/2014 10:34  10/13/2014 10:49  SEA00202       923.923   \n",
              "\n",
              "     from_station_name                                    to_station_name  \\\n",
              "0  2nd Ave & Spring St  Occidental Park / Occidental Ave S & S Washing...   \n",
              "1  2nd Ave & Spring St  Occidental Park / Occidental Ave S & S Washing...   \n",
              "2  2nd Ave & Spring St  Occidental Park / Occidental Ave S & S Washing...   \n",
              "3  2nd Ave & Spring St  Occidental Park / Occidental Ave S & S Washing...   \n",
              "4  2nd Ave & Spring St  Occidental Park / Occidental Ave S & S Washing...   \n",
              "\n",
              "  from_station_id to_station_id usertype  gender  birthyear  \n",
              "0          CBD-06         PS-04   Member    Male     1960.0  \n",
              "1          CBD-06         PS-04   Member    Male     1970.0  \n",
              "2          CBD-06         PS-04   Member  Female     1988.0  \n",
              "3          CBD-06         PS-04   Member  Female     1977.0  \n",
              "4          CBD-06         PS-04   Member    Male     1971.0  "
            ]
          },
          "execution_count": 7,
          "metadata": {},
          "output_type": "execute_result"
        }
      ],
      "source": [
        "bikes = df = pandas.read_csv(\"2016-12_trip_data.csv\")\n",
        "df.head()"
      ]
    },
    {
      "cell_type": "code",
      "execution_count": 7,
      "metadata": {},
      "outputs": [
        {
          "data": {
            "text/plain": [
              "(263136, 12)"
            ]
          },
          "execution_count": 8,
          "metadata": {},
          "output_type": "execute_result"
        }
      ],
      "source": [
        "df.shape"
      ]
    },
    {
      "cell_type": "code",
      "execution_count": 8,
      "metadata": {},
      "outputs": [],
      "source": [
        "df[\"dtstart\"] = pandas.to_datetime(df.starttime, infer_datetime_format=True)\n",
        "df[\"dtstop\"] = pandas.to_datetime(df.stoptime, infer_datetime_format=True)"
      ]
    },
    {
      "cell_type": "code",
      "execution_count": 9,
      "metadata": {},
      "outputs": [],
      "source": [
        "from datetime import datetime, time\n",
        "df[\"day\"] = pandas.to_datetime(df.dtstart)\n",
        "df[\"time\"] = df.dtstart.apply(lambda r: time(r.hour, r.minute, 0))"
      ]
    },
    {
      "cell_type": "code",
      "execution_count": 10,
      "metadata": {},
      "outputs": [
        {
          "data": {
            "text/plain": [
              "<matplotlib.axes._subplots.AxesSubplot at 0x198a0e38240>"
            ]
          },
          "execution_count": 11,
          "metadata": {},
          "output_type": "execute_result"
        },
        {
          "data": {
            "image/png": "[encoded data removed]",
            "text/plain": [
              "<matplotlib.figure.Figure at 0x1989ea3eac8>"
            ]
          },
          "metadata": {},
          "output_type": "display_data"
        }
      ],
      "source": [
        "df.day.hist(figsize=(14,4), bins=100)"
      ]
    },
    {
      "cell_type": "code",
      "execution_count": 11,
      "metadata": {},
      "outputs": [
        {
          "data": {
            "text/plain": [
              "(0, 1439)"
            ]
          },
          "execution_count": 12,
          "metadata": {},
          "output_type": "execute_result"
        }
      ],
      "source": [
        "icro = df.time.apply(lambda t: t.hour * 60 + t.minute)\n",
        "icro.min(), icro.max()"
      ]
    },
    {
      "cell_type": "code",
      "execution_count": 12,
      "metadata": {
        "scrolled": false
      },
      "outputs": [
        {
          "data": {
            "text/plain": [
              "<matplotlib.axes._subplots.AxesSubplot at 0x1989e831b70>"
            ]
          },
          "execution_count": 13,
          "metadata": {},
          "output_type": "execute_result"
        },
        {
          "data": {
            "image/png": "[encoded data removed]",
            "text/plain": [
              "<matplotlib.figure.Figure at 0x198a0159f60>"
            ]
          },
          "metadata": {},
          "output_type": "display_data"
        }
      ],
      "source": [
        "icro.hist(figsize=(14,4), bins=100)"
      ]
    },
    {
      "cell_type": "code",
      "execution_count": 13,
      "metadata": {},
      "outputs": [
        {
          "data": {
            "text/plain": [
              "<matplotlib.axes._subplots.AxesSubplot at 0x198a390a278>"
            ]
          },
          "execution_count": 14,
          "metadata": {},
          "output_type": "execute_result"
        },
        {
          "data": {
            "image/png": "[encoded data removed]",
            "text/plain": [
              "<matplotlib.figure.Figure at 0x1989eb89eb8>"
            ]
          },
          "metadata": {},
          "output_type": "display_data"
        }
      ],
      "source": [
        "june = df[(df.dtstart >= datetime(2016,6,1)) & (df.dtstart < datetime(2016,7,1))]\n",
        "june.day.hist(figsize=(14,4), bins=30)"
      ]
    },
    {
      "cell_type": "code",
      "execution_count": 14,
      "metadata": {},
      "outputs": [],
      "source": [
        "june11 = june[(june.dtstart >= datetime(2016,6,11)) & (june.dtstart < datetime(2016,6,12))].copy()"
      ]
    },
    {
      "cell_type": "code",
      "execution_count": 15,
      "metadata": {},
      "outputs": [
        {
          "data": {
            "text/html": [
              "<div>\n",
              "<style scoped>\n",
              "    .dataframe tbody tr th:only-of-type {\n",
              "        vertical-align: middle;\n",
              "    }\n",
              "\n",
              "    .dataframe tbody tr th {\n",
              "        vertical-align: top;\n",
              "    }\n",
              "\n",
              "    .dataframe thead th {\n",
              "        text-align: right;\n",
              "    }\n",
              "</style>\n",
              "<table border=\"1\" class=\"dataframe\">\n",
              "  <thead>\n",
              "    <tr style=\"text-align: right;\">\n",
              "      <th></th>\n",
              "      <th>trip_id</th>\n",
              "    </tr>\n",
              "    <tr>\n",
              "      <th>from_station_id</th>\n",
              "      <th></th>\n",
              "    </tr>\n",
              "  </thead>\n",
              "  <tbody>\n",
              "    <tr>\n",
              "      <th>WF-01</th>\n",
              "      <td>28</td>\n",
              "    </tr>\n",
              "    <tr>\n",
              "      <th>SLU-02</th>\n",
              "      <td>25</td>\n",
              "    </tr>\n",
              "    <tr>\n",
              "      <th>EL-01</th>\n",
              "      <td>22</td>\n",
              "    </tr>\n",
              "    <tr>\n",
              "      <th>SLU-19</th>\n",
              "      <td>21</td>\n",
              "    </tr>\n",
              "    <tr>\n",
              "      <th>WF-04</th>\n",
              "      <td>19</td>\n",
              "    </tr>\n",
              "    <tr>\n",
              "      <th>PS-04</th>\n",
              "      <td>19</td>\n",
              "    </tr>\n",
              "    <tr>\n",
              "      <th>BT-01</th>\n",
              "      <td>18</td>\n",
              "    </tr>\n",
              "    <tr>\n",
              "      <th>BT-05</th>\n",
              "      <td>14</td>\n",
              "    </tr>\n",
              "    <tr>\n",
              "      <th>CBD-13</th>\n",
              "      <td>13</td>\n",
              "    </tr>\n",
              "    <tr>\n",
              "      <th>UD-01</th>\n",
              "      <td>12</td>\n",
              "    </tr>\n",
              "    <tr>\n",
              "      <th>SLU-18</th>\n",
              "      <td>12</td>\n",
              "    </tr>\n",
              "    <tr>\n",
              "      <th>CBD-06</th>\n",
              "      <td>11</td>\n",
              "    </tr>\n",
              "    <tr>\n",
              "      <th>CH-16</th>\n",
              "      <td>11</td>\n",
              "    </tr>\n",
              "    <tr>\n",
              "      <th>CH-02</th>\n",
              "      <td>11</td>\n",
              "    </tr>\n",
              "    <tr>\n",
              "      <th>SLU-23</th>\n",
              "      <td>11</td>\n",
              "    </tr>\n",
              "    <tr>\n",
              "      <th>CH-08</th>\n",
              "      <td>11</td>\n",
              "    </tr>\n",
              "    <tr>\n",
              "      <th>SLU-01</th>\n",
              "      <td>10</td>\n",
              "    </tr>\n",
              "    <tr>\n",
              "      <th>PS-05</th>\n",
              "      <td>10</td>\n",
              "    </tr>\n",
              "    <tr>\n",
              "      <th>UW-07</th>\n",
              "      <td>9</td>\n",
              "    </tr>\n",
              "    <tr>\n",
              "      <th>UW-10</th>\n",
              "      <td>8</td>\n",
              "    </tr>\n",
              "  </tbody>\n",
              "</table>\n",
              "</div>"
            ],
            "text/plain": [
              "                 trip_id\n",
              "from_station_id         \n",
              "WF-01                 28\n",
              "SLU-02                25\n",
              "EL-01                 22\n",
              "SLU-19                21\n",
              "WF-04                 19\n",
              "PS-04                 19\n",
              "BT-01                 18\n",
              "BT-05                 14\n",
              "CBD-13                13\n",
              "UD-01                 12\n",
              "SLU-18                12\n",
              "CBD-06                11\n",
              "CH-16                 11\n",
              "CH-02                 11\n",
              "SLU-23                11\n",
              "CH-08                 11\n",
              "SLU-01                10\n",
              "PS-05                 10\n",
              "UW-07                  9\n",
              "UW-10                  8"
            ]
          },
          "execution_count": 16,
          "metadata": {},
          "output_type": "execute_result"
        }
      ],
      "source": [
        "june11[[\"from_station_id\", \"trip_id\"]].groupby(\"from_station_id\") \\\n",
        "         .count().sort_values(\"trip_id\", ascending=False).head(n=20)"
      ]
    },
    {
      "cell_type": "markdown",
      "metadata": {},
      "source": [
        "Too few values..."
      ]
    },
    {
      "cell_type": "code",
      "execution_count": 16,
      "metadata": {},
      "outputs": [],
      "source": []
    }
  ],
  "metadata": {
    "kernelspec": {
      "display_name": "Python 3",
      "language": "python",
      "name": "python3"
    }
  },
  "nbformat": 4,
  "nbformat_minor": 2
}