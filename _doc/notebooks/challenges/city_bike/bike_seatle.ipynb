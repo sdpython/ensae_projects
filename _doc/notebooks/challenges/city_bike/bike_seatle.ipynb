{
  "cells": [
    {
      "cell_type": "markdown",
      "metadata": {},
      "source": [
        "# Seattle\n",
        "\n",
        "This notebooks displays some of the data available at [Pronto Open Data](http://www.prontocycleshare.com/data). We assume the data was downloaded."
      ]
    },
    {
      "cell_type": "code",
      "execution_count": 1,
      "metadata": {},
      "outputs": [
        {
          "data": {
            "text/html": [
              "<div id=\"my_id_menu_nb\">run previous cell, wait for 2 seconds</div>\n",
              "<script>\n",
              "function repeat_indent_string(n){\n",
              "    var a = \"\" ;\n",
              "    for ( ; n > 0 ; --n)\n",
              "        a += \"    \";\n",
              "    return a;\n",
              "}\n",
              "var update_menu_string = function(begin, lfirst, llast, sformat, send, keep_item, begin_format, end_format) {\n",
              "    var anchors = document.getElementsByClassName(\"section\");\n",
              "    if (anchors.length == 0) {\n",
              "        anchors = document.getElementsByClassName(\"text_cell_render rendered_html\");\n",
              "    }\n",
              "    var i,t;\n",
              "    var text_menu = begin;\n",
              "    var text_memo = \"<pre>\\nlength:\" + anchors.length + \"\\n\";\n",
              "    var ind = \"\";\n",
              "    var memo_level = 1;\n",
              "    var href;\n",
              "    var tags = [];\n",
              "    var main_item = 0;\n",
              "    var format_open = 0;\n",
              "    for (i = 0; i <= llast; i++)\n",
              "        tags.push(\"h\" + i);\n",
              "\n",
              "    for (i = 0; i < anchors.length; i++) {\n",
              "        text_memo += \"**\" + anchors[i].id + \"--\\n\";\n",
              "\n",
              "        var child = null;\n",
              "        for(t = 0; t < tags.length; t++) {\n",
              "            var r = anchors[i].getElementsByTagName(tags[t]);\n",
              "            if (r.length > 0) {\n",
              "child = r[0];\n",
              "break;\n",
              "            }\n",
              "        }\n",
              "        if (child == null) {\n",
              "            text_memo += \"null\\n\";\n",
              "            continue;\n",
              "        }\n",
              "        if (anchors[i].hasAttribute(\"id\")) {\n",
              "            // when converted in RST\n",
              "            href = anchors[i].id;\n",
              "            text_memo += \"#1-\" + href;\n",
              "            // passer \u00e0 child suivant (le chercher)\n",
              "        }\n",
              "        else if (child.hasAttribute(\"id\")) {\n",
              "            // in a notebook\n",
              "            href = child.id;\n",
              "            text_memo += \"#2-\" + href;\n",
              "        }\n",
              "        else {\n",
              "            text_memo += \"#3-\" + \"*\" + \"\\n\";\n",
              "            continue;\n",
              "        }\n",
              "        var title = child.textContent;\n",
              "        var level = parseInt(child.tagName.substring(1,2));\n",
              "\n",
              "        text_memo += \"--\" + level + \"?\" + lfirst + \"--\" + title + \"\\n\";\n",
              "\n",
              "        if ((level < lfirst) || (level > llast)) {\n",
              "            continue ;\n",
              "        }\n",
              "        if (title.endsWith('\u00b6')) {\n",
              "            title = title.substring(0,title.length-1).replace(\"<\", \"&lt;\")\n",
              "         .replace(\">\", \"&gt;\").replace(\"&\", \"&amp;\");\n",
              "        }\n",
              "        if (title.length == 0) {\n",
              "            continue;\n",
              "        }\n",
              "\n",
              "        while (level < memo_level) {\n",
              "            text_menu += end_format + \"</ul>\\n\";\n",
              "            format_open -= 1;\n",
              "            memo_level -= 1;\n",
              "        }\n",
              "        if (level == lfirst) {\n",
              "            main_item += 1;\n",
              "        }\n",
              "        if (keep_item != -1 && main_item != keep_item + 1) {\n",
              "            // alert(main_item + \" - \" + level + \" - \" + keep_item);\n",
              "            continue;\n",
              "        }\n",
              "        while (level > memo_level) {\n",
              "            text_menu += \"<ul>\\n\";\n",
              "            memo_level += 1;\n",
              "        }\n",
              "        text_menu += repeat_indent_string(level-2);\n",
              "        text_menu += begin_format + sformat.replace(\"__HREF__\", href).replace(\"__TITLE__\", title);\n",
              "        format_open += 1;\n",
              "    }\n",
              "    while (1 < memo_level) {\n",
              "        text_menu += end_format + \"</ul>\\n\";\n",
              "        memo_level -= 1;\n",
              "        format_open -= 1;\n",
              "    }\n",
              "    text_menu += send;\n",
              "    //text_menu += \"\\n\" + text_memo;\n",
              "\n",
              "    while (format_open > 0) {\n",
              "        text_menu += end_format;\n",
              "        format_open -= 1;\n",
              "    }\n",
              "    return text_menu;\n",
              "};\n",
              "var update_menu = function() {\n",
              "    var sbegin = \"\";\n",
              "    var sformat = '<a href=\"#__HREF__\">__TITLE__</a>';\n",
              "    var send = \"\";\n",
              "    var begin_format = '<li>';\n",
              "    var end_format = '</li>';\n",
              "    var keep_item = -1;\n",
              "    var text_menu = update_menu_string(sbegin, 2, 4, sformat, send, keep_item,\n",
              "       begin_format, end_format);\n",
              "    var menu = document.getElementById(\"my_id_menu_nb\");\n",
              "    menu.innerHTML=text_menu;\n",
              "};\n",
              "window.setTimeout(update_menu,2000);\n",
              "            </script>"
            ],
            "text/plain": [
              "<IPython.core.display.HTML object>"
            ]
          },
          "execution_count": 2,
          "metadata": {},
          "output_type": "execute_result"
        }
      ],
      "source": [
        "from jyquickhelper import add_notebook_menu\n",
        "add_notebook_menu()"
      ]
    },
    {
      "cell_type": "code",
      "execution_count": 3,
      "metadata": {
        "collapsed": true
      },
      "outputs": [],
      "source": [
        "%matplotlib inline"
      ]
    },
    {
      "cell_type": "markdown",
      "metadata": {},
      "source": [
        "## Data"
      ]
    },
    {
      "cell_type": "code",
      "execution_count": 4,
      "metadata": {
        "collapsed": true
      },
      "outputs": [],
      "source": [
        "from pyensae.datasource import download_data\n",
        "file = download_data(\"open_data_2016-12.zip\", url=\"https://s3.amazonaws.com/pronto-data/\")"
      ]
    },
    {
      "cell_type": "markdown",
      "metadata": {},
      "source": [
        "### Stations"
      ]
    },
    {
      "cell_type": "code",
      "execution_count": 5,
      "metadata": {},
      "outputs": [
        {
          "data": {
            "text/html": [
              "<div>\n",
              "<style>\n",
              "    .dataframe thead tr:only-child th {\n",
              "        text-align: right;\n",
              "    }\n",
              "\n",
              "    .dataframe thead th {\n",
              "        text-align: left;\n",
              "    }\n",
              "\n",
              "    .dataframe tbody tr th {\n",
              "        vertical-align: top;\n",
              "    }\n",
              "</style>\n",
              "<table border=\"1\" class=\"dataframe\">\n",
              "  <thead>\n",
              "    <tr style=\"text-align: right;\">\n",
              "      <th></th>\n",
              "      <th>station_id</th>\n",
              "      <th>name</th>\n",
              "      <th>lat</th>\n",
              "      <th>long</th>\n",
              "      <th>install_date</th>\n",
              "      <th>install_dockcount</th>\n",
              "      <th>modification_date</th>\n",
              "      <th>current_dockcount</th>\n",
              "      <th>decommission_date</th>\n",
              "    </tr>\n",
              "  </thead>\n",
              "  <tbody>\n",
              "    <tr>\n",
              "      <th>0</th>\n",
              "      <td>CH-06</td>\n",
              "      <td>12th Ave &amp; E Denny Way</td>\n",
              "      <td>47.618549</td>\n",
              "      <td>-122.317017</td>\n",
              "      <td>10/13/2014</td>\n",
              "      <td>16</td>\n",
              "      <td>NaN</td>\n",
              "      <td>16</td>\n",
              "      <td>NaN</td>\n",
              "    </tr>\n",
              "    <tr>\n",
              "      <th>1</th>\n",
              "      <td>CH-15</td>\n",
              "      <td>12th Ave &amp; E Mercer St</td>\n",
              "      <td>47.624142</td>\n",
              "      <td>-122.316811</td>\n",
              "      <td>10/13/2014</td>\n",
              "      <td>16</td>\n",
              "      <td>NaN</td>\n",
              "      <td>16</td>\n",
              "      <td>NaN</td>\n",
              "    </tr>\n",
              "    <tr>\n",
              "      <th>2</th>\n",
              "      <td>CD-01</td>\n",
              "      <td>12th Ave &amp; E Yesler Way</td>\n",
              "      <td>47.602103</td>\n",
              "      <td>-122.316923</td>\n",
              "      <td>5/22/2015</td>\n",
              "      <td>16</td>\n",
              "      <td>8/9/2016</td>\n",
              "      <td>0</td>\n",
              "      <td>8/9/2016</td>\n",
              "    </tr>\n",
              "    <tr>\n",
              "      <th>3</th>\n",
              "      <td>UD-04</td>\n",
              "      <td>12th Ave &amp; NE Campus Pkwy</td>\n",
              "      <td>47.656395</td>\n",
              "      <td>-122.315620</td>\n",
              "      <td>10/13/2014</td>\n",
              "      <td>16</td>\n",
              "      <td>NaN</td>\n",
              "      <td>16</td>\n",
              "      <td>NaN</td>\n",
              "    </tr>\n",
              "    <tr>\n",
              "      <th>4</th>\n",
              "      <td>CH-05</td>\n",
              "      <td>15th Ave E &amp; E Thomas St</td>\n",
              "      <td>47.620712</td>\n",
              "      <td>-122.312805</td>\n",
              "      <td>10/13/2014</td>\n",
              "      <td>16</td>\n",
              "      <td>NaN</td>\n",
              "      <td>16</td>\n",
              "      <td>NaN</td>\n",
              "    </tr>\n",
              "  </tbody>\n",
              "</table>\n",
              "</div>"
            ],
            "text/plain": [
              "  station_id                       name        lat        long install_date  \\\n",
              "0      CH-06     12th Ave & E Denny Way  47.618549 -122.317017   10/13/2014   \n",
              "1      CH-15     12th Ave & E Mercer St  47.624142 -122.316811   10/13/2014   \n",
              "2      CD-01    12th Ave & E Yesler Way  47.602103 -122.316923    5/22/2015   \n",
              "3      UD-04  12th Ave & NE Campus Pkwy  47.656395 -122.315620   10/13/2014   \n",
              "4      CH-05   15th Ave E & E Thomas St  47.620712 -122.312805   10/13/2014   \n",
              "\n",
              "   install_dockcount modification_date  current_dockcount decommission_date  \n",
              "0                 16               NaN                 16               NaN  \n",
              "1                 16               NaN                 16               NaN  \n",
              "2                 16          8/9/2016                  0          8/9/2016  \n",
              "3                 16               NaN                 16               NaN  \n",
              "4                 16               NaN                 16               NaN  "
            ]
          },
          "execution_count": 6,
          "metadata": {},
          "output_type": "execute_result"
        }
      ],
      "source": [
        "import pandas\n",
        "stations = df = pandas.read_csv(\"2016-12_station_data.csv\")\n",
        "df.head()"
      ]
    },
    {
      "cell_type": "code",
      "execution_count": 7,
      "metadata": {},
      "outputs": [
        {
          "data": {
            "text/html": [
              "<div style=\"width:80%;\"><div style=\"position:relative;width:100%;height:0;padding-bottom:60%;\"><iframe src=\"data:text/html;charset=utf-8;base64,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\" style=\"position:absolute;width:100%;height:100%;left:0;top:0;border:none !important;\" allowfullscreen webkitallowfullscreen mozallowfullscreen></iframe></div></div>"
            ],
            "text/plain": [
              "<pyensae.notebook_helper.folium_helper.folium_html_map.<locals>.CustomFoliumMap at 0x1d1dbf2f828>"
            ]
          },
          "execution_count": 8,
          "metadata": {},
          "output_type": "execute_result"
        }
      ],
      "source": [
        "import folium\n",
        "from pyensae.notebook_helper import folium_html_map\n",
        "minx, maxx = df.lat.min(), df.lat.max()\n",
        "miny, maxy = df.long.min(), df.long.max()\n",
        "map_osm = folium.Map(location=[47.618549, -122.317017], \n",
        "                     min_lat=minx, max_lat=maxx, min_lon=miny, max_lon=maxy, zoom_start=12)\n",
        "for i, rows in enumerate(df.to_dict(\"records\")):\n",
        "    x,y = rows[\"lat\"], rows[\"long\"]\n",
        "    # folium does not like quotes in strings.\n",
        "    name = rows[\"name\"].replace(\"/\", \"-\").replace(\"'\", '')\n",
        "    if len(name) > 15:\n",
        "        name = name[:15]\n",
        "    map_osm.add_child(folium.CircleMarker([x, y], popup=name, radius=5))\n",
        "folium_html_map(map_osm, width=\"80%\")"
      ]
    },
    {
      "cell_type": "markdown",
      "metadata": {},
      "source": [
        "### Trips"
      ]
    },
    {
      "cell_type": "code",
      "execution_count": 9,
      "metadata": {},
      "outputs": [
        {
          "data": {
            "text/html": [
              "<div>\n",
              "<style>\n",
              "    .dataframe thead tr:only-child th {\n",
              "        text-align: right;\n",
              "    }\n",
              "\n",
              "    .dataframe thead th {\n",
              "        text-align: left;\n",
              "    }\n",
              "\n",
              "    .dataframe tbody tr th {\n",
              "        vertical-align: top;\n",
              "    }\n",
              "</style>\n",
              "<table border=\"1\" class=\"dataframe\">\n",
              "  <thead>\n",
              "    <tr style=\"text-align: right;\">\n",
              "      <th></th>\n",
              "      <th>trip_id</th>\n",
              "      <th>starttime</th>\n",
              "      <th>stoptime</th>\n",
              "      <th>bikeid</th>\n",
              "      <th>tripduration</th>\n",
              "      <th>from_station_name</th>\n",
              "      <th>to_station_name</th>\n",
              "      <th>from_station_id</th>\n",
              "      <th>to_station_id</th>\n",
              "      <th>usertype</th>\n",
              "      <th>gender</th>\n",
              "      <th>birthyear</th>\n",
              "    </tr>\n",
              "  </thead>\n",
              "  <tbody>\n",
              "    <tr>\n",
              "      <th>0</th>\n",
              "      <td>431</td>\n",
              "      <td>10/13/2014 10:31</td>\n",
              "      <td>10/13/2014 10:48</td>\n",
              "      <td>SEA00298</td>\n",
              "      <td>985.935</td>\n",
              "      <td>2nd Ave &amp; Spring St</td>\n",
              "      <td>Occidental Park / Occidental Ave S &amp; S Washing...</td>\n",
              "      <td>CBD-06</td>\n",
              "      <td>PS-04</td>\n",
              "      <td>Member</td>\n",
              "      <td>Male</td>\n",
              "      <td>1960.0</td>\n",
              "    </tr>\n",
              "    <tr>\n",
              "      <th>1</th>\n",
              "      <td>432</td>\n",
              "      <td>10/13/2014 10:32</td>\n",
              "      <td>10/13/2014 10:48</td>\n",
              "      <td>SEA00195</td>\n",
              "      <td>926.375</td>\n",
              "      <td>2nd Ave &amp; Spring St</td>\n",
              "      <td>Occidental Park / Occidental Ave S &amp; S Washing...</td>\n",
              "      <td>CBD-06</td>\n",
              "      <td>PS-04</td>\n",
              "      <td>Member</td>\n",
              "      <td>Male</td>\n",
              "      <td>1970.0</td>\n",
              "    </tr>\n",
              "    <tr>\n",
              "      <th>2</th>\n",
              "      <td>433</td>\n",
              "      <td>10/13/2014 10:33</td>\n",
              "      <td>10/13/2014 10:48</td>\n",
              "      <td>SEA00486</td>\n",
              "      <td>883.831</td>\n",
              "      <td>2nd Ave &amp; Spring St</td>\n",
              "      <td>Occidental Park / Occidental Ave S &amp; S Washing...</td>\n",
              "      <td>CBD-06</td>\n",
              "      <td>PS-04</td>\n",
              "      <td>Member</td>\n",
              "      <td>Female</td>\n",
              "      <td>1988.0</td>\n",
              "    </tr>\n",
              "    <tr>\n",
              "      <th>3</th>\n",
              "      <td>434</td>\n",
              "      <td>10/13/2014 10:34</td>\n",
              "      <td>10/13/2014 10:48</td>\n",
              "      <td>SEA00333</td>\n",
              "      <td>865.937</td>\n",
              "      <td>2nd Ave &amp; Spring St</td>\n",
              "      <td>Occidental Park / Occidental Ave S &amp; S Washing...</td>\n",
              "      <td>CBD-06</td>\n",
              "      <td>PS-04</td>\n",
              "      <td>Member</td>\n",
              "      <td>Female</td>\n",
              "      <td>1977.0</td>\n",
              "    </tr>\n",
              "    <tr>\n",
              "      <th>4</th>\n",
              "      <td>435</td>\n",
              "      <td>10/13/2014 10:34</td>\n",
              "      <td>10/13/2014 10:49</td>\n",
              "      <td>SEA00202</td>\n",
              "      <td>923.923</td>\n",
              "      <td>2nd Ave &amp; Spring St</td>\n",
              "      <td>Occidental Park / Occidental Ave S &amp; S Washing...</td>\n",
              "      <td>CBD-06</td>\n",
              "      <td>PS-04</td>\n",
              "      <td>Member</td>\n",
              "      <td>Male</td>\n",
              "      <td>1971.0</td>\n",
              "    </tr>\n",
              "  </tbody>\n",
              "</table>\n",
              "</div>"
            ],
            "text/plain": [
              "   trip_id         starttime          stoptime    bikeid  tripduration  \\\n",
              "0      431  10/13/2014 10:31  10/13/2014 10:48  SEA00298       985.935   \n",
              "1      432  10/13/2014 10:32  10/13/2014 10:48  SEA00195       926.375   \n",
              "2      433  10/13/2014 10:33  10/13/2014 10:48  SEA00486       883.831   \n",
              "3      434  10/13/2014 10:34  10/13/2014 10:48  SEA00333       865.937   \n",
              "4      435  10/13/2014 10:34  10/13/2014 10:49  SEA00202       923.923   \n",
              "\n",
              "     from_station_name                                    to_station_name  \\\n",
              "0  2nd Ave & Spring St  Occidental Park / Occidental Ave S & S Washing...   \n",
              "1  2nd Ave & Spring St  Occidental Park / Occidental Ave S & S Washing...   \n",
              "2  2nd Ave & Spring St  Occidental Park / Occidental Ave S & S Washing...   \n",
              "3  2nd Ave & Spring St  Occidental Park / Occidental Ave S & S Washing...   \n",
              "4  2nd Ave & Spring St  Occidental Park / Occidental Ave S & S Washing...   \n",
              "\n",
              "  from_station_id to_station_id usertype  gender  birthyear  \n",
              "0          CBD-06         PS-04   Member    Male     1960.0  \n",
              "1          CBD-06         PS-04   Member    Male     1970.0  \n",
              "2          CBD-06         PS-04   Member  Female     1988.0  \n",
              "3          CBD-06         PS-04   Member  Female     1977.0  \n",
              "4          CBD-06         PS-04   Member    Male     1971.0  "
            ]
          },
          "execution_count": 10,
          "metadata": {},
          "output_type": "execute_result"
        }
      ],
      "source": [
        "bikes = df = pandas.read_csv(\"2016-12_trip_data.csv\")\n",
        "df.head()"
      ]
    },
    {
      "cell_type": "code",
      "execution_count": 11,
      "metadata": {},
      "outputs": [
        {
          "data": {
            "text/plain": [
              "(263136, 12)"
            ]
          },
          "execution_count": 12,
          "metadata": {},
          "output_type": "execute_result"
        }
      ],
      "source": [
        "df.shape"
      ]
    },
    {
      "cell_type": "code",
      "execution_count": 13,
      "metadata": {},
      "outputs": [],
      "source": [
        "df[\"dtstart\"] = pandas.to_datetime(df.starttime, infer_datetime_format=True)\n",
        "df[\"dtstop\"] = pandas.to_datetime(df.stoptime, infer_datetime_format=True)"
      ]
    },
    {
      "cell_type": "code",
      "execution_count": 14,
      "metadata": {
        "collapsed": true
      },
      "outputs": [],
      "source": [
        "from datetime import datetime, time\n",
        "df[\"day\"] = df.dtstart.apply(lambda r: datetime(r.year, r.month, r.day))\n",
        "df[\"time\"] = df.dtstart.apply(lambda r: time(r.hour, r.minute, 0))"
      ]
    },
    {
      "cell_type": "code",
      "execution_count": 15,
      "metadata": {},
      "outputs": [
        {
          "data": {
            "text/plain": [
              "<matplotlib.axes._subplots.AxesSubplot at 0x1d1db6e5358>"
            ]
          },
          "execution_count": 16,
          "metadata": {},
          "output_type": "execute_result"
        },
        {
          "data": {
            "image/png": "[encoded data removed]",
            "text/plain": [
              "<matplotlib.figure.Figure at 0x1d1d9071a58>"
            ]
          },
          "metadata": {},
          "output_type": "display_data"
        }
      ],
      "source": [
        "df.day.hist(figsize=(14,4), bins=100)"
      ]
    },
    {
      "cell_type": "code",
      "execution_count": 17,
      "metadata": {},
      "outputs": [
        {
          "data": {
            "text/plain": [
              "(0, 1439)"
            ]
          },
          "execution_count": 18,
          "metadata": {},
          "output_type": "execute_result"
        }
      ],
      "source": [
        "icro = df.time.apply(lambda t: t.hour * 60 + t.minute)\n",
        "icro.min(), icro.max()"
      ]
    },
    {
      "cell_type": "code",
      "execution_count": 19,
      "metadata": {
        "scrolled": false
      },
      "outputs": [
        {
          "data": {
            "text/plain": [
              "<matplotlib.axes._subplots.AxesSubplot at 0x1d1df0fdf98>"
            ]
          },
          "execution_count": 20,
          "metadata": {},
          "output_type": "execute_result"
        },
        {
          "data": {
            "image/png": "[encoded data removed]",
            "text/plain": [
              "<matplotlib.figure.Figure at 0x1d1dbfbb4e0>"
            ]
          },
          "metadata": {},
          "output_type": "display_data"
        }
      ],
      "source": [
        "icro.hist(figsize=(14,4), bins=100)"
      ]
    },
    {
      "cell_type": "code",
      "execution_count": 21,
      "metadata": {},
      "outputs": [
        {
          "data": {
            "text/plain": [
              "<matplotlib.axes._subplots.AxesSubplot at 0x1d1dbf96048>"
            ]
          },
          "execution_count": 22,
          "metadata": {},
          "output_type": "execute_result"
        },
        {
          "data": {
            "image/png": "[encoded data removed]",
            "text/plain": [
              "<matplotlib.figure.Figure at 0x1d1d90c4908>"
            ]
          },
          "metadata": {},
          "output_type": "display_data"
        }
      ],
      "source": [
        "june = df[(df.dtstart >= datetime(2016,6,1)) & (df.dtstart < datetime(2016,7,1))]\n",
        "june.day.hist(figsize=(14,4), bins=30)"
      ]
    },
    {
      "cell_type": "code",
      "execution_count": 23,
      "metadata": {},
      "outputs": [],
      "source": [
        "june11 = june[(june.dtstart >= datetime(2016,6,11)) & (june.dtstart < datetime(2016,6,12))].copy()"
      ]
    },
    {
      "cell_type": "code",
      "execution_count": 24,
      "metadata": {},
      "outputs": [
        {
          "data": {
            "text/html": [
              "<div>\n",
              "<style>\n",
              "    .dataframe thead tr:only-child th {\n",
              "        text-align: right;\n",
              "    }\n",
              "\n",
              "    .dataframe thead th {\n",
              "        text-align: left;\n",
              "    }\n",
              "\n",
              "    .dataframe tbody tr th {\n",
              "        vertical-align: top;\n",
              "    }\n",
              "</style>\n",
              "<table border=\"1\" class=\"dataframe\">\n",
              "  <thead>\n",
              "    <tr style=\"text-align: right;\">\n",
              "      <th></th>\n",
              "      <th>trip_id</th>\n",
              "    </tr>\n",
              "    <tr>\n",
              "      <th>from_station_id</th>\n",
              "      <th></th>\n",
              "    </tr>\n",
              "  </thead>\n",
              "  <tbody>\n",
              "    <tr>\n",
              "      <th>WF-01</th>\n",
              "      <td>28</td>\n",
              "    </tr>\n",
              "    <tr>\n",
              "      <th>SLU-02</th>\n",
              "      <td>25</td>\n",
              "    </tr>\n",
              "    <tr>\n",
              "      <th>EL-01</th>\n",
              "      <td>22</td>\n",
              "    </tr>\n",
              "    <tr>\n",
              "      <th>SLU-19</th>\n",
              "      <td>21</td>\n",
              "    </tr>\n",
              "    <tr>\n",
              "      <th>WF-04</th>\n",
              "      <td>19</td>\n",
              "    </tr>\n",
              "    <tr>\n",
              "      <th>PS-04</th>\n",
              "      <td>19</td>\n",
              "    </tr>\n",
              "    <tr>\n",
              "      <th>BT-01</th>\n",
              "      <td>18</td>\n",
              "    </tr>\n",
              "    <tr>\n",
              "      <th>BT-05</th>\n",
              "      <td>14</td>\n",
              "    </tr>\n",
              "    <tr>\n",
              "      <th>CBD-13</th>\n",
              "      <td>13</td>\n",
              "    </tr>\n",
              "    <tr>\n",
              "      <th>UD-01</th>\n",
              "      <td>12</td>\n",
              "    </tr>\n",
              "    <tr>\n",
              "      <th>SLU-18</th>\n",
              "      <td>12</td>\n",
              "    </tr>\n",
              "    <tr>\n",
              "      <th>CBD-06</th>\n",
              "      <td>11</td>\n",
              "    </tr>\n",
              "    <tr>\n",
              "      <th>CH-16</th>\n",
              "      <td>11</td>\n",
              "    </tr>\n",
              "    <tr>\n",
              "      <th>CH-02</th>\n",
              "      <td>11</td>\n",
              "    </tr>\n",
              "    <tr>\n",
              "      <th>SLU-23</th>\n",
              "      <td>11</td>\n",
              "    </tr>\n",
              "    <tr>\n",
              "      <th>CH-08</th>\n",
              "      <td>11</td>\n",
              "    </tr>\n",
              "    <tr>\n",
              "      <th>SLU-01</th>\n",
              "      <td>10</td>\n",
              "    </tr>\n",
              "    <tr>\n",
              "      <th>PS-05</th>\n",
              "      <td>10</td>\n",
              "    </tr>\n",
              "    <tr>\n",
              "      <th>UW-07</th>\n",
              "      <td>9</td>\n",
              "    </tr>\n",
              "    <tr>\n",
              "      <th>UW-10</th>\n",
              "      <td>8</td>\n",
              "    </tr>\n",
              "  </tbody>\n",
              "</table>\n",
              "</div>"
            ],
            "text/plain": [
              "                 trip_id\n",
              "from_station_id         \n",
              "WF-01                 28\n",
              "SLU-02                25\n",
              "EL-01                 22\n",
              "SLU-19                21\n",
              "WF-04                 19\n",
              "PS-04                 19\n",
              "BT-01                 18\n",
              "BT-05                 14\n",
              "CBD-13                13\n",
              "UD-01                 12\n",
              "SLU-18                12\n",
              "CBD-06                11\n",
              "CH-16                 11\n",
              "CH-02                 11\n",
              "SLU-23                11\n",
              "CH-08                 11\n",
              "SLU-01                10\n",
              "PS-05                 10\n",
              "UW-07                  9\n",
              "UW-10                  8"
            ]
          },
          "execution_count": 25,
          "metadata": {},
          "output_type": "execute_result"
        }
      ],
      "source": [
        "june11[[\"from_station_id\", \"trip_id\"]].groupby(\"from_station_id\") \\\n",
        "         .count().sort_values(\"trip_id\", ascending=False).head(n=20)"
      ]
    },
    {
      "cell_type": "markdown",
      "metadata": {},
      "source": [
        "Too few values..."
      ]
    },
    {
      "cell_type": "code",
      "execution_count": 26,
      "metadata": {
        "collapsed": true
      },
      "outputs": [],
      "source": []
    }
  ],
  "metadata": {
    "kernelspec": {
      "display_name": "Python 3",
      "language": "python",
      "name": "python3"
    },
    "language_info": {
      "codemirror_mode": {
        "name": "ipython",
        "version": 3
      },
      "file_extension": ".py",
      "mimetype": "text/x-python",
      "name": "python",
      "nbconvert_exporter": "python",
      "pygments_lexer": "ipython3",
      "version": "3.6.1"
    }
  },
  "nbformat": 4,
  "nbformat_minor": 2
}