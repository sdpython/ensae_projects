{
  "cells": [
    {
      "cell_type": "markdown",
      "metadata": {},
      "source": [
        "# Seattle\n",
        "\n",
        "This notebooks displays some of the data available at [Pronto Open Data](http://www.prontocycleshare.com/data). We assume the data was downloaded."
      ]
    },
    {
      "cell_type": "code",
      "execution_count": 1,
      "metadata": {},
      "outputs": [
        {
          "data": {
            "text/html": [
              "<div id=\"my_id_menu_nb\">run previous cell, wait for 2 seconds</div>\n",
              "<script>\n",
              "function repeat_indent_string(n){\n",
              "    var a = \"\" ;\n",
              "    for ( ; n > 0 ; --n)\n",
              "        a += \"    \";\n",
              "    return a;\n",
              "}\n",
              "// look up into all sections and builds an automated menu //\n",
              "var update_menu_string = function(begin, lfirst, llast, sformat, send, keep_item, begin_format, end_format) {\n",
              "    var anchors = document.getElementsByClassName(\"section\");\n",
              "    if (anchors.length == 0) {\n",
              "        anchors = document.getElementsByClassName(\"text_cell_render rendered_html\");\n",
              "    }\n",
              "    var i,t;\n",
              "    var text_menu = begin;\n",
              "    var text_memo = \"<pre>\\nlength:\" + anchors.length + \"\\n\";\n",
              "    var ind = \"\";\n",
              "    var memo_level = 1;\n",
              "    var href;\n",
              "    var tags = [];\n",
              "    var main_item = 0;\n",
              "    var format_open = 0;\n",
              "    for (i = 0; i <= llast; i++)\n",
              "        tags.push(\"h\" + i);\n",
              "\n",
              "    for (i = 0; i < anchors.length; i++) {\n",
              "        text_memo += \"**\" + anchors[i].id + \"--\\n\";\n",
              "\n",
              "        var child = null;\n",
              "        for(t = 0; t < tags.length; t++) {\n",
              "            var r = anchors[i].getElementsByTagName(tags[t]);\n",
              "            if (r.length > 0) {\n",
              "child = r[0];\n",
              "break;\n",
              "            }\n",
              "        }\n",
              "        if (child == null) {\n",
              "            text_memo += \"null\\n\";\n",
              "            continue;\n",
              "        }\n",
              "        if (anchors[i].hasAttribute(\"id\")) {\n",
              "            // when converted in RST\n",
              "            href = anchors[i].id;\n",
              "            text_memo += \"#1-\" + href;\n",
              "            // passer \u00e0 child suivant (le chercher)\n",
              "        }\n",
              "        else if (child.hasAttribute(\"id\")) {\n",
              "            // in a notebook\n",
              "            href = child.id;\n",
              "            text_memo += \"#2-\" + href;\n",
              "        }\n",
              "        else {\n",
              "            text_memo += \"#3-\" + \"*\" + \"\\n\";\n",
              "            continue;\n",
              "        }\n",
              "        var title = child.textContent;\n",
              "        var level = parseInt(child.tagName.substring(1,2));\n",
              "\n",
              "        text_memo += \"--\" + level + \"?\" + lfirst + \"--\" + title + \"\\n\";\n",
              "\n",
              "        if ((level < lfirst) || (level > llast)) {\n",
              "            continue ;\n",
              "        }\n",
              "        if (title.endsWith('\u00b6')) {\n",
              "            title = title.substring(0,title.length-1).replace(\"<\", \"&lt;\")\n",
              "         .replace(\">\", \"&gt;\").replace(\"&\", \"&amp;\");\n",
              "        }\n",
              "        if (title.length == 0) {\n",
              "            continue;\n",
              "        }\n",
              "\n",
              "        while (level < memo_level) {\n",
              "            text_menu += end_format + \"</ul>\\n\";\n",
              "            format_open -= 1;\n",
              "            memo_level -= 1;\n",
              "        }\n",
              "        if (level == lfirst) {\n",
              "            main_item += 1;\n",
              "        }\n",
              "        if (keep_item != -1 && main_item != keep_item + 1) {\n",
              "            // alert(main_item + \" - \" + level + \" - \" + keep_item);\n",
              "            continue;\n",
              "        }\n",
              "        while (level > memo_level) {\n",
              "            text_menu += \"<ul>\\n\";\n",
              "            memo_level += 1;\n",
              "        }\n",
              "        text_menu += repeat_indent_string(level-2);\n",
              "        text_menu += begin_format + sformat.replace(\"__HREF__\", href).replace(\"__TITLE__\", title);\n",
              "        format_open += 1;\n",
              "    }\n",
              "    while (1 < memo_level) {\n",
              "        text_menu += end_format + \"</ul>\\n\";\n",
              "        memo_level -= 1;\n",
              "        format_open -= 1;\n",
              "    }\n",
              "    text_menu += send;\n",
              "    //text_menu += \"\\n\" + text_memo;\n",
              "\n",
              "    while (format_open > 0) {\n",
              "        text_menu += end_format;\n",
              "        format_open -= 1;\n",
              "    }\n",
              "    return text_menu;\n",
              "};\n",
              "var update_menu = function() {\n",
              "    var sbegin = \"\";\n",
              "    var sformat = '<a href=\"#__HREF__\">__TITLE__</a>';\n",
              "    var send = \"\";\n",
              "    var begin_format = '<li>';\n",
              "    var end_format = '</li>';\n",
              "    var keep_item = -1;\n",
              "    var text_menu = update_menu_string(sbegin, 2, 4, sformat, send, keep_item,\n",
              "       begin_format, end_format);\n",
              "    var menu = document.getElementById(\"my_id_menu_nb\");\n",
              "    menu.innerHTML=text_menu;\n",
              "};\n",
              "window.setTimeout(update_menu,2000);\n",
              "            </script>"
            ],
            "text/plain": [
              "<IPython.core.display.HTML object>"
            ]
          },
          "execution_count": 2,
          "metadata": {},
          "output_type": "execute_result"
        }
      ],
      "source": [
        "from jyquickhelper import add_notebook_menu\n",
        "add_notebook_menu()"
      ]
    },
    {
      "cell_type": "code",
      "execution_count": 2,
      "metadata": {},
      "outputs": [],
      "source": [
        "%matplotlib inline"
      ]
    },
    {
      "cell_type": "markdown",
      "metadata": {},
      "source": [
        "## Data"
      ]
    },
    {
      "cell_type": "code",
      "execution_count": 3,
      "metadata": {},
      "outputs": [],
      "source": [
        "from pyensae.datasource import download_data\n",
        "file = download_data(\"open_data_2016-12.zip\", url=\"https://s3.amazonaws.com/pronto-data/\")"
      ]
    },
    {
      "cell_type": "markdown",
      "metadata": {},
      "source": [
        "### Stations"
      ]
    },
    {
      "cell_type": "code",
      "execution_count": 4,
      "metadata": {},
      "outputs": [
        {
          "data": {
            "text/html": [
              "<div>\n",
              "<style scoped>\n",
              "    .dataframe tbody tr th:only-of-type {\n",
              "        vertical-align: middle;\n",
              "    }\n",
              "\n",
              "    .dataframe tbody tr th {\n",
              "        vertical-align: top;\n",
              "    }\n",
              "\n",
              "    .dataframe thead th {\n",
              "        text-align: right;\n",
              "    }\n",
              "</style>\n",
              "<table border=\"1\" class=\"dataframe\">\n",
              "  <thead>\n",
              "    <tr style=\"text-align: right;\">\n",
              "      <th></th>\n",
              "      <th>station_id</th>\n",
              "      <th>name</th>\n",
              "      <th>lat</th>\n",
              "      <th>long</th>\n",
              "      <th>install_date</th>\n",
              "      <th>install_dockcount</th>\n",
              "      <th>modification_date</th>\n",
              "      <th>current_dockcount</th>\n",
              "      <th>decommission_date</th>\n",
              "    </tr>\n",
              "  </thead>\n",
              "  <tbody>\n",
              "    <tr>\n",
              "      <th>0</th>\n",
              "      <td>CH-06</td>\n",
              "      <td>12th Ave &amp; E Denny Way</td>\n",
              "      <td>47.618549</td>\n",
              "      <td>-122.317017</td>\n",
              "      <td>10/13/2014</td>\n",
              "      <td>16</td>\n",
              "      <td>NaN</td>\n",
              "      <td>16</td>\n",
              "      <td>NaN</td>\n",
              "    </tr>\n",
              "    <tr>\n",
              "      <th>1</th>\n",
              "      <td>CH-15</td>\n",
              "      <td>12th Ave &amp; E Mercer St</td>\n",
              "      <td>47.624142</td>\n",
              "      <td>-122.316811</td>\n",
              "      <td>10/13/2014</td>\n",
              "      <td>16</td>\n",
              "      <td>NaN</td>\n",
              "      <td>16</td>\n",
              "      <td>NaN</td>\n",
              "    </tr>\n",
              "    <tr>\n",
              "      <th>2</th>\n",
              "      <td>CD-01</td>\n",
              "      <td>12th Ave &amp; E Yesler Way</td>\n",
              "      <td>47.602103</td>\n",
              "      <td>-122.316923</td>\n",
              "      <td>5/22/2015</td>\n",
              "      <td>16</td>\n",
              "      <td>8/9/2016</td>\n",
              "      <td>0</td>\n",
              "      <td>8/9/2016</td>\n",
              "    </tr>\n",
              "    <tr>\n",
              "      <th>3</th>\n",
              "      <td>UD-04</td>\n",
              "      <td>12th Ave &amp; NE Campus Pkwy</td>\n",
              "      <td>47.656395</td>\n",
              "      <td>-122.315620</td>\n",
              "      <td>10/13/2014</td>\n",
              "      <td>16</td>\n",
              "      <td>NaN</td>\n",
              "      <td>16</td>\n",
              "      <td>NaN</td>\n",
              "    </tr>\n",
              "    <tr>\n",
              "      <th>4</th>\n",
              "      <td>CH-05</td>\n",
              "      <td>15th Ave E &amp; E Thomas St</td>\n",
              "      <td>47.620712</td>\n",
              "      <td>-122.312805</td>\n",
              "      <td>10/13/2014</td>\n",
              "      <td>16</td>\n",
              "      <td>NaN</td>\n",
              "      <td>16</td>\n",
              "      <td>NaN</td>\n",
              "    </tr>\n",
              "  </tbody>\n",
              "</table>\n",
              "</div>"
            ],
            "text/plain": [
              "  station_id                       name        lat        long install_date  \\\n",
              "0      CH-06     12th Ave & E Denny Way  47.618549 -122.317017   10/13/2014   \n",
              "1      CH-15     12th Ave & E Mercer St  47.624142 -122.316811   10/13/2014   \n",
              "2      CD-01    12th Ave & E Yesler Way  47.602103 -122.316923    5/22/2015   \n",
              "3      UD-04  12th Ave & NE Campus Pkwy  47.656395 -122.315620   10/13/2014   \n",
              "4      CH-05   15th Ave E & E Thomas St  47.620712 -122.312805   10/13/2014   \n",
              "\n",
              "   install_dockcount modification_date  current_dockcount decommission_date  \n",
              "0                 16               NaN                 16               NaN  \n",
              "1                 16               NaN                 16               NaN  \n",
              "2                 16          8/9/2016                  0          8/9/2016  \n",
              "3                 16               NaN                 16               NaN  \n",
              "4                 16               NaN                 16               NaN  "
            ]
          },
          "execution_count": 5,
          "metadata": {},
          "output_type": "execute_result"
        }
      ],
      "source": [
        "import pandas\n",
        "stations = df = pandas.read_csv(\"2016-12_station_data.csv\")\n",
        "df.head()"
      ]
    },
    {
      "cell_type": "code",
      "execution_count": 5,
      "metadata": {},
      "outputs": [
        {
          "data": {
            "text/html": [
              "<div style=\"width:80%;\"><div style=\"position:relative;width:100%;height:0;padding-bottom:60%;\"><iframe src=\"data:text/html;charset=utf-8;base64,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\" style=\"position:absolute;width:100%;height:100%;left:0;top:0;border:none !important;\" allowfullscreen webkitallowfullscreen mozallowfullscreen></iframe></div></div>"
            ],
            "text/plain": [
              "<pyensae.notebookhelper.folium_helper.folium_html_map.<locals>.CustomFoliumMap at 0x228f3ecc630>"
            ]
          },
          "execution_count": 6,
          "metadata": {},
          "output_type": "execute_result"
        }
      ],
      "source": [
        "import folium\n",
        "from pyensae.notebookhelper import folium_html_map\n",
        "minx, maxx = df.lat.min(), df.lat.max()\n",
        "miny, maxy = df.long.min(), df.long.max()\n",
        "map_osm = folium.Map(location=[47.618549, -122.317017], \n",
        "                     min_lat=minx, max_lat=maxx, min_lon=miny, max_lon=maxy, zoom_start=12)\n",
        "for i, rows in enumerate(df.to_dict(\"records\")):\n",
        "    x, y = rows[\"lat\"], rows[\"long\"]\n",
        "    # folium does not like quotes in strings.\n",
        "    name = rows[\"name\"].replace(\"/\", \"-\").replace(\"'\", '')\n",
        "    if len(name) > 15:\n",
        "        name = name[:15]\n",
        "    map_osm.add_child(folium.CircleMarker([x, y], popup=name, radius=5))\n",
        "folium_html_map(map_osm, width=\"80%\")"
      ]
    },
    {
      "cell_type": "markdown",
      "metadata": {},
      "source": [
        "### Trips"
      ]
    },
    {
      "cell_type": "code",
      "execution_count": 6,
      "metadata": {},
      "outputs": [
        {
          "data": {
            "text/html": [
              "<div>\n",
              "<style scoped>\n",
              "    .dataframe tbody tr th:only-of-type {\n",
              "        vertical-align: middle;\n",
              "    }\n",
              "\n",
              "    .dataframe tbody tr th {\n",
              "        vertical-align: top;\n",
              "    }\n",
              "\n",
              "    .dataframe thead th {\n",
              "        text-align: right;\n",
              "    }\n",
              "</style>\n",
              "<table border=\"1\" class=\"dataframe\">\n",
              "  <thead>\n",
              "    <tr style=\"text-align: right;\">\n",
              "      <th></th>\n",
              "      <th>trip_id</th>\n",
              "      <th>starttime</th>\n",
              "      <th>stoptime</th>\n",
              "      <th>bikeid</th>\n",
              "      <th>tripduration</th>\n",
              "      <th>from_station_name</th>\n",
              "      <th>to_station_name</th>\n",
              "      <th>from_station_id</th>\n",
              "      <th>to_station_id</th>\n",
              "      <th>usertype</th>\n",
              "      <th>gender</th>\n",
              "      <th>birthyear</th>\n",
              "    </tr>\n",
              "  </thead>\n",
              "  <tbody>\n",
              "    <tr>\n",
              "      <th>0</th>\n",
              "      <td>431</td>\n",
              "      <td>10/13/2014 10:31</td>\n",
              "      <td>10/13/2014 10:48</td>\n",
              "      <td>SEA00298</td>\n",
              "      <td>985.935</td>\n",
              "      <td>2nd Ave &amp; Spring St</td>\n",
              "      <td>Occidental Park / Occidental Ave S &amp; S Washing...</td>\n",
              "      <td>CBD-06</td>\n",
              "      <td>PS-04</td>\n",
              "      <td>Member</td>\n",
              "      <td>Male</td>\n",
              "      <td>1960.0</td>\n",
              "    </tr>\n",
              "    <tr>\n",
              "      <th>1</th>\n",
              "      <td>432</td>\n",
              "      <td>10/13/2014 10:32</td>\n",
              "      <td>10/13/2014 10:48</td>\n",
              "      <td>SEA00195</td>\n",
              "      <td>926.375</td>\n",
              "      <td>2nd Ave &amp; Spring St</td>\n",
              "      <td>Occidental Park / Occidental Ave S &amp; S Washing...</td>\n",
              "      <td>CBD-06</td>\n",
              "      <td>PS-04</td>\n",
              "      <td>Member</td>\n",
              "      <td>Male</td>\n",
              "      <td>1970.0</td>\n",
              "    </tr>\n",
              "    <tr>\n",
              "      <th>2</th>\n",
              "      <td>433</td>\n",
              "      <td>10/13/2014 10:33</td>\n",
              "      <td>10/13/2014 10:48</td>\n",
              "      <td>SEA00486</td>\n",
              "      <td>883.831</td>\n",
              "      <td>2nd Ave &amp; Spring St</td>\n",
              "      <td>Occidental Park / Occidental Ave S &amp; S Washing...</td>\n",
              "      <td>CBD-06</td>\n",
              "      <td>PS-04</td>\n",
              "      <td>Member</td>\n",
              "      <td>Female</td>\n",
              "      <td>1988.0</td>\n",
              "    </tr>\n",
              "    <tr>\n",
              "      <th>3</th>\n",
              "      <td>434</td>\n",
              "      <td>10/13/2014 10:34</td>\n",
              "      <td>10/13/2014 10:48</td>\n",
              "      <td>SEA00333</td>\n",
              "      <td>865.937</td>\n",
              "      <td>2nd Ave &amp; Spring St</td>\n",
              "      <td>Occidental Park / Occidental Ave S &amp; S Washing...</td>\n",
              "      <td>CBD-06</td>\n",
              "      <td>PS-04</td>\n",
              "      <td>Member</td>\n",
              "      <td>Female</td>\n",
              "      <td>1977.0</td>\n",
              "    </tr>\n",
              "    <tr>\n",
              "      <th>4</th>\n",
              "      <td>435</td>\n",
              "      <td>10/13/2014 10:34</td>\n",
              "      <td>10/13/2014 10:49</td>\n",
              "      <td>SEA00202</td>\n",
              "      <td>923.923</td>\n",
              "      <td>2nd Ave &amp; Spring St</td>\n",
              "      <td>Occidental Park / Occidental Ave S &amp; S Washing...</td>\n",
              "      <td>CBD-06</td>\n",
              "      <td>PS-04</td>\n",
              "      <td>Member</td>\n",
              "      <td>Male</td>\n",
              "      <td>1971.0</td>\n",
              "    </tr>\n",
              "  </tbody>\n",
              "</table>\n",
              "</div>"
            ],
            "text/plain": [
              "   trip_id         starttime          stoptime    bikeid  tripduration  \\\n",
              "0      431  10/13/2014 10:31  10/13/2014 10:48  SEA00298       985.935   \n",
              "1      432  10/13/2014 10:32  10/13/2014 10:48  SEA00195       926.375   \n",
              "2      433  10/13/2014 10:33  10/13/2014 10:48  SEA00486       883.831   \n",
              "3      434  10/13/2014 10:34  10/13/2014 10:48  SEA00333       865.937   \n",
              "4      435  10/13/2014 10:34  10/13/2014 10:49  SEA00202       923.923   \n",
              "\n",
              "     from_station_name                                    to_station_name  \\\n",
              "0  2nd Ave & Spring St  Occidental Park / Occidental Ave S & S Washing...   \n",
              "1  2nd Ave & Spring St  Occidental Park / Occidental Ave S & S Washing...   \n",
              "2  2nd Ave & Spring St  Occidental Park / Occidental Ave S & S Washing...   \n",
              "3  2nd Ave & Spring St  Occidental Park / Occidental Ave S & S Washing...   \n",
              "4  2nd Ave & Spring St  Occidental Park / Occidental Ave S & S Washing...   \n",
              "\n",
              "  from_station_id to_station_id usertype  gender  birthyear  \n",
              "0          CBD-06         PS-04   Member    Male     1960.0  \n",
              "1          CBD-06         PS-04   Member    Male     1970.0  \n",
              "2          CBD-06         PS-04   Member  Female     1988.0  \n",
              "3          CBD-06         PS-04   Member  Female     1977.0  \n",
              "4          CBD-06         PS-04   Member    Male     1971.0  "
            ]
          },
          "execution_count": 7,
          "metadata": {},
          "output_type": "execute_result"
        }
      ],
      "source": [
        "bikes = df = pandas.read_csv(\"2016-12_trip_data.csv\")\n",
        "df.head()"
      ]
    },
    {
      "cell_type": "code",
      "execution_count": 7,
      "metadata": {},
      "outputs": [
        {
          "data": {
            "text/plain": [
              "(263136, 12)"
            ]
          },
          "execution_count": 8,
          "metadata": {},
          "output_type": "execute_result"
        }
      ],
      "source": [
        "df.shape"
      ]
    },
    {
      "cell_type": "code",
      "execution_count": 8,
      "metadata": {},
      "outputs": [],
      "source": [
        "df[\"dtstart\"] = pandas.to_datetime(df.starttime, infer_datetime_format=True)\n",
        "df[\"dtstop\"] = pandas.to_datetime(df.stoptime, infer_datetime_format=True)"
      ]
    },
    {
      "cell_type": "code",
      "execution_count": 9,
      "metadata": {},
      "outputs": [],
      "source": [
        "from datetime import datetime, time\n",
        "df[\"day\"] = df.dtstart.apply(lambda d: d.timetuple().tm_yday)\n",
        "df[\"time\"] = df.dtstart.apply(lambda r: time(r.hour, r.minute, 0))"
      ]
    },
    {
      "cell_type": "code",
      "execution_count": 10,
      "metadata": {},
      "outputs": [
        {
          "data": {
            "text/plain": [
              "<matplotlib.axes._subplots.AxesSubplot at 0x228fa5cd080>"
            ]
          },
          "execution_count": 11,
          "metadata": {},
          "output_type": "execute_result"
        },
        {
          "data": {
            "image/png": "[encoded data removed]",
            "text/plain": [
              "<Figure size 1008x288 with 1 Axes>"
            ]
          },
          "metadata": {},
          "output_type": "display_data"
        }
      ],
      "source": [
        "df.day.hist(figsize=(14,4), bins=100)"
      ]
    },
    {
      "cell_type": "code",
      "execution_count": 11,
      "metadata": {},
      "outputs": [
        {
          "data": {
            "text/plain": [
              "(0, 1439)"
            ]
          },
          "execution_count": 12,
          "metadata": {},
          "output_type": "execute_result"
        }
      ],
      "source": [
        "icro = df.time.apply(lambda t: t.hour * 60 + t.minute)\n",
        "icro.min(), icro.max()"
      ]
    },
    {
      "cell_type": "code",
      "execution_count": 12,
      "metadata": {
        "scrolled": false
      },
      "outputs": [
        {
          "data": {
            "text/plain": [
              "<matplotlib.axes._subplots.AxesSubplot at 0x228f5e2b208>"
            ]
          },
          "execution_count": 13,
          "metadata": {},
          "output_type": "execute_result"
        },
        {
          "data": {
            "image/png": "[encoded data removed]",
            "text/plain": [
              "<Figure size 1008x288 with 1 Axes>"
            ]
          },
          "metadata": {},
          "output_type": "display_data"
        }
      ],
      "source": [
        "icro.hist(figsize=(14,4), bins=100)"
      ]
    },
    {
      "cell_type": "code",
      "execution_count": 13,
      "metadata": {},
      "outputs": [
        {
          "data": {
            "text/plain": [
              "<matplotlib.axes._subplots.AxesSubplot at 0x228f5f9f198>"
            ]
          },
          "execution_count": 14,
          "metadata": {},
          "output_type": "execute_result"
        },
        {
          "data": {
            "image/png": "[encoded data removed]",
            "text/plain": [
              "<Figure size 1008x288 with 1 Axes>"
            ]
          },
          "metadata": {},
          "output_type": "display_data"
        }
      ],
      "source": [
        "june = df[(df.dtstart >= datetime(2016,6,1)) & (df.dtstart < datetime(2016,7,1))]\n",
        "june.day.hist(figsize=(14,4), bins=30)"
      ]
    },
    {
      "cell_type": "code",
      "execution_count": 14,
      "metadata": {},
      "outputs": [],
      "source": [
        "june11 = june[(june.dtstart >= datetime(2016,6,11)) & (june.dtstart < datetime(2016,6,12))].copy()"
      ]
    },
    {
      "cell_type": "code",
      "execution_count": 15,
      "metadata": {},
      "outputs": [
        {
          "data": {
            "text/html": [
              "<div>\n",
              "<style scoped>\n",
              "    .dataframe tbody tr th:only-of-type {\n",
              "        vertical-align: middle;\n",
              "    }\n",
              "\n",
              "    .dataframe tbody tr th {\n",
              "        vertical-align: top;\n",
              "    }\n",
              "\n",
              "    .dataframe thead th {\n",
              "        text-align: right;\n",
              "    }\n",
              "</style>\n",
              "<table border=\"1\" class=\"dataframe\">\n",
              "  <thead>\n",
              "    <tr style=\"text-align: right;\">\n",
              "      <th></th>\n",
              "      <th>trip_id</th>\n",
              "    </tr>\n",
              "    <tr>\n",
              "      <th>from_station_id</th>\n",
              "      <th></th>\n",
              "    </tr>\n",
              "  </thead>\n",
              "  <tbody>\n",
              "    <tr>\n",
              "      <th>WF-01</th>\n",
              "      <td>28</td>\n",
              "    </tr>\n",
              "    <tr>\n",
              "      <th>SLU-02</th>\n",
              "      <td>25</td>\n",
              "    </tr>\n",
              "    <tr>\n",
              "      <th>EL-01</th>\n",
              "      <td>22</td>\n",
              "    </tr>\n",
              "    <tr>\n",
              "      <th>SLU-19</th>\n",
              "      <td>21</td>\n",
              "    </tr>\n",
              "    <tr>\n",
              "      <th>WF-04</th>\n",
              "      <td>19</td>\n",
              "    </tr>\n",
              "    <tr>\n",
              "      <th>PS-04</th>\n",
              "      <td>19</td>\n",
              "    </tr>\n",
              "    <tr>\n",
              "      <th>BT-01</th>\n",
              "      <td>18</td>\n",
              "    </tr>\n",
              "    <tr>\n",
              "      <th>BT-05</th>\n",
              "      <td>14</td>\n",
              "    </tr>\n",
              "    <tr>\n",
              "      <th>CBD-13</th>\n",
              "      <td>13</td>\n",
              "    </tr>\n",
              "    <tr>\n",
              "      <th>UD-01</th>\n",
              "      <td>12</td>\n",
              "    </tr>\n",
              "    <tr>\n",
              "      <th>SLU-18</th>\n",
              "      <td>12</td>\n",
              "    </tr>\n",
              "    <tr>\n",
              "      <th>CBD-06</th>\n",
              "      <td>11</td>\n",
              "    </tr>\n",
              "    <tr>\n",
              "      <th>CH-16</th>\n",
              "      <td>11</td>\n",
              "    </tr>\n",
              "    <tr>\n",
              "      <th>CH-02</th>\n",
              "      <td>11</td>\n",
              "    </tr>\n",
              "    <tr>\n",
              "      <th>SLU-23</th>\n",
              "      <td>11</td>\n",
              "    </tr>\n",
              "    <tr>\n",
              "      <th>CH-08</th>\n",
              "      <td>11</td>\n",
              "    </tr>\n",
              "    <tr>\n",
              "      <th>SLU-01</th>\n",
              "      <td>10</td>\n",
              "    </tr>\n",
              "    <tr>\n",
              "      <th>PS-05</th>\n",
              "      <td>10</td>\n",
              "    </tr>\n",
              "    <tr>\n",
              "      <th>UW-07</th>\n",
              "      <td>9</td>\n",
              "    </tr>\n",
              "    <tr>\n",
              "      <th>UW-10</th>\n",
              "      <td>8</td>\n",
              "    </tr>\n",
              "  </tbody>\n",
              "</table>\n",
              "</div>"
            ],
            "text/plain": [
              "                 trip_id\n",
              "from_station_id         \n",
              "WF-01                 28\n",
              "SLU-02                25\n",
              "EL-01                 22\n",
              "SLU-19                21\n",
              "WF-04                 19\n",
              "PS-04                 19\n",
              "BT-01                 18\n",
              "BT-05                 14\n",
              "CBD-13                13\n",
              "UD-01                 12\n",
              "SLU-18                12\n",
              "CBD-06                11\n",
              "CH-16                 11\n",
              "CH-02                 11\n",
              "SLU-23                11\n",
              "CH-08                 11\n",
              "SLU-01                10\n",
              "PS-05                 10\n",
              "UW-07                  9\n",
              "UW-10                  8"
            ]
          },
          "execution_count": 16,
          "metadata": {},
          "output_type": "execute_result"
        }
      ],
      "source": [
        "june11[[\"from_station_id\", \"trip_id\"]].groupby(\"from_station_id\") \\\n",
        "         .count().sort_values(\"trip_id\", ascending=False).head(n=20)"
      ]
    },
    {
      "cell_type": "markdown",
      "metadata": {},
      "source": [
        "Too few values..."
      ]
    },
    {
      "cell_type": "code",
      "execution_count": 16,
      "metadata": {},
      "outputs": [],
      "source": []
    }
  ],
  "metadata": {
    "kernelspec": {
      "display_name": "Python 3",
      "language": "python",
      "name": "python3"
    },
    "language_info": {
      "codemirror_mode": {
        "name": "ipython",
        "version": 3
      },
      "file_extension": ".py",
      "mimetype": "text/x-python",
      "name": "python",
      "nbconvert_exporter": "python",
      "pygments_lexer": "ipython3",
      "version": "3.7.0"
    }
  },
  "nbformat": 4,
  "nbformat_minor": 2
}