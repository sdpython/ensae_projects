{
  "cells": [
    {
      "cell_type": "markdown",
      "metadata": {},
      "source": [
        "# Seattle\n",
        "\n",
        "This notebooks displays some of the data available at [Pronto Open Data](http://www.prontocycleshare.com/data). We assume the data was downloaded."
      ]
    },
    {
      "cell_type": "code",
      "execution_count": null,
      "metadata": {
        "collapsed": false
      },
      "outputs": [
        {
          "data": {
            "text/html": [
              "<div id=\"my_id_menu_nb\">run previous cell, wait for 2 seconds</div>\n",
              "<script>\n",
              "function repeat_indent_string(n){\n",
              "    var a = \"\" ;\n",
              "    for ( ; n > 0 ; --n) {\n",
              "        a += \"    \";\n",
              "    }\n",
              "    return a;\n",
              "}\n",
              "var update_menu_string = function(begin, lfirst, llast, sformat, send, keep_item) {\n",
              "    var anchors = document.getElementsByClassName(\"section\");\n",
              "    if (anchors.length == 0) {\n",
              "        anchors = document.getElementsByClassName(\"text_cell_render rendered_html\");\n",
              "    }\n",
              "    var i,t;\n",
              "    var text_menu = begin;\n",
              "    var text_memo = \"<pre>\\nlength:\" + anchors.length + \"\\n\";\n",
              "    var ind = \"\";\n",
              "    var memo_level = 1;\n",
              "    var href;\n",
              "    var tags = [];\n",
              "    var main_item = 0;\n",
              "    for (i = 0; i <= llast; i++) {\n",
              "        tags.push(\"h\" + i);\n",
              "    }\n",
              "\n",
              "    for (i = 0; i < anchors.length; i++) {\n",
              "        text_memo += \"**\" + anchors[i].id + \"--\\n\";\n",
              "\n",
              "        var child = null;\n",
              "        for(t = 0; t < tags.length; t++) {\n",
              "            var r = anchors[i].getElementsByTagName(tags[t]);\n",
              "            if (r.length > 0) {\n",
              "child = r[0];\n",
              "break;\n",
              "            }\n",
              "        }\n",
              "        if (child == null){\n",
              "            text_memo += \"null\\n\";\n",
              "            continue;\n",
              "        }\n",
              "        if (anchors[i].hasAttribute(\"id\")) {\n",
              "            // when converted in RST\n",
              "            href = anchors[i].id;\n",
              "            text_memo += \"#1-\" + href;\n",
              "            // passer \u00e0 child suivant (le chercher)\n",
              "        }\n",
              "        else if (child.hasAttribute(\"id\")) {\n",
              "            // in a notebook\n",
              "            href = child.id;\n",
              "            text_memo += \"#2-\" + href;\n",
              "        }\n",
              "        else {\n",
              "            text_memo += \"#3-\" + \"*\" + \"\\n\";\n",
              "            continue;\n",
              "        }\n",
              "        var title = child.textContent;\n",
              "        var level = parseInt(child.tagName.substring(1,2));\n",
              "\n",
              "        text_memo += \"--\" + level + \"?\" + lfirst + \"--\" + title + \"\\n\";\n",
              "\n",
              "        if ((level < lfirst) || (level > llast)) {\n",
              "            continue ;\n",
              "        }\n",
              "        if (title.endsWith('\u00b6')) {\n",
              "            title = title.substring(0,title.length-1).replace(\"<\", \"&lt;\").replace(\">\", \"&gt;\").replace(\"&\", \"&amp;\")\n",
              "        }\n",
              "\n",
              "        if (title.length == 0) {\n",
              "            continue;\n",
              "        }\n",
              "\n",
              "        while (level < memo_level) {\n",
              "            text_menu += \"</ul>\\n\";\n",
              "            memo_level -= 1;\n",
              "        }\n",
              "        if (level == lfirst) {\n",
              "            main_item += 1;\n",
              "        }\n",
              "        if (keep_item != -1 && main_item != keep_item + 1) {\n",
              "            // alert(main_item + \" - \" + level + \" - \" + keep_item);\n",
              "            continue;\n",
              "        }\n",
              "        while (level > memo_level) {\n",
              "            text_menu += \"<ul>\\n\";\n",
              "            memo_level += 1;\n",
              "        }\n",
              "        text_menu += repeat_indent_string(level-2) + sformat.replace(\"__HREF__\", href).replace(\"__TITLE__\", title);\n",
              "    }\n",
              "    while (1 < memo_level) {\n",
              "        text_menu += \"</ul>\\n\";\n",
              "        memo_level -= 1;\n",
              "    }\n",
              "    text_menu += send;\n",
              "    //text_menu += \"\\n\" + text_memo;\n",
              "    return text_menu;\n",
              "};\n",
              "var update_menu = function() {\n",
              "    var sbegin = \"\";\n",
              "    var sformat = '<li><a href=\"#__HREF__\">__TITLE__</a></li>';\n",
              "    var send = \"\";\n",
              "    var keep_item = -1;\n",
              "    var text_menu = update_menu_string(sbegin, 2, 4, sformat, send, keep_item);\n",
              "    var menu = document.getElementById(\"my_id_menu_nb\");\n",
              "    menu.innerHTML=text_menu;\n",
              "};\n",
              "window.setTimeout(update_menu,2000);\n",
              "            </script>"
            ],
            "text/plain": [
              "<IPython.core.display.HTML object>"
            ]
          },
          "execution_count": null,
          "metadata": {},
          "output_type": "execute_result"
        }
      ],
      "source": [
        "from jyquickhelper import add_notebook_menu\n",
        "add_notebook_menu()"
      ]
    },
    {
      "cell_type": "code",
      "execution_count": null,
      "metadata": {
        "collapsed": true
      },
      "outputs": [],
      "source": [
        "%matplotlib inline"
      ]
    },
    {
      "cell_type": "markdown",
      "metadata": {},
      "source": [
        "## Data"
      ]
    },
    {
      "cell_type": "code",
      "execution_count": null,
      "metadata": {
        "collapsed": true
      },
      "outputs": [],
      "source": [
        "from pyensae.datasource import download_data\n",
        "file = download_data(\"open_data_2016-12.zip\", url=\"https://s3.amazonaws.com/pronto-data/\")"
      ]
    },
    {
      "cell_type": "markdown",
      "metadata": {},
      "source": [
        "### Stations"
      ]
    },
    {
      "cell_type": "code",
      "execution_count": null,
      "metadata": {
        "collapsed": false
      },
      "outputs": [
        {
          "data": {
            "text/html": [
              "<div>\n",
              "<table border=\"1\" class=\"dataframe\">\n",
              "  <thead>\n",
              "    <tr style=\"text-align: right;\">\n",
              "      <th></th>\n",
              "      <th>station_id</th>\n",
              "      <th>name</th>\n",
              "      <th>lat</th>\n",
              "      <th>long</th>\n",
              "      <th>install_date</th>\n",
              "      <th>install_dockcount</th>\n",
              "      <th>modification_date</th>\n",
              "      <th>current_dockcount</th>\n",
              "      <th>decommission_date</th>\n",
              "    </tr>\n",
              "  </thead>\n",
              "  <tbody>\n",
              "    <tr>\n",
              "      <th>0</th>\n",
              "      <td>CH-06</td>\n",
              "      <td>12th Ave &amp; E Denny Way</td>\n",
              "      <td>47.618549</td>\n",
              "      <td>-122.317017</td>\n",
              "      <td>10/13/2014</td>\n",
              "      <td>16</td>\n",
              "      <td>NaN</td>\n",
              "      <td>16</td>\n",
              "      <td>NaN</td>\n",
              "    </tr>\n",
              "    <tr>\n",
              "      <th>1</th>\n",
              "      <td>CH-15</td>\n",
              "      <td>12th Ave &amp; E Mercer St</td>\n",
              "      <td>47.624142</td>\n",
              "      <td>-122.316811</td>\n",
              "      <td>10/13/2014</td>\n",
              "      <td>16</td>\n",
              "      <td>NaN</td>\n",
              "      <td>16</td>\n",
              "      <td>NaN</td>\n",
              "    </tr>\n",
              "    <tr>\n",
              "      <th>2</th>\n",
              "      <td>CD-01</td>\n",
              "      <td>12th Ave &amp; E Yesler Way</td>\n",
              "      <td>47.602103</td>\n",
              "      <td>-122.316923</td>\n",
              "      <td>5/22/2015</td>\n",
              "      <td>16</td>\n",
              "      <td>8/9/2016</td>\n",
              "      <td>0</td>\n",
              "      <td>8/9/2016</td>\n",
              "    </tr>\n",
              "    <tr>\n",
              "      <th>3</th>\n",
              "      <td>UD-04</td>\n",
              "      <td>12th Ave &amp; NE Campus Pkwy</td>\n",
              "      <td>47.656395</td>\n",
              "      <td>-122.315620</td>\n",
              "      <td>10/13/2014</td>\n",
              "      <td>16</td>\n",
              "      <td>NaN</td>\n",
              "      <td>16</td>\n",
              "      <td>NaN</td>\n",
              "    </tr>\n",
              "    <tr>\n",
              "      <th>4</th>\n",
              "      <td>CH-05</td>\n",
              "      <td>15th Ave E &amp; E Thomas St</td>\n",
              "      <td>47.620712</td>\n",
              "      <td>-122.312805</td>\n",
              "      <td>10/13/2014</td>\n",
              "      <td>16</td>\n",
              "      <td>NaN</td>\n",
              "      <td>16</td>\n",
              "      <td>NaN</td>\n",
              "    </tr>\n",
              "  </tbody>\n",
              "</table>\n",
              "</div>"
            ],
            "text/plain": [
              "  station_id                       name        lat        long install_date  \\\n",
              "0      CH-06     12th Ave & E Denny Way  47.618549 -122.317017   10/13/2014   \n",
              "1      CH-15     12th Ave & E Mercer St  47.624142 -122.316811   10/13/2014   \n",
              "2      CD-01    12th Ave & E Yesler Way  47.602103 -122.316923    5/22/2015   \n",
              "3      UD-04  12th Ave & NE Campus Pkwy  47.656395 -122.315620   10/13/2014   \n",
              "4      CH-05   15th Ave E & E Thomas St  47.620712 -122.312805   10/13/2014   \n",
              "\n",
              "   install_dockcount modification_date  current_dockcount decommission_date  \n",
              "0                 16               NaN                 16               NaN  \n",
              "1                 16               NaN                 16               NaN  \n",
              "2                 16          8/9/2016                  0          8/9/2016  \n",
              "3                 16               NaN                 16               NaN  \n",
              "4                 16               NaN                 16               NaN  "
            ]
          },
          "execution_count": null,
          "metadata": {},
          "output_type": "execute_result"
        }
      ],
      "source": [
        "import pandas\n",
        "stations = df = pandas.read_csv(\"2016-12_station_data.csv\")\n",
        "df.head()"
      ]
    },
    {
      "cell_type": "code",
      "execution_count": null,
      "metadata": {
        "collapsed": false
      },
      "outputs": [
        {
          "data": {
            "text/html": [
              "<div style=\"width:80%;\"><div style=\"position:relative;width:100%;height:0;padding-bottom:60%;\"><iframe src=\"data:text/html;base64,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\" style=\"position:absolute;width:100%;height:100%;left:0;top:0;\"></iframe></div></div>"
            ],
            "text/plain": [
              "<pyensae.notebook_helper.folium_helper.folium_html_map.<locals>.CustomFoliumMap at 0x1da4eea1518>"
            ]
          },
          "execution_count": null,
          "metadata": {},
          "output_type": "execute_result"
        }
      ],
      "source": [
        "import folium\n",
        "from pyensae.notebook_helper import folium_html_map\n",
        "minx, maxx = df.lat.min(), df.lat.max()\n",
        "miny, maxy = df.long.min(), df.long.max()\n",
        "map_osm = folium.Map(location=[47.618549, -122.317017], \n",
        "                     min_lat=minx, max_lat=maxx, min_lon=miny, max_lon=maxy, zoom_start=12)\n",
        "for rows in df.to_dict(\"records\"):\n",
        "    x,y = rows[\"lat\"], rows[\"long\"]\n",
        "    name = rows[\"name\"]\n",
        "    map_osm.add_child(folium.CircleMarker([x, y], popup=name, radius=15, fill_color=\"yellow\"))\n",
        "folium_html_map(map_osm, width=\"80%\")"
      ]
    },
    {
      "cell_type": "markdown",
      "metadata": {},
      "source": [
        "### Trips"
      ]
    },
    {
      "cell_type": "code",
      "execution_count": null,
      "metadata": {
        "collapsed": false
      },
      "outputs": [
        {
          "data": {
            "text/html": [
              "<div>\n",
              "<table border=\"1\" class=\"dataframe\">\n",
              "  <thead>\n",
              "    <tr style=\"text-align: right;\">\n",
              "      <th></th>\n",
              "      <th>trip_id</th>\n",
              "      <th>starttime</th>\n",
              "      <th>stoptime</th>\n",
              "      <th>bikeid</th>\n",
              "      <th>tripduration</th>\n",
              "      <th>from_station_name</th>\n",
              "      <th>to_station_name</th>\n",
              "      <th>from_station_id</th>\n",
              "      <th>to_station_id</th>\n",
              "      <th>usertype</th>\n",
              "      <th>gender</th>\n",
              "      <th>birthyear</th>\n",
              "    </tr>\n",
              "  </thead>\n",
              "  <tbody>\n",
              "    <tr>\n",
              "      <th>0</th>\n",
              "      <td>431</td>\n",
              "      <td>10/13/2014 10:31</td>\n",
              "      <td>10/13/2014 10:48</td>\n",
              "      <td>SEA00298</td>\n",
              "      <td>985.935</td>\n",
              "      <td>2nd Ave &amp; Spring St</td>\n",
              "      <td>Occidental Park / Occidental Ave S &amp; S Washing...</td>\n",
              "      <td>CBD-06</td>\n",
              "      <td>PS-04</td>\n",
              "      <td>Member</td>\n",
              "      <td>Male</td>\n",
              "      <td>1960.0</td>\n",
              "    </tr>\n",
              "    <tr>\n",
              "      <th>1</th>\n",
              "      <td>432</td>\n",
              "      <td>10/13/2014 10:32</td>\n",
              "      <td>10/13/2014 10:48</td>\n",
              "      <td>SEA00195</td>\n",
              "      <td>926.375</td>\n",
              "      <td>2nd Ave &amp; Spring St</td>\n",
              "      <td>Occidental Park / Occidental Ave S &amp; S Washing...</td>\n",
              "      <td>CBD-06</td>\n",
              "      <td>PS-04</td>\n",
              "      <td>Member</td>\n",
              "      <td>Male</td>\n",
              "      <td>1970.0</td>\n",
              "    </tr>\n",
              "    <tr>\n",
              "      <th>2</th>\n",
              "      <td>433</td>\n",
              "      <td>10/13/2014 10:33</td>\n",
              "      <td>10/13/2014 10:48</td>\n",
              "      <td>SEA00486</td>\n",
              "      <td>883.831</td>\n",
              "      <td>2nd Ave &amp; Spring St</td>\n",
              "      <td>Occidental Park / Occidental Ave S &amp; S Washing...</td>\n",
              "      <td>CBD-06</td>\n",
              "      <td>PS-04</td>\n",
              "      <td>Member</td>\n",
              "      <td>Female</td>\n",
              "      <td>1988.0</td>\n",
              "    </tr>\n",
              "    <tr>\n",
              "      <th>3</th>\n",
              "      <td>434</td>\n",
              "      <td>10/13/2014 10:34</td>\n",
              "      <td>10/13/2014 10:48</td>\n",
              "      <td>SEA00333</td>\n",
              "      <td>865.937</td>\n",
              "      <td>2nd Ave &amp; Spring St</td>\n",
              "      <td>Occidental Park / Occidental Ave S &amp; S Washing...</td>\n",
              "      <td>CBD-06</td>\n",
              "      <td>PS-04</td>\n",
              "      <td>Member</td>\n",
              "      <td>Female</td>\n",
              "      <td>1977.0</td>\n",
              "    </tr>\n",
              "    <tr>\n",
              "      <th>4</th>\n",
              "      <td>435</td>\n",
              "      <td>10/13/2014 10:34</td>\n",
              "      <td>10/13/2014 10:49</td>\n",
              "      <td>SEA00202</td>\n",
              "      <td>923.923</td>\n",
              "      <td>2nd Ave &amp; Spring St</td>\n",
              "      <td>Occidental Park / Occidental Ave S &amp; S Washing...</td>\n",
              "      <td>CBD-06</td>\n",
              "      <td>PS-04</td>\n",
              "      <td>Member</td>\n",
              "      <td>Male</td>\n",
              "      <td>1971.0</td>\n",
              "    </tr>\n",
              "  </tbody>\n",
              "</table>\n",
              "</div>"
            ],
            "text/plain": [
              "   trip_id         starttime          stoptime    bikeid  tripduration  \\\n",
              "0      431  10/13/2014 10:31  10/13/2014 10:48  SEA00298       985.935   \n",
              "1      432  10/13/2014 10:32  10/13/2014 10:48  SEA00195       926.375   \n",
              "2      433  10/13/2014 10:33  10/13/2014 10:48  SEA00486       883.831   \n",
              "3      434  10/13/2014 10:34  10/13/2014 10:48  SEA00333       865.937   \n",
              "4      435  10/13/2014 10:34  10/13/2014 10:49  SEA00202       923.923   \n",
              "\n",
              "     from_station_name                                    to_station_name  \\\n",
              "0  2nd Ave & Spring St  Occidental Park / Occidental Ave S & S Washing...   \n",
              "1  2nd Ave & Spring St  Occidental Park / Occidental Ave S & S Washing...   \n",
              "2  2nd Ave & Spring St  Occidental Park / Occidental Ave S & S Washing...   \n",
              "3  2nd Ave & Spring St  Occidental Park / Occidental Ave S & S Washing...   \n",
              "4  2nd Ave & Spring St  Occidental Park / Occidental Ave S & S Washing...   \n",
              "\n",
              "  from_station_id to_station_id usertype  gender  birthyear  \n",
              "0          CBD-06         PS-04   Member    Male     1960.0  \n",
              "1          CBD-06         PS-04   Member    Male     1970.0  \n",
              "2          CBD-06         PS-04   Member  Female     1988.0  \n",
              "3          CBD-06         PS-04   Member  Female     1977.0  \n",
              "4          CBD-06         PS-04   Member    Male     1971.0  "
            ]
          },
          "execution_count": null,
          "metadata": {},
          "output_type": "execute_result"
        }
      ],
      "source": [
        "bikes = df = pandas.read_csv(\"2016-12_trip_data.csv\")\n",
        "df.head()"
      ]
    },
    {
      "cell_type": "code",
      "execution_count": null,
      "metadata": {
        "collapsed": false
      },
      "outputs": [
        {
          "data": {
            "text/plain": [
              "(263136, 12)"
            ]
          },
          "execution_count": null,
          "metadata": {},
          "output_type": "execute_result"
        }
      ],
      "source": [
        "df.shape"
      ]
    },
    {
      "cell_type": "code",
      "execution_count": null,
      "metadata": {
        "collapsed": false
      },
      "outputs": [],
      "source": [
        "df[\"dtstart\"] = pandas.to_datetime(df.starttime, infer_datetime_format=True)\n",
        "df[\"dtstop\"] = pandas.to_datetime(df.stoptime, infer_datetime_format=True)"
      ]
    },
    {
      "cell_type": "code",
      "execution_count": null,
      "metadata": {
        "collapsed": true
      },
      "outputs": [],
      "source": [
        "from datetime import datetime, time\n",
        "df[\"day\"] = df.dtstart.apply(lambda r: datetime(r.year, r.month, r.day))\n",
        "df[\"time\"] = df.dtstart.apply(lambda r: time(r.hour, r.minute, 0))"
      ]
    },
    {
      "cell_type": "code",
      "execution_count": null,
      "metadata": {
        "collapsed": false
      },
      "outputs": [
        {
          "data": {
            "text/plain": [
              "<matplotlib.axes._subplots.AxesSubplot at 0x1da54c5af98>"
            ]
          },
          "execution_count": null,
          "metadata": {},
          "output_type": "execute_result"
        },
        {
          "data": {
            "image/png": "[encoded data removed]",
            "text/plain": [
              "<matplotlib.figure.Figure at 0x1da4eddf240>"
            ]
          },
          "metadata": {},
          "output_type": "display_data"
        }
      ],
      "source": [
        "df.day.hist(figsize=(14,4), bins=100)"
      ]
    },
    {
      "cell_type": "code",
      "execution_count": null,
      "metadata": {
        "collapsed": false
      },
      "outputs": [
        {
          "data": {
            "text/plain": [
              "<matplotlib.axes._subplots.AxesSubplot at 0x1da54c80f98>"
            ]
          },
          "execution_count": null,
          "metadata": {},
          "output_type": "execute_result"
        },
        {
          "data": {
            "image/png": "[encoded data removed]",
            "text/plain": [
              "<matplotlib.figure.Figure at 0x1da50d3a390>"
            ]
          },
          "metadata": {},
          "output_type": "display_data"
        }
      ],
      "source": [
        "df.time.hist(figsize=(14,4), bins=100)"
      ]
    },
    {
      "cell_type": "code",
      "execution_count": null,
      "metadata": {
        "collapsed": false
      },
      "outputs": [
        {
          "data": {
            "text/plain": [
              "<matplotlib.axes._subplots.AxesSubplot at 0x1da518b0b70>"
            ]
          },
          "execution_count": null,
          "metadata": {},
          "output_type": "execute_result"
        },
        {
          "data": {
            "image/png": "[encoded data removed]",
            "text/plain": [
              "<matplotlib.figure.Figure at 0x1da50f6a940>"
            ]
          },
          "metadata": {},
          "output_type": "display_data"
        }
      ],
      "source": [
        "june = df[(df.dtstart >= datetime(2016,6,1)) & (df.dtstart < datetime(2016,7,1))]\n",
        "june.day.hist(figsize=(14,4), bins=30)"
      ]
    },
    {
      "cell_type": "code",
      "execution_count": null,
      "metadata": {
        "collapsed": false
      },
      "outputs": [],
      "source": [
        "june11 = june[(june.dtstart >= datetime(2016,6,11)) & (june.dtstart < datetime(2016,6,12))].copy()"
      ]
    },
    {
      "cell_type": "code",
      "execution_count": null,
      "metadata": {
        "collapsed": false
      },
      "outputs": [
        {
          "data": {
            "text/html": [
              "<div>\n",
              "<table border=\"1\" class=\"dataframe\">\n",
              "  <thead>\n",
              "    <tr style=\"text-align: right;\">\n",
              "      <th></th>\n",
              "      <th>trip_id</th>\n",
              "    </tr>\n",
              "    <tr>\n",
              "      <th>from_station_id</th>\n",
              "      <th></th>\n",
              "    </tr>\n",
              "  </thead>\n",
              "  <tbody>\n",
              "    <tr>\n",
              "      <th>WF-01</th>\n",
              "      <td>28</td>\n",
              "    </tr>\n",
              "    <tr>\n",
              "      <th>SLU-02</th>\n",
              "      <td>25</td>\n",
              "    </tr>\n",
              "    <tr>\n",
              "      <th>EL-01</th>\n",
              "      <td>22</td>\n",
              "    </tr>\n",
              "    <tr>\n",
              "      <th>SLU-19</th>\n",
              "      <td>21</td>\n",
              "    </tr>\n",
              "    <tr>\n",
              "      <th>WF-04</th>\n",
              "      <td>19</td>\n",
              "    </tr>\n",
              "    <tr>\n",
              "      <th>PS-04</th>\n",
              "      <td>19</td>\n",
              "    </tr>\n",
              "    <tr>\n",
              "      <th>BT-01</th>\n",
              "      <td>18</td>\n",
              "    </tr>\n",
              "    <tr>\n",
              "      <th>BT-05</th>\n",
              "      <td>14</td>\n",
              "    </tr>\n",
              "    <tr>\n",
              "      <th>CBD-13</th>\n",
              "      <td>13</td>\n",
              "    </tr>\n",
              "    <tr>\n",
              "      <th>UD-01</th>\n",
              "      <td>12</td>\n",
              "    </tr>\n",
              "    <tr>\n",
              "      <th>SLU-18</th>\n",
              "      <td>12</td>\n",
              "    </tr>\n",
              "    <tr>\n",
              "      <th>CBD-06</th>\n",
              "      <td>11</td>\n",
              "    </tr>\n",
              "    <tr>\n",
              "      <th>CH-16</th>\n",
              "      <td>11</td>\n",
              "    </tr>\n",
              "    <tr>\n",
              "      <th>CH-02</th>\n",
              "      <td>11</td>\n",
              "    </tr>\n",
              "    <tr>\n",
              "      <th>SLU-23</th>\n",
              "      <td>11</td>\n",
              "    </tr>\n",
              "    <tr>\n",
              "      <th>CH-08</th>\n",
              "      <td>11</td>\n",
              "    </tr>\n",
              "    <tr>\n",
              "      <th>SLU-01</th>\n",
              "      <td>10</td>\n",
              "    </tr>\n",
              "    <tr>\n",
              "      <th>PS-05</th>\n",
              "      <td>10</td>\n",
              "    </tr>\n",
              "    <tr>\n",
              "      <th>UW-07</th>\n",
              "      <td>9</td>\n",
              "    </tr>\n",
              "    <tr>\n",
              "      <th>UW-10</th>\n",
              "      <td>8</td>\n",
              "    </tr>\n",
              "  </tbody>\n",
              "</table>\n",
              "</div>"
            ],
            "text/plain": [
              "                 trip_id\n",
              "from_station_id         \n",
              "WF-01                 28\n",
              "SLU-02                25\n",
              "EL-01                 22\n",
              "SLU-19                21\n",
              "WF-04                 19\n",
              "PS-04                 19\n",
              "BT-01                 18\n",
              "BT-05                 14\n",
              "CBD-13                13\n",
              "UD-01                 12\n",
              "SLU-18                12\n",
              "CBD-06                11\n",
              "CH-16                 11\n",
              "CH-02                 11\n",
              "SLU-23                11\n",
              "CH-08                 11\n",
              "SLU-01                10\n",
              "PS-05                 10\n",
              "UW-07                  9\n",
              "UW-10                  8"
            ]
          },
          "execution_count": null,
          "metadata": {},
          "output_type": "execute_result"
        }
      ],
      "source": [
        "june11[[\"from_station_id\", \"trip_id\"]].groupby(\"from_station_id\").count().sort_values(\"trip_id\", ascending=False).head(n=20)"
      ]
    },
    {
      "cell_type": "markdown",
      "metadata": {},
      "source": [
        "Too few values..."
      ]
    },
    {
      "cell_type": "code",
      "execution_count": null,
      "metadata": {
        "collapsed": true
      },
      "outputs": [],
      "source": []
    }
  ],
  "metadata": {
    "kernelspec": {
      "display_name": "Python 3",
      "language": "python",
      "name": "python3"
    },
    "language_info": {
      "codemirror_mode": {
        "name": "ipython",
        "version": 3
      },
      "file_extension": ".py",
      "mimetype": "text/x-python",
      "name": "python",
      "nbconvert_exporter": "python",
      "pygments_lexer": "ipython3",
      "version": "3.5.2"
    }
  },
  "nbformat": 4,
  "nbformat_minor": 2
}