{
  "cells": [
    {
      "cell_type": "markdown",
      "metadata": {},
      "source": [
        "# Seattle\n",
        "\n",
        "This notebooks displays some of the data available at [Pronto Open Data](http://www.prontocycleshare.com/data). We assume the data was downloaded."
      ]
    },
    {
      "cell_type": "code",
      "execution_count": 1,
      "metadata": {},
      "outputs": [
        {
          "data": {
            "text/html": [
              "<div id=\"my_id_menu_nb\">run previous cell, wait for 2 seconds</div>\n",
              "<script>\n",
              "function repeat_indent_string(n){\n",
              "    var a = \"\" ;\n",
              "    for ( ; n > 0 ; --n)\n",
              "        a += \"    \";\n",
              "    return a;\n",
              "}\n",
              "var update_menu_string = function(begin, lfirst, llast, sformat, send, keep_item, begin_format, end_format) {\n",
              "    var anchors = document.getElementsByClassName(\"section\");\n",
              "    if (anchors.length == 0) {\n",
              "        anchors = document.getElementsByClassName(\"text_cell_render rendered_html\");\n",
              "    }\n",
              "    var i,t;\n",
              "    var text_menu = begin;\n",
              "    var text_memo = \"<pre>\\nlength:\" + anchors.length + \"\\n\";\n",
              "    var ind = \"\";\n",
              "    var memo_level = 1;\n",
              "    var href;\n",
              "    var tags = [];\n",
              "    var main_item = 0;\n",
              "    var format_open = 0;\n",
              "    for (i = 0; i <= llast; i++)\n",
              "        tags.push(\"h\" + i);\n",
              "\n",
              "    for (i = 0; i < anchors.length; i++) {\n",
              "        text_memo += \"**\" + anchors[i].id + \"--\\n\";\n",
              "\n",
              "        var child = null;\n",
              "        for(t = 0; t < tags.length; t++) {\n",
              "            var r = anchors[i].getElementsByTagName(tags[t]);\n",
              "            if (r.length > 0) {\n",
              "child = r[0];\n",
              "break;\n",
              "            }\n",
              "        }\n",
              "        if (child == null) {\n",
              "            text_memo += \"null\\n\";\n",
              "            continue;\n",
              "        }\n",
              "        if (anchors[i].hasAttribute(\"id\")) {\n",
              "            // when converted in RST\n",
              "            href = anchors[i].id;\n",
              "            text_memo += \"#1-\" + href;\n",
              "            // passer \u00e0 child suivant (le chercher)\n",
              "        }\n",
              "        else if (child.hasAttribute(\"id\")) {\n",
              "            // in a notebook\n",
              "            href = child.id;\n",
              "            text_memo += \"#2-\" + href;\n",
              "        }\n",
              "        else {\n",
              "            text_memo += \"#3-\" + \"*\" + \"\\n\";\n",
              "            continue;\n",
              "        }\n",
              "        var title = child.textContent;\n",
              "        var level = parseInt(child.tagName.substring(1,2));\n",
              "\n",
              "        text_memo += \"--\" + level + \"?\" + lfirst + \"--\" + title + \"\\n\";\n",
              "\n",
              "        if ((level < lfirst) || (level > llast)) {\n",
              "            continue ;\n",
              "        }\n",
              "        if (title.endsWith('\u00b6')) {\n",
              "            title = title.substring(0,title.length-1).replace(\"<\", \"&lt;\")\n",
              "         .replace(\">\", \"&gt;\").replace(\"&\", \"&amp;\");\n",
              "        }\n",
              "        if (title.length == 0) {\n",
              "            continue;\n",
              "        }\n",
              "\n",
              "        while (level < memo_level) {\n",
              "            text_menu += end_format + \"</ul>\\n\";\n",
              "            format_open -= 1;\n",
              "            memo_level -= 1;\n",
              "        }\n",
              "        if (level == lfirst) {\n",
              "            main_item += 1;\n",
              "        }\n",
              "        if (keep_item != -1 && main_item != keep_item + 1) {\n",
              "            // alert(main_item + \" - \" + level + \" - \" + keep_item);\n",
              "            continue;\n",
              "        }\n",
              "        while (level > memo_level) {\n",
              "            text_menu += \"<ul>\\n\";\n",
              "            memo_level += 1;\n",
              "        }\n",
              "        text_menu += repeat_indent_string(level-2);\n",
              "        text_menu += begin_format + sformat.replace(\"__HREF__\", href).replace(\"__TITLE__\", title);\n",
              "        format_open += 1;\n",
              "    }\n",
              "    while (1 < memo_level) {\n",
              "        text_menu += end_format + \"</ul>\\n\";\n",
              "        memo_level -= 1;\n",
              "        format_open -= 1;\n",
              "    }\n",
              "    text_menu += send;\n",
              "    //text_menu += \"\\n\" + text_memo;\n",
              "\n",
              "    while (format_open > 0) {\n",
              "        text_menu += end_format;\n",
              "        format_open -= 1;\n",
              "    }\n",
              "    return text_menu;\n",
              "};\n",
              "var update_menu = function() {\n",
              "    var sbegin = \"\";\n",
              "    var sformat = '<a href=\"#__HREF__\">__TITLE__</a>';\n",
              "    var send = \"\";\n",
              "    var begin_format = '<li>';\n",
              "    var end_format = '</li>';\n",
              "    var keep_item = -1;\n",
              "    var text_menu = update_menu_string(sbegin, 2, 4, sformat, send, keep_item,\n",
              "       begin_format, end_format);\n",
              "    var menu = document.getElementById(\"my_id_menu_nb\");\n",
              "    menu.innerHTML=text_menu;\n",
              "};\n",
              "window.setTimeout(update_menu,2000);\n",
              "            </script>"
            ],
            "text/plain": [
              "<IPython.core.display.HTML object>"
            ]
          },
          "execution_count": 2,
          "metadata": {},
          "output_type": "execute_result"
        }
      ],
      "source": [
        "from jyquickhelper import add_notebook_menu\n",
        "add_notebook_menu()"
      ]
    },
    {
      "cell_type": "code",
      "execution_count": 2,
      "metadata": {},
      "outputs": [],
      "source": [
        "%matplotlib inline"
      ]
    },
    {
      "cell_type": "markdown",
      "metadata": {},
      "source": [
        "## Data"
      ]
    },
    {
      "cell_type": "code",
      "execution_count": 3,
      "metadata": {},
      "outputs": [],
      "source": [
        "from pyensae.datasource import download_data\n",
        "file = download_data(\"open_data_2016-12.zip\", url=\"https://s3.amazonaws.com/pronto-data/\")"
      ]
    },
    {
      "cell_type": "markdown",
      "metadata": {},
      "source": [
        "### Stations"
      ]
    },
    {
      "cell_type": "code",
      "execution_count": 4,
      "metadata": {},
      "outputs": [
        {
          "data": {
            "text/html": [
              "<div>\n",
              "<style scoped>\n",
              "    .dataframe tbody tr th:only-of-type {\n",
              "        vertical-align: middle;\n",
              "    }\n",
              "\n",
              "    .dataframe tbody tr th {\n",
              "        vertical-align: top;\n",
              "    }\n",
              "\n",
              "    .dataframe thead th {\n",
              "        text-align: right;\n",
              "    }\n",
              "</style>\n",
              "<table border=\"1\" class=\"dataframe\">\n",
              "  <thead>\n",
              "    <tr style=\"text-align: right;\">\n",
              "      <th></th>\n",
              "      <th>station_id</th>\n",
              "      <th>name</th>\n",
              "      <th>lat</th>\n",
              "      <th>long</th>\n",
              "      <th>install_date</th>\n",
              "      <th>install_dockcount</th>\n",
              "      <th>modification_date</th>\n",
              "      <th>current_dockcount</th>\n",
              "      <th>decommission_date</th>\n",
              "    </tr>\n",
              "  </thead>\n",
              "  <tbody>\n",
              "    <tr>\n",
              "      <th>0</th>\n",
              "      <td>CH-06</td>\n",
              "      <td>12th Ave &amp; E Denny Way</td>\n",
              "      <td>47.618549</td>\n",
              "      <td>-122.317017</td>\n",
              "      <td>10/13/2014</td>\n",
              "      <td>16</td>\n",
              "      <td>NaN</td>\n",
              "      <td>16</td>\n",
              "      <td>NaN</td>\n",
              "    </tr>\n",
              "    <tr>\n",
              "      <th>1</th>\n",
              "      <td>CH-15</td>\n",
              "      <td>12th Ave &amp; E Mercer St</td>\n",
              "      <td>47.624142</td>\n",
              "      <td>-122.316811</td>\n",
              "      <td>10/13/2014</td>\n",
              "      <td>16</td>\n",
              "      <td>NaN</td>\n",
              "      <td>16</td>\n",
              "      <td>NaN</td>\n",
              "    </tr>\n",
              "    <tr>\n",
              "      <th>2</th>\n",
              "      <td>CD-01</td>\n",
              "      <td>12th Ave &amp; E Yesler Way</td>\n",
              "      <td>47.602103</td>\n",
              "      <td>-122.316923</td>\n",
              "      <td>5/22/2015</td>\n",
              "      <td>16</td>\n",
              "      <td>8/9/2016</td>\n",
              "      <td>0</td>\n",
              "      <td>8/9/2016</td>\n",
              "    </tr>\n",
              "    <tr>\n",
              "      <th>3</th>\n",
              "      <td>UD-04</td>\n",
              "      <td>12th Ave &amp; NE Campus Pkwy</td>\n",
              "      <td>47.656395</td>\n",
              "      <td>-122.315620</td>\n",
              "      <td>10/13/2014</td>\n",
              "      <td>16</td>\n",
              "      <td>NaN</td>\n",
              "      <td>16</td>\n",
              "      <td>NaN</td>\n",
              "    </tr>\n",
              "    <tr>\n",
              "      <th>4</th>\n",
              "      <td>CH-05</td>\n",
              "      <td>15th Ave E &amp; E Thomas St</td>\n",
              "      <td>47.620712</td>\n",
              "      <td>-122.312805</td>\n",
              "      <td>10/13/2014</td>\n",
              "      <td>16</td>\n",
              "      <td>NaN</td>\n",
              "      <td>16</td>\n",
              "      <td>NaN</td>\n",
              "    </tr>\n",
              "  </tbody>\n",
              "</table>\n",
              "</div>"
            ],
            "text/plain": [
              "  station_id                       name        lat        long install_date  \\\n",
              "0      CH-06     12th Ave & E Denny Way  47.618549 -122.317017   10/13/2014   \n",
              "1      CH-15     12th Ave & E Mercer St  47.624142 -122.316811   10/13/2014   \n",
              "2      CD-01    12th Ave & E Yesler Way  47.602103 -122.316923    5/22/2015   \n",
              "3      UD-04  12th Ave & NE Campus Pkwy  47.656395 -122.315620   10/13/2014   \n",
              "4      CH-05   15th Ave E & E Thomas St  47.620712 -122.312805   10/13/2014   \n",
              "\n",
              "   install_dockcount modification_date  current_dockcount decommission_date  \n",
              "0                 16               NaN                 16               NaN  \n",
              "1                 16               NaN                 16               NaN  \n",
              "2                 16          8/9/2016                  0          8/9/2016  \n",
              "3                 16               NaN                 16               NaN  \n",
              "4                 16               NaN                 16               NaN  "
            ]
          },
          "execution_count": 5,
          "metadata": {},
          "output_type": "execute_result"
        }
      ],
      "source": [
        "import pandas\n",
        "stations = df = pandas.read_csv(\"2016-12_station_data.csv\")\n",
        "df.head()"
      ]
    },
    {
      "cell_type": "code",
      "execution_count": 5,
      "metadata": {},
      "outputs": [
        {
          "data": {
            "text/html": [
              "<div style=\"width:80%;\"><div style=\"position:relative;width:100%;height:0;padding-bottom:60%;\"><iframe src=\"data:text/html;charset=utf-8;base64,PCFET0NUWVBFIGh0bWw+CjxoZWFkPiAgICAKICAgIDxtZXRhIGh0dHAtZXF1aXY9ImNvbnRlbnQtdHlwZSIgY29udGVudD0idGV4dC9odG1sOyBjaGFyc2V0PVVURi04IiAvPgogICAgPHNjcmlwdD5MX1BSRUZFUl9DQU5WQVMgPSBmYWxzZTsgTF9OT19UT1VDSCA9IGZhbHNlOyBMX0RJU0FCTEVfM0QgPSBmYWxzZTs8L3NjcmlwdD4KICAgIDxzY3JpcHQgc3JjPSJodHRwczovL2Nkbi5qc2RlbGl2ci5uZXQvbnBtL2xlYWZsZXRAMS4yLjAvZGlzdC9sZWFmbGV0LmpzIj48L3NjcmlwdD4KICAgIDxzY3JpcHQgc3JjPSJodHRwczovL2FqYXguZ29vZ2xlYXBpcy5jb20vYWpheC9saWJzL2pxdWVyeS8xLjExLjEvanF1ZXJ5Lm1pbi5qcyI+PC9zY3JpcHQ+CiAgICA8c2NyaXB0IHNyYz0iaHR0cHM6Ly9tYXhjZG4uYm9vdHN0cmFwY2RuLmNvbS9ib290c3RyYXAvMy4yLjAvanMvYm9vdHN0cmFwLm1pbi5qcyI+PC9zY3JpcHQ+CiAgICA8c2NyaXB0IHNyYz0iaHR0cHM6Ly9jZG5qcy5jbG91ZGZsYXJlLmNvbS9hamF4L2xpYnMvTGVhZmxldC5hd2Vzb21lLW1hcmtlcnMvMi4wLjIvbGVhZmxldC5hd2Vzb21lLW1hcmtlcnMuanMiPjwvc2NyaXB0PgogICAgPGxpbmsgcmVsPSJzdHlsZXNoZWV0IiBocmVmPSJodHRwczovL2Nkbi5qc2RlbGl2ci5uZXQvbnBtL2xlYWZsZXRAMS4yLjAvZGlzdC9sZWFmbGV0LmNzcyIgLz4KICAgIDxsaW5rIHJlbD0ic3R5bGVzaGVldCIgaHJlZj0iaHR0cHM6Ly9tYXhjZG4uYm9vdHN0cmFwY2RuLmNvbS9ib290c3RyYXAvMy4yLjAvY3NzL2Jvb3RzdHJhcC5taW4uY3NzIiAvPgogICAgPGxpbmsgcmVsPSJzdHlsZXNoZWV0IiBocmVmPSJodHRwczovL21heGNkbi5ib290c3RyYXBjZG4uY29tL2Jvb3RzdHJhcC8zLjIuMC9jc3MvYm9vdHN0cmFwLXRoZW1lLm1pbi5jc3MiIC8+CiAgICA8bGluayByZWw9InN0eWxlc2hlZXQiIGhyZWY9Imh0dHBzOi8vbWF4Y2RuLmJvb3RzdHJhcGNkbi5jb20vZm9udC1hd2Vzb21lLzQuNi4zL2Nzcy9mb250LWF3ZXNvbWUubWluLmNzcyIgLz4KICAgIDxsaW5rIHJlbD0ic3R5bGVzaGVldCIgaHJlZj0iaHR0cHM6Ly9jZG5qcy5jbG91ZGZsYXJlLmNvbS9hamF4L2xpYnMvTGVhZmxldC5hd2Vzb21lLW1hcmtlcnMvMi4wLjIvbGVhZmxldC5hd2Vzb21lLW1hcmtlcnMuY3NzIiAvPgogICAgPGxpbmsgcmVsPSJzdHlsZXNoZWV0IiBocmVmPSJodHRwczovL3Jhd2dpdC5jb20vcHl0aG9uLXZpc3VhbGl6YXRpb24vZm9saXVtL21hc3Rlci9mb2xpdW0vdGVtcGxhdGVzL2xlYWZsZXQuYXdlc29tZS5yb3RhdGUuY3NzIiAvPgogICAgPHN0eWxlPmh0bWwsIGJvZHkge3dpZHRoOiAxMDAlO2hlaWdodDogMTAwJTttYXJnaW46IDA7cGFkZGluZzogMDt9PC9zdHlsZT4KICAgIDxzdHlsZT4jbWFwIHtwb3NpdGlvbjphYnNvbHV0ZTt0b3A6MDtib3R0b206MDtyaWdodDowO2xlZnQ6MDt9PC9zdHlsZT4KICAgIAogICAgICAgICAgICA8c3R5bGU+ICNtYXBfZmZjMWY2NmUwYTQ1NGQ3ZGE2Njg5Y2YwYjljYTJiYWMgewogICAgICAgICAgICAgICAgcG9zaXRpb24gOiByZWxhdGl2ZTsKICAgICAgICAgICAgICAgIHdpZHRoIDogMTAwLjAlOwogICAgICAgICAgICAgICAgaGVpZ2h0OiAxMDAuMCU7CiAgICAgICAgICAgICAgICBsZWZ0OiAwLjAlOwogICAgICAgICAgICAgICAgdG9wOiAwLjAlOwogICAgICAgICAgICAgICAgfQogICAgICAgICAgICA8L3N0eWxlPgogICAgICAgIAo8L2hlYWQ+Cjxib2R5PiAgICAKICAgIAogICAgICAgICAgICA8ZGl2IGNsYXNzPSJmb2xpdW0tbWFwIiBpZD0ibWFwX2ZmYzFmNjZlMGE0NTRkN2RhNjY4OWNmMGI5Y2EyYmFjIiA+PC9kaXY+CiAgICAgICAgCjwvYm9keT4KPHNjcmlwdD4gICAgCiAgICAKCiAgICAgICAgICAgIAogICAgICAgICAgICAgICAgdmFyIGJvdW5kcyA9IG51bGw7CiAgICAgICAgICAgIAoKICAgICAgICAgICAgdmFyIG1hcF9mZmMxZjY2ZTBhNDU0ZDdkYTY2ODljZjBiOWNhMmJhYyA9IEwubWFwKAogICAgICAgICAgICAgICAgICAgICAgICAgICAgICAgICAgJ21hcF9mZmMxZjY2ZTBhNDU0ZDdkYTY2ODljZjBiOWNhMmJhYycsCiAgICAgICAgICAgICAgICAgICAgICAgICAgICAgICAgICB7Y2VudGVyOiBbNDcuNjE4NTQ5LC0xMjIuMzE3MDE3XSwKICAgICAgICAgICAgICAgICAgICAgICAgICAgICAgICAgIHpvb206IDEyLAogICAgICAgICAgICAgICAgICAgICAgICAgICAgICAgICAgbWF4Qm91bmRzOiBib3VuZHMsCiAgICAgICAgICAgICAgICAgICAgICAgICAgICAgICAgICBsYXllcnM6IFtdLAogICAgICAgICAgICAgICAgICAgICAgICAgICAgICAgICAgd29ybGRDb3B5SnVtcDogZmFsc2UsCiAgICAgICAgICAgICAgICAgICAgICAgICAgICAgICAgICBjcnM6IEwuQ1JTLkVQU0czODU3CiAgICAgICAgICAgICAgICAgICAgICAgICAgICAgICAgIH0pOwogICAgICAgICAgICAKICAgICAgICAKICAgIAogICAgICAgICAgICB2YXIgdGlsZV9sYXllcl8xNjJhZDI2ZWI0OTU0NDU5YjczMzc2N2YyYjIxMTQ3YSA9IEwudGlsZUxheWVyKAogICAgICAgICAgICAgICAgJ2h0dHBzOi8ve3N9LnRpbGUub3BlbnN0cmVldG1hcC5vcmcve3p9L3t4fS97eX0ucG5nJywKICAgICAgICAgICAgICAgIHsKICAiYXR0cmlidXRpb24iOiBudWxsLAogICJkZXRlY3RSZXRpbmEiOiBmYWxzZSwKICAibWF4Wm9vbSI6IDE4LAogICJtaW5ab29tIjogMSwKICAibm9XcmFwIjogZmFsc2UsCiAgInN1YmRvbWFpbnMiOiAiYWJjIgp9CiAgICAgICAgICAgICAgICApLmFkZFRvKG1hcF9mZmMxZjY2ZTBhNDU0ZDdkYTY2ODljZjBiOWNhMmJhYyk7CiAgICAgICAgCiAgICAKICAgICAgICAgICAgdmFyIGNpcmNsZV9tYXJrZXJfYTc3MGVjMTFlMjIxNGRhMWJjY2U1NTIwOWRjZTUyZmMgPSBMLmNpcmNsZU1hcmtlcigKICAgICAgICAgICAgICAgIFs0Ny42MTg1NDksLTEyMi4zMTcwMTY5OTk5OTk5OV0sCiAgICAgICAgICAgICAgICB7CiAgImJ1YmJsaW5nTW91c2VFdmVudHMiOiB0cnVlLAogICJjb2xvciI6ICIjMzM4OGZmIiwKICAiZGFzaEFycmF5IjogbnVsbCwKICAiZGFzaE9mZnNldCI6IG51bGwsCiAgImZpbGwiOiBmYWxzZSwKICAiZmlsbENvbG9yIjogIiMzMzg4ZmYiLAogICJmaWxsT3BhY2l0eSI6IDAuMiwKICAiZmlsbFJ1bGUiOiAiZXZlbm9kZCIsCiAgImxpbmVDYXAiOiAicm91bmQiLAogICJsaW5lSm9pbiI6ICJyb3VuZCIsCiAgIm9wYWNpdHkiOiAxLjAsCiAgInJhZGl1cyI6IDUsCiAgInN0cm9rZSI6IHRydWUsCiAgIndlaWdodCI6IDMKfQogICAgICAgICAgICAgICAgKS5hZGRUbyhtYXBfZmZjMWY2NmUwYTQ1NGQ3ZGE2Njg5Y2YwYjljYTJiYWMpOwogICAgICAgICAgICAKICAgIAogICAgICAgICAgICB2YXIgcG9wdXBfMDMwMzE0NjY1M2YwNDk3MWI0MmI4OTU5MjdmNmM5ZTggPSBMLnBvcHVwKHttYXhXaWR0aDogJzMwMCd9KTsKCiAgICAgICAgICAgIAogICAgICAgICAgICAgICAgdmFyIGh0bWxfZTg4OWRkNzU3MTU4NDcyY2FjZjQwMDU0OTBmY2U0NzAgPSAkKCc8ZGl2IGlkPSJodG1sX2U4ODlkZDc1NzE1ODQ3MmNhY2Y0MDA1NDkwZmNlNDcwIiBzdHlsZT0id2lkdGg6IDEwMC4wJTsgaGVpZ2h0OiAxMDAuMCU7Ij4xMnRoIEF2ZSAmIEUgRGU8L2Rpdj4nKVswXTsKICAgICAgICAgICAgICAgIHBvcHVwXzAzMDMxNDY2NTNmMDQ5NzFiNDJiODk1OTI3ZjZjOWU4LnNldENvbnRlbnQoaHRtbF9lODg5ZGQ3NTcxNTg0NzJjYWNmNDAwNTQ5MGZjZTQ3MCk7CiAgICAgICAgICAgIAoKICAgICAgICAgICAgY2lyY2xlX21hcmtlcl9hNzcwZWMxMWUyMjE0ZGExYmNjZTU1MjA5ZGNlNTJmYy5iaW5kUG9wdXAocG9wdXBfMDMwMzE0NjY1M2YwNDk3MWI0MmI4OTU5MjdmNmM5ZTgpOwoKICAgICAgICAgICAgCiAgICAgICAgCiAgICAKICAgICAgICAgICAgdmFyIGNpcmNsZV9tYXJrZXJfNzI2ZDdkZTNhNDNjNDRhMzkwZDgwMmYwOWY2ZTdhZjQgPSBMLmNpcmNsZU1hcmtlcigKICAgICAgICAgICAgICAgIFs0Ny42MjQxNDIsLTEyMi4zMTY4MTEwMDAwMDAwMl0sCiAgICAgICAgICAgICAgICB7CiAgImJ1YmJsaW5nTW91c2VFdmVudHMiOiB0cnVlLAogICJjb2xvciI6ICIjMzM4OGZmIiwKICAiZGFzaEFycmF5IjogbnVsbCwKICAiZGFzaE9mZnNldCI6IG51bGwsCiAgImZpbGwiOiBmYWxzZSwKICAiZmlsbENvbG9yIjogIiMzMzg4ZmYiLAogICJmaWxsT3BhY2l0eSI6IDAuMiwKICAiZmlsbFJ1bGUiOiAiZXZlbm9kZCIsCiAgImxpbmVDYXAiOiAicm91bmQiLAogICJsaW5lSm9pbiI6ICJyb3VuZCIsCiAgIm9wYWNpdHkiOiAxLjAsCiAgInJhZGl1cyI6IDUsCiAgInN0cm9rZSI6IHRydWUsCiAgIndlaWdodCI6IDMKfQogICAgICAgICAgICAgICAgKS5hZGRUbyhtYXBfZmZjMWY2NmUwYTQ1NGQ3ZGE2Njg5Y2YwYjljYTJiYWMpOwogICAgICAgICAgICAKICAgIAogICAgICAgICAgICB2YXIgcG9wdXBfZGQwMWI5NmRkMDJlNDNkZDhmMTMxMmI1MGY1YzY3YTcgPSBMLnBvcHVwKHttYXhXaWR0aDogJzMwMCd9KTsKCiAgICAgICAgICAgIAogICAgICAgICAgICAgICAgdmFyIGh0bWxfZDQyNjI3MWY4MTI3NDE0ZWEwZGU1NjRjNWY3MmUzOWQgPSAkKCc8ZGl2IGlkPSJodG1sX2Q0MjYyNzFmODEyNzQxNGVhMGRlNTY0YzVmNzJlMzlkIiBzdHlsZT0id2lkdGg6IDEwMC4wJTsgaGVpZ2h0OiAxMDAuMCU7Ij4xMnRoIEF2ZSAmIEUgTWU8L2Rpdj4nKVswXTsKICAgICAgICAgICAgICAgIHBvcHVwX2RkMDFiOTZkZDAyZTQzZGQ4ZjEzMTJiNTBmNWM2N2E3LnNldENvbnRlbnQoaHRtbF9kNDI2MjcxZjgxMjc0MTRlYTBkZTU2NGM1ZjcyZTM5ZCk7CiAgICAgICAgICAgIAoKICAgICAgICAgICAgY2lyY2xlX21hcmtlcl83MjZkN2RlM2E0M2M0NGEzOTBkODAyZjA5ZjZlN2FmNC5iaW5kUG9wdXAocG9wdXBfZGQwMWI5NmRkMDJlNDNkZDhmMTMxMmI1MGY1YzY3YTcpOwoKICAgICAgICAgICAgCiAgICAgICAgCiAgICAKICAgICAgICAgICAgdmFyIGNpcmNsZV9tYXJrZXJfNGYyNzM0MWZiZjYyNGY3ZDk4YzNiY2JjNTVlMDhmYzggPSBMLmNpcmNsZU1hcmtlcigKICAgICAgICAgICAgICAgIFs0Ny42MDIxMDMsLTEyMi4zMTY5MjNdLAogICAgICAgICAgICAgICAgewogICJidWJibGluZ01vdXNlRXZlbnRzIjogdHJ1ZSwKICAiY29sb3IiOiAiIzMzODhmZiIsCiAgImRhc2hBcnJheSI6IG51bGwsCiAgImRhc2hPZmZzZXQiOiBudWxsLAogICJmaWxsIjogZmFsc2UsCiAgImZpbGxDb2xvciI6ICIjMzM4OGZmIiwKICAiZmlsbE9wYWNpdHkiOiAwLjIsCiAgImZpbGxSdWxlIjogImV2ZW5vZGQiLAogICJsaW5lQ2FwIjogInJvdW5kIiwKICAibGluZUpvaW4iOiAicm91bmQiLAogICJvcGFjaXR5IjogMS4wLAogICJyYWRpdXMiOiA1LAogICJzdHJva2UiOiB0cnVlLAogICJ3ZWlnaHQiOiAzCn0KICAgICAgICAgICAgICAgICkuYWRkVG8obWFwX2ZmYzFmNjZlMGE0NTRkN2RhNjY4OWNmMGI5Y2EyYmFjKTsKICAgICAgICAgICAgCiAgICAKICAgICAgICAgICAgdmFyIHBvcHVwXzIwNDc3ZWE0NzYxMzQ5YWNhYzJjMDA3OGJiOWUzNDkxID0gTC5wb3B1cCh7bWF4V2lkdGg6ICczMDAnfSk7CgogICAgICAgICAgICAKICAgICAgICAgICAgICAgIHZhciBodG1sXzc5NmQ5YjY5ZGRkZjQ0ZmJhMTUyOTcxN2EzZDBlZTlhID0gJCgnPGRpdiBpZD0iaHRtbF83OTZkOWI2OWRkZGY0NGZiYTE1Mjk3MTdhM2QwZWU5YSIgc3R5bGU9IndpZHRoOiAxMDAuMCU7IGhlaWdodDogMTAwLjAlOyI+MTJ0aCBBdmUgJiBFIFllPC9kaXY+JylbMF07CiAgICAgICAgICAgICAgICBwb3B1cF8yMDQ3N2VhNDc2MTM0OWFjYWMyYzAwNzhiYjllMzQ5MS5zZXRDb250ZW50KGh0bWxfNzk2ZDliNjlkZGRmNDRmYmExNTI5NzE3YTNkMGVlOWEpOwogICAgICAgICAgICAKCiAgICAgICAgICAgIGNpcmNsZV9tYXJrZXJfNGYyNzM0MWZiZjYyNGY3ZDk4YzNiY2JjNTVlMDhmYzguYmluZFBvcHVwKHBvcHVwXzIwNDc3ZWE0NzYxMzQ5YWNhYzJjMDA3OGJiOWUzNDkxKTsKCiAgICAgICAgICAgIAogICAgICAgIAogICAgCiAgICAgICAgICAgIHZhciBjaXJjbGVfbWFya2VyX2U0NTc3MzgyODJhYTQ1NDQ4N2M1Y2EwMDMxM2U4ZThjID0gTC5jaXJjbGVNYXJrZXIoCiAgICAgICAgICAgICAgICBbNDcuNjU2Mzk1LC0xMjIuMzE1NjJdLAogICAgICAgICAgICAgICAgewogICJidWJibGluZ01vdXNlRXZlbnRzIjogdHJ1ZSwKICAiY29sb3IiOiAiIzMzODhmZiIsCiAgImRhc2hBcnJheSI6IG51bGwsCiAgImRhc2hPZmZzZXQiOiBudWxsLAogICJmaWxsIjogZmFsc2UsCiAgImZpbGxDb2xvciI6ICIjMzM4OGZmIiwKICAiZmlsbE9wYWNpdHkiOiAwLjIsCiAgImZpbGxSdWxlIjogImV2ZW5vZGQiLAogICJsaW5lQ2FwIjogInJvdW5kIiwKICAibGluZUpvaW4iOiAicm91bmQiLAogICJvcGFjaXR5IjogMS4wLAogICJyYWRpdXMiOiA1LAogICJzdHJva2UiOiB0cnVlLAogICJ3ZWlnaHQiOiAzCn0KICAgICAgICAgICAgICAgICkuYWRkVG8obWFwX2ZmYzFmNjZlMGE0NTRkN2RhNjY4OWNmMGI5Y2EyYmFjKTsKICAgICAgICAgICAgCiAgICAKICAgICAgICAgICAgdmFyIHBvcHVwX2JlZGFmYzFkZWU2YjQyNjFhOGZkY2Q2MDI3ODZmOGIwID0gTC5wb3B1cCh7bWF4V2lkdGg6ICczMDAnfSk7CgogICAgICAgICAgICAKICAgICAgICAgICAgICAgIHZhciBodG1sXzM1NzMwNzhlZDhiYjRjZGI4MjU5YjNlZjY2MTdhYjNjID0gJCgnPGRpdiBpZD0iaHRtbF8zNTczMDc4ZWQ4YmI0Y2RiODI1OWIzZWY2NjE3YWIzYyIgc3R5bGU9IndpZHRoOiAxMDAuMCU7IGhlaWdodDogMTAwLjAlOyI+MTJ0aCBBdmUgJiBORSBDPC9kaXY+JylbMF07CiAgICAgICAgICAgICAgICBwb3B1cF9iZWRhZmMxZGVlNmI0MjYxYThmZGNkNjAyNzg2ZjhiMC5zZXRDb250ZW50KGh0bWxfMzU3MzA3OGVkOGJiNGNkYjgyNTliM2VmNjYxN2FiM2MpOwogICAgICAgICAgICAKCiAgICAgICAgICAgIGNpcmNsZV9tYXJrZXJfZTQ1NzczODI4MmFhNDU0NDg3YzVjYTAwMzEzZThlOGMuYmluZFBvcHVwKHBvcHVwX2JlZGFmYzFkZWU2YjQyNjFhOGZkY2Q2MDI3ODZmOGIwKTsKCiAgICAgICAgICAgIAogICAgICAgIAogICAgCiAgICAgICAgICAgIHZhciBjaXJjbGVfbWFya2VyX2JmOGVkZTFjYTI4MzRjZGFiZGEwMmNhN2RlNzRjNzhlID0gTC5jaXJjbGVNYXJrZXIoCiAgICAgICAgICAgICAgICBbNDcuNjIwNzEyLC0xMjIuMzEyODA1MDAwMDAwMDFdLAogICAgICAgICAgICAgICAgewogICJidWJibGluZ01vdXNlRXZlbnRzIjogdHJ1ZSwKICAiY29sb3IiOiAiIzMzODhmZiIsCiAgImRhc2hBcnJheSI6IG51bGwsCiAgImRhc2hPZmZzZXQiOiBudWxsLAogICJmaWxsIjogZmFsc2UsCiAgImZpbGxDb2xvciI6ICIjMzM4OGZmIiwKICAiZmlsbE9wYWNpdHkiOiAwLjIsCiAgImZpbGxSdWxlIjogImV2ZW5vZGQiLAogICJsaW5lQ2FwIjogInJvdW5kIiwKICAibGluZUpvaW4iOiAicm91bmQiLAogICJvcGFjaXR5IjogMS4wLAogICJyYWRpdXMiOiA1LAogICJzdHJva2UiOiB0cnVlLAogICJ3ZWlnaHQiOiAzCn0KICAgICAgICAgICAgICAgICkuYWRkVG8obWFwX2ZmYzFmNjZlMGE0NTRkN2RhNjY4OWNmMGI5Y2EyYmFjKTsKICAgICAgICAgICAgCiAgICAKICAgICAgICAgICAgdmFyIHBvcHVwX2NiMjgyOWE2N2EwOTQ4NDg4OTM3ZWRmODgxYzZjNmNlID0gTC5wb3B1cCh7bWF4V2lkdGg6ICczMDAnfSk7CgogICAgICAgICAgICAKICAgICAgICAgICAgICAgIHZhciBodG1sXzY3ZDBkZTk1OGQ0YTQyNWE4MDU4YjY3MWQ4ZjBhMDBlID0gJCgnPGRpdiBpZD0iaHRtbF82N2QwZGU5NThkNGE0MjVhODA1OGI2NzFkOGYwYTAwZSIgc3R5bGU9IndpZHRoOiAxMDAuMCU7IGhlaWdodDogMTAwLjAlOyI+MTV0aCBBdmUgRSAmIEUgPC9kaXY+JylbMF07CiAgICAgICAgICAgICAgICBwb3B1cF9jYjI4MjlhNjdhMDk0ODQ4ODkzN2VkZjg4MWM2YzZjZS5zZXRDb250ZW50KGh0bWxfNjdkMGRlOTU4ZDRhNDI1YTgwNThiNjcxZDhmMGEwMGUpOwogICAgICAgICAgICAKCiAgICAgICAgICAgIGNpcmNsZV9tYXJrZXJfYmY4ZWRlMWNhMjgzNGNkYWJkYTAyY2E3ZGU3NGM3OGUuYmluZFBvcHVwKHBvcHVwX2NiMjgyOWE2N2EwOTQ4NDg4OTM3ZWRmODgxYzZjNmNlKTsKCiAgICAgICAgICAgIAogICAgICAgIAogICAgCiAgICAgICAgICAgIHZhciBjaXJjbGVfbWFya2VyXzgzYTI2Y2MzMzc0ODRjYmJiYmEzODY0ZGRkMzQ4YzM2ID0gTC5jaXJjbGVNYXJrZXIoCiAgICAgICAgICAgICAgICBbNDcuNjU1NTkwMDAwMDAwMDA0LC0xMjIuMzExODg5OTk5OTk5OTldLAogICAgICAgICAgICAgICAgewogICJidWJibGluZ01vdXNlRXZlbnRzIjogdHJ1ZSwKICAiY29sb3IiOiAiIzMzODhmZiIsCiAgImRhc2hBcnJheSI6IG51bGwsCiAgImRhc2hPZmZzZXQiOiBudWxsLAogICJmaWxsIjogZmFsc2UsCiAgImZpbGxDb2xvciI6ICIjMzM4OGZmIiwKICAiZmlsbE9wYWNpdHkiOiAwLjIsCiAgImZpbGxSdWxlIjogImV2ZW5vZGQiLAogICJsaW5lQ2FwIjogInJvdW5kIiwKICAibGluZUpvaW4iOiAicm91bmQiLAogICJvcGFjaXR5IjogMS4wLAogICJyYWRpdXMiOiA1LAogICJzdHJva2UiOiB0cnVlLAogICJ3ZWlnaHQiOiAzCn0KICAgICAgICAgICAgICAgICkuYWRkVG8obWFwX2ZmYzFmNjZlMGE0NTRkN2RhNjY4OWNmMGI5Y2EyYmFjKTsKICAgICAgICAgICAgCiAgICAKICAgICAgICAgICAgdmFyIHBvcHVwXzlhYjM0MzRmOTNmYjQxNmY5ZTllYzBiYTYwNTQyMjYyID0gTC5wb3B1cCh7bWF4V2lkdGg6ICczMDAnfSk7CgogICAgICAgICAgICAKICAgICAgICAgICAgICAgIHZhciBodG1sXzcxZDE4OTZmNjRhZDRlYWFiN2YyMGQ3NTgzMTdmNWM0ID0gJCgnPGRpdiBpZD0iaHRtbF83MWQxODk2ZjY0YWQ0ZWFhYjdmMjBkNzU4MzE3ZjVjNCIgc3R5bGU9IndpZHRoOiAxMDAuMCU7IGhlaWdodDogMTAwLjAlOyI+MTV0aCBBdmUgTkUgJiBOPC9kaXY+JylbMF07CiAgICAgICAgICAgICAgICBwb3B1cF85YWIzNDM0ZjkzZmI0MTZmOWU5ZWMwYmE2MDU0MjI2Mi5zZXRDb250ZW50KGh0bWxfNzFkMTg5NmY2NGFkNGVhYWI3ZjIwZDc1ODMxN2Y1YzQpOwogICAgICAgICAgICAKCiAgICAgICAgICAgIGNpcmNsZV9tYXJrZXJfODNhMjZjYzMzNzQ4NGNiYmJiYTM4NjRkZGQzNDhjMzYuYmluZFBvcHVwKHBvcHVwXzlhYjM0MzRmOTNmYjQxNmY5ZTllYzBiYTYwNTQyMjYyKTsKCiAgICAgICAgICAgIAogICAgICAgIAogICAgCiAgICAgICAgICAgIHZhciBjaXJjbGVfbWFya2VyX2YyNzkxMTI1NDhiYjQ2YTM5MTQ4ZjZkZGYyMjRlZWJkID0gTC5jaXJjbGVNYXJrZXIoCiAgICAgICAgICAgICAgICBbNDcuNjA0MDU4LC0xMjIuMzM1OF0sCiAgICAgICAgICAgICAgICB7CiAgImJ1YmJsaW5nTW91c2VFdmVudHMiOiB0cnVlLAogICJjb2xvciI6ICIjMzM4OGZmIiwKICAiZGFzaEFycmF5IjogbnVsbCwKICAiZGFzaE9mZnNldCI6IG51bGwsCiAgImZpbGwiOiBmYWxzZSwKICAiZmlsbENvbG9yIjogIiMzMzg4ZmYiLAogICJmaWxsT3BhY2l0eSI6IDAuMiwKICAiZmlsbFJ1bGUiOiAiZXZlbm9kZCIsCiAgImxpbmVDYXAiOiAicm91bmQiLAogICJsaW5lSm9pbiI6ICJyb3VuZCIsCiAgIm9wYWNpdHkiOiAxLjAsCiAgInJhZGl1cyI6IDUsCiAgInN0cm9rZSI6IHRydWUsCiAgIndlaWdodCI6IDMKfQogICAgICAgICAgICAgICAgKS5hZGRUbyhtYXBfZmZjMWY2NmUwYTQ1NGQ3ZGE2Njg5Y2YwYjljYTJiYWMpOwogICAgICAgICAgICAKICAgIAogICAgICAgICAgICB2YXIgcG9wdXBfNjBjOGZjM2JlY2EyNDA4MmFkOGI5NjYzOTBjZTU4YjEgPSBMLnBvcHVwKHttYXhXaWR0aDogJzMwMCd9KTsKCiAgICAgICAgICAgIAogICAgICAgICAgICAgICAgdmFyIGh0bWxfMTNiMzQ3ZDgyMjkyNGNlNDhiNTdmZWFmZWFjMTZlZDEgPSAkKCc8ZGl2IGlkPSJodG1sXzEzYjM0N2Q4MjI5MjRjZTQ4YjU3ZmVhZmVhYzE2ZWQxIiBzdHlsZT0id2lkdGg6IDEwMC4wJTsgaGVpZ2h0OiAxMDAuMCU7Ij4xc3QgQXZlICYgTWFyaW88L2Rpdj4nKVswXTsKICAgICAgICAgICAgICAgIHBvcHVwXzYwYzhmYzNiZWNhMjQwODJhZDhiOTY2MzkwY2U1OGIxLnNldENvbnRlbnQoaHRtbF8xM2IzNDdkODIyOTI0Y2U0OGI1N2ZlYWZlYWMxNmVkMSk7CiAgICAgICAgICAgIAoKICAgICAgICAgICAgY2lyY2xlX21hcmtlcl9mMjc5MTEyNTQ4YmI0NmEzOTE0OGY2ZGRmMjI0ZWViZC5iaW5kUG9wdXAocG9wdXBfNjBjOGZjM2JlY2EyNDA4MmFkOGI5NjYzOTBjZTU4YjEpOwoKICAgICAgICAgICAgCiAgICAgICAgCiAgICAKICAgICAgICAgICAgdmFyIGNpcmNsZV9tYXJrZXJfZDY1NTlmNGMzMjJjNGFmYjk2MjY0MGMwOWUzMjc0ZmUgPSBMLmNpcmNsZU1hcmtlcigKICAgICAgICAgICAgICAgIFs0Ny42MTMxMSwtMTIyLjM0NDIwODAwMDAwMDAxXSwKICAgICAgICAgICAgICAgIHsKICAiYnViYmxpbmdNb3VzZUV2ZW50cyI6IHRydWUsCiAgImNvbG9yIjogIiMzMzg4ZmYiLAogICJkYXNoQXJyYXkiOiBudWxsLAogICJkYXNoT2Zmc2V0IjogbnVsbCwKICAiZmlsbCI6IGZhbHNlLAogICJmaWxsQ29sb3IiOiAiIzMzODhmZiIsCiAgImZpbGxPcGFjaXR5IjogMC4yLAogICJmaWxsUnVsZSI6ICJldmVub2RkIiwKICAibGluZUNhcCI6ICJyb3VuZCIsCiAgImxpbmVKb2luIjogInJvdW5kIiwKICAib3BhY2l0eSI6IDEuMCwKICAicmFkaXVzIjogNSwKICAic3Ryb2tlIjogdHJ1ZSwKICAid2VpZ2h0IjogMwp9CiAgICAgICAgICAgICAgICApLmFkZFRvKG1hcF9mZmMxZjY2ZTBhNDU0ZDdkYTY2ODljZjBiOWNhMmJhYyk7CiAgICAgICAgICAgIAogICAgCiAgICAgICAgICAgIHZhciBwb3B1cF8yMzZhYjhmNzYzODQ0ZjE2YTcyODE4NWE0MmI4MGQ5NiA9IEwucG9wdXAoe21heFdpZHRoOiAnMzAwJ30pOwoKICAgICAgICAgICAgCiAgICAgICAgICAgICAgICB2YXIgaHRtbF82MzhkMTZjMDZiZDc0NjUwOWE5NzdhY2RmNzE4ZGFkZCA9ICQoJzxkaXYgaWQ9Imh0bWxfNjM4ZDE2YzA2YmQ3NDY1MDlhOTc3YWNkZjcxOGRhZGQiIHN0eWxlPSJ3aWR0aDogMTAwLjAlOyBoZWlnaHQ6IDEwMC4wJTsiPjJuZCBBdmUgJiBCbGFuYzwvZGl2PicpWzBdOwogICAgICAgICAgICAgICAgcG9wdXBfMjM2YWI4Zjc2Mzg0NGYxNmE3MjgxODVhNDJiODBkOTYuc2V0Q29udGVudChodG1sXzYzOGQxNmMwNmJkNzQ2NTA5YTk3N2FjZGY3MThkYWRkKTsKICAgICAgICAgICAgCgogICAgICAgICAgICBjaXJjbGVfbWFya2VyX2Q2NTU5ZjRjMzIyYzRhZmI5NjI2NDBjMDllMzI3NGZlLmJpbmRQb3B1cChwb3B1cF8yMzZhYjhmNzYzODQ0ZjE2YTcyODE4NWE0MmI4MGQ5Nik7CgogICAgICAgICAgICAKICAgICAgICAKICAgIAogICAgICAgICAgICB2YXIgY2lyY2xlX21hcmtlcl82YzAyZDBkMGE5ZTU0ZjA5ODYzMGVlNGMwYjAyMGFkZSA9IEwuY2lyY2xlTWFya2VyKAogICAgICAgICAgICAgICAgWzQ3LjYxMDE4NDk5OTk5OTk5NCwtMTIyLjMzOTY0MDk5OTk5OTk5XSwKICAgICAgICAgICAgICAgIHsKICAiYnViYmxpbmdNb3VzZUV2ZW50cyI6IHRydWUsCiAgImNvbG9yIjogIiMzMzg4ZmYiLAogICJkYXNoQXJyYXkiOiBudWxsLAogICJkYXNoT2Zmc2V0IjogbnVsbCwKICAiZmlsbCI6IGZhbHNlLAogICJmaWxsQ29sb3IiOiAiIzMzODhmZiIsCiAgImZpbGxPcGFjaXR5IjogMC4yLAogICJmaWxsUnVsZSI6ICJldmVub2RkIiwKICAibGluZUNhcCI6ICJyb3VuZCIsCiAgImxpbmVKb2luIjogInJvdW5kIiwKICAib3BhY2l0eSI6IDEuMCwKICAicmFkaXVzIjogNSwKICAic3Ryb2tlIjogdHJ1ZSwKICAid2VpZ2h0IjogMwp9CiAgICAgICAgICAgICAgICApLmFkZFRvKG1hcF9mZmMxZjY2ZTBhNDU0ZDdkYTY2ODljZjBiOWNhMmJhYyk7CiAgICAgICAgICAgIAogICAgCiAgICAgICAgICAgIHZhciBwb3B1cF83YzY0MDIyZWFkZjQ0YmUwYTYzNzA1MmY4MWMxZGY4ZCA9IEwucG9wdXAoe21heFdpZHRoOiAnMzAwJ30pOwoKICAgICAgICAgICAgCiAgICAgICAgICAgICAgICB2YXIgaHRtbF9iNjkxNDQ0OWJiNmQ0ZTZmYTQ2MTNmOWIxOTYzMjJjNiA9ICQoJzxkaXYgaWQ9Imh0bWxfYjY5MTQ0NDliYjZkNGU2ZmE0NjEzZjliMTk2MzIyYzYiIHN0eWxlPSJ3aWR0aDogMTAwLjAlOyBoZWlnaHQ6IDEwMC4wJTsiPjJuZCBBdmUgJiBQaW5lIDwvZGl2PicpWzBdOwogICAgICAgICAgICAgICAgcG9wdXBfN2M2NDAyMmVhZGY0NGJlMGE2MzcwNTJmODFjMWRmOGQuc2V0Q29udGVudChodG1sX2I2OTE0NDQ5YmI2ZDRlNmZhNDYxM2Y5YjE5NjMyMmM2KTsKICAgICAgICAgICAgCgogICAgICAgICAgICBjaXJjbGVfbWFya2VyXzZjMDJkMGQwYTllNTRmMDk4NjMwZWU0YzBiMDIwYWRlLmJpbmRQb3B1cChwb3B1cF83YzY0MDIyZWFkZjQ0YmUwYTYzNzA1MmY4MWMxZGY4ZCk7CgogICAgICAgICAgICAKICAgICAgICAKICAgIAogICAgICAgICAgICB2YXIgY2lyY2xlX21hcmtlcl80Y2QwMzc1Y2EyNDQ0YTc3OTYwZThjYTFjNzAyZTYwZSA9IEwuY2lyY2xlTWFya2VyKAogICAgICAgICAgICAgICAgWzQ3LjYwNTk1LC0xMjIuMzM1NzY3OTk5OTk5OTldLAogICAgICAgICAgICAgICAgewogICJidWJibGluZ01vdXNlRXZlbnRzIjogdHJ1ZSwKICAiY29sb3IiOiAiIzMzODhmZiIsCiAgImRhc2hBcnJheSI6IG51bGwsCiAgImRhc2hPZmZzZXQiOiBudWxsLAogICJmaWxsIjogZmFsc2UsCiAgImZpbGxDb2xvciI6ICIjMzM4OGZmIiwKICAiZmlsbE9wYWNpdHkiOiAwLjIsCiAgImZpbGxSdWxlIjogImV2ZW5vZGQiLAogICJsaW5lQ2FwIjogInJvdW5kIiwKICAibGluZUpvaW4iOiAicm91bmQiLAogICJvcGFjaXR5IjogMS4wLAogICJyYWRpdXMiOiA1LAogICJzdHJva2UiOiB0cnVlLAogICJ3ZWlnaHQiOiAzCn0KICAgICAgICAgICAgICAgICkuYWRkVG8obWFwX2ZmYzFmNjZlMGE0NTRkN2RhNjY4OWNmMGI5Y2EyYmFjKTsKICAgICAgICAgICAgCiAgICAKICAgICAgICAgICAgdmFyIHBvcHVwXzgzZGNlZGU3NmZkYTQyOWQ5ODQ3NWFmZjcxYjIxZmQzID0gTC5wb3B1cCh7bWF4V2lkdGg6ICczMDAnfSk7CgogICAgICAgICAgICAKICAgICAgICAgICAgICAgIHZhciBodG1sX2EwMzU4MmJjZGZkOTQyODk4YTU0NWQ0N2I3MWNkNTM0ID0gJCgnPGRpdiBpZD0iaHRtbF9hMDM1ODJiY2RmZDk0Mjg5OGE1NDVkNDdiNzFjZDUzNCIgc3R5bGU9IndpZHRoOiAxMDAuMCU7IGhlaWdodDogMTAwLjAlOyI+Mm5kIEF2ZSAmIFNwcmluPC9kaXY+JylbMF07CiAgICAgICAgICAgICAgICBwb3B1cF84M2RjZWRlNzZmZGE0MjlkOTg0NzVhZmY3MWIyMWZkMy5zZXRDb250ZW50KGh0bWxfYTAzNTgyYmNkZmQ5NDI4OThhNTQ1ZDQ3YjcxY2Q1MzQpOwogICAgICAgICAgICAKCiAgICAgICAgICAgIGNpcmNsZV9tYXJrZXJfNGNkMDM3NWNhMjQ0NGE3Nzk2MGU4Y2ExYzcwMmU2MGUuYmluZFBvcHVwKHBvcHVwXzgzZGNlZGU3NmZkYTQyOWQ5ODQ3NWFmZjcxYjIxZmQzKTsKCiAgICAgICAgICAgIAogICAgICAgIAogICAgCiAgICAgICAgICAgIHZhciBjaXJjbGVfbWFya2VyX2Y4YjU2NGE0NzFiZDRmMjY5ZGU0ZGU0MDNjYTUxODgzID0gTC5jaXJjbGVNYXJrZXIoCiAgICAgICAgICAgICAgICBbNDcuNjE1ODI5LC0xMjIuMzQ4NTY0XSwKICAgICAgICAgICAgICAgIHsKICAiYnViYmxpbmdNb3VzZUV2ZW50cyI6IHRydWUsCiAgImNvbG9yIjogIiMzMzg4ZmYiLAogICJkYXNoQXJyYXkiOiBudWxsLAogICJkYXNoT2Zmc2V0IjogbnVsbCwKICAiZmlsbCI6IGZhbHNlLAogICJmaWxsQ29sb3IiOiAiIzMzODhmZiIsCiAgImZpbGxPcGFjaXR5IjogMC4yLAogICJmaWxsUnVsZSI6ICJldmVub2RkIiwKICAibGluZUNhcCI6ICJyb3VuZCIsCiAgImxpbmVKb2luIjogInJvdW5kIiwKICAib3BhY2l0eSI6IDEuMCwKICAicmFkaXVzIjogNSwKICAic3Ryb2tlIjogdHJ1ZSwKICAid2VpZ2h0IjogMwp9CiAgICAgICAgICAgICAgICApLmFkZFRvKG1hcF9mZmMxZjY2ZTBhNDU0ZDdkYTY2ODljZjBiOWNhMmJhYyk7CiAgICAgICAgICAgIAogICAgCiAgICAgICAgICAgIHZhciBwb3B1cF9jMGRkZTg2YTU5OTI0ZmY3YWI1NWZlN2MzOGE0MTkwMyA9IEwucG9wdXAoe21heFdpZHRoOiAnMzAwJ30pOwoKICAgICAgICAgICAgCiAgICAgICAgICAgICAgICB2YXIgaHRtbF8xMTQ1OGVkMTNjYWE0OTFhYmM4OTM4NDM3ZDljMjNmOCA9ICQoJzxkaXYgaWQ9Imh0bWxfMTE0NThlZDEzY2FhNDkxYWJjODkzODQzN2Q5YzIzZjgiIHN0eWxlPSJ3aWR0aDogMTAwLjAlOyBoZWlnaHQ6IDEwMC4wJTsiPjJuZCBBdmUgJiBWaW5lIDwvZGl2PicpWzBdOwogICAgICAgICAgICAgICAgcG9wdXBfYzBkZGU4NmE1OTkyNGZmN2FiNTVmZTdjMzhhNDE5MDMuc2V0Q29udGVudChodG1sXzExNDU4ZWQxM2NhYTQ5MWFiYzg5Mzg0MzdkOWMyM2Y4KTsKICAgICAgICAgICAgCgogICAgICAgICAgICBjaXJjbGVfbWFya2VyX2Y4YjU2NGE0NzFiZDRmMjY5ZGU0ZGU0MDNjYTUxODgzLmJpbmRQb3B1cChwb3B1cF9jMGRkZTg2YTU5OTI0ZmY3YWI1NWZlN2MzOGE0MTkwMyk7CgogICAgICAgICAgICAKICAgICAgICAKICAgIAogICAgICAgICAgICB2YXIgY2lyY2xlX21hcmtlcl9iNDY2YTE2Y2M0NGU0ODNkYTJiYzMyYzQ3Y2VkNzJlNyA9IEwuY2lyY2xlTWFya2VyKAogICAgICAgICAgICAgICAgWzQ3LjYxODQxOCwtMTIyLjM1MDk2Mzk5OTk5OTk5XSwKICAgICAgICAgICAgICAgIHsKICAiYnViYmxpbmdNb3VzZUV2ZW50cyI6IHRydWUsCiAgImNvbG9yIjogIiMzMzg4ZmYiLAogICJkYXNoQXJyYXkiOiBudWxsLAogICJkYXNoT2Zmc2V0IjogbnVsbCwKICAiZmlsbCI6IGZhbHNlLAogICJmaWxsQ29sb3IiOiAiIzMzODhmZiIsCiAgImZpbGxPcGFjaXR5IjogMC4yLAogICJmaWxsUnVsZSI6ICJldmVub2RkIiwKICAibGluZUNhcCI6ICJyb3VuZCIsCiAgImxpbmVKb2luIjogInJvdW5kIiwKICAib3BhY2l0eSI6IDEuMCwKICAicmFkaXVzIjogNSwKICAic3Ryb2tlIjogdHJ1ZSwKICAid2VpZ2h0IjogMwp9CiAgICAgICAgICAgICAgICApLmFkZFRvKG1hcF9mZmMxZjY2ZTBhNDU0ZDdkYTY2ODljZjBiOWNhMmJhYyk7CiAgICAgICAgICAgIAogICAgCiAgICAgICAgICAgIHZhciBwb3B1cF81MDI3ODIwNWI4YWE0MWQ1OGI0YTIyMjNmN2ZjMWMyOSA9IEwucG9wdXAoe21heFdpZHRoOiAnMzAwJ30pOwoKICAgICAgICAgICAgCiAgICAgICAgICAgICAgICB2YXIgaHRtbF8yZTNhNGVmODVmYjQ0MzEyOWZiZTc4NDhlYTk5NzBjMSA9ICQoJzxkaXYgaWQ9Imh0bWxfMmUzYTRlZjg1ZmI0NDMxMjlmYmU3ODQ4ZWE5OTcwYzEiIHN0eWxlPSJ3aWR0aDogMTAwLjAlOyBoZWlnaHQ6IDEwMC4wJTsiPjNyZCBBdmUgJiBCcm9hZDwvZGl2PicpWzBdOwogICAgICAgICAgICAgICAgcG9wdXBfNTAyNzgyMDViOGFhNDFkNThiNGEyMjIzZjdmYzFjMjkuc2V0Q29udGVudChodG1sXzJlM2E0ZWY4NWZiNDQzMTI5ZmJlNzg0OGVhOTk3MGMxKTsKICAgICAgICAgICAgCgogICAgICAgICAgICBjaXJjbGVfbWFya2VyX2I0NjZhMTZjYzQ0ZTQ4M2RhMmJjMzJjNDdjZWQ3MmU3LmJpbmRQb3B1cChwb3B1cF81MDI3ODIwNWI4YWE0MWQ1OGI0YTIyMjNmN2ZjMWMyOSk7CgogICAgICAgICAgICAKICAgICAgICAKICAgIAogICAgICAgICAgICB2YXIgY2lyY2xlX21hcmtlcl9iNmI3YTRkM2I4MTc0MGQ3OTc2NDIzZTE2MWZjMzRkYSA9IEwuY2lyY2xlTWFya2VyKAogICAgICAgICAgICAgICAgWzQ3LjYxNjA5NCwtMTIyLjM0MTEwMl0sCiAgICAgICAgICAgICAgICB7CiAgImJ1YmJsaW5nTW91c2VFdmVudHMiOiB0cnVlLAogICJjb2xvciI6ICIjMzM4OGZmIiwKICAiZGFzaEFycmF5IjogbnVsbCwKICAiZGFzaE9mZnNldCI6IG51bGwsCiAgImZpbGwiOiBmYWxzZSwKICAiZmlsbENvbG9yIjogIiMzMzg4ZmYiLAogICJmaWxsT3BhY2l0eSI6IDAuMiwKICAiZmlsbFJ1bGUiOiAiZXZlbm9kZCIsCiAgImxpbmVDYXAiOiAicm91bmQiLAogICJsaW5lSm9pbiI6ICJyb3VuZCIsCiAgIm9wYWNpdHkiOiAxLjAsCiAgInJhZGl1cyI6IDUsCiAgInN0cm9rZSI6IHRydWUsCiAgIndlaWdodCI6IDMKfQogICAgICAgICAgICAgICAgKS5hZGRUbyhtYXBfZmZjMWY2NmUwYTQ1NGQ3ZGE2Njg5Y2YwYjljYTJiYWMpOwogICAgICAgICAgICAKICAgIAogICAgICAgICAgICB2YXIgcG9wdXBfZGI0MTU5ZGQ3MjhlNDc2MTk1OGFmOGUyMjg0YjAyYzMgPSBMLnBvcHVwKHttYXhXaWR0aDogJzMwMCd9KTsKCiAgICAgICAgICAgIAogICAgICAgICAgICAgICAgdmFyIGh0bWxfZjI3Y2IwMmYwNzlhNDI0MWI0N2QzZDZmNmRjMGU4NjEgPSAkKCc8ZGl2IGlkPSJodG1sX2YyN2NiMDJmMDc5YTQyNDFiNDdkM2Q2ZjZkYzBlODYxIiBzdHlsZT0id2lkdGg6IDEwMC4wJTsgaGVpZ2h0OiAxMDAuMCU7Ij42dGggQXZlICYgQmxhbmM8L2Rpdj4nKVswXTsKICAgICAgICAgICAgICAgIHBvcHVwX2RiNDE1OWRkNzI4ZTQ3NjE5NThhZjhlMjI4NGIwMmMzLnNldENvbnRlbnQoaHRtbF9mMjdjYjAyZjA3OWE0MjQxYjQ3ZDNkNmY2ZGMwZTg2MSk7CiAgICAgICAgICAgIAoKICAgICAgICAgICAgY2lyY2xlX21hcmtlcl9iNmI3YTRkM2I4MTc0MGQ3OTc2NDIzZTE2MWZjMzRkYS5iaW5kUG9wdXAocG9wdXBfZGI0MTU5ZGQ3MjhlNDc2MTk1OGFmOGUyMjg0YjAyYzMpOwoKICAgICAgICAgICAgCiAgICAgICAgCiAgICAKICAgICAgICAgICAgdmFyIGNpcmNsZV9tYXJrZXJfNDQ2YTQ1NmQ2NDA3NGI5YzhkMTM0NDYwYjgzODZiYmMgPSBMLmNpcmNsZU1hcmtlcigKICAgICAgICAgICAgICAgIFs0Ny41OTg0ODgsLTEyMi4zMjY0MTJdLAogICAgICAgICAgICAgICAgewogICJidWJibGluZ01vdXNlRXZlbnRzIjogdHJ1ZSwKICAiY29sb3IiOiAiIzMzODhmZiIsCiAgImRhc2hBcnJheSI6IG51bGwsCiAgImRhc2hPZmZzZXQiOiBudWxsLAogICJmaWxsIjogZmFsc2UsCiAgImZpbGxDb2xvciI6ICIjMzM4OGZmIiwKICAiZmlsbE9wYWNpdHkiOiAwLjIsCiAgImZpbGxSdWxlIjogImV2ZW5vZGQiLAogICJsaW5lQ2FwIjogInJvdW5kIiwKICAibGluZUpvaW4iOiAicm91bmQiLAogICJvcGFjaXR5IjogMS4wLAogICJyYWRpdXMiOiA1LAogICJzdHJva2UiOiB0cnVlLAogICJ3ZWlnaHQiOiAzCn0KICAgICAgICAgICAgICAgICkuYWRkVG8obWFwX2ZmYzFmNjZlMGE0NTRkN2RhNjY4OWNmMGI5Y2EyYmFjKTsKICAgICAgICAgICAgCiAgICAKICAgICAgICAgICAgdmFyIHBvcHVwX2FmYzE5NTYzNzE1ODQ2YmE4NTk2NGJmYTViZmU0YWZiID0gTC5wb3B1cCh7bWF4V2lkdGg6ICczMDAnfSk7CgogICAgICAgICAgICAKICAgICAgICAgICAgICAgIHZhciBodG1sX2VmMGM0NmIyNmMwMTRkMjdhNWZiNjYzMGJmOGEwOGVlID0gJCgnPGRpdiBpZD0iaHRtbF9lZjBjNDZiMjZjMDE0ZDI3YTVmYjY2MzBiZjhhMDhlZSIgc3R5bGU9IndpZHRoOiAxMDAuMCU7IGhlaWdodDogMTAwLjAlOyI+NnRoIEF2ZSBTICYgUyBLPC9kaXY+JylbMF07CiAgICAgICAgICAgICAgICBwb3B1cF9hZmMxOTU2MzcxNTg0NmJhODU5NjRiZmE1YmZlNGFmYi5zZXRDb250ZW50KGh0bWxfZWYwYzQ2YjI2YzAxNGQyN2E1ZmI2NjMwYmY4YTA4ZWUpOwogICAgICAgICAgICAKCiAgICAgICAgICAgIGNpcmNsZV9tYXJrZXJfNDQ2YTQ1NmQ2NDA3NGI5YzhkMTM0NDYwYjgzODZiYmMuYmluZFBvcHVwKHBvcHVwX2FmYzE5NTYzNzE1ODQ2YmE4NTk2NGJmYTViZmU0YWZiKTsKCiAgICAgICAgICAgIAogICAgICAgIAogICAgCiAgICAgICAgICAgIHZhciBjaXJjbGVfbWFya2VyX2MyNzQ5ZTEwNDZhMDQxNzNhMzEzYTcyYjYwOGExYmRmID0gTC5jaXJjbGVNYXJrZXIoCiAgICAgICAgICAgICAgICBbNDcuNjEwNzMxLC0xMjIuMzMyNDQ3XSwKICAgICAgICAgICAgICAgIHsKICAiYnViYmxpbmdNb3VzZUV2ZW50cyI6IHRydWUsCiAgImNvbG9yIjogIiMzMzg4ZmYiLAogICJkYXNoQXJyYXkiOiBudWxsLAogICJkYXNoT2Zmc2V0IjogbnVsbCwKICAiZmlsbCI6IGZhbHNlLAogICJmaWxsQ29sb3IiOiAiIzMzODhmZiIsCiAgImZpbGxPcGFjaXR5IjogMC4yLAogICJmaWxsUnVsZSI6ICJldmVub2RkIiwKICAibGluZUNhcCI6ICJyb3VuZCIsCiAgImxpbmVKb2luIjogInJvdW5kIiwKICAib3BhY2l0eSI6IDEuMCwKICAicmFkaXVzIjogNSwKICAic3Ryb2tlIjogdHJ1ZSwKICAid2VpZ2h0IjogMwp9CiAgICAgICAgICAgICAgICApLmFkZFRvKG1hcF9mZmMxZjY2ZTBhNDU0ZDdkYTY2ODljZjBiOWNhMmJhYyk7CiAgICAgICAgICAgIAogICAgCiAgICAgICAgICAgIHZhciBwb3B1cF8xMTc0NjBkZTk1OWY0YTY3ODljMDhkYzRjMjY4NGYwMiA9IEwucG9wdXAoe21heFdpZHRoOiAnMzAwJ30pOwoKICAgICAgICAgICAgCiAgICAgICAgICAgICAgICB2YXIgaHRtbF9hMGUzZTgxZWIwODY0NWM4YjYyNDQyZTEyOWFhMDc0YiA9ICQoJzxkaXYgaWQ9Imh0bWxfYTBlM2U4MWViMDg2NDVjOGI2MjQ0MmUxMjlhYTA3NGIiIHN0eWxlPSJ3aWR0aDogMTAwLjAlOyBoZWlnaHQ6IDEwMC4wJTsiPjd0aCBBdmUgJiBVbmlvbjwvZGl2PicpWzBdOwogICAgICAgICAgICAgICAgcG9wdXBfMTE3NDYwZGU5NTlmNGE2Nzg5YzA4ZGM0YzI2ODRmMDIuc2V0Q29udGVudChodG1sX2EwZTNlODFlYjA4NjQ1YzhiNjI0NDJlMTI5YWEwNzRiKTsKICAgICAgICAgICAgCgogICAgICAgICAgICBjaXJjbGVfbWFya2VyX2MyNzQ5ZTEwNDZhMDQxNzNhMzEzYTcyYjYwOGExYmRmLmJpbmRQb3B1cChwb3B1cF8xMTc0NjBkZTk1OWY0YTY3ODljMDhkYzRjMjY4NGYwMik7CgogICAgICAgICAgICAKICAgICAgICAKICAgIAogICAgICAgICAgICB2YXIgY2lyY2xlX21hcmtlcl9kYzEyMjZmNWU3ZGY0NDUxODQzZjZhYzQ0Yjk4NDQzOCA9IEwuY2lyY2xlTWFya2VyKAogICAgICAgICAgICAgICAgWzQ3LjYyNDI5Nzk5OTk5OTk5NiwtMTIyLjMzOTYxNjk5OTk5OTk5XSwKICAgICAgICAgICAgICAgIHsKICAiYnViYmxpbmdNb3VzZUV2ZW50cyI6IHRydWUsCiAgImNvbG9yIjogIiMzMzg4ZmYiLAogICJkYXNoQXJyYXkiOiBudWxsLAogICJkYXNoT2Zmc2V0IjogbnVsbCwKICAiZmlsbCI6IGZhbHNlLAogICJmaWxsQ29sb3IiOiAiIzMzODhmZiIsCiAgImZpbGxPcGFjaXR5IjogMC4yLAogICJmaWxsUnVsZSI6ICJldmVub2RkIiwKICAibGluZUNhcCI6ICJyb3VuZCIsCiAgImxpbmVKb2luIjogInJvdW5kIiwKICAib3BhY2l0eSI6IDEuMCwKICAicmFkaXVzIjogNSwKICAic3Ryb2tlIjogdHJ1ZSwKICAid2VpZ2h0IjogMwp9CiAgICAgICAgICAgICAgICApLmFkZFRvKG1hcF9mZmMxZjY2ZTBhNDU0ZDdkYTY2ODljZjBiOWNhMmJhYyk7CiAgICAgICAgICAgIAogICAgCiAgICAgICAgICAgIHZhciBwb3B1cF9mMDQwODM1ODdlZjI0OTMzYWRhMjFjYTBjMDdkMzhkNiA9IEwucG9wdXAoe21heFdpZHRoOiAnMzAwJ30pOwoKICAgICAgICAgICAgCiAgICAgICAgICAgICAgICB2YXIgaHRtbF84ZTM1NzYzNDAwY2M0NmM4Yjc5YWE1M2NkM2E5YzdhZiA9ICQoJzxkaXYgaWQ9Imh0bWxfOGUzNTc2MzQwMGNjNDZjOGI3OWFhNTNjZDNhOWM3YWYiIHN0eWxlPSJ3aWR0aDogMTAwLjAlOyBoZWlnaHQ6IDEwMC4wJTsiPjl0aCBBdmUgTiAmIE1lcjwvZGl2PicpWzBdOwogICAgICAgICAgICAgICAgcG9wdXBfZjA0MDgzNTg3ZWYyNDkzM2FkYTIxY2EwYzA3ZDM4ZDYuc2V0Q29udGVudChodG1sXzhlMzU3NjM0MDBjYzQ2YzhiNzlhYTUzY2QzYTljN2FmKTsKICAgICAgICAgICAgCgogICAgICAgICAgICBjaXJjbGVfbWFya2VyX2RjMTIyNmY1ZTdkZjQ0NTE4NDNmNmFjNDRiOTg0NDM4LmJpbmRQb3B1cChwb3B1cF9mMDQwODM1ODdlZjI0OTMzYWRhMjFjYTBjMDdkMzhkNik7CgogICAgICAgICAgICAKICAgICAgICAKICAgIAogICAgICAgICAgICB2YXIgY2lyY2xlX21hcmtlcl80MzdmNjFjMjIxZjg0Mjg4YjNhNGFkOWE4M2I2NDMxOCA9IEwuY2lyY2xlTWFya2VyKAogICAgICAgICAgICAgICAgWzQ3LjYxNTQ1NiwtMTIyLjMyNjcyOV0sCiAgICAgICAgICAgICAgICB7CiAgImJ1YmJsaW5nTW91c2VFdmVudHMiOiB0cnVlLAogICJjb2xvciI6ICIjMzM4OGZmIiwKICAiZGFzaEFycmF5IjogbnVsbCwKICAiZGFzaE9mZnNldCI6IG51bGwsCiAgImZpbGwiOiBmYWxzZSwKICAiZmlsbENvbG9yIjogIiMzMzg4ZmYiLAogICJmaWxsT3BhY2l0eSI6IDAuMiwKICAiZmlsbFJ1bGUiOiAiZXZlbm9kZCIsCiAgImxpbmVDYXAiOiAicm91bmQiLAogICJsaW5lSm9pbiI6ICJyb3VuZCIsCiAgIm9wYWNpdHkiOiAxLjAsCiAgInJhZGl1cyI6IDUsCiAgInN0cm9rZSI6IHRydWUsCiAgIndlaWdodCI6IDMKfQogICAgICAgICAgICAgICAgKS5hZGRUbyhtYXBfZmZjMWY2NmUwYTQ1NGQ3ZGE2Njg5Y2YwYjljYTJiYWMpOwogICAgICAgICAgICAKICAgIAogICAgICAgICAgICB2YXIgcG9wdXBfZmExZGNjZjIyZTRlNDk2NjhmZTljYzY4NzI4YTU0M2IgPSBMLnBvcHVwKHttYXhXaWR0aDogJzMwMCd9KTsKCiAgICAgICAgICAgIAogICAgICAgICAgICAgICAgdmFyIGh0bWxfNzQ3Zjg5M2FkMmQyNGU0NWE3Y2Q1ZDA5YmZiODI5MzMgPSAkKCc8ZGl2IGlkPSJodG1sXzc0N2Y4OTNhZDJkMjRlNDVhN2NkNWQwOWJmYjgyOTMzIiBzdHlsZT0id2lkdGg6IDEwMC4wJTsgaGVpZ2h0OiAxMDAuMCU7Ij5CZWxsZXZ1ZSBBdmUgJiA8L2Rpdj4nKVswXTsKICAgICAgICAgICAgICAgIHBvcHVwX2ZhMWRjY2YyMmU0ZTQ5NjY4ZmU5Y2M2ODcyOGE1NDNiLnNldENvbnRlbnQoaHRtbF83NDdmODkzYWQyZDI0ZTQ1YTdjZDVkMDliZmI4MjkzMyk7CiAgICAgICAgICAgIAoKICAgICAgICAgICAgY2lyY2xlX21hcmtlcl80MzdmNjFjMjIxZjg0Mjg4YjNhNGFkOWE4M2I2NDMxOC5iaW5kUG9wdXAocG9wdXBfZmExZGNjZjIyZTRlNDk2NjhmZTljYzY4NzI4YTU0M2IpOwoKICAgICAgICAgICAgCiAgICAgICAgCiAgICAKICAgICAgICAgICAgdmFyIGNpcmNsZV9tYXJrZXJfNTcyOTNjNWU3OGFkNGNlN2IxYjkxOTMzNTdiZWM1OWUgPSBMLmNpcmNsZU1hcmtlcigKICAgICAgICAgICAgICAgIFs0Ny42MTg2Mzk1NiwtMTIyLjMyMDc3NjkwMDAwMDAxXSwKICAgICAgICAgICAgICAgIHsKICAiYnViYmxpbmdNb3VzZUV2ZW50cyI6IHRydWUsCiAgImNvbG9yIjogIiMzMzg4ZmYiLAogICJkYXNoQXJyYXkiOiBudWxsLAogICJkYXNoT2Zmc2V0IjogbnVsbCwKICAiZmlsbCI6IGZhbHNlLAogICJmaWxsQ29sb3IiOiAiIzMzODhmZiIsCiAgImZpbGxPcGFjaXR5IjogMC4yLAogICJmaWxsUnVsZSI6ICJldmVub2RkIiwKICAibGluZUNhcCI6ICJyb3VuZCIsCiAgImxpbmVKb2luIjogInJvdW5kIiwKICAib3BhY2l0eSI6IDEuMCwKICAicmFkaXVzIjogNSwKICAic3Ryb2tlIjogdHJ1ZSwKICAid2VpZ2h0IjogMwp9CiAgICAgICAgICAgICAgICApLmFkZFRvKG1hcF9mZmMxZjY2ZTBhNDU0ZDdkYTY2ODljZjBiOWNhMmJhYyk7CiAgICAgICAgICAgIAogICAgCiAgICAgICAgICAgIHZhciBwb3B1cF84YTMxZmM0OThmMjk0ODUxYTI2NjU5NWM1OTAzYzVlZiA9IEwucG9wdXAoe21heFdpZHRoOiAnMzAwJ30pOwoKICAgICAgICAgICAgCiAgICAgICAgICAgICAgICB2YXIgaHRtbF81YmMwYzQ1NTc0MzM0MTliOTRmNzBmMjZmMDFmN2I2YSA9ICQoJzxkaXYgaWQ9Imh0bWxfNWJjMGM0NTU3NDMzNDE5Yjk0ZjcwZjI2ZjAxZjdiNmEiIHN0eWxlPSJ3aWR0aDogMTAwLjAlOyBoZWlnaHQ6IDEwMC4wJTsiPkJyb2Fkd2F5IGFuZCBFIDwvZGl2PicpWzBdOwogICAgICAgICAgICAgICAgcG9wdXBfOGEzMWZjNDk4ZjI5NDg1MWEyNjY1OTVjNTkwM2M1ZWYuc2V0Q29udGVudChodG1sXzViYzBjNDU1NzQzMzQxOWI5NGY3MGYyNmYwMWY3YjZhKTsKICAgICAgICAgICAgCgogICAgICAgICAgICBjaXJjbGVfbWFya2VyXzU3MjkzYzVlNzhhZDRjZTdiMWI5MTkzMzU3YmVjNTllLmJpbmRQb3B1cChwb3B1cF84YTMxZmM0OThmMjk0ODUxYTI2NjU5NWM1OTAzYzVlZik7CgogICAgICAgICAgICAKICAgICAgICAKICAgIAogICAgICAgICAgICB2YXIgY2lyY2xlX21hcmtlcl8wZjljYjFhZDEzMDA0YTE4OWQzNmE4ZDdjMGQ0NGM5YyA9IEwuY2lyY2xlTWFya2VyKAogICAgICAgICAgICAgICAgWzQ3LjY1OTc1NiwtMTIyLjMxMDQwMl0sCiAgICAgICAgICAgICAgICB7CiAgImJ1YmJsaW5nTW91c2VFdmVudHMiOiB0cnVlLAogICJjb2xvciI6ICIjMzM4OGZmIiwKICAiZGFzaEFycmF5IjogbnVsbCwKICAiZGFzaE9mZnNldCI6IG51bGwsCiAgImZpbGwiOiBmYWxzZSwKICAiZmlsbENvbG9yIjogIiMzMzg4ZmYiLAogICJmaWxsT3BhY2l0eSI6IDAuMiwKICAiZmlsbFJ1bGUiOiAiZXZlbm9kZCIsCiAgImxpbmVDYXAiOiAicm91bmQiLAogICJsaW5lSm9pbiI6ICJyb3VuZCIsCiAgIm9wYWNpdHkiOiAxLjAsCiAgInJhZGl1cyI6IDUsCiAgInN0cm9rZSI6IHRydWUsCiAgIndlaWdodCI6IDMKfQogICAgICAgICAgICAgICAgKS5hZGRUbyhtYXBfZmZjMWY2NmUwYTQ1NGQ3ZGE2Njg5Y2YwYjljYTJiYWMpOwogICAgICAgICAgICAKICAgIAogICAgICAgICAgICB2YXIgcG9wdXBfYTk5YzgyMjVmNDFhNDQ4NmIxZGE4NDQ2YThiNjFkNjIgPSBMLnBvcHVwKHttYXhXaWR0aDogJzMwMCd9KTsKCiAgICAgICAgICAgIAogICAgICAgICAgICAgICAgdmFyIGh0bWxfODY0MTQ4ZmUxNGQ1NGQ4ZmI4ODQxZTM3MzE0YTg2YzAgPSAkKCc8ZGl2IGlkPSJodG1sXzg2NDE0OGZlMTRkNTRkOGZiODg0MWUzNzMxNGE4NmMwIiBzdHlsZT0id2lkdGg6IDEwMC4wJTsgaGVpZ2h0OiAxMDAuMCU7Ij5CdXJrZSBNdXNldW0gLSA8L2Rpdj4nKVswXTsKICAgICAgICAgICAgICAgIHBvcHVwX2E5OWM4MjI1ZjQxYTQ0ODZiMWRhODQ0NmE4YjYxZDYyLnNldENvbnRlbnQoaHRtbF84NjQxNDhmZTE0ZDU0ZDhmYjg4NDFlMzczMTRhODZjMCk7CiAgICAgICAgICAgIAoKICAgICAgICAgICAgY2lyY2xlX21hcmtlcl8wZjljYjFhZDEzMDA0YTE4OWQzNmE4ZDdjMGQ0NGM5Yy5iaW5kUG9wdXAocG9wdXBfYTk5YzgyMjVmNDFhNDQ4NmIxZGE4NDQ2YThiNjFkNjIpOwoKICAgICAgICAgICAgCiAgICAgICAgCiAgICAKICAgICAgICAgICAgdmFyIGNpcmNsZV9tYXJrZXJfMDEzZTMwMDdmOGI4NDMwNTkxOTIxNDZhZTkwNjMyMmUgPSBMLmNpcmNsZU1hcmtlcigKICAgICAgICAgICAgICAgIFs0Ny42NjYxNDUsLTEyMi4zMDE0OTFdLAogICAgICAgICAgICAgICAgewogICJidWJibGluZ01vdXNlRXZlbnRzIjogdHJ1ZSwKICAiY29sb3IiOiAiIzMzODhmZiIsCiAgImRhc2hBcnJheSI6IG51bGwsCiAgImRhc2hPZmZzZXQiOiBudWxsLAogICJmaWxsIjogZmFsc2UsCiAgImZpbGxDb2xvciI6ICIjMzM4OGZmIiwKICAiZmlsbE9wYWNpdHkiOiAwLjIsCiAgImZpbGxSdWxlIjogImV2ZW5vZGQiLAogICJsaW5lQ2FwIjogInJvdW5kIiwKICAibGluZUpvaW4iOiAicm91bmQiLAogICJvcGFjaXR5IjogMS4wLAogICJyYWRpdXMiOiA1LAogICJzdHJva2UiOiB0cnVlLAogICJ3ZWlnaHQiOiAzCn0KICAgICAgICAgICAgICAgICkuYWRkVG8obWFwX2ZmYzFmNjZlMGE0NTRkN2RhNjY4OWNmMGI5Y2EyYmFjKTsKICAgICAgICAgICAgCiAgICAKICAgICAgICAgICAgdmFyIHBvcHVwX2I5MTNmZDI3NzVkNDRhOTU4YjU1MDdkYWRjMDcwMjVkID0gTC5wb3B1cCh7bWF4V2lkdGg6ICczMDAnfSk7CgogICAgICAgICAgICAKICAgICAgICAgICAgICAgIHZhciBodG1sXzk2MzhkODkzYjgwYjQzNzdhM2I0MmQxOTdmNzcxNzkzID0gJCgnPGRpdiBpZD0iaHRtbF85NjM4ZDg5M2I4MGI0Mzc3YTNiNDJkMTk3Zjc3MTc5MyIgc3R5bGU9IndpZHRoOiAxMDAuMCU7IGhlaWdodDogMTAwLjAlOyI+QnVya2UtR2lsbWFuIFRyPC9kaXY+JylbMF07CiAgICAgICAgICAgICAgICBwb3B1cF9iOTEzZmQyNzc1ZDQ0YTk1OGI1NTA3ZGFkYzA3MDI1ZC5zZXRDb250ZW50KGh0bWxfOTYzOGQ4OTNiODBiNDM3N2EzYjQyZDE5N2Y3NzE3OTMpOwogICAgICAgICAgICAKCiAgICAgICAgICAgIGNpcmNsZV9tYXJrZXJfMDEzZTMwMDdmOGI4NDMwNTkxOTIxNDZhZTkwNjMyMmUuYmluZFBvcHVwKHBvcHVwX2I5MTNmZDI3NzVkNDRhOTU4YjU1MDdkYWRjMDcwMjVkKTsKCiAgICAgICAgICAgIAogICAgICAgIAogICAgCiAgICAgICAgICAgIHZhciBjaXJjbGVfbWFya2VyX2NlZDZmMzIwYTZjNjQwOGU5OGI3OWM2MGQwMjU3NTRiID0gTC5jaXJjbGVNYXJrZXIoCiAgICAgICAgICAgICAgICBbNDcuNjE1NDg2LC0xMjIuMzE4MjQ0OTk5OTk5OTldLAogICAgICAgICAgICAgICAgewogICJidWJibGluZ01vdXNlRXZlbnRzIjogdHJ1ZSwKICAiY29sb3IiOiAiIzMzODhmZiIsCiAgImRhc2hBcnJheSI6IG51bGwsCiAgImRhc2hPZmZzZXQiOiBudWxsLAogICJmaWxsIjogZmFsc2UsCiAgImZpbGxDb2xvciI6ICIjMzM4OGZmIiwKICAiZmlsbE9wYWNpdHkiOiAwLjIsCiAgImZpbGxSdWxlIjogImV2ZW5vZGQiLAogICJsaW5lQ2FwIjogInJvdW5kIiwKICAibGluZUpvaW4iOiAicm91bmQiLAogICJvcGFjaXR5IjogMS4wLAogICJyYWRpdXMiOiA1LAogICJzdHJva2UiOiB0cnVlLAogICJ3ZWlnaHQiOiAzCn0KICAgICAgICAgICAgICAgICkuYWRkVG8obWFwX2ZmYzFmNjZlMGE0NTRkN2RhNjY4OWNmMGI5Y2EyYmFjKTsKICAgICAgICAgICAgCiAgICAKICAgICAgICAgICAgdmFyIHBvcHVwXzNkOGI3ODgwMzI1ODQ2MmU5MTIxMzNkNzE2ZjczODgyID0gTC5wb3B1cCh7bWF4V2lkdGg6ICczMDAnfSk7CgogICAgICAgICAgICAKICAgICAgICAgICAgICAgIHZhciBodG1sXzE5ZTQ0OTAxZTJiNTQzZjBhMTU3NDMxM2JhZGNjZWRlID0gJCgnPGRpdiBpZD0iaHRtbF8xOWU0NDkwMWUyYjU0M2YwYTE1NzQzMTNiYWRjY2VkZSIgc3R5bGU9IndpZHRoOiAxMDAuMCU7IGhlaWdodDogMTAwLjAlOyI+Q2FsIEFuZGVyc29uIFBhPC9kaXY+JylbMF07CiAgICAgICAgICAgICAgICBwb3B1cF8zZDhiNzg4MDMyNTg0NjJlOTEyMTMzZDcxNmY3Mzg4Mi5zZXRDb250ZW50KGh0bWxfMTllNDQ5MDFlMmI1NDNmMGExNTc0MzEzYmFkY2NlZGUpOwogICAgICAgICAgICAKCiAgICAgICAgICAgIGNpcmNsZV9tYXJrZXJfY2VkNmYzMjBhNmM2NDA4ZTk4Yjc5YzYwZDAyNTc1NGIuYmluZFBvcHVwKHBvcHVwXzNkOGI3ODgwMzI1ODQ2MmU5MTIxMzNkNzE2ZjczODgyKTsKCiAgICAgICAgICAgIAogICAgICAgIAogICAgCiAgICAgICAgICAgIHZhciBjaXJjbGVfbWFya2VyXzYzZDM3OTE1ZmRkZjRiNzdiNWRjMTY1NjUxMTRmMThiID0gTC5jaXJjbGVNYXJrZXIoCiAgICAgICAgICAgICAgICBbNDcuNjYzNTA5MDAwMDAwMDA1LC0xMjIuMjg0MTE4OTk5OTk5OTldLAogICAgICAgICAgICAgICAgewogICJidWJibGluZ01vdXNlRXZlbnRzIjogdHJ1ZSwKICAiY29sb3IiOiAiIzMzODhmZiIsCiAgImRhc2hBcnJheSI6IG51bGwsCiAgImRhc2hPZmZzZXQiOiBudWxsLAogICJmaWxsIjogZmFsc2UsCiAgImZpbGxDb2xvciI6ICIjMzM4OGZmIiwKICAiZmlsbE9wYWNpdHkiOiAwLjIsCiAgImZpbGxSdWxlIjogImV2ZW5vZGQiLAogICJsaW5lQ2FwIjogInJvdW5kIiwKICAibGluZUpvaW4iOiAicm91bmQiLAogICJvcGFjaXR5IjogMS4wLAogICJyYWRpdXMiOiA1LAogICJzdHJva2UiOiB0cnVlLAogICJ3ZWlnaHQiOiAzCn0KICAgICAgICAgICAgICAgICkuYWRkVG8obWFwX2ZmYzFmNjZlMGE0NTRkN2RhNjY4OWNmMGI5Y2EyYmFjKTsKICAgICAgICAgICAgCiAgICAKICAgICAgICAgICAgdmFyIHBvcHVwXzZlMDNkZjgxMTY2ODRhNjU5ZGI4ZTNkYzM0ZDdiMDcwID0gTC5wb3B1cCh7bWF4V2lkdGg6ICczMDAnfSk7CgogICAgICAgICAgICAKICAgICAgICAgICAgICAgIHZhciBodG1sX2E0ZmE4MjZjZmExZDRkM2JiYjllZTBjN2Y4NGQxMGFmID0gJCgnPGRpdiBpZD0iaHRtbF9hNGZhODI2Y2ZhMWQ0ZDNiYmI5ZWUwYzdmODRkMTBhZiIgc3R5bGU9IndpZHRoOiAxMDAuMCU7IGhlaWdodDogMTAwLjAlOyI+Q2hpbGRyZW5zIEhvc3BpPC9kaXY+JylbMF07CiAgICAgICAgICAgICAgICBwb3B1cF82ZTAzZGY4MTE2Njg0YTY1OWRiOGUzZGMzNGQ3YjA3MC5zZXRDb250ZW50KGh0bWxfYTRmYTgyNmNmYTFkNGQzYmJiOWVlMGM3Zjg0ZDEwYWYpOwogICAgICAgICAgICAKCiAgICAgICAgICAgIGNpcmNsZV9tYXJrZXJfNjNkMzc5MTVmZGRmNGI3N2I1ZGMxNjU2NTExNGYxOGIuYmluZFBvcHVwKHBvcHVwXzZlMDNkZjgxMTY2ODRhNjU5ZGI4ZTNkYzM0ZDdiMDcwKTsKCiAgICAgICAgICAgIAogICAgICAgIAogICAgCiAgICAgICAgICAgIHZhciBjaXJjbGVfbWFya2VyXzcxNWYwM2EyN2U2ODRlZTc4NGI4YWQ4YTI1MTgwYTAzID0gTC5jaXJjbGVNYXJrZXIoCiAgICAgICAgICAgICAgICBbNDcuNjAzNTA5LC0xMjIuMzMwNDA5XSwKICAgICAgICAgICAgICAgIHsKICAiYnViYmxpbmdNb3VzZUV2ZW50cyI6IHRydWUsCiAgImNvbG9yIjogIiMzMzg4ZmYiLAogICJkYXNoQXJyYXkiOiBudWxsLAogICJkYXNoT2Zmc2V0IjogbnVsbCwKICAiZmlsbCI6IGZhbHNlLAogICJmaWxsQ29sb3IiOiAiIzMzODhmZiIsCiAgImZpbGxPcGFjaXR5IjogMC4yLAogICJmaWxsUnVsZSI6ICJldmVub2RkIiwKICAibGluZUNhcCI6ICJyb3VuZCIsCiAgImxpbmVKb2luIjogInJvdW5kIiwKICAib3BhY2l0eSI6IDEuMCwKICAicmFkaXVzIjogNSwKICAic3Ryb2tlIjogdHJ1ZSwKICAid2VpZ2h0IjogMwp9CiAgICAgICAgICAgICAgICApLmFkZFRvKG1hcF9mZmMxZjY2ZTBhNDU0ZDdkYTY2ODljZjBiOWNhMmJhYyk7CiAgICAgICAgICAgIAogICAgCiAgICAgICAgICAgIHZhciBwb3B1cF8yODBlMDY1NTFjNzI0YjBlOTI0NTkxNTFmZTYyZjIwYSA9IEwucG9wdXAoe21heFdpZHRoOiAnMzAwJ30pOwoKICAgICAgICAgICAgCiAgICAgICAgICAgICAgICB2YXIgaHRtbF9kMTMxMDhlNTllZTA0OWUyOWRmZmRmOWFkYjc3NDA2MSA9ICQoJzxkaXYgaWQ9Imh0bWxfZDEzMTA4ZTU5ZWUwNDllMjlkZmZkZjlhZGI3NzQwNjEiIHN0eWxlPSJ3aWR0aDogMTAwLjAlOyBoZWlnaHQ6IDEwMC4wJTsiPkNpdHkgSGFsbCAtIDR0aDwvZGl2PicpWzBdOwogICAgICAgICAgICAgICAgcG9wdXBfMjgwZTA2NTUxYzcyNGIwZTkyNDU5MTUxZmU2MmYyMGEuc2V0Q29udGVudChodG1sX2QxMzEwOGU1OWVlMDQ5ZTI5ZGZmZGY5YWRiNzc0MDYxKTsKICAgICAgICAgICAgCgogICAgICAgICAgICBjaXJjbGVfbWFya2VyXzcxNWYwM2EyN2U2ODRlZTc4NGI4YWQ4YTI1MTgwYTAzLmJpbmRQb3B1cChwb3B1cF8yODBlMDY1NTFjNzI0YjBlOTI0NTkxNTFmZTYyZjIwYSk7CgogICAgICAgICAgICAKICAgICAgICAKICAgIAogICAgICAgICAgICB2YXIgY2lyY2xlX21hcmtlcl9mMmFiZjViNDgyYTI0YjJmYTU5N2I1MzRlZmU3YmYyNSA9IEwuY2lyY2xlTWFya2VyKAogICAgICAgICAgICAgICAgWzQ3LjYxODI4NSwtMTIyLjM0MjIwNV0sCiAgICAgICAgICAgICAgICB7CiAgImJ1YmJsaW5nTW91c2VFdmVudHMiOiB0cnVlLAogICJjb2xvciI6ICIjMzM4OGZmIiwKICAiZGFzaEFycmF5IjogbnVsbCwKICAiZGFzaE9mZnNldCI6IG51bGwsCiAgImZpbGwiOiBmYWxzZSwKICAiZmlsbENvbG9yIjogIiMzMzg4ZmYiLAogICJmaWxsT3BhY2l0eSI6IDAuMiwKICAiZmlsbFJ1bGUiOiAiZXZlbm9kZCIsCiAgImxpbmVDYXAiOiAicm91bmQiLAogICJsaW5lSm9pbiI6ICJyb3VuZCIsCiAgIm9wYWNpdHkiOiAxLjAsCiAgInJhZGl1cyI6IDUsCiAgInN0cm9rZSI6IHRydWUsCiAgIndlaWdodCI6IDMKfQogICAgICAgICAgICAgICAgKS5hZGRUbyhtYXBfZmZjMWY2NmUwYTQ1NGQ3ZGE2Njg5Y2YwYjljYTJiYWMpOwogICAgICAgICAgICAKICAgIAogICAgICAgICAgICB2YXIgcG9wdXBfODQ5Mzk4MzgzMzNlNDNlNzhhYzhjZWNhY2VhMzM4ZGMgPSBMLnBvcHVwKHttYXhXaWR0aDogJzMwMCd9KTsKCiAgICAgICAgICAgIAogICAgICAgICAgICAgICAgdmFyIGh0bWxfMWQ1OWQ1Y2RiN2Q3NGRhZWEyMjdlOGVlZWI4ZTBhYTYgPSAkKCc8ZGl2IGlkPSJodG1sXzFkNTlkNWNkYjdkNzRkYWVhMjI3ZThlZWViOGUwYWE2IiBzdHlsZT0id2lkdGg6IDEwMC4wJTsgaGVpZ2h0OiAxMDAuMCU7Ij5EZXh0ZXIgQXZlICYgRGU8L2Rpdj4nKVswXTsKICAgICAgICAgICAgICAgIHBvcHVwXzg0OTM5ODM4MzMzZTQzZTc4YWM4Y2VjYWNlYTMzOGRjLnNldENvbnRlbnQoaHRtbF8xZDU5ZDVjZGI3ZDc0ZGFlYTIyN2U4ZWVlYjhlMGFhNik7CiAgICAgICAgICAgIAoKICAgICAgICAgICAgY2lyY2xlX21hcmtlcl9mMmFiZjViNDgyYTI0YjJmYTU5N2I1MzRlZmU3YmYyNS5iaW5kUG9wdXAocG9wdXBfODQ5Mzk4MzgzMzNlNDNlNzhhYzhjZWNhY2VhMzM4ZGMpOwoKICAgICAgICAgICAgCiAgICAgICAgCiAgICAKICAgICAgICAgICAgdmFyIGNpcmNsZV9tYXJrZXJfZTc4Y2FjODViOWVlNDRlMTk4ZjIxYjM0YmJiZTQxMDMgPSBMLmNpcmNsZU1hcmtlcigKICAgICAgICAgICAgICAgIFs0Ny42Mjc3MzQ5OTk5OTk5OTQsLTEyMi4zNDIyMzIwMDAwMDAwMV0sCiAgICAgICAgICAgICAgICB7CiAgImJ1YmJsaW5nTW91c2VFdmVudHMiOiB0cnVlLAogICJjb2xvciI6ICIjMzM4OGZmIiwKICAiZGFzaEFycmF5IjogbnVsbCwKICAiZGFzaE9mZnNldCI6IG51bGwsCiAgImZpbGwiOiBmYWxzZSwKICAiZmlsbENvbG9yIjogIiMzMzg4ZmYiLAogICJmaWxsT3BhY2l0eSI6IDAuMiwKICAiZmlsbFJ1bGUiOiAiZXZlbm9kZCIsCiAgImxpbmVDYXAiOiAicm91bmQiLAogICJsaW5lSm9pbiI6ICJyb3VuZCIsCiAgIm9wYWNpdHkiOiAxLjAsCiAgInJhZGl1cyI6IDUsCiAgInN0cm9rZSI6IHRydWUsCiAgIndlaWdodCI6IDMKfQogICAgICAgICAgICAgICAgKS5hZGRUbyhtYXBfZmZjMWY2NmUwYTQ1NGQ3ZGE2Njg5Y2YwYjljYTJiYWMpOwogICAgICAgICAgICAKICAgIAogICAgICAgICAgICB2YXIgcG9wdXBfYjZlYzhkZTViNmQxNDUyYWIyYmQ1Y2Y4NTJlYjE4ZjAgPSBMLnBvcHVwKHttYXhXaWR0aDogJzMwMCd9KTsKCiAgICAgICAgICAgIAogICAgICAgICAgICAgICAgdmFyIGh0bWxfMmVmNTBiZTZmODk0NDAwMmFlOTk3ODJhMDRiNTc3NjYgPSAkKCc8ZGl2IGlkPSJodG1sXzJlZjUwYmU2Zjg5NDQwMDJhZTk5NzgyYTA0YjU3NzY2IiBzdHlsZT0id2lkdGg6IDEwMC4wJTsgaGVpZ2h0OiAxMDAuMCU7Ij5EZXh0ZXIgQXZlIE4gJiA8L2Rpdj4nKVswXTsKICAgICAgICAgICAgICAgIHBvcHVwX2I2ZWM4ZGU1YjZkMTQ1MmFiMmJkNWNmODUyZWIxOGYwLnNldENvbnRlbnQoaHRtbF8yZWY1MGJlNmY4OTQ0MDAyYWU5OTc4MmEwNGI1Nzc2Nik7CiAgICAgICAgICAgIAoKICAgICAgICAgICAgY2lyY2xlX21hcmtlcl9lNzhjYWM4NWI5ZWU0NGUxOThmMjFiMzRiYmJlNDEwMy5iaW5kUG9wdXAocG9wdXBfYjZlYzhkZTViNmQxNDUyYWIyYmQ1Y2Y4NTJlYjE4ZjApOwoKICAgICAgICAgICAgCiAgICAgICAgCiAgICAKICAgICAgICAgICAgdmFyIGNpcmNsZV9tYXJrZXJfYzlkNTI4NjkzMmJmNGE0ZGEwM2Y0ZjUxNWYwZTgyYmIgPSBMLmNpcmNsZU1hcmtlcigKICAgICAgICAgICAgICAgIFs0Ny42MzQ4MzEsLTEyMi4zMjY2MzQwMDAwMDAwMV0sCiAgICAgICAgICAgICAgICB7CiAgImJ1YmJsaW5nTW91c2VFdmVudHMiOiB0cnVlLAogICJjb2xvciI6ICIjMzM4OGZmIiwKICAiZGFzaEFycmF5IjogbnVsbCwKICAiZGFzaE9mZnNldCI6IG51bGwsCiAgImZpbGwiOiBmYWxzZSwKICAiZmlsbENvbG9yIjogIiMzMzg4ZmYiLAogICJmaWxsT3BhY2l0eSI6IDAuMiwKICAiZmlsbFJ1bGUiOiAiZXZlbm9kZCIsCiAgImxpbmVDYXAiOiAicm91bmQiLAogICJsaW5lSm9pbiI6ICJyb3VuZCIsCiAgIm9wYWNpdHkiOiAxLjAsCiAgInJhZGl1cyI6IDUsCiAgInN0cm9rZSI6IHRydWUsCiAgIndlaWdodCI6IDMKfQogICAgICAgICAgICAgICAgKS5hZGRUbyhtYXBfZmZjMWY2NmUwYTQ1NGQ3ZGE2Njg5Y2YwYjljYTJiYWMpOwogICAgICAgICAgICAKICAgIAogICAgICAgICAgICB2YXIgcG9wdXBfYmViNDllN2UxOTkzNDA4NmJlMTUyYjljYzA5ZmQ3OTQgPSBMLnBvcHVwKHttYXhXaWR0aDogJzMwMCd9KTsKCiAgICAgICAgICAgIAogICAgICAgICAgICAgICAgdmFyIGh0bWxfMmVhYzAzZmEwZDNjNDNlMjhkYzM1YjU1MmI0YzE0MmYgPSAkKCc8ZGl2IGlkPSJodG1sXzJlYWMwM2ZhMGQzYzQzZTI4ZGMzNWI1NTJiNGMxNDJmIiBzdHlsZT0id2lkdGg6IDEwMC4wJTsgaGVpZ2h0OiAxMDAuMCU7Ij5FIEJsYWluZSBTdCAmIEY8L2Rpdj4nKVswXTsKICAgICAgICAgICAgICAgIHBvcHVwX2JlYjQ5ZTdlMTk5MzQwODZiZTE1MmI5Y2MwOWZkNzk0LnNldENvbnRlbnQoaHRtbF8yZWFjMDNmYTBkM2M0M2UyOGRjMzViNTUyYjRjMTQyZik7CiAgICAgICAgICAgIAoKICAgICAgICAgICAgY2lyY2xlX21hcmtlcl9jOWQ1Mjg2OTMyYmY0YTRkYTAzZjRmNTE1ZjBlODJiYi5iaW5kUG9wdXAocG9wdXBfYmViNDllN2UxOTkzNDA4NmJlMTUyYjljYzA5ZmQ3OTQpOwoKICAgICAgICAgICAgCiAgICAgICAgCiAgICAKICAgICAgICAgICAgdmFyIGNpcmNsZV9tYXJrZXJfNTQ1Y2MwNzg4YmM1NDNjNzgwZWFjZTJlNGFmMDlkZDAgPSBMLmNpcmNsZU1hcmtlcigKICAgICAgICAgICAgICAgIFs0Ny42MjIwNjMsLTEyMi4zMjEyNTFdLAogICAgICAgICAgICAgICAgewogICJidWJibGluZ01vdXNlRXZlbnRzIjogdHJ1ZSwKICAiY29sb3IiOiAiIzMzODhmZiIsCiAgImRhc2hBcnJheSI6IG51bGwsCiAgImRhc2hPZmZzZXQiOiBudWxsLAogICJmaWxsIjogZmFsc2UsCiAgImZpbGxDb2xvciI6ICIjMzM4OGZmIiwKICAiZmlsbE9wYWNpdHkiOiAwLjIsCiAgImZpbGxSdWxlIjogImV2ZW5vZGQiLAogICJsaW5lQ2FwIjogInJvdW5kIiwKICAibGluZUpvaW4iOiAicm91bmQiLAogICJvcGFjaXR5IjogMS4wLAogICJyYWRpdXMiOiA1LAogICJzdHJva2UiOiB0cnVlLAogICJ3ZWlnaHQiOiAzCn0KICAgICAgICAgICAgICAgICkuYWRkVG8obWFwX2ZmYzFmNjZlMGE0NTRkN2RhNjY4OWNmMGI5Y2EyYmFjKTsKICAgICAgICAgICAgCiAgICAKICAgICAgICAgICAgdmFyIHBvcHVwX2ZkODE3NDYxMTc5YjRjZWM4OTU3ZGRkYjBmN2M4NmRlID0gTC5wb3B1cCh7bWF4V2lkdGg6ICczMDAnfSk7CgogICAgICAgICAgICAKICAgICAgICAgICAgICAgIHZhciBodG1sXzc5NDE2ZGQ1NmI5OTRjMjI4YzVlZmYyMTUwMjA2NGVhID0gJCgnPGRpdiBpZD0iaHRtbF83OTQxNmRkNTZiOTk0YzIyOGM1ZWZmMjE1MDIwNjRlYSIgc3R5bGU9IndpZHRoOiAxMDAuMCU7IGhlaWdodDogMTAwLjAlOyI+RSBIYXJyaXNvbiBTdCAmPC9kaXY+JylbMF07CiAgICAgICAgICAgICAgICBwb3B1cF9mZDgxNzQ2MTE3OWI0Y2VjODk1N2RkZGIwZjdjODZkZS5zZXRDb250ZW50KGh0bWxfNzk0MTZkZDU2Yjk5NGMyMjhjNWVmZjIxNTAyMDY0ZWEpOwogICAgICAgICAgICAKCiAgICAgICAgICAgIGNpcmNsZV9tYXJrZXJfNTQ1Y2MwNzg4YmM1NDNjNzgwZWFjZTJlNGFmMDlkZDAuYmluZFBvcHVwKHBvcHVwX2ZkODE3NDYxMTc5YjRjZWM4OTU3ZGRkYjBmN2M4NmRlKTsKCiAgICAgICAgICAgIAogICAgICAgIAogICAgCiAgICAgICAgICAgIHZhciBjaXJjbGVfbWFya2VyX2U4MzdjYmRiYWM1ZjQ2NDVhZTJlMTc2YWE5NGIyZmZkID0gTC5jaXJjbGVNYXJrZXIoCiAgICAgICAgICAgICAgICBbNDcuNjE1MzMsLTEyMi4zMTE3NTJdLAogICAgICAgICAgICAgICAgewogICJidWJibGluZ01vdXNlRXZlbnRzIjogdHJ1ZSwKICAiY29sb3IiOiAiIzMzODhmZiIsCiAgImRhc2hBcnJheSI6IG51bGwsCiAgImRhc2hPZmZzZXQiOiBudWxsLAogICJmaWxsIjogZmFsc2UsCiAgImZpbGxDb2xvciI6ICIjMzM4OGZmIiwKICAiZmlsbE9wYWNpdHkiOiAwLjIsCiAgImZpbGxSdWxlIjogImV2ZW5vZGQiLAogICJsaW5lQ2FwIjogInJvdW5kIiwKICAibGluZUpvaW4iOiAicm91bmQiLAogICJvcGFjaXR5IjogMS4wLAogICJyYWRpdXMiOiA1LAogICJzdHJva2UiOiB0cnVlLAogICJ3ZWlnaHQiOiAzCn0KICAgICAgICAgICAgICAgICkuYWRkVG8obWFwX2ZmYzFmNjZlMGE0NTRkN2RhNjY4OWNmMGI5Y2EyYmFjKTsKICAgICAgICAgICAgCiAgICAKICAgICAgICAgICAgdmFyIHBvcHVwX2E0ZDExYWMxYzFmNDQ0YjdiMGZhNTYxNzcwZTcxNWNmID0gTC5wb3B1cCh7bWF4V2lkdGg6ICczMDAnfSk7CgogICAgICAgICAgICAKICAgICAgICAgICAgICAgIHZhciBodG1sXzM1MjQ2NzFiNDdkMjQ2MWZhN2Y3YWEzZDVmMzg1MjAxID0gJCgnPGRpdiBpZD0iaHRtbF8zNTI0NjcxYjQ3ZDI0NjFmYTdmN2FhM2Q1ZjM4NTIwMSIgc3R5bGU9IndpZHRoOiAxMDAuMCU7IGhlaWdodDogMTAwLjAlOyI+RSBQaW5lIFN0ICYgMTZ0PC9kaXY+JylbMF07CiAgICAgICAgICAgICAgICBwb3B1cF9hNGQxMWFjMWMxZjQ0NGI3YjBmYTU2MTc3MGU3MTVjZi5zZXRDb250ZW50KGh0bWxfMzUyNDY3MWI0N2QyNDYxZmE3ZjdhYTNkNWYzODUyMDEpOwogICAgICAgICAgICAKCiAgICAgICAgICAgIGNpcmNsZV9tYXJrZXJfZTgzN2NiZGJhYzVmNDY0NWFlMmUxNzZhYTk0YjJmZmQuYmluZFBvcHVwKHBvcHVwX2E0ZDExYWMxYzFmNDQ0YjdiMGZhNTYxNzcwZTcxNWNmKTsKCiAgICAgICAgICAgIAogICAgICAgIAogICAgCiAgICAgICAgICAgIHZhciBjaXJjbGVfbWFya2VyXzhlYmJmZmQ3OTY3YzRkZTQ4ZGQ5OWYzMzcyMzAyNzk1ID0gTC5jaXJjbGVNYXJrZXIoCiAgICAgICAgICAgICAgICBbNDcuNjQ5MDksLTEyMi4zMjI5ODMwMDAwMDAwMV0sCiAgICAgICAgICAgICAgICB7CiAgImJ1YmJsaW5nTW91c2VFdmVudHMiOiB0cnVlLAogICJjb2xvciI6ICIjMzM4OGZmIiwKICAiZGFzaEFycmF5IjogbnVsbCwKICAiZGFzaE9mZnNldCI6IG51bGwsCiAgImZpbGwiOiBmYWxzZSwKICAiZmlsbENvbG9yIjogIiMzMzg4ZmYiLAogICJmaWxsT3BhY2l0eSI6IDAuMiwKICAiZmlsbFJ1bGUiOiAiZXZlbm9kZCIsCiAgImxpbmVDYXAiOiAicm91bmQiLAogICJsaW5lSm9pbiI6ICJyb3VuZCIsCiAgIm9wYWNpdHkiOiAxLjAsCiAgInJhZGl1cyI6IDUsCiAgInN0cm9rZSI6IHRydWUsCiAgIndlaWdodCI6IDMKfQogICAgICAgICAgICAgICAgKS5hZGRUbyhtYXBfZmZjMWY2NmUwYTQ1NGQ3ZGE2Njg5Y2YwYjljYTJiYWMpOwogICAgICAgICAgICAKICAgIAogICAgICAgICAgICB2YXIgcG9wdXBfNDM3ZjVlOGMwZDE5NGJkZTk3NzhlMjMzODcyOGRiMTAgPSBMLnBvcHVwKHttYXhXaWR0aDogJzMwMCd9KTsKCiAgICAgICAgICAgIAogICAgICAgICAgICAgICAgdmFyIGh0bWxfNThiNTljZjkwMzMxNDQ0NWEwMzI1NTVlYWJjNTY3ZjkgPSAkKCc8ZGl2IGlkPSJodG1sXzU4YjU5Y2Y5MDMzMTQ0NDVhMDMyNTU1ZWFiYzU2N2Y5IiBzdHlsZT0id2lkdGg6IDEwMC4wJTsgaGVpZ2h0OiAxMDAuMCU7Ij5FYXN0bGFrZSBBdmUgRSA8L2Rpdj4nKVswXTsKICAgICAgICAgICAgICAgIHBvcHVwXzQzN2Y1ZThjMGQxOTRiZGU5Nzc4ZTIzMzg3MjhkYjEwLnNldENvbnRlbnQoaHRtbF81OGI1OWNmOTAzMzE0NDQ1YTAzMjU1NWVhYmM1NjdmOSk7CiAgICAgICAgICAgIAoKICAgICAgICAgICAgY2lyY2xlX21hcmtlcl84ZWJiZmZkNzk2N2M0ZGU0OGRkOTlmMzM3MjMwMjc5NS5iaW5kUG9wdXAocG9wdXBfNDM3ZjVlOGMwZDE5NGJkZTk3NzhlMjMzODcyOGRiMTApOwoKICAgICAgICAgICAgCiAgICAgICAgCiAgICAKICAgICAgICAgICAgdmFyIGNpcmNsZV9tYXJrZXJfZTcxNGFhOWVkNjIzNGI1MDk4ZmRiNWNmMGJjOWUxYmYgPSBMLmNpcmNsZU1hcmtlcigKICAgICAgICAgICAgICAgIFs0Ny42Mjc2NDMsLTEyMi4zMzI1NzZdLAogICAgICAgICAgICAgICAgewogICJidWJibGluZ01vdXNlRXZlbnRzIjogdHJ1ZSwKICAiY29sb3IiOiAiIzMzODhmZiIsCiAgImRhc2hBcnJheSI6IG51bGwsCiAgImRhc2hPZmZzZXQiOiBudWxsLAogICJmaWxsIjogZmFsc2UsCiAgImZpbGxDb2xvciI6ICIjMzM4OGZmIiwKICAiZmlsbE9wYWNpdHkiOiAwLjIsCiAgImZpbGxSdWxlIjogImV2ZW5vZGQiLAogICJsaW5lQ2FwIjogInJvdW5kIiwKICAibGluZUpvaW4iOiAicm91bmQiLAogICJvcGFjaXR5IjogMS4wLAogICJyYWRpdXMiOiA1LAogICJzdHJva2UiOiB0cnVlLAogICJ3ZWlnaHQiOiAzCn0KICAgICAgICAgICAgICAgICkuYWRkVG8obWFwX2ZmYzFmNjZlMGE0NTRkN2RhNjY4OWNmMGI5Y2EyYmFjKTsKICAgICAgICAgICAgCiAgICAKICAgICAgICAgICAgdmFyIHBvcHVwX2UwNTFkNjEzZDhhYjRkZjRiNTlkODdlYTMxMzVkODMxID0gTC5wb3B1cCh7bWF4V2lkdGg6ICczMDAnfSk7CgogICAgICAgICAgICAKICAgICAgICAgICAgICAgIHZhciBodG1sXzQwNmZlYTc0NzI1NDQyMWE4N2I1ZGNhN2U0Y2Y4MDFkID0gJCgnPGRpdiBpZD0iaHRtbF80MDZmZWE3NDcyNTQ0MjFhODdiNWRjYTdlNGNmODAxZCIgc3R5bGU9IndpZHRoOiAxMDAuMCU7IGhlaWdodDogMTAwLjAlOyI+RnJlZCBIdXRjaGluc29uPC9kaXY+JylbMF07CiAgICAgICAgICAgICAgICBwb3B1cF9lMDUxZDYxM2Q4YWI0ZGY0YjU5ZDg3ZWEzMTM1ZDgzMS5zZXRDb250ZW50KGh0bWxfNDA2ZmVhNzQ3MjU0NDIxYTg3YjVkY2E3ZTRjZjgwMWQpOwogICAgICAgICAgICAKCiAgICAgICAgICAgIGNpcmNsZV9tYXJrZXJfZTcxNGFhOWVkNjIzNGI1MDk4ZmRiNWNmMGJjOWUxYmYuYmluZFBvcHVwKHBvcHVwX2UwNTFkNjEzZDhhYjRkZjRiNTlkODdlYTMxMzVkODMxKTsKCiAgICAgICAgICAgIAogICAgICAgIAogICAgCiAgICAgICAgICAgIHZhciBjaXJjbGVfbWFya2VyX2M5ZDllZDYxYjgxODRiZTM5YTUxZDI3YWJjNzQzOGNlID0gTC5jaXJjbGVNYXJrZXIoCiAgICAgICAgICAgICAgICBbNDcuNjA3MjgxLC0xMjIuMzI0NzgzMDAwMDAwMDFdLAogICAgICAgICAgICAgICAgewogICJidWJibGluZ01vdXNlRXZlbnRzIjogdHJ1ZSwKICAiY29sb3IiOiAiIzMzODhmZiIsCiAgImRhc2hBcnJheSI6IG51bGwsCiAgImRhc2hPZmZzZXQiOiBudWxsLAogICJmaWxsIjogZmFsc2UsCiAgImZpbGxDb2xvciI6ICIjMzM4OGZmIiwKICAiZmlsbE9wYWNpdHkiOiAwLjIsCiAgImZpbGxSdWxlIjogImV2ZW5vZGQiLAogICJsaW5lQ2FwIjogInJvdW5kIiwKICAibGluZUpvaW4iOiAicm91bmQiLAogICJvcGFjaXR5IjogMS4wLAogICJyYWRpdXMiOiA1LAogICJzdHJva2UiOiB0cnVlLAogICJ3ZWlnaHQiOiAzCn0KICAgICAgICAgICAgICAgICkuYWRkVG8obWFwX2ZmYzFmNjZlMGE0NTRkN2RhNjY4OWNmMGI5Y2EyYmFjKTsKICAgICAgICAgICAgCiAgICAKICAgICAgICAgICAgdmFyIHBvcHVwXzU1ODYwYTk3M2JhMzRmZjhhYWE0MmJhNDViYTczNmYxID0gTC5wb3B1cCh7bWF4V2lkdGg6ICczMDAnfSk7CgogICAgICAgICAgICAKICAgICAgICAgICAgICAgIHZhciBodG1sX2FlNDM3ZGE5ZmM4MTQyZDdiMDlkZjRhMDZmM2I0MzM1ID0gJCgnPGRpdiBpZD0iaHRtbF9hZTQzN2RhOWZjODE0MmQ3YjA5ZGY0YTA2ZjNiNDMzNSIgc3R5bGU9IndpZHRoOiAxMDAuMCU7IGhlaWdodDogMTAwLjAlOyI+RnJ5ZSBBcnQgTXVzZXVtPC9kaXY+JylbMF07CiAgICAgICAgICAgICAgICBwb3B1cF81NTg2MGE5NzNiYTM0ZmY4YWFhNDJiYTQ1YmE3MzZmMS5zZXRDb250ZW50KGh0bWxfYWU0MzdkYTlmYzgxNDJkN2IwOWRmNGEwNmYzYjQzMzUpOwogICAgICAgICAgICAKCiAgICAgICAgICAgIGNpcmNsZV9tYXJrZXJfYzlkOWVkNjFiODE4NGJlMzlhNTFkMjdhYmM3NDM4Y2UuYmluZFBvcHVwKHBvcHVwXzU1ODYwYTk3M2JhMzRmZjhhYWE0MmJhNDViYTczNmYxKTsKCiAgICAgICAgICAgIAogICAgICAgIAogICAgCiAgICAgICAgICAgIHZhciBjaXJjbGVfbWFya2VyXzJlYjhmOGMyMjU0ZDQwYzNiYmMyODhjNzFmNWQyZTA1ID0gTC5jaXJjbGVNYXJrZXIoCiAgICAgICAgICAgICAgICBbNDcuNjE1NTE3LC0xMjIuMzIyMDgzXSwKICAgICAgICAgICAgICAgIHsKICAiYnViYmxpbmdNb3VzZUV2ZW50cyI6IHRydWUsCiAgImNvbG9yIjogIiMzMzg4ZmYiLAogICJkYXNoQXJyYXkiOiBudWxsLAogICJkYXNoT2Zmc2V0IjogbnVsbCwKICAiZmlsbCI6IGZhbHNlLAogICJmaWxsQ29sb3IiOiAiIzMzODhmZiIsCiAgImZpbGxPcGFjaXR5IjogMC4yLAogICJmaWxsUnVsZSI6ICJldmVub2RkIiwKICAibGluZUNhcCI6ICJyb3VuZCIsCiAgImxpbmVKb2luIjogInJvdW5kIiwKICAib3BhY2l0eSI6IDEuMCwKICAicmFkaXVzIjogNSwKICAic3Ryb2tlIjogdHJ1ZSwKICAid2VpZ2h0IjogMwp9CiAgICAgICAgICAgICAgICApLmFkZFRvKG1hcF9mZmMxZjY2ZTBhNDU0ZDdkYTY2ODljZjBiOWNhMmJhYyk7CiAgICAgICAgICAgIAogICAgCiAgICAgICAgICAgIHZhciBwb3B1cF9kYzY1YjhjZjYwYzY0ZWIxOTlhNGU5NTAwMmUyNzVlOCA9IEwucG9wdXAoe21heFdpZHRoOiAnMzAwJ30pOwoKICAgICAgICAgICAgCiAgICAgICAgICAgICAgICB2YXIgaHRtbF9mNDk4MTA0MDVjYjE0ODBkOTQ0YzljOWY4ZmU5OTRlZSA9ICQoJzxkaXYgaWQ9Imh0bWxfZjQ5ODEwNDA1Y2IxNDgwZDk0NGM5YzlmOGZlOTk0ZWUiIHN0eWxlPSJ3aWR0aDogMTAwLjAlOyBoZWlnaHQ6IDEwMC4wJTsiPkhhcnZhcmQgQXZlICYgRTwvZGl2PicpWzBdOwogICAgICAgICAgICAgICAgcG9wdXBfZGM2NWI4Y2Y2MGM2NGViMTk5YTRlOTUwMDJlMjc1ZTguc2V0Q29udGVudChodG1sX2Y0OTgxMDQwNWNiMTQ4MGQ5NDRjOWM5ZjhmZTk5NGVlKTsKICAgICAgICAgICAgCgogICAgICAgICAgICBjaXJjbGVfbWFya2VyXzJlYjhmOGMyMjU0ZDQwYzNiYmMyODhjNzFmNWQyZTA1LmJpbmRQb3B1cChwb3B1cF9kYzY1YjhjZjYwYzY0ZWIxOTlhNGU5NTAwMmUyNzVlOCk7CgogICAgICAgICAgICAKICAgICAgICAKICAgIAogICAgICAgICAgICB2YXIgY2lyY2xlX21hcmtlcl80NmY4OTRiYjAwZGE0ZDc2ODkwNDJmODJjZTE1ZGExZCA9IEwuY2lyY2xlTWFya2VyKAogICAgICAgICAgICAgICAgWzQ3LjYyMjI3NzAwMDAwMDAwNCwtMTIyLjM1NTIzXSwKICAgICAgICAgICAgICAgIHsKICAiYnViYmxpbmdNb3VzZUV2ZW50cyI6IHRydWUsCiAgImNvbG9yIjogIiMzMzg4ZmYiLAogICJkYXNoQXJyYXkiOiBudWxsLAogICJkYXNoT2Zmc2V0IjogbnVsbCwKICAiZmlsbCI6IGZhbHNlLAogICJmaWxsQ29sb3IiOiAiIzMzODhmZiIsCiAgImZpbGxPcGFjaXR5IjogMC4yLAogICJmaWxsUnVsZSI6ICJldmVub2RkIiwKICAibGluZUNhcCI6ICJyb3VuZCIsCiAgImxpbmVKb2luIjogInJvdW5kIiwKICAib3BhY2l0eSI6IDEuMCwKICAicmFkaXVzIjogNSwKICAic3Ryb2tlIjogdHJ1ZSwKICAid2VpZ2h0IjogMwp9CiAgICAgICAgICAgICAgICApLmFkZFRvKG1hcF9mZmMxZjY2ZTBhNDU0ZDdkYTY2ODljZjBiOWNhMmJhYyk7CiAgICAgICAgICAgIAogICAgCiAgICAgICAgICAgIHZhciBwb3B1cF9jMzk2NDlkZTBkOWQ0Y2QyYjJhYzA0OTlmMGFjM2YwZSA9IEwucG9wdXAoe21heFdpZHRoOiAnMzAwJ30pOwoKICAgICAgICAgICAgCiAgICAgICAgICAgICAgICB2YXIgaHRtbF82ODExZGVhNmExODE0M2E5YjlhMzcyOGI4ODc0ZDFiMCA9ICQoJzxkaXYgaWQ9Imh0bWxfNjgxMWRlYTZhMTgxNDNhOWI5YTM3MjhiODg3NGQxYjAiIHN0eWxlPSJ3aWR0aDogMTAwLjAlOyBoZWlnaHQ6IDEwMC4wJTsiPktleSBBcmVuYSAtIDFzdDwvZGl2PicpWzBdOwogICAgICAgICAgICAgICAgcG9wdXBfYzM5NjQ5ZGUwZDlkNGNkMmIyYWMwNDk5ZjBhYzNmMGUuc2V0Q29udGVudChodG1sXzY4MTFkZWE2YTE4MTQzYTliOWEzNzI4Yjg4NzRkMWIwKTsKICAgICAgICAgICAgCgogICAgICAgICAgICBjaXJjbGVfbWFya2VyXzQ2Zjg5NGJiMDBkYTRkNzY4OTA0MmY4MmNlMTVkYTFkLmJpbmRQb3B1cChwb3B1cF9jMzk2NDlkZTBkOWQ0Y2QyYjJhYzA0OTlmMGFjM2YwZSk7CgogICAgICAgICAgICAKICAgICAgICAKICAgIAogICAgICAgICAgICB2YXIgY2lyY2xlX21hcmtlcl80Nzg1M2VhNGQ3N2E0ZDZiYTE4MjA5MDllZDhmMGIzNSA9IEwuY2lyY2xlTWFya2VyKAogICAgICAgICAgICAgICAgWzQ3LjU5ODk5NCwtMTIyLjMyOTY4NDAwMDAwMDAxXSwKICAgICAgICAgICAgICAgIHsKICAiYnViYmxpbmdNb3VzZUV2ZW50cyI6IHRydWUsCiAgImNvbG9yIjogIiMzMzg4ZmYiLAogICJkYXNoQXJyYXkiOiBudWxsLAogICJkYXNoT2Zmc2V0IjogbnVsbCwKICAiZmlsbCI6IGZhbHNlLAogICJmaWxsQ29sb3IiOiAiIzMzODhmZiIsCiAgImZpbGxPcGFjaXR5IjogMC4yLAogICJmaWxsUnVsZSI6ICJldmVub2RkIiwKICAibGluZUNhcCI6ICJyb3VuZCIsCiAgImxpbmVKb2luIjogInJvdW5kIiwKICAib3BhY2l0eSI6IDEuMCwKICAicmFkaXVzIjogNSwKICAic3Ryb2tlIjogdHJ1ZSwKICAid2VpZ2h0IjogMwp9CiAgICAgICAgICAgICAgICApLmFkZFRvKG1hcF9mZmMxZjY2ZTBhNDU0ZDdkYTY2ODljZjBiOWNhMmJhYyk7CiAgICAgICAgICAgIAogICAgCiAgICAgICAgICAgIHZhciBwb3B1cF9kN2QyYzNmNzliMGU0N2YxYjMwYzM0MzNmNjQ3ZjAyZiA9IEwucG9wdXAoe21heFdpZHRoOiAnMzAwJ30pOwoKICAgICAgICAgICAgCiAgICAgICAgICAgICAgICB2YXIgaHRtbF84ODQ5Njk1ZjkyZWQ0NDUwYTc3OGI3M2U5MDg5NjY0NSA9ICQoJzxkaXYgaWQ9Imh0bWxfODg0OTY5NWY5MmVkNDQ1MGE3NzhiNzNlOTA4OTY2NDUiIHN0eWxlPSJ3aWR0aDogMTAwLjAlOyBoZWlnaHQ6IDEwMC4wJTsiPktpbmcgU3RyZWV0IFN0YTwvZGl2PicpWzBdOwogICAgICAgICAgICAgICAgcG9wdXBfZDdkMmMzZjc5YjBlNDdmMWIzMGMzNDMzZjY0N2YwMmYuc2V0Q29udGVudChodG1sXzg4NDk2OTVmOTJlZDQ0NTBhNzc4YjczZTkwODk2NjQ1KTsKICAgICAgICAgICAgCgogICAgICAgICAgICBjaXJjbGVfbWFya2VyXzQ3ODUzZWE0ZDc3YTRkNmJhMTgyMDkwOWVkOGYwYjM1LmJpbmRQb3B1cChwb3B1cF9kN2QyYzNmNzliMGU0N2YxYjMwYzM0MzNmNjQ3ZjAyZik7CgogICAgICAgICAgICAKICAgICAgICAKICAgIAogICAgICAgICAgICB2YXIgY2lyY2xlX21hcmtlcl8yYzA4NjNiY2VkMzk0NjgyYTA3YTc2ZWU3YTZmNmM3MCA9IEwuY2lyY2xlTWFya2VyKAogICAgICAgICAgICAgICAgWzQ3LjYyNjA0MSwtMTIyLjMzNTgzMV0sCiAgICAgICAgICAgICAgICB7CiAgImJ1YmJsaW5nTW91c2VFdmVudHMiOiB0cnVlLAogICJjb2xvciI6ICIjMzM4OGZmIiwKICAiZGFzaEFycmF5IjogbnVsbCwKICAiZGFzaE9mZnNldCI6IG51bGwsCiAgImZpbGwiOiBmYWxzZSwKICAiZmlsbENvbG9yIjogIiMzMzg4ZmYiLAogICJmaWxsT3BhY2l0eSI6IDAuMiwKICAiZmlsbFJ1bGUiOiAiZXZlbm9kZCIsCiAgImxpbmVDYXAiOiAicm91bmQiLAogICJsaW5lSm9pbiI6ICJyb3VuZCIsCiAgIm9wYWNpdHkiOiAxLjAsCiAgInJhZGl1cyI6IDUsCiAgInN0cm9rZSI6IHRydWUsCiAgIndlaWdodCI6IDMKfQogICAgICAgICAgICAgICAgKS5hZGRUbyhtYXBfZmZjMWY2NmUwYTQ1NGQ3ZGE2Njg5Y2YwYjljYTJiYWMpOwogICAgICAgICAgICAKICAgIAogICAgICAgICAgICB2YXIgcG9wdXBfM2NiY2Y0YTc2MTA4NDE3ZThlYzhlNzZhMTgzZWY1YmIgPSBMLnBvcHVwKHttYXhXaWR0aDogJzMwMCd9KTsKCiAgICAgICAgICAgIAogICAgICAgICAgICAgICAgdmFyIGh0bWxfNjdmNTFhNzZiYjBiNDBiNGJkOTgxYzNkNjY1ZmZjMGMgPSAkKCc8ZGl2IGlkPSJodG1sXzY3ZjUxYTc2YmIwYjQwYjRiZDk4MWMzZDY2NWZmYzBjIiBzdHlsZT0id2lkdGg6IDEwMC4wJTsgaGVpZ2h0OiAxMDAuMCU7Ij5MYWtlIFVuaW9uIFBhcms8L2Rpdj4nKVswXTsKICAgICAgICAgICAgICAgIHBvcHVwXzNjYmNmNGE3NjEwODQxN2U4ZWM4ZTc2YTE4M2VmNWJiLnNldENvbnRlbnQoaHRtbF82N2Y1MWE3NmJiMGI0MGI0YmQ5ODFjM2Q2NjVmZmMwYyk7CiAgICAgICAgICAgIAoKICAgICAgICAgICAgY2lyY2xlX21hcmtlcl8yYzA4NjNiY2VkMzk0NjgyYTA3YTc2ZWU3YTZmNmM3MC5iaW5kUG9wdXAocG9wdXBfM2NiY2Y0YTc2MTA4NDE3ZThlYzhlNzZhMTgzZWY1YmIpOwoKICAgICAgICAgICAgCiAgICAgICAgCiAgICAKICAgICAgICAgICAgdmFyIGNpcmNsZV9tYXJrZXJfNzlkNjRmODVlZjcyNDg1NGJjM2I2OGM0MDExZTg1MmIgPSBMLmNpcmNsZU1hcmtlcigKICAgICAgICAgICAgICAgIFs0Ny42MjQ3NjksLTEyMi4zMzk0MDhdLAogICAgICAgICAgICAgICAgewogICJidWJibGluZ01vdXNlRXZlbnRzIjogdHJ1ZSwKICAiY29sb3IiOiAiIzMzODhmZiIsCiAgImRhc2hBcnJheSI6IG51bGwsCiAgImRhc2hPZmZzZXQiOiBudWxsLAogICJmaWxsIjogZmFsc2UsCiAgImZpbGxDb2xvciI6ICIjMzM4OGZmIiwKICAiZmlsbE9wYWNpdHkiOiAwLjIsCiAgImZpbGxSdWxlIjogImV2ZW5vZGQiLAogICJsaW5lQ2FwIjogInJvdW5kIiwKICAibGluZUpvaW4iOiAicm91bmQiLAogICJvcGFjaXR5IjogMS4wLAogICJyYWRpdXMiOiA1LAogICJzdHJva2UiOiB0cnVlLAogICJ3ZWlnaHQiOiAzCn0KICAgICAgICAgICAgICAgICkuYWRkVG8obWFwX2ZmYzFmNjZlMGE0NTRkN2RhNjY4OWNmMGI5Y2EyYmFjKTsKICAgICAgICAgICAgCiAgICAKICAgICAgICAgICAgdmFyIHBvcHVwX2M4YTJkOGNiNzZlZDRhNmU4ZGRkMDkwNWRjMWUwMjY2ID0gTC5wb3B1cCh7bWF4V2lkdGg6ICczMDAnfSk7CgogICAgICAgICAgICAKICAgICAgICAgICAgICAgIHZhciBodG1sXzAwMTM0NjQ1NjIwMTQ0ZjJiYjJhMGEzYThkMTNhNTRlID0gJCgnPGRpdiBpZD0iaHRtbF8wMDEzNDY0NTYyMDE0NGYyYmIyYTBhM2E4ZDEzYTU0ZSIgc3R5bGU9IndpZHRoOiAxMDAuMCU7IGhlaWdodDogMTAwLjAlOyI+TWVyY2VyIFN0ICYgOXRoPC9kaXY+JylbMF07CiAgICAgICAgICAgICAgICBwb3B1cF9jOGEyZDhjYjc2ZWQ0YTZlOGRkZDA5MDVkYzFlMDI2Ni5zZXRDb250ZW50KGh0bWxfMDAxMzQ2NDU2MjAxNDRmMmJiMmEwYTNhOGQxM2E1NGUpOwogICAgICAgICAgICAKCiAgICAgICAgICAgIGNpcmNsZV9tYXJrZXJfNzlkNjRmODVlZjcyNDg1NGJjM2I2OGM0MDExZTg1MmIuYmluZFBvcHVwKHBvcHVwX2M4YTJkOGNiNzZlZDRhNmU4ZGRkMDkwNWRjMWUwMjY2KTsKCiAgICAgICAgICAgIAogICAgICAgIAogICAgCiAgICAgICAgICAgIHZhciBjaXJjbGVfbWFya2VyXzkwOTk2NzllNmUxNDQ4YjI4MzhkODQyYTNiY2E5YWU1ID0gTC5jaXJjbGVNYXJrZXIoCiAgICAgICAgICAgICAgICBbNDcuNjU4Mjg4LC0xMjIuMzEzMzM0MDAwMDAwMDFdLAogICAgICAgICAgICAgICAgewogICJidWJibGluZ01vdXNlRXZlbnRzIjogdHJ1ZSwKICAiY29sb3IiOiAiIzMzODhmZiIsCiAgImRhc2hBcnJheSI6IG51bGwsCiAgImRhc2hPZmZzZXQiOiBudWxsLAogICJmaWxsIjogZmFsc2UsCiAgImZpbGxDb2xvciI6ICIjMzM4OGZmIiwKICAiZmlsbE9wYWNpdHkiOiAwLjIsCiAgImZpbGxSdWxlIjogImV2ZW5vZGQiLAogICJsaW5lQ2FwIjogInJvdW5kIiwKICAibGluZUpvaW4iOiAicm91bmQiLAogICJvcGFjaXR5IjogMS4wLAogICJyYWRpdXMiOiA1LAogICJzdHJva2UiOiB0cnVlLAogICJ3ZWlnaHQiOiAzCn0KICAgICAgICAgICAgICAgICkuYWRkVG8obWFwX2ZmYzFmNjZlMGE0NTRkN2RhNjY4OWNmMGI5Y2EyYmFjKTsKICAgICAgICAgICAgCiAgICAKICAgICAgICAgICAgdmFyIHBvcHVwX2IyN2JkYThiZmFmNDRlYmY5YTZjMWEwMzc0NjUxNjlhID0gTC5wb3B1cCh7bWF4V2lkdGg6ICczMDAnfSk7CgogICAgICAgICAgICAKICAgICAgICAgICAgICAgIHZhciBodG1sXzg2YTkyMWJhNTA2MDQzNjA5MDQ3MWIyYWNkNzVkNjQ4ID0gJCgnPGRpdiBpZD0iaHRtbF84NmE5MjFiYTUwNjA0MzYwOTA0NzFiMmFjZDc1ZDY0OCIgc3R5bGU9IndpZHRoOiAxMDAuMCU7IGhlaWdodDogMTAwLjAlOyI+TkUgNDJuZCBTdCAmIFVuPC9kaXY+JylbMF07CiAgICAgICAgICAgICAgICBwb3B1cF9iMjdiZGE4YmZhZjQ0ZWJmOWE2YzFhMDM3NDY1MTY5YS5zZXRDb250ZW50KGh0bWxfODZhOTIxYmE1MDYwNDM2MDkwNDcxYjJhY2Q3NWQ2NDgpOwogICAgICAgICAgICAKCiAgICAgICAgICAgIGNpcmNsZV9tYXJrZXJfOTA5OTY3OWU2ZTE0NDhiMjgzOGQ4NDJhM2JjYTlhZTUuYmluZFBvcHVwKHBvcHVwX2IyN2JkYThiZmFmNDRlYmY5YTZjMWEwMzc0NjUxNjlhKTsKCiAgICAgICAgICAgIAogICAgICAgIAogICAgCiAgICAgICAgICAgIHZhciBjaXJjbGVfbWFya2VyXzE2OTdkNWY2OGNmYjQyNWI4YWQxMjQ3ZWVjZTc5ZTUyID0gTC5jaXJjbGVNYXJrZXIoCiAgICAgICAgICAgICAgICBbNDcuNjYzMTQzLC0xMjIuMzE1MDg2MDAwMDAwMDFdLAogICAgICAgICAgICAgICAgewogICJidWJibGluZ01vdXNlRXZlbnRzIjogdHJ1ZSwKICAiY29sb3IiOiAiIzMzODhmZiIsCiAgImRhc2hBcnJheSI6IG51bGwsCiAgImRhc2hPZmZzZXQiOiBudWxsLAogICJmaWxsIjogZmFsc2UsCiAgImZpbGxDb2xvciI6ICIjMzM4OGZmIiwKICAiZmlsbE9wYWNpdHkiOiAwLjIsCiAgImZpbGxSdWxlIjogImV2ZW5vZGQiLAogICJsaW5lQ2FwIjogInJvdW5kIiwKICAibGluZUpvaW4iOiAicm91bmQiLAogICJvcGFjaXR5IjogMS4wLAogICJyYWRpdXMiOiA1LAogICJzdHJva2UiOiB0cnVlLAogICJ3ZWlnaHQiOiAzCn0KICAgICAgICAgICAgICAgICkuYWRkVG8obWFwX2ZmYzFmNjZlMGE0NTRkN2RhNjY4OWNmMGI5Y2EyYmFjKTsKICAgICAgICAgICAgCiAgICAKICAgICAgICAgICAgdmFyIHBvcHVwXzIxN2Q2NzhlYWUwNTQ4NDQ4ODVjMzU0MzZmMjUzOTMyID0gTC5wb3B1cCh7bWF4V2lkdGg6ICczMDAnfSk7CgogICAgICAgICAgICAKICAgICAgICAgICAgICAgIHZhciBodG1sXzc5MjM2NmUzYzBmZTQxZGE5NGMyZGRkYWQ5ZDI5NjNkID0gJCgnPGRpdiBpZD0iaHRtbF83OTIzNjZlM2MwZmU0MWRhOTRjMmRkZGFkOWQyOTYzZCIgc3R5bGU9IndpZHRoOiAxMDAuMCU7IGhlaWdodDogMTAwLjAlOyI+TkUgNDd0aCBTdCAmIDEyPC9kaXY+JylbMF07CiAgICAgICAgICAgICAgICBwb3B1cF8yMTdkNjc4ZWFlMDU0ODQ0ODg1YzM1NDM2ZjI1MzkzMi5zZXRDb250ZW50KGh0bWxfNzkyMzY2ZTNjMGZlNDFkYTk0YzJkZGRhZDlkMjk2M2QpOwogICAgICAgICAgICAKCiAgICAgICAgICAgIGNpcmNsZV9tYXJrZXJfMTY5N2Q1ZjY4Y2ZiNDI1YjhhZDEyNDdlZWNlNzllNTIuYmluZFBvcHVwKHBvcHVwXzIxN2Q2NzhlYWUwNTQ4NDQ4ODVjMzU0MzZmMjUzOTMyKTsKCiAgICAgICAgICAgIAogICAgICAgIAogICAgCiAgICAgICAgICAgIHZhciBjaXJjbGVfbWFya2VyXzc2YzY5YWI1MTgzNzQ0MDU5ODM5OWIzOWNiOTg3ZDI4ID0gTC5jaXJjbGVNYXJrZXIoCiAgICAgICAgICAgICAgICBbNDcuNjQ5OTUxNTUsLTEyMi4zMDYyNjM0XSwKICAgICAgICAgICAgICAgIHsKICAiYnViYmxpbmdNb3VzZUV2ZW50cyI6IHRydWUsCiAgImNvbG9yIjogIiMzMzg4ZmYiLAogICJkYXNoQXJyYXkiOiBudWxsLAogICJkYXNoT2Zmc2V0IjogbnVsbCwKICAiZmlsbCI6IGZhbHNlLAogICJmaWxsQ29sb3IiOiAiIzMzODhmZiIsCiAgImZpbGxPcGFjaXR5IjogMC4yLAogICJmaWxsUnVsZSI6ICJldmVub2RkIiwKICAibGluZUNhcCI6ICJyb3VuZCIsCiAgImxpbmVKb2luIjogInJvdW5kIiwKICAib3BhY2l0eSI6IDEuMCwKICAicmFkaXVzIjogNSwKICAic3Ryb2tlIjogdHJ1ZSwKICAid2VpZ2h0IjogMwp9CiAgICAgICAgICAgICAgICApLmFkZFRvKG1hcF9mZmMxZjY2ZTBhNDU0ZDdkYTY2ODljZjBiOWNhMmJhYyk7CiAgICAgICAgICAgIAogICAgCiAgICAgICAgICAgIHZhciBwb3B1cF82ZTdmMjBlZTM2NDg0NTIyYWQzZmMzNzQyOWU3YzBmOSA9IEwucG9wdXAoe21heFdpZHRoOiAnMzAwJ30pOwoKICAgICAgICAgICAgCiAgICAgICAgICAgICAgICB2YXIgaHRtbF8wNWY4YTQ4YzU4MTg0MmQ5OTRmMDgxYjA0ZjVlMjlhMyA9ICQoJzxkaXYgaWQ9Imh0bWxfMDVmOGE0OGM1ODE4NDJkOTk0ZjA4MWIwNGY1ZTI5YTMiIHN0eWxlPSJ3aWR0aDogMTAwLjAlOyBoZWlnaHQ6IDEwMC4wJTsiPk5FIFBhY2lmaWMgU3QtVTwvZGl2PicpWzBdOwogICAgICAgICAgICAgICAgcG9wdXBfNmU3ZjIwZWUzNjQ4NDUyMmFkM2ZjMzc0MjllN2MwZjkuc2V0Q29udGVudChodG1sXzA1ZjhhNDhjNTgxODQyZDk5NGYwODFiMDRmNWUyOWEzKTsKICAgICAgICAgICAgCgogICAgICAgICAgICBjaXJjbGVfbWFya2VyXzc2YzY5YWI1MTgzNzQ0MDU5ODM5OWIzOWNiOTg3ZDI4LmJpbmRQb3B1cChwb3B1cF82ZTdmMjBlZTM2NDg0NTIyYWQzZmMzNzQyOWU3YzBmOSk7CgogICAgICAgICAgICAKICAgICAgICAKICAgIAogICAgICAgICAgICB2YXIgY2lyY2xlX21hcmtlcl8yNGQ4YmNkNDEwYmI0NTA1YjE1ZWQ4MTgyMmIwOTcxNiA9IEwuY2lyY2xlTWFya2VyKAogICAgICAgICAgICAgICAgWzQ3LjYwMDc1NywtMTIyLjMzMjk0NTk5OTk5OTk5XSwKICAgICAgICAgICAgICAgIHsKICAiYnViYmxpbmdNb3VzZUV2ZW50cyI6IHRydWUsCiAgImNvbG9yIjogIiMzMzg4ZmYiLAogICJkYXNoQXJyYXkiOiBudWxsLAogICJkYXNoT2Zmc2V0IjogbnVsbCwKICAiZmlsbCI6IGZhbHNlLAogICJmaWxsQ29sb3IiOiAiIzMzODhmZiIsCiAgImZpbGxPcGFjaXR5IjogMC4yLAogICJmaWxsUnVsZSI6ICJldmVub2RkIiwKICAibGluZUNhcCI6ICJyb3VuZCIsCiAgImxpbmVKb2luIjogInJvdW5kIiwKICAib3BhY2l0eSI6IDEuMCwKICAicmFkaXVzIjogNSwKICAic3Ryb2tlIjogdHJ1ZSwKICAid2VpZ2h0IjogMwp9CiAgICAgICAgICAgICAgICApLmFkZFRvKG1hcF9mZmMxZjY2ZTBhNDU0ZDdkYTY2ODljZjBiOWNhMmJhYyk7CiAgICAgICAgICAgIAogICAgCiAgICAgICAgICAgIHZhciBwb3B1cF85ZWJiODY0M2FiMjU0M2NlYjUzOWRkMmVkYmU5MmU0MCA9IEwucG9wdXAoe21heFdpZHRoOiAnMzAwJ30pOwoKICAgICAgICAgICAgCiAgICAgICAgICAgICAgICB2YXIgaHRtbF9mZjY3MGFmZTZjNGM0MzUxYTJmMjE1MThhNzc2NDM0MyA9ICQoJzxkaXYgaWQ9Imh0bWxfZmY2NzBhZmU2YzRjNDM1MWEyZjIxNTE4YTc3NjQzNDMiIHN0eWxlPSJ3aWR0aDogMTAwLjAlOyBoZWlnaHQ6IDEwMC4wJTsiPk9jY2lkZW50YWwgUGFyazwvZGl2PicpWzBdOwogICAgICAgICAgICAgICAgcG9wdXBfOWViYjg2NDNhYjI1NDNjZWI1MzlkZDJlZGJlOTJlNDAuc2V0Q29udGVudChodG1sX2ZmNjcwYWZlNmM0YzQzNTFhMmYyMTUxOGE3NzY0MzQzKTsKICAgICAgICAgICAgCgogICAgICAgICAgICBjaXJjbGVfbWFya2VyXzI0ZDhiY2Q0MTBiYjQ1MDViMTVlZDgxODIyYjA5NzE2LmJpbmRQb3B1cChwb3B1cF85ZWJiODY0M2FiMjU0M2NlYjUzOWRkMmVkYmU5MmU0MCk7CgogICAgICAgICAgICAKICAgICAgICAKICAgIAogICAgICAgICAgICB2YXIgY2lyY2xlX21hcmtlcl8wOWRkNjYxOThmNzQ0ZjdhYTJiNGI4OGQzMzQwZDZmOCA9IEwuY2lyY2xlTWFya2VyKAogICAgICAgICAgICAgICAgWzQ3LjYxODMyMDAwMDAwMDAwNCwtMTIyLjMzODkxMjk5OTk5OTk5XSwKICAgICAgICAgICAgICAgIHsKICAiYnViYmxpbmdNb3VzZUV2ZW50cyI6IHRydWUsCiAgImNvbG9yIjogIiMzMzg4ZmYiLAogICJkYXNoQXJyYXkiOiBudWxsLAogICJkYXNoT2Zmc2V0IjogbnVsbCwKICAiZmlsbCI6IGZhbHNlLAogICJmaWxsQ29sb3IiOiAiIzMzODhmZiIsCiAgImZpbGxPcGFjaXR5IjogMC4yLAogICJmaWxsUnVsZSI6ICJldmVub2RkIiwKICAibGluZUNhcCI6ICJyb3VuZCIsCiAgImxpbmVKb2luIjogInJvdW5kIiwKICAib3BhY2l0eSI6IDEuMCwKICAicmFkaXVzIjogNSwKICAic3Ryb2tlIjogdHJ1ZSwKICAid2VpZ2h0IjogMwp9CiAgICAgICAgICAgICAgICApLmFkZFRvKG1hcF9mZmMxZjY2ZTBhNDU0ZDdkYTY2ODljZjBiOWNhMmJhYyk7CiAgICAgICAgICAgIAogICAgCiAgICAgICAgICAgIHZhciBwb3B1cF85MWM1NGU5ZjhjNTI0ZjVhOTYyNjMxYzdiY2NiMTBiZSA9IEwucG9wdXAoe21heFdpZHRoOiAnMzAwJ30pOwoKICAgICAgICAgICAgCiAgICAgICAgICAgICAgICB2YXIgaHRtbF9lMmUzMDAzZTRlY2U0ZTkwYmIxODg3NjliM2Q4MzFhMiA9ICQoJzxkaXYgaWQ9Imh0bWxfZTJlMzAwM2U0ZWNlNGU5MGJiMTg4NzY5YjNkODMxYTIiIHN0eWxlPSJ3aWR0aDogMTAwLjAlOyBoZWlnaHQ6IDEwMC4wJTsiPlBBVEggLSA5dGggQXZlIDwvZGl2PicpWzBdOwogICAgICAgICAgICAgICAgcG9wdXBfOTFjNTRlOWY4YzUyNGY1YTk2MjYzMWM3YmNjYjEwYmUuc2V0Q29udGVudChodG1sX2UyZTMwMDNlNGVjZTRlOTBiYjE4ODc2OWIzZDgzMWEyKTsKICAgICAgICAgICAgCgogICAgICAgICAgICBjaXJjbGVfbWFya2VyXzA5ZGQ2NjE5OGY3NDRmN2FhMmI0Yjg4ZDMzNDBkNmY4LmJpbmRQb3B1cChwb3B1cF85MWM1NGU5ZjhjNTI0ZjVhOTYyNjMxYzdiY2NiMTBiZSk7CgogICAgICAgICAgICAKICAgICAgICAKICAgIAogICAgICAgICAgICB2YXIgY2lyY2xlX21hcmtlcl8wM2ZlNDY3ZGYxZjY0YWE2YWFiZDExNTNlOGQ3NDZjMiA9IEwuY2lyY2xlTWFya2VyKAogICAgICAgICAgICAgICAgWzQ3LjYxMTM3MDI4LC0xMjIuMzQ4NzAxNDk5OTk5OTldLAogICAgICAgICAgICAgICAgewogICJidWJibGluZ01vdXNlRXZlbnRzIjogdHJ1ZSwKICAiY29sb3IiOiAiIzMzODhmZiIsCiAgImRhc2hBcnJheSI6IG51bGwsCiAgImRhc2hPZmZzZXQiOiBudWxsLAogICJmaWxsIjogZmFsc2UsCiAgImZpbGxDb2xvciI6ICIjMzM4OGZmIiwKICAiZmlsbE9wYWNpdHkiOiAwLjIsCiAgImZpbGxSdWxlIjogImV2ZW5vZGQiLAogICJsaW5lQ2FwIjogInJvdW5kIiwKICAibGluZUpvaW4iOiAicm91bmQiLAogICJvcGFjaXR5IjogMS4wLAogICJyYWRpdXMiOiA1LAogICJzdHJva2UiOiB0cnVlLAogICJ3ZWlnaHQiOiAzCn0KICAgICAgICAgICAgICAgICkuYWRkVG8obWFwX2ZmYzFmNjZlMGE0NTRkN2RhNjY4OWNmMGI5Y2EyYmFjKTsKICAgICAgICAgICAgCiAgICAKICAgICAgICAgICAgdmFyIHBvcHVwXzdjMjY3NDljM2IxZjRlZTVhMDM3ZTYyZDJlNDYyNjY4ID0gTC5wb3B1cCh7bWF4V2lkdGg6ICczMDAnfSk7CgogICAgICAgICAgICAKICAgICAgICAgICAgICAgIHZhciBodG1sX2YzZjczOTA0ZGYyNjRjMTViZDQxODIyMDBhOTY1MzcyID0gJCgnPGRpdiBpZD0iaHRtbF9mM2Y3MzkwNGRmMjY0YzE1YmQ0MTgyMjAwYTk2NTM3MiIgc3R5bGU9IndpZHRoOiAxMDAuMCU7IGhlaWdodDogMTAwLjAlOyI+UGllciA2NiAtIEFsYXNrPC9kaXY+JylbMF07CiAgICAgICAgICAgICAgICBwb3B1cF83YzI2NzQ5YzNiMWY0ZWU1YTAzN2U2MmQyZTQ2MjY2OC5zZXRDb250ZW50KGh0bWxfZjNmNzM5MDRkZjI2NGMxNWJkNDE4MjIwMGE5NjUzNzIpOwogICAgICAgICAgICAKCiAgICAgICAgICAgIGNpcmNsZV9tYXJrZXJfMDNmZTQ2N2RmMWY2NGFhNmFhYmQxMTUzZThkNzQ2YzIuYmluZFBvcHVwKHBvcHVwXzdjMjY3NDljM2IxZjRlZTVhMDM3ZTYyZDJlNDYyNjY4KTsKCiAgICAgICAgICAgIAogICAgICAgIAogICAgCiAgICAgICAgICAgIHZhciBjaXJjbGVfbWFya2VyXzE3MGM2MWY0ZmM0NDQ0Yzk5YjA1NTMzY2RlOGZiYmQzID0gTC5jaXJjbGVNYXJrZXIoCiAgICAgICAgICAgICAgICBbNDcuNjE0MzE1MDAwMDAwMDA1LC0xMjIuMzU0MDkyOTk5OTk5OTldLAogICAgICAgICAgICAgICAgewogICJidWJibGluZ01vdXNlRXZlbnRzIjogdHJ1ZSwKICAiY29sb3IiOiAiIzMzODhmZiIsCiAgImRhc2hBcnJheSI6IG51bGwsCiAgImRhc2hPZmZzZXQiOiBudWxsLAogICJmaWxsIjogZmFsc2UsCiAgImZpbGxDb2xvciI6ICIjMzM4OGZmIiwKICAiZmlsbE9wYWNpdHkiOiAwLjIsCiAgImZpbGxSdWxlIjogImV2ZW5vZGQiLAogICJsaW5lQ2FwIjogInJvdW5kIiwKICAibGluZUpvaW4iOiAicm91bmQiLAogICJvcGFjaXR5IjogMS4wLAogICJyYWRpdXMiOiA1LAogICJzdHJva2UiOiB0cnVlLAogICJ3ZWlnaHQiOiAzCn0KICAgICAgICAgICAgICAgICkuYWRkVG8obWFwX2ZmYzFmNjZlMGE0NTRkN2RhNjY4OWNmMGI5Y2EyYmFjKTsKICAgICAgICAgICAgCiAgICAKICAgICAgICAgICAgdmFyIHBvcHVwXzk1NGY4ODgwNTVkNTQ0N2RhMDRiN2VlMDM2NjYyODZiID0gTC5wb3B1cCh7bWF4V2lkdGg6ICczMDAnfSk7CgogICAgICAgICAgICAKICAgICAgICAgICAgICAgIHZhciBodG1sXzJkYzUxYmQ5ZWJmZDQyMjViOWE1NWM1YjYyYmJmZTAxID0gJCgnPGRpdiBpZD0iaHRtbF8yZGM1MWJkOWViZmQ0MjI1YjlhNTVjNWI2MmJiZmUwMSIgc3R5bGU9IndpZHRoOiAxMDAuMCU7IGhlaWdodDogMTAwLjAlOyI+UGllciA2OSAtIEFsYXNrPC9kaXY+JylbMF07CiAgICAgICAgICAgICAgICBwb3B1cF85NTRmODg4MDU1ZDU0NDdkYTA0YjdlZTAzNjY2Mjg2Yi5zZXRDb250ZW50KGh0bWxfMmRjNTFiZDllYmZkNDIyNWI5YTU1YzViNjJiYmZlMDEpOwogICAgICAgICAgICAKCiAgICAgICAgICAgIGNpcmNsZV9tYXJrZXJfMTcwYzYxZjRmYzQ0NDRjOTliMDU1MzNjZGU4ZmJiZDMuYmluZFBvcHVwKHBvcHVwXzk1NGY4ODgwNTVkNTQ0N2RhMDRiN2VlMDM2NjYyODZiKTsKCiAgICAgICAgICAgIAogICAgICAgIAogICAgCiAgICAgICAgICAgIHZhciBjaXJjbGVfbWFya2VyX2MxNDAwNzI1NzZkZDQ1YjY5NWEwNjQ4NjE0Mjg5MzkzID0gTC5jaXJjbGVNYXJrZXIoCiAgICAgICAgICAgICAgICBbNDcuNjEzNzE1LC0xMjIuMzMxNzc3XSwKICAgICAgICAgICAgICAgIHsKICAiYnViYmxpbmdNb3VzZUV2ZW50cyI6IHRydWUsCiAgImNvbG9yIjogIiMzMzg4ZmYiLAogICJkYXNoQXJyYXkiOiBudWxsLAogICJkYXNoT2Zmc2V0IjogbnVsbCwKICAiZmlsbCI6IGZhbHNlLAogICJmaWxsQ29sb3IiOiAiIzMzODhmZiIsCiAgImZpbGxPcGFjaXR5IjogMC4yLAogICJmaWxsUnVsZSI6ICJldmVub2RkIiwKICAibGluZUNhcCI6ICJyb3VuZCIsCiAgImxpbmVKb2luIjogInJvdW5kIiwKICAib3BhY2l0eSI6IDEuMCwKICAicmFkaXVzIjogNSwKICAic3Ryb2tlIjogdHJ1ZSwKICAid2VpZ2h0IjogMwp9CiAgICAgICAgICAgICAgICApLmFkZFRvKG1hcF9mZmMxZjY2ZTBhNDU0ZDdkYTY2ODljZjBiOWNhMmJhYyk7CiAgICAgICAgICAgIAogICAgCiAgICAgICAgICAgIHZhciBwb3B1cF8xZDBkMjZiODVjZmM0OTg5YTg0ZWI0ODRmODE0NTAyMSA9IEwucG9wdXAoe21heFdpZHRoOiAnMzAwJ30pOwoKICAgICAgICAgICAgCiAgICAgICAgICAgICAgICB2YXIgaHRtbF8yMTE1NTZkYzA4Y2I0MmNkYTJhNWE4NDBkYTQ2ODkwZCA9ICQoJzxkaXYgaWQ9Imh0bWxfMjExNTU2ZGMwOGNiNDJjZGEyYTVhODQwZGE0Njg5MGQiIHN0eWxlPSJ3aWR0aDogMTAwLjAlOyBoZWlnaHQ6IDEwMC4wJTsiPlBpbmUgU3QgJiA5dGggQTwvZGl2PicpWzBdOwogICAgICAgICAgICAgICAgcG9wdXBfMWQwZDI2Yjg1Y2ZjNDk4OWE4NGViNDg0ZjgxNDUwMjEuc2V0Q29udGVudChodG1sXzIxMTU1NmRjMDhjYjQyY2RhMmE1YTg0MGRhNDY4OTBkKTsKICAgICAgICAgICAgCgogICAgICAgICAgICBjaXJjbGVfbWFya2VyX2MxNDAwNzI1NzZkZDQ1YjY5NWEwNjQ4NjE0Mjg5MzkzLmJpbmRQb3B1cChwb3B1cF8xZDBkMjZiODVjZmM0OTg5YTg0ZWI0ODRmODE0NTAyMSk7CgogICAgICAgICAgICAKICAgICAgICAKICAgIAogICAgICAgICAgICB2YXIgY2lyY2xlX21hcmtlcl85YTQwNzk3ZTRmYjg0Y2RhYTg2MzQ2ZTJhZDJkZjBjNSA9IEwuY2lyY2xlTWFya2VyKAogICAgICAgICAgICAgICAgWzQ3LjYxOTg1OTAwMDAwMDAwNSwtMTIyLjMzMDMwNF0sCiAgICAgICAgICAgICAgICB7CiAgImJ1YmJsaW5nTW91c2VFdmVudHMiOiB0cnVlLAogICJjb2xvciI6ICIjMzM4OGZmIiwKICAiZGFzaEFycmF5IjogbnVsbCwKICAiZGFzaE9mZnNldCI6IG51bGwsCiAgImZpbGwiOiBmYWxzZSwKICAiZmlsbENvbG9yIjogIiMzMzg4ZmYiLAogICJmaWxsT3BhY2l0eSI6IDAuMiwKICAiZmlsbFJ1bGUiOiAiZXZlbm9kZCIsCiAgImxpbmVDYXAiOiAicm91bmQiLAogICJsaW5lSm9pbiI6ICJyb3VuZCIsCiAgIm9wYWNpdHkiOiAxLjAsCiAgInJhZGl1cyI6IDUsCiAgInN0cm9rZSI6IHRydWUsCiAgIndlaWdodCI6IDMKfQogICAgICAgICAgICAgICAgKS5hZGRUbyhtYXBfZmZjMWY2NmUwYTQ1NGQ3ZGE2Njg5Y2YwYjljYTJiYWMpOwogICAgICAgICAgICAKICAgIAogICAgICAgICAgICB2YXIgcG9wdXBfOWQwNzczYjVjMTJiNGNjYmIyODBjMDU1ZjQ5MjNkYzEgPSBMLnBvcHVwKHttYXhXaWR0aDogJzMwMCd9KTsKCiAgICAgICAgICAgIAogICAgICAgICAgICAgICAgdmFyIGh0bWxfM2FiNTQyNjRiZTc5NDU4YWJhMzY4ZDA4MzMxMThlZDUgPSAkKCc8ZGl2IGlkPSJodG1sXzNhYjU0MjY0YmU3OTQ1OGFiYTM2OGQwODMzMTE4ZWQ1IiBzdHlsZT0id2lkdGg6IDEwMC4wJTsgaGVpZ2h0OiAxMDAuMCU7Ij5SRUkgLSBZYWxlIEF2ZSA8L2Rpdj4nKVswXTsKICAgICAgICAgICAgICAgIHBvcHVwXzlkMDc3M2I1YzEyYjRjY2JiMjgwYzA1NWY0OTIzZGMxLnNldENvbnRlbnQoaHRtbF8zYWI1NDI2NGJlNzk0NThhYmEzNjhkMDgzMzExOGVkNSk7CiAgICAgICAgICAgIAoKICAgICAgICAgICAgY2lyY2xlX21hcmtlcl85YTQwNzk3ZTRmYjg0Y2RhYTg2MzQ2ZTJhZDJkZjBjNS5iaW5kUG9wdXAocG9wdXBfOWQwNzczYjVjMTJiNGNjYmIyODBjMDU1ZjQ5MjNkYzEpOwoKICAgICAgICAgICAgCiAgICAgICAgCiAgICAKICAgICAgICAgICAgdmFyIGNpcmNsZV9tYXJrZXJfYTVkYjlkYThlODQzNDY5Njk3NzkxNGE3YTk4M2YxMWMgPSBMLmNpcmNsZU1hcmtlcigKICAgICAgICAgICAgICAgIFs0Ny42MjMxNjUsLTEyMi4zMzgyMDMwMDAwMDAwMV0sCiAgICAgICAgICAgICAgICB7CiAgImJ1YmJsaW5nTW91c2VFdmVudHMiOiB0cnVlLAogICJjb2xvciI6ICIjMzM4OGZmIiwKICAiZGFzaEFycmF5IjogbnVsbCwKICAiZGFzaE9mZnNldCI6IG51bGwsCiAgImZpbGwiOiBmYWxzZSwKICAiZmlsbENvbG9yIjogIiMzMzg4ZmYiLAogICJmaWxsT3BhY2l0eSI6IDAuMiwKICAiZmlsbFJ1bGUiOiAiZXZlbm9kZCIsCiAgImxpbmVDYXAiOiAicm91bmQiLAogICJsaW5lSm9pbiI6ICJyb3VuZCIsCiAgIm9wYWNpdHkiOiAxLjAsCiAgInJhZGl1cyI6IDUsCiAgInN0cm9rZSI6IHRydWUsCiAgIndlaWdodCI6IDMKfQogICAgICAgICAgICAgICAgKS5hZGRUbyhtYXBfZmZjMWY2NmUwYTQ1NGQ3ZGE2Njg5Y2YwYjljYTJiYWMpOwogICAgICAgICAgICAKICAgIAogICAgICAgICAgICB2YXIgcG9wdXBfNWZiNWFlY2U4NzlkNGI5YmE4Njk1OTYzMWFjZjNlMmQgPSBMLnBvcHVwKHttYXhXaWR0aDogJzMwMCd9KTsKCiAgICAgICAgICAgIAogICAgICAgICAgICAgICAgdmFyIGh0bWxfZjY2ODVlOGQyNTk4NGQ3Mzg3ZWU0NmQzNzk1MWFjNGUgPSAkKCc8ZGl2IGlkPSJodG1sX2Y2Njg1ZThkMjU5ODRkNzM4N2VlNDZkMzc5NTFhYzRlIiBzdHlsZT0id2lkdGg6IDEwMC4wJTsgaGVpZ2h0OiAxMDAuMCU7Ij5SZXB1YmxpY2FuIFN0ICY8L2Rpdj4nKVswXTsKICAgICAgICAgICAgICAgIHBvcHVwXzVmYjVhZWNlODc5ZDRiOWJhODY5NTk2MzFhY2YzZTJkLnNldENvbnRlbnQoaHRtbF9mNjY4NWU4ZDI1OTg0ZDczODdlZTQ2ZDM3OTUxYWM0ZSk7CiAgICAgICAgICAgIAoKICAgICAgICAgICAgY2lyY2xlX21hcmtlcl9hNWRiOWRhOGU4NDM0Njk2OTc3OTE0YTdhOTgzZjExYy5iaW5kUG9wdXAocG9wdXBfNWZiNWFlY2U4NzlkNGI5YmE4Njk1OTYzMWFjZjNlMmQpOwoKICAgICAgICAgICAgCiAgICAgICAgCiAgICAKICAgICAgICAgICAgdmFyIGNpcmNsZV9tYXJrZXJfZTE5ZGEzYTQwNjdiNDU4OWI5MzVkMDM1OGQ4MDRiY2YgPSBMLmNpcmNsZU1hcmtlcigKICAgICAgICAgICAgICAgIFs0Ny42MDc3MDIsLTEyMi4zNDE2NV0sCiAgICAgICAgICAgICAgICB7CiAgImJ1YmJsaW5nTW91c2VFdmVudHMiOiB0cnVlLAogICJjb2xvciI6ICIjMzM4OGZmIiwKICAiZGFzaEFycmF5IjogbnVsbCwKICAiZGFzaE9mZnNldCI6IG51bGwsCiAgImZpbGwiOiBmYWxzZSwKICAiZmlsbENvbG9yIjogIiMzMzg4ZmYiLAogICJmaWxsT3BhY2l0eSI6IDAuMiwKICAiZmlsbFJ1bGUiOiAiZXZlbm9kZCIsCiAgImxpbmVDYXAiOiAicm91bmQiLAogICJsaW5lSm9pbiI6ICJyb3VuZCIsCiAgIm9wYWNpdHkiOiAxLjAsCiAgInJhZGl1cyI6IDUsCiAgInN0cm9rZSI6IHRydWUsCiAgIndlaWdodCI6IDMKfQogICAgICAgICAgICAgICAgKS5hZGRUbyhtYXBfZmZjMWY2NmUwYTQ1NGQ3ZGE2Njg5Y2YwYjljYTJiYWMpOwogICAgICAgICAgICAKICAgIAogICAgICAgICAgICB2YXIgcG9wdXBfYTUxNDBjYjQ0NTZmNDYzZmE2ZjgyZTBiOWNmMzc5NjcgPSBMLnBvcHVwKHttYXhXaWR0aDogJzMwMCd9KTsKCiAgICAgICAgICAgIAogICAgICAgICAgICAgICAgdmFyIGh0bWxfMTI1ZWJlM2M3N2ZiNGEwZmFhZTI3OWM3YTk1MjQyZGQgPSAkKCc8ZGl2IGlkPSJodG1sXzEyNWViZTNjNzdmYjRhMGZhYWUyNzljN2E5NTI0MmRkIiBzdHlsZT0id2lkdGg6IDEwMC4wJTsgaGVpZ2h0OiAxMDAuMCU7Ij5TZWF0dGxlIEFxdWFyaXU8L2Rpdj4nKVswXTsKICAgICAgICAgICAgICAgIHBvcHVwX2E1MTQwY2I0NDU2ZjQ2M2ZhNmY4MmUwYjljZjM3OTY3LnNldENvbnRlbnQoaHRtbF8xMjVlYmUzYzc3ZmI0YTBmYWFlMjc5YzdhOTUyNDJkZCk7CiAgICAgICAgICAgIAoKICAgICAgICAgICAgY2lyY2xlX21hcmtlcl9lMTlkYTNhNDA2N2I0NTg5YjkzNWQwMzU4ZDgwNGJjZi5iaW5kUG9wdXAocG9wdXBfYTUxNDBjYjQ0NTZmNDYzZmE2ZjgyZTBiOWNmMzc5NjcpOwoKICAgICAgICAgICAgCiAgICAgICAgCiAgICAKICAgICAgICAgICAgdmFyIGNpcmNsZV9tYXJrZXJfODRhNWVjZTFmNWI2NDQyNmIxOWE5ZTUxNmE0YjlhMTIgPSBMLmNpcmNsZU1hcmtlcigKICAgICAgICAgICAgICAgIFs0Ny42MDkyMzksLTEyMi4zMTY2NTEwMDAwMDAwMV0sCiAgICAgICAgICAgICAgICB7CiAgImJ1YmJsaW5nTW91c2VFdmVudHMiOiB0cnVlLAogICJjb2xvciI6ICIjMzM4OGZmIiwKICAiZGFzaEFycmF5IjogbnVsbCwKICAiZGFzaE9mZnNldCI6IG51bGwsCiAgImZpbGwiOiBmYWxzZSwKICAiZmlsbENvbG9yIjogIiMzMzg4ZmYiLAogICJmaWxsT3BhY2l0eSI6IDAuMiwKICAiZmlsbFJ1bGUiOiAiZXZlbm9kZCIsCiAgImxpbmVDYXAiOiAicm91bmQiLAogICJsaW5lSm9pbiI6ICJyb3VuZCIsCiAgIm9wYWNpdHkiOiAxLjAsCiAgInJhZGl1cyI6IDUsCiAgInN0cm9rZSI6IHRydWUsCiAgIndlaWdodCI6IDMKfQogICAgICAgICAgICAgICAgKS5hZGRUbyhtYXBfZmZjMWY2NmUwYTQ1NGQ3ZGE2Njg5Y2YwYjljYTJiYWMpOwogICAgICAgICAgICAKICAgIAogICAgICAgICAgICB2YXIgcG9wdXBfNGVkYTRhNWMxNzNkNDZkZThiNGZlMzFkYTJkNjlkYjYgPSBMLnBvcHVwKHttYXhXaWR0aDogJzMwMCd9KTsKCiAgICAgICAgICAgIAogICAgICAgICAgICAgICAgdmFyIGh0bWxfZTUyYWNiNTk3ODA2NDIyOTgzOTgyYzdkNjdlOTU4MDEgPSAkKCc8ZGl2IGlkPSJodG1sX2U1MmFjYjU5NzgwNjQyMjk4Mzk4MmM3ZDY3ZTk1ODAxIiBzdHlsZT0id2lkdGg6IDEwMC4wJTsgaGVpZ2h0OiAxMDAuMCU7Ij5TZWF0dGxlIFVuaXZlcnM8L2Rpdj4nKVswXTsKICAgICAgICAgICAgICAgIHBvcHVwXzRlZGE0YTVjMTczZDQ2ZGU4YjRmZTMxZGEyZDY5ZGI2LnNldENvbnRlbnQoaHRtbF9lNTJhY2I1OTc4MDY0MjI5ODM5ODJjN2Q2N2U5NTgwMSk7CiAgICAgICAgICAgIAoKICAgICAgICAgICAgY2lyY2xlX21hcmtlcl84NGE1ZWNlMWY1YjY0NDI2YjE5YTllNTE2YTRiOWExMi5iaW5kUG9wdXAocG9wdXBfNGVkYTRhNWMxNzNkNDZkZThiNGZlMzFkYTJkNjlkYjYpOwoKICAgICAgICAgICAgCiAgICAgICAgCiAgICAKICAgICAgICAgICAgdmFyIGNpcmNsZV9tYXJrZXJfZGM4MzU4M2M4MjA3NDUwMzljNjczMzMyYTJlOTA4MTAgPSBMLmNpcmNsZU1hcmtlcigKICAgICAgICAgICAgICAgIFs0Ny42MTg2MzMsLTEyMi4zMjUyNDldLAogICAgICAgICAgICAgICAgewogICJidWJibGluZ01vdXNlRXZlbnRzIjogdHJ1ZSwKICAiY29sb3IiOiAiIzMzODhmZiIsCiAgImRhc2hBcnJheSI6IG51bGwsCiAgImRhc2hPZmZzZXQiOiBudWxsLAogICJmaWxsIjogZmFsc2UsCiAgImZpbGxDb2xvciI6ICIjMzM4OGZmIiwKICAiZmlsbE9wYWNpdHkiOiAwLjIsCiAgImZpbGxSdWxlIjogImV2ZW5vZGQiLAogICJsaW5lQ2FwIjogInJvdW5kIiwKICAibGluZUpvaW4iOiAicm91bmQiLAogICJvcGFjaXR5IjogMS4wLAogICJyYWRpdXMiOiA1LAogICJzdHJva2UiOiB0cnVlLAogICJ3ZWlnaHQiOiAzCn0KICAgICAgICAgICAgICAgICkuYWRkVG8obWFwX2ZmYzFmNjZlMGE0NTRkN2RhNjY4OWNmMGI5Y2EyYmFjKTsKICAgICAgICAgICAgCiAgICAKICAgICAgICAgICAgdmFyIHBvcHVwX2RmMTMzMzBmNjFlNjQyNjY5YmZhNjI4ZTUyNjM1MTljID0gTC5wb3B1cCh7bWF4V2lkdGg6ICczMDAnfSk7CgogICAgICAgICAgICAKICAgICAgICAgICAgICAgIHZhciBodG1sXzE2ZTI2YzZjMWY0YTRmZWI5YzhkMWRmMjYyODU2NzVkID0gJCgnPGRpdiBpZD0iaHRtbF8xNmUyNmM2YzFmNGE0ZmViOWM4ZDFkZjI2Mjg1Njc1ZCIgc3R5bGU9IndpZHRoOiAxMDAuMCU7IGhlaWdodDogMTAwLjAlOyI+U3VtbWl0IEF2ZSAmIEUgPC9kaXY+JylbMF07CiAgICAgICAgICAgICAgICBwb3B1cF9kZjEzMzMwZjYxZTY0MjY2OWJmYTYyOGU1MjYzNTE5Yy5zZXRDb250ZW50KGh0bWxfMTZlMjZjNmMxZjRhNGZlYjljOGQxZGYyNjI4NTY3NWQpOwogICAgICAgICAgICAKCiAgICAgICAgICAgIGNpcmNsZV9tYXJrZXJfZGM4MzU4M2M4MjA3NDUwMzljNjczMzMyYTJlOTA4MTAuYmluZFBvcHVwKHBvcHVwX2RmMTMzMzBmNjFlNjQyNjY5YmZhNjI4ZTUyNjM1MTljKTsKCiAgICAgICAgICAgIAogICAgICAgIAogICAgCiAgICAgICAgICAgIHZhciBjaXJjbGVfbWFya2VyX2Y1MmM5NDc2OGFjYjQ4N2FhMzMzZDU1MjAxMGM1OTc0ID0gTC5jaXJjbGVNYXJrZXIoCiAgICAgICAgICAgICAgICBbNDcuNjIzMzY3LC0xMjIuMzI1Mjc5MDAwMDAwMDFdLAogICAgICAgICAgICAgICAgewogICJidWJibGluZ01vdXNlRXZlbnRzIjogdHJ1ZSwKICAiY29sb3IiOiAiIzMzODhmZiIsCiAgImRhc2hBcnJheSI6IG51bGwsCiAgImRhc2hPZmZzZXQiOiBudWxsLAogICJmaWxsIjogZmFsc2UsCiAgImZpbGxDb2xvciI6ICIjMzM4OGZmIiwKICAiZmlsbE9wYWNpdHkiOiAwLjIsCiAgImZpbGxSdWxlIjogImV2ZW5vZGQiLAogICJsaW5lQ2FwIjogInJvdW5kIiwKICAibGluZUpvaW4iOiAicm91bmQiLAogICJvcGFjaXR5IjogMS4wLAogICJyYWRpdXMiOiA1LAogICJzdHJva2UiOiB0cnVlLAogICJ3ZWlnaHQiOiAzCn0KICAgICAgICAgICAgICAgICkuYWRkVG8obWFwX2ZmYzFmNjZlMGE0NTRkN2RhNjY4OWNmMGI5Y2EyYmFjKTsKICAgICAgICAgICAgCiAgICAKICAgICAgICAgICAgdmFyIHBvcHVwX2VjZDZmODBhNGE2MTQxZGQ5Y2JmODE3Mjk0YTZmYjQzID0gTC5wb3B1cCh7bWF4V2lkdGg6ICczMDAnfSk7CgogICAgICAgICAgICAKICAgICAgICAgICAgICAgIHZhciBodG1sX2NjZDc3NWFhNTAzMTQwZjI4MjA4MTZjYzNlZWJhMjllID0gJCgnPGRpdiBpZD0iaHRtbF9jY2Q3NzVhYTUwMzE0MGYyODIwODE2Y2MzZWViYTI5ZSIgc3R5bGU9IndpZHRoOiAxMDAuMCU7IGhlaWdodDogMTAwLjAlOyI+U3VtbWl0IEF2ZSBFICYgPC9kaXY+JylbMF07CiAgICAgICAgICAgICAgICBwb3B1cF9lY2Q2ZjgwYTRhNjE0MWRkOWNiZjgxNzI5NGE2ZmI0My5zZXRDb250ZW50KGh0bWxfY2NkNzc1YWE1MDMxNDBmMjgyMDgxNmNjM2VlYmEyOWUpOwogICAgICAgICAgICAKCiAgICAgICAgICAgIGNpcmNsZV9tYXJrZXJfZjUyYzk0NzY4YWNiNDg3YWEzMzNkNTUyMDEwYzU5NzQuYmluZFBvcHVwKHBvcHVwX2VjZDZmODBhNGE2MTQxZGQ5Y2JmODE3Mjk0YTZmYjQzKTsKCiAgICAgICAgICAgIAogICAgICAgIAogICAgCiAgICAgICAgICAgIHZhciBjaXJjbGVfbWFya2VyXzQ4NzU1MjM2NGQ4NjRjNmM5NWYxMzM5ZmJiYzRkYmFiID0gTC5jaXJjbGVNYXJrZXIoCiAgICAgICAgICAgICAgICBbNDcuNjE2MjYsLTEyMi4zMzM4MTQ5OTk5OTk5OV0sCiAgICAgICAgICAgICAgICB7CiAgImJ1YmJsaW5nTW91c2VFdmVudHMiOiB0cnVlLAogICJjb2xvciI6ICIjMzM4OGZmIiwKICAiZGFzaEFycmF5IjogbnVsbCwKICAiZGFzaE9mZnNldCI6IG51bGwsCiAgImZpbGwiOiBmYWxzZSwKICAiZmlsbENvbG9yIjogIiMzMzg4ZmYiLAogICJmaWxsT3BhY2l0eSI6IDAuMiwKICAiZmlsbFJ1bGUiOiAiZXZlbm9kZCIsCiAgImxpbmVDYXAiOiAicm91bmQiLAogICJsaW5lSm9pbiI6ICJyb3VuZCIsCiAgIm9wYWNpdHkiOiAxLjAsCiAgInJhZGl1cyI6IDUsCiAgInN0cm9rZSI6IHRydWUsCiAgIndlaWdodCI6IDMKfQogICAgICAgICAgICAgICAgKS5hZGRUbyhtYXBfZmZjMWY2NmUwYTQ1NGQ3ZGE2Njg5Y2YwYjljYTJiYWMpOwogICAgICAgICAgICAKICAgIAogICAgICAgICAgICB2YXIgcG9wdXBfZmU5YTNjNWQyNzgyNDJiYzllOGMzNDY4M2I3MDU4NWEgPSBMLnBvcHVwKHttYXhXaWR0aDogJzMwMCd9KTsKCiAgICAgICAgICAgIAogICAgICAgICAgICAgICAgdmFyIGh0bWxfNmZkZDE1MmE0MjFkNDNhOGJjNzQ3MjNkMDkyNDJjZTQgPSAkKCc8ZGl2IGlkPSJodG1sXzZmZGQxNTJhNDIxZDQzYThiYzc0NzIzZDA5MjQyY2U0IiBzdHlsZT0id2lkdGg6IDEwMC4wJTsgaGVpZ2h0OiAxMDAuMCU7Ij5UZXJyeSBBdmUgJiBTdGU8L2Rpdj4nKVswXTsKICAgICAgICAgICAgICAgIHBvcHVwX2ZlOWEzYzVkMjc4MjQyYmM5ZThjMzQ2ODNiNzA1ODVhLnNldENvbnRlbnQoaHRtbF82ZmRkMTUyYTQyMWQ0M2E4YmM3NDcyM2QwOTI0MmNlNCk7CiAgICAgICAgICAgIAoKICAgICAgICAgICAgY2lyY2xlX21hcmtlcl80ODc1NTIzNjRkODY0YzZjOTVmMTMzOWZiYmM0ZGJhYi5iaW5kUG9wdXAocG9wdXBfZmU5YTNjNWQyNzgyNDJiYzllOGMzNDY4M2I3MDU4NWEpOwoKICAgICAgICAgICAgCiAgICAgICAgCiAgICAKICAgICAgICAgICAgdmFyIGNpcmNsZV9tYXJrZXJfODRlZDM5YzI4NDE3NDk3ZmFjNTJiMGJmYTk0M2JhNDIgPSBMLmNpcmNsZU1hcmtlcigKICAgICAgICAgICAgICAgIFs0Ny42MjA4Nzg1MywtMTIyLjM0NzM3NjkwMDAwMDAxXSwKICAgICAgICAgICAgICAgIHsKICAiYnViYmxpbmdNb3VzZUV2ZW50cyI6IHRydWUsCiAgImNvbG9yIjogIiMzMzg4ZmYiLAogICJkYXNoQXJyYXkiOiBudWxsLAogICJkYXNoT2Zmc2V0IjogbnVsbCwKICAiZmlsbCI6IGZhbHNlLAogICJmaWxsQ29sb3IiOiAiIzMzODhmZiIsCiAgImZpbGxPcGFjaXR5IjogMC4yLAogICJmaWxsUnVsZSI6ICJldmVub2RkIiwKICAibGluZUNhcCI6ICJyb3VuZCIsCiAgImxpbmVKb2luIjogInJvdW5kIiwKICAib3BhY2l0eSI6IDEuMCwKICAicmFkaXVzIjogNSwKICAic3Ryb2tlIjogdHJ1ZSwKICAid2VpZ2h0IjogMwp9CiAgICAgICAgICAgICAgICApLmFkZFRvKG1hcF9mZmMxZjY2ZTBhNDU0ZDdkYTY2ODljZjBiOWNhMmJhYyk7CiAgICAgICAgICAgIAogICAgCiAgICAgICAgICAgIHZhciBwb3B1cF9jNGE1NzBjOTIyNGI0ZDdmYjY4ZWJhYzQ5ZDkzNjQyYiA9IEwucG9wdXAoe21heFdpZHRoOiAnMzAwJ30pOwoKICAgICAgICAgICAgCiAgICAgICAgICAgICAgICB2YXIgaHRtbF8wNTFiOGFiNDcxZmY0MTExOWM4NTRkNDcwNWE4NzY2MiA9ICQoJzxkaXYgaWQ9Imh0bWxfMDUxYjhhYjQ3MWZmNDExMTljODU0ZDQ3MDVhODc2NjIiIHN0eWxlPSJ3aWR0aDogMTAwLjAlOyBoZWlnaHQ6IDEwMC4wJTsiPlRob21hcyBTdCAmIDV0aDwvZGl2PicpWzBdOwogICAgICAgICAgICAgICAgcG9wdXBfYzRhNTcwYzkyMjRiNGQ3ZmI2OGViYWM0OWQ5MzY0MmIuc2V0Q29udGVudChodG1sXzA1MWI4YWI0NzFmZjQxMTE5Yzg1NGQ0NzA1YTg3NjYyKTsKICAgICAgICAgICAgCgogICAgICAgICAgICBjaXJjbGVfbWFya2VyXzg0ZWQzOWMyODQxNzQ5N2ZhYzUyYjBiZmE5NDNiYTQyLmJpbmRQb3B1cChwb3B1cF9jNGE1NzBjOTIyNGI0ZDdmYjY4ZWJhYzQ5ZDkzNjQyYik7CgogICAgICAgICAgICAKICAgICAgICAKICAgIAogICAgICAgICAgICB2YXIgY2lyY2xlX21hcmtlcl8yM2Y2ZTllZWQwNDY0YjlkYTYwYmUwZGQxM2RlNGE0ZiA9IEwuY2lyY2xlTWFya2VyKAogICAgICAgICAgICAgICAgWzQ3LjYwOTIyMTAwMDAwMDAwNSwtMTIyLjMzNTU5Nl0sCiAgICAgICAgICAgICAgICB7CiAgImJ1YmJsaW5nTW91c2VFdmVudHMiOiB0cnVlLAogICJjb2xvciI6ICIjMzM4OGZmIiwKICAiZGFzaEFycmF5IjogbnVsbCwKICAiZGFzaE9mZnNldCI6IG51bGwsCiAgImZpbGwiOiBmYWxzZSwKICAiZmlsbENvbG9yIjogIiMzMzg4ZmYiLAogICJmaWxsT3BhY2l0eSI6IDAuMiwKICAiZmlsbFJ1bGUiOiAiZXZlbm9kZCIsCiAgImxpbmVDYXAiOiAicm91bmQiLAogICJsaW5lSm9pbiI6ICJyb3VuZCIsCiAgIm9wYWNpdHkiOiAxLjAsCiAgInJhZGl1cyI6IDUsCiAgInN0cm9rZSI6IHRydWUsCiAgIndlaWdodCI6IDMKfQogICAgICAgICAgICAgICAgKS5hZGRUbyhtYXBfZmZjMWY2NmUwYTQ1NGQ3ZGE2Njg5Y2YwYjljYTJiYWMpOwogICAgICAgICAgICAKICAgIAogICAgICAgICAgICB2YXIgcG9wdXBfYmFhNmJmZTgzYmRlNGY2MjlkMmM4MGNlY2RmYmZjOWEgPSBMLnBvcHVwKHttYXhXaWR0aDogJzMwMCd9KTsKCiAgICAgICAgICAgIAogICAgICAgICAgICAgICAgdmFyIGh0bWxfMGFiODI0OTBjMzkwNGM2NmI5OWMwZTBmY2UzMGQ5YzcgPSAkKCc8ZGl2IGlkPSJodG1sXzBhYjgyNDkwYzM5MDRjNjZiOTljMGUwZmNlMzBkOWM3IiBzdHlsZT0id2lkdGg6IDEwMC4wJTsgaGVpZ2h0OiAxMDAuMCU7Ij5VbmlvbiBTdCAmIDR0aCA8L2Rpdj4nKVswXTsKICAgICAgICAgICAgICAgIHBvcHVwX2JhYTZiZmU4M2JkZTRmNjI5ZDJjODBjZWNkZmJmYzlhLnNldENvbnRlbnQoaHRtbF8wYWI4MjQ5MGMzOTA0YzY2Yjk5YzBlMGZjZTMwZDljNyk7CiAgICAgICAgICAgIAoKICAgICAgICAgICAgY2lyY2xlX21hcmtlcl8yM2Y2ZTllZWQwNDY0YjlkYTYwYmUwZGQxM2RlNGE0Zi5iaW5kUG9wdXAocG9wdXBfYmFhNmJmZTgzYmRlNGY2MjlkMmM4MGNlY2RmYmZjOWEpOwoKICAgICAgICAgICAgCiAgICAgICAgCiAgICAKICAgICAgICAgICAgdmFyIGNpcmNsZV9tYXJrZXJfYzkzODA5MGQ0NjI0NDk5ODkyMTU4YzQwMzM5ZWIyNDggPSBMLmNpcmNsZU1hcmtlcigKICAgICAgICAgICAgICAgIFs0Ny42NTQ2MTMsLTEyMi4zMDQ4NjI5OTk5OTk5OF0sCiAgICAgICAgICAgICAgICB7CiAgImJ1YmJsaW5nTW91c2VFdmVudHMiOiB0cnVlLAogICJjb2xvciI6ICIjMzM4OGZmIiwKICAiZGFzaEFycmF5IjogbnVsbCwKICAiZGFzaE9mZnNldCI6IG51bGwsCiAgImZpbGwiOiBmYWxzZSwKICAiZmlsbENvbG9yIjogIiMzMzg4ZmYiLAogICJmaWxsT3BhY2l0eSI6IDAuMiwKICAiZmlsbFJ1bGUiOiAiZXZlbm9kZCIsCiAgImxpbmVDYXAiOiAicm91bmQiLAogICJsaW5lSm9pbiI6ICJyb3VuZCIsCiAgIm9wYWNpdHkiOiAxLjAsCiAgInJhZGl1cyI6IDUsCiAgInN0cm9rZSI6IHRydWUsCiAgIndlaWdodCI6IDMKfQogICAgICAgICAgICAgICAgKS5hZGRUbyhtYXBfZmZjMWY2NmUwYTQ1NGQ3ZGE2Njg5Y2YwYjljYTJiYWMpOwogICAgICAgICAgICAKICAgIAogICAgICAgICAgICB2YXIgcG9wdXBfMmMwZDM2YmQwMzY5NDE2NjkzMGNlOWQ2MDUwZjA0NTMgPSBMLnBvcHVwKHttYXhXaWR0aDogJzMwMCd9KTsKCiAgICAgICAgICAgIAogICAgICAgICAgICAgICAgdmFyIGh0bWxfMWJjZDc0ZDBhN2JkNGRkM2I5MmRkODliZmFlY2NjZDggPSAkKCc8ZGl2IGlkPSJodG1sXzFiY2Q3NGQwYTdiZDRkZDNiOTJkZDg5YmZhZWNjY2Q4IiBzdHlsZT0id2lkdGg6IDEwMC4wJTsgaGVpZ2h0OiAxMDAuMCU7Ij5VVyBFbmdpbmVlcmluZyA8L2Rpdj4nKVswXTsKICAgICAgICAgICAgICAgIHBvcHVwXzJjMGQzNmJkMDM2OTQxNjY5MzBjZTlkNjA1MGYwNDUzLnNldENvbnRlbnQoaHRtbF8xYmNkNzRkMGE3YmQ0ZGQzYjkyZGQ4OWJmYWVjY2NkOCk7CiAgICAgICAgICAgIAoKICAgICAgICAgICAgY2lyY2xlX21hcmtlcl9jOTM4MDkwZDQ2MjQ0OTk4OTIxNThjNDAzMzllYjI0OC5iaW5kUG9wdXAocG9wdXBfMmMwZDM2YmQwMzY5NDE2NjkzMGNlOWQ2MDUwZjA0NTMpOwoKICAgICAgICAgICAgCiAgICAgICAgCiAgICAKICAgICAgICAgICAgdmFyIGNpcmNsZV9tYXJrZXJfMmY0Zjk2OGVkNDkyNDQ5YzhiZGQ2MmQyZWYzZDQ2YmQgPSBMLmNpcmNsZU1hcmtlcigKICAgICAgICAgICAgICAgIFs0Ny42NTM3MTMsLTEyMi4zMDIxNjIwMDAwMDAwMV0sCiAgICAgICAgICAgICAgICB7CiAgImJ1YmJsaW5nTW91c2VFdmVudHMiOiB0cnVlLAogICJjb2xvciI6ICIjMzM4OGZmIiwKICAiZGFzaEFycmF5IjogbnVsbCwKICAiZGFzaE9mZnNldCI6IG51bGwsCiAgImZpbGwiOiBmYWxzZSwKICAiZmlsbENvbG9yIjogIiMzMzg4ZmYiLAogICJmaWxsT3BhY2l0eSI6IDAuMiwKICAiZmlsbFJ1bGUiOiAiZXZlbm9kZCIsCiAgImxpbmVDYXAiOiAicm91bmQiLAogICJsaW5lSm9pbiI6ICJyb3VuZCIsCiAgIm9wYWNpdHkiOiAxLjAsCiAgInJhZGl1cyI6IDUsCiAgInN0cm9rZSI6IHRydWUsCiAgIndlaWdodCI6IDMKfQogICAgICAgICAgICAgICAgKS5hZGRUbyhtYXBfZmZjMWY2NmUwYTQ1NGQ3ZGE2Njg5Y2YwYjljYTJiYWMpOwogICAgICAgICAgICAKICAgIAogICAgICAgICAgICB2YXIgcG9wdXBfMTkxY2VkOTE2MmFlNDU1Yjk4MTgxZTgwMDA2ZWRlNDkgPSBMLnBvcHVwKHttYXhXaWR0aDogJzMwMCd9KTsKCiAgICAgICAgICAgIAogICAgICAgICAgICAgICAgdmFyIGh0bWxfNDE5YjQ5MWYyZTFlNGQyMjhmZmQ0N2E5YWRlZTYwNTEgPSAkKCc8ZGl2IGlkPSJodG1sXzQxOWI0OTFmMmUxZTRkMjI4ZmZkNDdhOWFkZWU2MDUxIiBzdHlsZT0id2lkdGg6IDEwMC4wJTsgaGVpZ2h0OiAxMDAuMCU7Ij5VVyBJbnRyYW11cmFsIEE8L2Rpdj4nKVswXTsKICAgICAgICAgICAgICAgIHBvcHVwXzE5MWNlZDkxNjJhZTQ1NWI5ODE4MWU4MDAwNmVkZTQ5LnNldENvbnRlbnQoaHRtbF80MTliNDkxZjJlMWU0ZDIyOGZmZDQ3YTlhZGVlNjA1MSk7CiAgICAgICAgICAgIAoKICAgICAgICAgICAgY2lyY2xlX21hcmtlcl8yZjRmOTY4ZWQ0OTI0NDljOGJkZDYyZDJlZjNkNDZiZC5iaW5kUG9wdXAocG9wdXBfMTkxY2VkOTE2MmFlNDU1Yjk4MTgxZTgwMDA2ZWRlNDkpOwoKICAgICAgICAgICAgCiAgICAgICAgCiAgICAKICAgICAgICAgICAgdmFyIGNpcmNsZV9tYXJrZXJfZWFmZWJmY2UwNWFjNDBkNmFiZjUyYjBkMWU3YjZkNmIgPSBMLmNpcmNsZU1hcmtlcigKICAgICAgICAgICAgICAgIFs0Ny42NTA3MjUsLTEyMi4zMTExODc5OTk5OTk5OV0sCiAgICAgICAgICAgICAgICB7CiAgImJ1YmJsaW5nTW91c2VFdmVudHMiOiB0cnVlLAogICJjb2xvciI6ICIjMzM4OGZmIiwKICAiZGFzaEFycmF5IjogbnVsbCwKICAiZGFzaE9mZnNldCI6IG51bGwsCiAgImZpbGwiOiBmYWxzZSwKICAiZmlsbENvbG9yIjogIiMzMzg4ZmYiLAogICJmaWxsT3BhY2l0eSI6IDAuMiwKICAiZmlsbFJ1bGUiOiAiZXZlbm9kZCIsCiAgImxpbmVDYXAiOiAicm91bmQiLAogICJsaW5lSm9pbiI6ICJyb3VuZCIsCiAgIm9wYWNpdHkiOiAxLjAsCiAgInJhZGl1cyI6IDUsCiAgInN0cm9rZSI6IHRydWUsCiAgIndlaWdodCI6IDMKfQogICAgICAgICAgICAgICAgKS5hZGRUbyhtYXBfZmZjMWY2NmUwYTQ1NGQ3ZGE2Njg5Y2YwYjljYTJiYWMpOwogICAgICAgICAgICAKICAgIAogICAgICAgICAgICB2YXIgcG9wdXBfYjA4NjAxNDU5OTkyNGZiMGJiYmUxOTU1YWYzNmNlNzMgPSBMLnBvcHVwKHttYXhXaWR0aDogJzMwMCd9KTsKCiAgICAgICAgICAgIAogICAgICAgICAgICAgICAgdmFyIGh0bWxfZmNlMTY3NzI5ZmRlNDM5MGE1NmE0NjJkNmY4MjNmNWQgPSAkKCc8ZGl2IGlkPSJodG1sX2ZjZTE2NzcyOWZkZTQzOTBhNTZhNDYyZDZmODIzZjVkIiBzdHlsZT0id2lkdGg6IDEwMC4wJTsgaGVpZ2h0OiAxMDAuMCU7Ij5VVyBNYWdudXNvbiBIZWE8L2Rpdj4nKVswXTsKICAgICAgICAgICAgICAgIHBvcHVwX2IwODYwMTQ1OTk5MjRmYjBiYmJlMTk1NWFmMzZjZTczLnNldENvbnRlbnQoaHRtbF9mY2UxNjc3MjlmZGU0MzkwYTU2YTQ2MmQ2ZjgyM2Y1ZCk7CiAgICAgICAgICAgIAoKICAgICAgICAgICAgY2lyY2xlX21hcmtlcl9lYWZlYmZjZTA1YWM0MGQ2YWJmNTJiMGQxZTdiNmQ2Yi5iaW5kUG9wdXAocG9wdXBfYjA4NjAxNDU5OTkyNGZiMGJiYmUxOTU1YWYzNmNlNzMpOwoKICAgICAgICAgICAgCiAgICAgICAgCiAgICAKICAgICAgICAgICAgdmFyIGNpcmNsZV9tYXJrZXJfNjAyNGM2NWMyNTJlNDMyN2EwYWE3MDZjYWZhYTIzMmYgPSBMLmNpcmNsZU1hcmtlcigKICAgICAgICAgICAgICAgIFs0Ny42NjAyNjgsLTEyMi4zMDQ4MjZdLAogICAgICAgICAgICAgICAgewogICJidWJibGluZ01vdXNlRXZlbnRzIjogdHJ1ZSwKICAiY29sb3IiOiAiIzMzODhmZiIsCiAgImRhc2hBcnJheSI6IG51bGwsCiAgImRhc2hPZmZzZXQiOiBudWxsLAogICJmaWxsIjogZmFsc2UsCiAgImZpbGxDb2xvciI6ICIjMzM4OGZmIiwKICAiZmlsbE9wYWNpdHkiOiAwLjIsCiAgImZpbGxSdWxlIjogImV2ZW5vZGQiLAogICJsaW5lQ2FwIjogInJvdW5kIiwKICAibGluZUpvaW4iOiAicm91bmQiLAogICJvcGFjaXR5IjogMS4wLAogICJyYWRpdXMiOiA1LAogICJzdHJva2UiOiB0cnVlLAogICJ3ZWlnaHQiOiAzCn0KICAgICAgICAgICAgICAgICkuYWRkVG8obWFwX2ZmYzFmNjZlMGE0NTRkN2RhNjY4OWNmMGI5Y2EyYmFjKTsKICAgICAgICAgICAgCiAgICAKICAgICAgICAgICAgdmFyIHBvcHVwX2MwMWI5YmMxNzU4MDQxYjJhZTI2M2FiZGU1NDAxNDUwID0gTC5wb3B1cCh7bWF4V2lkdGg6ICczMDAnfSk7CgogICAgICAgICAgICAKICAgICAgICAgICAgICAgIHZhciBodG1sXzkxNTNhMGVkMjdjODQxYjNhODgxYTRhZGNkMGRlYTAyID0gJCgnPGRpdiBpZD0iaHRtbF85MTUzYTBlZDI3Yzg0MWIzYTg4MWE0YWRjZDBkZWEwMiIgc3R5bGU9IndpZHRoOiAxMDAuMCU7IGhlaWdodDogMTAwLjAlOyI+VVcgTWNDYXJ0eSBIYWxsPC9kaXY+JylbMF07CiAgICAgICAgICAgICAgICBwb3B1cF9jMDFiOWJjMTc1ODA0MWIyYWUyNjNhYmRlNTQwMTQ1MC5zZXRDb250ZW50KGh0bWxfOTE1M2EwZWQyN2M4NDFiM2E4ODFhNGFkY2QwZGVhMDIpOwogICAgICAgICAgICAKCiAgICAgICAgICAgIGNpcmNsZV9tYXJrZXJfNjAyNGM2NWMyNTJlNDMyN2EwYWE3MDZjYWZhYTIzMmYuYmluZFBvcHVwKHBvcHVwX2MwMWI5YmMxNzU4MDQxYjJhZTI2M2FiZGU1NDAxNDUwKTsKCiAgICAgICAgICAgIAogICAgICAgIAogICAgCiAgICAgICAgICAgIHZhciBjaXJjbGVfbWFya2VyX2QyMzliNGI5MmY2ODQxOTJhZWMzMTRmNjQ1YWQzZmY1ID0gTC5jaXJjbGVNYXJrZXIoCiAgICAgICAgICAgICAgICBbNDcuNjEzNjI4MDAwMDAwMDA2LC0xMjIuMzM3MzQxXSwKICAgICAgICAgICAgICAgIHsKICAiYnViYmxpbmdNb3VzZUV2ZW50cyI6IHRydWUsCiAgImNvbG9yIjogIiMzMzg4ZmYiLAogICJkYXNoQXJyYXkiOiBudWxsLAogICJkYXNoT2Zmc2V0IjogbnVsbCwKICAiZmlsbCI6IGZhbHNlLAogICJmaWxsQ29sb3IiOiAiIzMzODhmZiIsCiAgImZpbGxPcGFjaXR5IjogMC4yLAogICJmaWxsUnVsZSI6ICJldmVub2RkIiwKICAibGluZUNhcCI6ICJyb3VuZCIsCiAgImxpbmVKb2luIjogInJvdW5kIiwKICAib3BhY2l0eSI6IDEuMCwKICAicmFkaXVzIjogNSwKICAic3Ryb2tlIjogdHJ1ZSwKICAid2VpZ2h0IjogMwp9CiAgICAgICAgICAgICAgICApLmFkZFRvKG1hcF9mZmMxZjY2ZTBhNDU0ZDdkYTY2ODljZjBiOWNhMmJhYyk7CiAgICAgICAgICAgIAogICAgCiAgICAgICAgICAgIHZhciBwb3B1cF83NTY0YzE1ZTU4ZmM0MzA4ODcwNzhlNDQzMzYxNjk2OCA9IEwucG9wdXAoe21heFdpZHRoOiAnMzAwJ30pOwoKICAgICAgICAgICAgCiAgICAgICAgICAgICAgICB2YXIgaHRtbF9mNDExNDRmMWJlYzk0N2ZiOTFlYWVkYTkyNGI5MmRmZiA9ICQoJzxkaXYgaWQ9Imh0bWxfZjQxMTQ0ZjFiZWM5NDdmYjkxZWFlZGE5MjRiOTJkZmYiIHN0eWxlPSJ3aWR0aDogMTAwLjAlOyBoZWlnaHQ6IDEwMC4wJTsiPldlc3RsYWtlIEF2ZSAmIDwvZGl2PicpWzBdOwogICAgICAgICAgICAgICAgcG9wdXBfNzU2NGMxNWU1OGZjNDMwODg3MDc4ZTQ0MzM2MTY5Njguc2V0Q29udGVudChodG1sX2Y0MTE0NGYxYmVjOTQ3ZmI5MWVhZWRhOTI0YjkyZGZmKTsKICAgICAgICAgICAgCgogICAgICAgICAgICBjaXJjbGVfbWFya2VyX2QyMzliNGI5MmY2ODQxOTJhZWMzMTRmNjQ1YWQzZmY1LmJpbmRQb3B1cChwb3B1cF83NTY0YzE1ZTU4ZmM0MzA4ODcwNzhlNDQzMzYxNjk2OCk7CgogICAgICAgICAgICAKICAgICAgICAKICAgIAogICAgICAgICAgICB2YXIgY2lyY2xlX21hcmtlcl9mYTkzMTVkN2JjODc0Njg3OGFhZWVkODQ3OTg4NDdiNiA9IEwuY2lyY2xlTWFya2VyKAogICAgICAgICAgICAgICAgWzQ3LjYyNzIwODY2LC0xMjIuMzM5NjMwMV0sCiAgICAgICAgICAgICAgICB7CiAgImJ1YmJsaW5nTW91c2VFdmVudHMiOiB0cnVlLAogICJjb2xvciI6ICIjMzM4OGZmIiwKICAiZGFzaEFycmF5IjogbnVsbCwKICAiZGFzaE9mZnNldCI6IG51bGwsCiAgImZpbGwiOiBmYWxzZSwKICAiZmlsbENvbG9yIjogIiMzMzg4ZmYiLAogICJmaWxsT3BhY2l0eSI6IDAuMiwKICAiZmlsbFJ1bGUiOiAiZXZlbm9kZCIsCiAgImxpbmVDYXAiOiAicm91bmQiLAogICJsaW5lSm9pbiI6ICJyb3VuZCIsCiAgIm9wYWNpdHkiOiAxLjAsCiAgInJhZGl1cyI6IDUsCiAgInN0cm9rZSI6IHRydWUsCiAgIndlaWdodCI6IDMKfQogICAgICAgICAgICAgICAgKS5hZGRUbyhtYXBfZmZjMWY2NmUwYTQ1NGQ3ZGE2Njg5Y2YwYjljYTJiYWMpOwogICAgICAgICAgICAKICAgIAogICAgICAgICAgICB2YXIgcG9wdXBfZDhkZjI5OTIxZjBmNDA2YmE3MzM0M2VkYjIzNGY2ZGMgPSBMLnBvcHVwKHttYXhXaWR0aDogJzMwMCd9KTsKCiAgICAgICAgICAgIAogICAgICAgICAgICAgICAgdmFyIGh0bWxfNGQ3OTRjYmVmZjk5NDBiZjlmNjI4ZTNjZTcxY2U1ZjUgPSAkKCc8ZGl2IGlkPSJodG1sXzRkNzk0Y2JlZmY5OTQwYmY5ZjYyOGUzY2U3MWNlNWY1IiBzdHlsZT0id2lkdGg6IDEwMC4wJTsgaGVpZ2h0OiAxMDAuMCU7Ij5MYWtlIFVuaW9uIFBhcms8L2Rpdj4nKVswXTsKICAgICAgICAgICAgICAgIHBvcHVwX2Q4ZGYyOTkyMWYwZjQwNmJhNzMzNDNlZGIyMzRmNmRjLnNldENvbnRlbnQoaHRtbF80ZDc5NGNiZWZmOTk0MGJmOWY2MjhlM2NlNzFjZTVmNSk7CiAgICAgICAgICAgIAoKICAgICAgICAgICAgY2lyY2xlX21hcmtlcl9mYTkzMTVkN2JjODc0Njg3OGFhZWVkODQ3OTg4NDdiNi5iaW5kUG9wdXAocG9wdXBfZDhkZjI5OTIxZjBmNDA2YmE3MzM0M2VkYjIzNGY2ZGMpOwoKICAgICAgICAgICAgCiAgICAgICAgCiAgICAKICAgICAgICAgICAgdmFyIGNpcmNsZV9tYXJrZXJfZjk2N2FlMTFmZmYwNDU5MDg4ZGM1YjU0N2MyMjFiMzMgPSBMLmNpcmNsZU1hcmtlcigKICAgICAgICAgICAgICAgIFs0Ny42NDkwNzcwMSwtMTIyLjMwNDExNzcwMDAwMDAyXSwKICAgICAgICAgICAgICAgIHsKICAiYnViYmxpbmdNb3VzZUV2ZW50cyI6IHRydWUsCiAgImNvbG9yIjogIiMzMzg4ZmYiLAogICJkYXNoQXJyYXkiOiBudWxsLAogICJkYXNoT2Zmc2V0IjogbnVsbCwKICAiZmlsbCI6IGZhbHNlLAogICJmaWxsQ29sb3IiOiAiIzMzODhmZiIsCiAgImZpbGxPcGFjaXR5IjogMC4yLAogICJmaWxsUnVsZSI6ICJldmVub2RkIiwKICAibGluZUNhcCI6ICJyb3VuZCIsCiAgImxpbmVKb2luIjogInJvdW5kIiwKICAib3BhY2l0eSI6IDEuMCwKICAicmFkaXVzIjogNSwKICAic3Ryb2tlIjogdHJ1ZSwKICAid2VpZ2h0IjogMwp9CiAgICAgICAgICAgICAgICApLmFkZFRvKG1hcF9mZmMxZjY2ZTBhNDU0ZDdkYTY2ODljZjBiOWNhMmJhYyk7CiAgICAgICAgICAgIAogICAgCiAgICAgICAgICAgIHZhciBwb3B1cF80ZWZmNGM3NTAxNDY0ZWY4YjEzODIwNGNlM2FlY2RjZiA9IEwucG9wdXAoe21heFdpZHRoOiAnMzAwJ30pOwoKICAgICAgICAgICAgCiAgICAgICAgICAgICAgICB2YXIgaHRtbF85NGVhOTZjMGY1NDI0MDAxOTQ0YWViMDkwMzhmZGYyZSA9ICQoJzxkaXYgaWQ9Imh0bWxfOTRlYTk2YzBmNTQyNDAwMTk0NGFlYjA5MDM4ZmRmMmUiIHN0eWxlPSJ3aWR0aDogMTAwLjAlOyBoZWlnaHQ6IDEwMC4wJTsiPkh1c2t5IFN0YWRpdW0gVTwvZGl2PicpWzBdOwogICAgICAgICAgICAgICAgcG9wdXBfNGVmZjRjNzUwMTQ2NGVmOGIxMzgyMDRjZTNhZWNkY2Yuc2V0Q29udGVudChodG1sXzk0ZWE5NmMwZjU0MjQwMDE5NDRhZWIwOTAzOGZkZjJlKTsKICAgICAgICAgICAgCgogICAgICAgICAgICBjaXJjbGVfbWFya2VyX2Y5NjdhZTExZmZmMDQ1OTA4OGRjNWI1NDdjMjIxYjMzLmJpbmRQb3B1cChwb3B1cF80ZWZmNGM3NTAxNDY0ZWY4YjEzODIwNGNlM2FlY2RjZik7CgogICAgICAgICAgICAKICAgICAgICAKPC9zY3JpcHQ+\" style=\"position:absolute;width:100%;height:100%;left:0;top:0;border:none !important;\" allowfullscreen webkitallowfullscreen mozallowfullscreen></iframe></div></div>"
            ],
            "text/plain": [
              "<pyensae.notebook_helper.folium_helper.folium_html_map.<locals>.CustomFoliumMap at 0x1e740b69e48>"
            ]
          },
          "execution_count": 6,
          "metadata": {},
          "output_type": "execute_result"
        }
      ],
      "source": [
        "import folium\n",
        "from pyensae.notebook_helper import folium_html_map\n",
        "minx, maxx = df.lat.min(), df.lat.max()\n",
        "miny, maxy = df.long.min(), df.long.max()\n",
        "map_osm = folium.Map(location=[47.618549, -122.317017], \n",
        "                     min_lat=minx, max_lat=maxx, min_lon=miny, max_lon=maxy, zoom_start=12)\n",
        "for i, rows in enumerate(df.to_dict(\"records\")):\n",
        "    x,y = rows[\"lat\"], rows[\"long\"]\n",
        "    # folium does not like quotes in strings.\n",
        "    name = rows[\"name\"].replace(\"/\", \"-\").replace(\"'\", '')\n",
        "    if len(name) > 15:\n",
        "        name = name[:15]\n",
        "    map_osm.add_child(folium.CircleMarker([x, y], popup=name, radius=5))\n",
        "folium_html_map(map_osm, width=\"80%\")"
      ]
    },
    {
      "cell_type": "markdown",
      "metadata": {},
      "source": [
        "### Trips"
      ]
    },
    {
      "cell_type": "code",
      "execution_count": 6,
      "metadata": {},
      "outputs": [
        {
          "data": {
            "text/html": [
              "<div>\n",
              "<style scoped>\n",
              "    .dataframe tbody tr th:only-of-type {\n",
              "        vertical-align: middle;\n",
              "    }\n",
              "\n",
              "    .dataframe tbody tr th {\n",
              "        vertical-align: top;\n",
              "    }\n",
              "\n",
              "    .dataframe thead th {\n",
              "        text-align: right;\n",
              "    }\n",
              "</style>\n",
              "<table border=\"1\" class=\"dataframe\">\n",
              "  <thead>\n",
              "    <tr style=\"text-align: right;\">\n",
              "      <th></th>\n",
              "      <th>trip_id</th>\n",
              "      <th>starttime</th>\n",
              "      <th>stoptime</th>\n",
              "      <th>bikeid</th>\n",
              "      <th>tripduration</th>\n",
              "      <th>from_station_name</th>\n",
              "      <th>to_station_name</th>\n",
              "      <th>from_station_id</th>\n",
              "      <th>to_station_id</th>\n",
              "      <th>usertype</th>\n",
              "      <th>gender</th>\n",
              "      <th>birthyear</th>\n",
              "    </tr>\n",
              "  </thead>\n",
              "  <tbody>\n",
              "    <tr>\n",
              "      <th>0</th>\n",
              "      <td>431</td>\n",
              "      <td>10/13/2014 10:31</td>\n",
              "      <td>10/13/2014 10:48</td>\n",
              "      <td>SEA00298</td>\n",
              "      <td>985.935</td>\n",
              "      <td>2nd Ave &amp; Spring St</td>\n",
              "      <td>Occidental Park / Occidental Ave S &amp; S Washing...</td>\n",
              "      <td>CBD-06</td>\n",
              "      <td>PS-04</td>\n",
              "      <td>Member</td>\n",
              "      <td>Male</td>\n",
              "      <td>1960.0</td>\n",
              "    </tr>\n",
              "    <tr>\n",
              "      <th>1</th>\n",
              "      <td>432</td>\n",
              "      <td>10/13/2014 10:32</td>\n",
              "      <td>10/13/2014 10:48</td>\n",
              "      <td>SEA00195</td>\n",
              "      <td>926.375</td>\n",
              "      <td>2nd Ave &amp; Spring St</td>\n",
              "      <td>Occidental Park / Occidental Ave S &amp; S Washing...</td>\n",
              "      <td>CBD-06</td>\n",
              "      <td>PS-04</td>\n",
              "      <td>Member</td>\n",
              "      <td>Male</td>\n",
              "      <td>1970.0</td>\n",
              "    </tr>\n",
              "    <tr>\n",
              "      <th>2</th>\n",
              "      <td>433</td>\n",
              "      <td>10/13/2014 10:33</td>\n",
              "      <td>10/13/2014 10:48</td>\n",
              "      <td>SEA00486</td>\n",
              "      <td>883.831</td>\n",
              "      <td>2nd Ave &amp; Spring St</td>\n",
              "      <td>Occidental Park / Occidental Ave S &amp; S Washing...</td>\n",
              "      <td>CBD-06</td>\n",
              "      <td>PS-04</td>\n",
              "      <td>Member</td>\n",
              "      <td>Female</td>\n",
              "      <td>1988.0</td>\n",
              "    </tr>\n",
              "    <tr>\n",
              "      <th>3</th>\n",
              "      <td>434</td>\n",
              "      <td>10/13/2014 10:34</td>\n",
              "      <td>10/13/2014 10:48</td>\n",
              "      <td>SEA00333</td>\n",
              "      <td>865.937</td>\n",
              "      <td>2nd Ave &amp; Spring St</td>\n",
              "      <td>Occidental Park / Occidental Ave S &amp; S Washing...</td>\n",
              "      <td>CBD-06</td>\n",
              "      <td>PS-04</td>\n",
              "      <td>Member</td>\n",
              "      <td>Female</td>\n",
              "      <td>1977.0</td>\n",
              "    </tr>\n",
              "    <tr>\n",
              "      <th>4</th>\n",
              "      <td>435</td>\n",
              "      <td>10/13/2014 10:34</td>\n",
              "      <td>10/13/2014 10:49</td>\n",
              "      <td>SEA00202</td>\n",
              "      <td>923.923</td>\n",
              "      <td>2nd Ave &amp; Spring St</td>\n",
              "      <td>Occidental Park / Occidental Ave S &amp; S Washing...</td>\n",
              "      <td>CBD-06</td>\n",
              "      <td>PS-04</td>\n",
              "      <td>Member</td>\n",
              "      <td>Male</td>\n",
              "      <td>1971.0</td>\n",
              "    </tr>\n",
              "  </tbody>\n",
              "</table>\n",
              "</div>"
            ],
            "text/plain": [
              "   trip_id         starttime          stoptime    bikeid  tripduration  \\\n",
              "0      431  10/13/2014 10:31  10/13/2014 10:48  SEA00298       985.935   \n",
              "1      432  10/13/2014 10:32  10/13/2014 10:48  SEA00195       926.375   \n",
              "2      433  10/13/2014 10:33  10/13/2014 10:48  SEA00486       883.831   \n",
              "3      434  10/13/2014 10:34  10/13/2014 10:48  SEA00333       865.937   \n",
              "4      435  10/13/2014 10:34  10/13/2014 10:49  SEA00202       923.923   \n",
              "\n",
              "     from_station_name                                    to_station_name  \\\n",
              "0  2nd Ave & Spring St  Occidental Park / Occidental Ave S & S Washing...   \n",
              "1  2nd Ave & Spring St  Occidental Park / Occidental Ave S & S Washing...   \n",
              "2  2nd Ave & Spring St  Occidental Park / Occidental Ave S & S Washing...   \n",
              "3  2nd Ave & Spring St  Occidental Park / Occidental Ave S & S Washing...   \n",
              "4  2nd Ave & Spring St  Occidental Park / Occidental Ave S & S Washing...   \n",
              "\n",
              "  from_station_id to_station_id usertype  gender  birthyear  \n",
              "0          CBD-06         PS-04   Member    Male     1960.0  \n",
              "1          CBD-06         PS-04   Member    Male     1970.0  \n",
              "2          CBD-06         PS-04   Member  Female     1988.0  \n",
              "3          CBD-06         PS-04   Member  Female     1977.0  \n",
              "4          CBD-06         PS-04   Member    Male     1971.0  "
            ]
          },
          "execution_count": 7,
          "metadata": {},
          "output_type": "execute_result"
        }
      ],
      "source": [
        "bikes = df = pandas.read_csv(\"2016-12_trip_data.csv\")\n",
        "df.head()"
      ]
    },
    {
      "cell_type": "code",
      "execution_count": 7,
      "metadata": {},
      "outputs": [
        {
          "data": {
            "text/plain": [
              "(263136, 12)"
            ]
          },
          "execution_count": 8,
          "metadata": {},
          "output_type": "execute_result"
        }
      ],
      "source": [
        "df.shape"
      ]
    },
    {
      "cell_type": "code",
      "execution_count": 8,
      "metadata": {},
      "outputs": [],
      "source": [
        "df[\"dtstart\"] = pandas.to_datetime(df.starttime, infer_datetime_format=True)\n",
        "df[\"dtstop\"] = pandas.to_datetime(df.stoptime, infer_datetime_format=True)"
      ]
    },
    {
      "cell_type": "code",
      "execution_count": 9,
      "metadata": {},
      "outputs": [],
      "source": [
        "df[\"day\"] = df.dtstart.apply(lambda d: d.timetuple().tm_yday)\n",
        "df[\"time\"] = df.dtstart.apply(lambda r: time(r.hour, r.minute, 0))"
      ]
    },
    {
      "cell_type": "code",
      "execution_count": 10,
      "metadata": {},
      "outputs": [
        {
          "data": {
            "text/plain": [
              "<matplotlib.axes._subplots.AxesSubplot at 0x1e73edc7a20>"
            ]
          },
          "execution_count": 11,
          "metadata": {},
          "output_type": "execute_result"
        },
        {
          "data": {
            "image/png": "[encoded data removed]",
            "text/plain": [
              "<matplotlib.figure.Figure at 0x1e748152748>"
            ]
          },
          "metadata": {},
          "output_type": "display_data"
        }
      ],
      "source": [
        "df.day.hist(figsize=(14,4), bins=100)"
      ]
    },
    {
      "cell_type": "code",
      "execution_count": 11,
      "metadata": {},
      "outputs": [
        {
          "data": {
            "text/plain": [
              "(0, 1439)"
            ]
          },
          "execution_count": 12,
          "metadata": {},
          "output_type": "execute_result"
        }
      ],
      "source": [
        "icro = df.time.apply(lambda t: t.hour * 60 + t.minute)\n",
        "icro.min(), icro.max()"
      ]
    },
    {
      "cell_type": "code",
      "execution_count": 12,
      "metadata": {
        "scrolled": false
      },
      "outputs": [
        {
          "data": {
            "text/plain": [
              "<matplotlib.axes._subplots.AxesSubplot at 0x1e74a6ac278>"
            ]
          },
          "execution_count": 13,
          "metadata": {},
          "output_type": "execute_result"
        },
        {
          "data": {
            "image/png": "[encoded data removed]",
            "text/plain": [
              "<matplotlib.figure.Figure at 0x1e742e5a630>"
            ]
          },
          "metadata": {},
          "output_type": "display_data"
        }
      ],
      "source": [
        "icro.hist(figsize=(14,4), bins=100)"
      ]
    },
    {
      "cell_type": "code",
      "execution_count": 13,
      "metadata": {},
      "outputs": [
        {
          "data": {
            "text/plain": [
              "<matplotlib.axes._subplots.AxesSubplot at 0x1e743e23908>"
            ]
          },
          "execution_count": 14,
          "metadata": {},
          "output_type": "execute_result"
        },
        {
          "data": {
            "image/png": "[encoded data removed]",
            "text/plain": [
              "<matplotlib.figure.Figure at 0x1e747261390>"
            ]
          },
          "metadata": {},
          "output_type": "display_data"
        }
      ],
      "source": [
        "june = df[(df.dtstart >= datetime(2016,6,1)) & (df.dtstart < datetime(2016,7,1))]\n",
        "june.day.hist(figsize=(14,4), bins=30)"
      ]
    },
    {
      "cell_type": "code",
      "execution_count": 14,
      "metadata": {},
      "outputs": [],
      "source": [
        "june11 = june[(june.dtstart >= datetime(2016,6,11)) & (june.dtstart < datetime(2016,6,12))].copy()"
      ]
    },
    {
      "cell_type": "code",
      "execution_count": 15,
      "metadata": {},
      "outputs": [
        {
          "data": {
            "text/html": [
              "<div>\n",
              "<style scoped>\n",
              "    .dataframe tbody tr th:only-of-type {\n",
              "        vertical-align: middle;\n",
              "    }\n",
              "\n",
              "    .dataframe tbody tr th {\n",
              "        vertical-align: top;\n",
              "    }\n",
              "\n",
              "    .dataframe thead th {\n",
              "        text-align: right;\n",
              "    }\n",
              "</style>\n",
              "<table border=\"1\" class=\"dataframe\">\n",
              "  <thead>\n",
              "    <tr style=\"text-align: right;\">\n",
              "      <th></th>\n",
              "      <th>trip_id</th>\n",
              "    </tr>\n",
              "    <tr>\n",
              "      <th>from_station_id</th>\n",
              "      <th></th>\n",
              "    </tr>\n",
              "  </thead>\n",
              "  <tbody>\n",
              "    <tr>\n",
              "      <th>WF-01</th>\n",
              "      <td>28</td>\n",
              "    </tr>\n",
              "    <tr>\n",
              "      <th>SLU-02</th>\n",
              "      <td>25</td>\n",
              "    </tr>\n",
              "    <tr>\n",
              "      <th>EL-01</th>\n",
              "      <td>22</td>\n",
              "    </tr>\n",
              "    <tr>\n",
              "      <th>SLU-19</th>\n",
              "      <td>21</td>\n",
              "    </tr>\n",
              "    <tr>\n",
              "      <th>WF-04</th>\n",
              "      <td>19</td>\n",
              "    </tr>\n",
              "    <tr>\n",
              "      <th>PS-04</th>\n",
              "      <td>19</td>\n",
              "    </tr>\n",
              "    <tr>\n",
              "      <th>BT-01</th>\n",
              "      <td>18</td>\n",
              "    </tr>\n",
              "    <tr>\n",
              "      <th>BT-05</th>\n",
              "      <td>14</td>\n",
              "    </tr>\n",
              "    <tr>\n",
              "      <th>CBD-13</th>\n",
              "      <td>13</td>\n",
              "    </tr>\n",
              "    <tr>\n",
              "      <th>UD-01</th>\n",
              "      <td>12</td>\n",
              "    </tr>\n",
              "    <tr>\n",
              "      <th>SLU-18</th>\n",
              "      <td>12</td>\n",
              "    </tr>\n",
              "    <tr>\n",
              "      <th>CBD-06</th>\n",
              "      <td>11</td>\n",
              "    </tr>\n",
              "    <tr>\n",
              "      <th>CH-16</th>\n",
              "      <td>11</td>\n",
              "    </tr>\n",
              "    <tr>\n",
              "      <th>CH-02</th>\n",
              "      <td>11</td>\n",
              "    </tr>\n",
              "    <tr>\n",
              "      <th>SLU-23</th>\n",
              "      <td>11</td>\n",
              "    </tr>\n",
              "    <tr>\n",
              "      <th>CH-08</th>\n",
              "      <td>11</td>\n",
              "    </tr>\n",
              "    <tr>\n",
              "      <th>SLU-01</th>\n",
              "      <td>10</td>\n",
              "    </tr>\n",
              "    <tr>\n",
              "      <th>PS-05</th>\n",
              "      <td>10</td>\n",
              "    </tr>\n",
              "    <tr>\n",
              "      <th>UW-07</th>\n",
              "      <td>9</td>\n",
              "    </tr>\n",
              "    <tr>\n",
              "      <th>UW-10</th>\n",
              "      <td>8</td>\n",
              "    </tr>\n",
              "  </tbody>\n",
              "</table>\n",
              "</div>"
            ],
            "text/plain": [
              "                 trip_id\n",
              "from_station_id         \n",
              "WF-01                 28\n",
              "SLU-02                25\n",
              "EL-01                 22\n",
              "SLU-19                21\n",
              "WF-04                 19\n",
              "PS-04                 19\n",
              "BT-01                 18\n",
              "BT-05                 14\n",
              "CBD-13                13\n",
              "UD-01                 12\n",
              "SLU-18                12\n",
              "CBD-06                11\n",
              "CH-16                 11\n",
              "CH-02                 11\n",
              "SLU-23                11\n",
              "CH-08                 11\n",
              "SLU-01                10\n",
              "PS-05                 10\n",
              "UW-07                  9\n",
              "UW-10                  8"
            ]
          },
          "execution_count": 16,
          "metadata": {},
          "output_type": "execute_result"
        }
      ],
      "source": [
        "june11[[\"from_station_id\", \"trip_id\"]].groupby(\"from_station_id\") \\\n",
        "         .count().sort_values(\"trip_id\", ascending=False).head(n=20)"
      ]
    },
    {
      "cell_type": "markdown",
      "metadata": {},
      "source": [
        "Too few values..."
      ]
    },
    {
      "cell_type": "code",
      "execution_count": 16,
      "metadata": {},
      "outputs": [],
      "source": []
    }
  ],
  "metadata": {
    "kernelspec": {
      "display_name": "Python 3",
      "language": "python",
      "name": "python3"
    },
    "language_info": {
      "codemirror_mode": {
        "name": "ipython",
        "version": 3
      },
      "file_extension": ".py",
      "mimetype": "text/x-python",
      "name": "python",
      "nbconvert_exporter": "python",
      "pygments_lexer": "ipython3",
      "version": "3.6.1"
    }
  },
  "nbformat": 4,
  "nbformat_minor": 2
}