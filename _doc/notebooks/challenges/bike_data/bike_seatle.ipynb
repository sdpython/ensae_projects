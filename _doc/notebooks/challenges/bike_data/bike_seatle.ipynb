{
  "cells": [
    {
      "cell_type": "markdown",
      "metadata": {},
      "source": [
        "# Seattle\n",
        "\n",
        "This notebooks displays some of the data available at [Pronto Open Data](http://www.prontocycleshare.com/data). We assume the data was downloaded."
      ]
    },
    {
      "cell_type": "code",
      "execution_count": null,
      "metadata": {
        "collapsed": false
      },
      "outputs": [
        {
          "data": {
            "text/html": [
              "<div id=\"my_id_menu_nb\">run previous cell, wait for 2 seconds</div>\n",
              "<script>\n",
              "function repeat_indent_string(n){\n",
              "    var a = \"\" ;\n",
              "    for ( ; n > 0 ; --n) {\n",
              "        a += \"    \";\n",
              "    }\n",
              "    return a;\n",
              "}\n",
              "var update_menu_string = function(begin, lfirst, llast, sformat, send, keep_item) {\n",
              "    var anchors = document.getElementsByClassName(\"section\");\n",
              "    if (anchors.length == 0) {\n",
              "        anchors = document.getElementsByClassName(\"text_cell_render rendered_html\");\n",
              "    }\n",
              "    var i,t;\n",
              "    var text_menu = begin;\n",
              "    var text_memo = \"<pre>\\nlength:\" + anchors.length + \"\\n\";\n",
              "    var ind = \"\";\n",
              "    var memo_level = 1;\n",
              "    var href;\n",
              "    var tags = [];\n",
              "    var main_item = 0;\n",
              "    for (i = 0; i <= llast; i++) {\n",
              "        tags.push(\"h\" + i);\n",
              "    }\n",
              "\n",
              "    for (i = 0; i < anchors.length; i++) {\n",
              "        text_memo += \"**\" + anchors[i].id + \"--\\n\";\n",
              "\n",
              "        var child = null;\n",
              "        for(t = 0; t < tags.length; t++) {\n",
              "            var r = anchors[i].getElementsByTagName(tags[t]);\n",
              "            if (r.length > 0) {\n",
              "child = r[0];\n",
              "break;\n",
              "            }\n",
              "        }\n",
              "        if (child == null){\n",
              "            text_memo += \"null\\n\";\n",
              "            continue;\n",
              "        }\n",
              "        if (anchors[i].hasAttribute(\"id\")) {\n",
              "            // when converted in RST\n",
              "            href = anchors[i].id;\n",
              "            text_memo += \"#1-\" + href;\n",
              "            // passer \u00e0 child suivant (le chercher)\n",
              "        }\n",
              "        else if (child.hasAttribute(\"id\")) {\n",
              "            // in a notebook\n",
              "            href = child.id;\n",
              "            text_memo += \"#2-\" + href;\n",
              "        }\n",
              "        else {\n",
              "            text_memo += \"#3-\" + \"*\" + \"\\n\";\n",
              "            continue;\n",
              "        }\n",
              "        var title = child.textContent;\n",
              "        var level = parseInt(child.tagName.substring(1,2));\n",
              "\n",
              "        text_memo += \"--\" + level + \"?\" + lfirst + \"--\" + title + \"\\n\";\n",
              "\n",
              "        if ((level < lfirst) || (level > llast)) {\n",
              "            continue ;\n",
              "        }\n",
              "        if (title.endsWith('\u00b6')) {\n",
              "            title = title.substring(0,title.length-1).replace(\"<\", \"&lt;\").replace(\">\", \"&gt;\").replace(\"&\", \"&amp;\")\n",
              "        }\n",
              "\n",
              "        if (title.length == 0) {\n",
              "            continue;\n",
              "        }\n",
              "\n",
              "        while (level < memo_level) {\n",
              "            text_menu += \"</ul>\\n\";\n",
              "            memo_level -= 1;\n",
              "        }\n",
              "        if (level == lfirst) {\n",
              "            main_item += 1;\n",
              "        }\n",
              "        if (keep_item != -1 && main_item != keep_item + 1) {\n",
              "            // alert(main_item + \" - \" + level + \" - \" + keep_item);\n",
              "            continue;\n",
              "        }\n",
              "        while (level > memo_level) {\n",
              "            text_menu += \"<ul>\\n\";\n",
              "            memo_level += 1;\n",
              "        }\n",
              "        text_menu += repeat_indent_string(level-2) + sformat.replace(\"__HREF__\", href).replace(\"__TITLE__\", title);\n",
              "    }\n",
              "    while (1 < memo_level) {\n",
              "        text_menu += \"</ul>\\n\";\n",
              "        memo_level -= 1;\n",
              "    }\n",
              "    text_menu += send;\n",
              "    //text_menu += \"\\n\" + text_memo;\n",
              "    return text_menu;\n",
              "};\n",
              "var update_menu = function() {\n",
              "    var sbegin = \"\";\n",
              "    var sformat = '<li><a href=\"#__HREF__\">__TITLE__</a></li>';\n",
              "    var send = \"\";\n",
              "    var keep_item = -1;\n",
              "    var text_menu = update_menu_string(sbegin, 2, 4, sformat, send, keep_item);\n",
              "    var menu = document.getElementById(\"my_id_menu_nb\");\n",
              "    menu.innerHTML=text_menu;\n",
              "};\n",
              "window.setTimeout(update_menu,2000);\n",
              "            </script>"
            ],
            "text/plain": [
              "<IPython.core.display.HTML object>"
            ]
          },
          "execution_count": null,
          "metadata": {},
          "output_type": "execute_result"
        }
      ],
      "source": [
        "from jyquickhelper import add_notebook_menu\n",
        "add_notebook_menu()"
      ]
    },
    {
      "cell_type": "code",
      "execution_count": null,
      "metadata": {
        "collapsed": true
      },
      "outputs": [],
      "source": [
        "%matplotlib inline"
      ]
    },
    {
      "cell_type": "markdown",
      "metadata": {},
      "source": [
        "## Data"
      ]
    },
    {
      "cell_type": "code",
      "execution_count": null,
      "metadata": {
        "collapsed": true
      },
      "outputs": [],
      "source": [
        "from pyensae.datasource import download_data\n",
        "file = download_data(\"open_data_2016-12.zip\", url=\"https://s3.amazonaws.com/pronto-data/\")"
      ]
    },
    {
      "cell_type": "markdown",
      "metadata": {},
      "source": [
        "### Stations"
      ]
    },
    {
      "cell_type": "code",
      "execution_count": null,
      "metadata": {
        "collapsed": false
      },
      "outputs": [
        {
          "data": {
            "text/html": [
              "<div>\n",
              "<table border=\"1\" class=\"dataframe\">\n",
              "  <thead>\n",
              "    <tr style=\"text-align: right;\">\n",
              "      <th></th>\n",
              "      <th>station_id</th>\n",
              "      <th>name</th>\n",
              "      <th>lat</th>\n",
              "      <th>long</th>\n",
              "      <th>install_date</th>\n",
              "      <th>install_dockcount</th>\n",
              "      <th>modification_date</th>\n",
              "      <th>current_dockcount</th>\n",
              "      <th>decommission_date</th>\n",
              "    </tr>\n",
              "  </thead>\n",
              "  <tbody>\n",
              "    <tr>\n",
              "      <th>0</th>\n",
              "      <td>CH-06</td>\n",
              "      <td>12th Ave &amp; E Denny Way</td>\n",
              "      <td>47.618549</td>\n",
              "      <td>-122.317017</td>\n",
              "      <td>10/13/2014</td>\n",
              "      <td>16</td>\n",
              "      <td>NaN</td>\n",
              "      <td>16</td>\n",
              "      <td>NaN</td>\n",
              "    </tr>\n",
              "    <tr>\n",
              "      <th>1</th>\n",
              "      <td>CH-15</td>\n",
              "      <td>12th Ave &amp; E Mercer St</td>\n",
              "      <td>47.624142</td>\n",
              "      <td>-122.316811</td>\n",
              "      <td>10/13/2014</td>\n",
              "      <td>16</td>\n",
              "      <td>NaN</td>\n",
              "      <td>16</td>\n",
              "      <td>NaN</td>\n",
              "    </tr>\n",
              "    <tr>\n",
              "      <th>2</th>\n",
              "      <td>CD-01</td>\n",
              "      <td>12th Ave &amp; E Yesler Way</td>\n",
              "      <td>47.602103</td>\n",
              "      <td>-122.316923</td>\n",
              "      <td>5/22/2015</td>\n",
              "      <td>16</td>\n",
              "      <td>8/9/2016</td>\n",
              "      <td>0</td>\n",
              "      <td>8/9/2016</td>\n",
              "    </tr>\n",
              "    <tr>\n",
              "      <th>3</th>\n",
              "      <td>UD-04</td>\n",
              "      <td>12th Ave &amp; NE Campus Pkwy</td>\n",
              "      <td>47.656395</td>\n",
              "      <td>-122.315620</td>\n",
              "      <td>10/13/2014</td>\n",
              "      <td>16</td>\n",
              "      <td>NaN</td>\n",
              "      <td>16</td>\n",
              "      <td>NaN</td>\n",
              "    </tr>\n",
              "    <tr>\n",
              "      <th>4</th>\n",
              "      <td>CH-05</td>\n",
              "      <td>15th Ave E &amp; E Thomas St</td>\n",
              "      <td>47.620712</td>\n",
              "      <td>-122.312805</td>\n",
              "      <td>10/13/2014</td>\n",
              "      <td>16</td>\n",
              "      <td>NaN</td>\n",
              "      <td>16</td>\n",
              "      <td>NaN</td>\n",
              "    </tr>\n",
              "  </tbody>\n",
              "</table>\n",
              "</div>"
            ],
            "text/plain": [
              "  station_id                       name        lat        long install_date  \\\n",
              "0      CH-06     12th Ave & E Denny Way  47.618549 -122.317017   10/13/2014   \n",
              "1      CH-15     12th Ave & E Mercer St  47.624142 -122.316811   10/13/2014   \n",
              "2      CD-01    12th Ave & E Yesler Way  47.602103 -122.316923    5/22/2015   \n",
              "3      UD-04  12th Ave & NE Campus Pkwy  47.656395 -122.315620   10/13/2014   \n",
              "4      CH-05   15th Ave E & E Thomas St  47.620712 -122.312805   10/13/2014   \n",
              "\n",
              "   install_dockcount modification_date  current_dockcount decommission_date  \n",
              "0                 16               NaN                 16               NaN  \n",
              "1                 16               NaN                 16               NaN  \n",
              "2                 16          8/9/2016                  0          8/9/2016  \n",
              "3                 16               NaN                 16               NaN  \n",
              "4                 16               NaN                 16               NaN  "
            ]
          },
          "execution_count": null,
          "metadata": {},
          "output_type": "execute_result"
        }
      ],
      "source": [
        "import pandas\n",
        "stations = df = pandas.read_csv(\"2016-12_station_data.csv\")\n",
        "df.head()"
      ]
    },
    {
      "cell_type": "code",
      "execution_count": null,
      "metadata": {
        "collapsed": false
      },
      "outputs": [
        {
          "data": {
            "text/html": [
              "<div style=\"width:80%;\"><div style=\"position:relative;width:100%;height:0;padding-bottom:60%;\"><iframe src=\"data:text/html;base64,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\" style=\"position:absolute;width:100%;height:100%;left:0;top:0;\"></iframe></div></div>"
            ],
            "text/plain": [
              "<pyensae.notebook_helper.folium_helper.folium_html_map.<locals>.CustomFoliumMap at 0x1b5e3188f60>"
            ]
          },
          "execution_count": null,
          "metadata": {},
          "output_type": "execute_result"
        }
      ],
      "source": [
        "import folium\n",
        "from pyensae.notebook_helper import folium_html_map\n",
        "minx, maxx = df.lat.min(), df.lat.max()\n",
        "miny, maxy = df.long.min(), df.long.max()\n",
        "map_osm = folium.Map(location=[47.618549, -122.317017], \n",
        "                     min_lat=minx, max_lat=maxx, min_lon=miny, max_lon=maxy, zoom_start=12)\n",
        "for rows in df.to_dict(\"records\"):\n",
        "    x,y = rows[\"lat\"], rows[\"long\"]\n",
        "    name = rows[\"name\"]\n",
        "    map_osm.add_child(folium.CircleMarker([x, y], popup=name, radius=15, fill_color=\"yellow\"))\n",
        "folium_html_map(map_osm, width=\"80%\")"
      ]
    },
    {
      "cell_type": "markdown",
      "metadata": {},
      "source": [
        "### Trips"
      ]
    },
    {
      "cell_type": "code",
      "execution_count": null,
      "metadata": {
        "collapsed": false
      },
      "outputs": [
        {
          "data": {
            "text/html": [
              "<div>\n",
              "<table border=\"1\" class=\"dataframe\">\n",
              "  <thead>\n",
              "    <tr style=\"text-align: right;\">\n",
              "      <th></th>\n",
              "      <th>trip_id</th>\n",
              "      <th>starttime</th>\n",
              "      <th>stoptime</th>\n",
              "      <th>bikeid</th>\n",
              "      <th>tripduration</th>\n",
              "      <th>from_station_name</th>\n",
              "      <th>to_station_name</th>\n",
              "      <th>from_station_id</th>\n",
              "      <th>to_station_id</th>\n",
              "      <th>usertype</th>\n",
              "      <th>gender</th>\n",
              "      <th>birthyear</th>\n",
              "    </tr>\n",
              "  </thead>\n",
              "  <tbody>\n",
              "    <tr>\n",
              "      <th>0</th>\n",
              "      <td>431</td>\n",
              "      <td>10/13/2014 10:31</td>\n",
              "      <td>10/13/2014 10:48</td>\n",
              "      <td>SEA00298</td>\n",
              "      <td>985.935</td>\n",
              "      <td>2nd Ave &amp; Spring St</td>\n",
              "      <td>Occidental Park / Occidental Ave S &amp; S Washing...</td>\n",
              "      <td>CBD-06</td>\n",
              "      <td>PS-04</td>\n",
              "      <td>Member</td>\n",
              "      <td>Male</td>\n",
              "      <td>1960.0</td>\n",
              "    </tr>\n",
              "    <tr>\n",
              "      <th>1</th>\n",
              "      <td>432</td>\n",
              "      <td>10/13/2014 10:32</td>\n",
              "      <td>10/13/2014 10:48</td>\n",
              "      <td>SEA00195</td>\n",
              "      <td>926.375</td>\n",
              "      <td>2nd Ave &amp; Spring St</td>\n",
              "      <td>Occidental Park / Occidental Ave S &amp; S Washing...</td>\n",
              "      <td>CBD-06</td>\n",
              "      <td>PS-04</td>\n",
              "      <td>Member</td>\n",
              "      <td>Male</td>\n",
              "      <td>1970.0</td>\n",
              "    </tr>\n",
              "    <tr>\n",
              "      <th>2</th>\n",
              "      <td>433</td>\n",
              "      <td>10/13/2014 10:33</td>\n",
              "      <td>10/13/2014 10:48</td>\n",
              "      <td>SEA00486</td>\n",
              "      <td>883.831</td>\n",
              "      <td>2nd Ave &amp; Spring St</td>\n",
              "      <td>Occidental Park / Occidental Ave S &amp; S Washing...</td>\n",
              "      <td>CBD-06</td>\n",
              "      <td>PS-04</td>\n",
              "      <td>Member</td>\n",
              "      <td>Female</td>\n",
              "      <td>1988.0</td>\n",
              "    </tr>\n",
              "    <tr>\n",
              "      <th>3</th>\n",
              "      <td>434</td>\n",
              "      <td>10/13/2014 10:34</td>\n",
              "      <td>10/13/2014 10:48</td>\n",
              "      <td>SEA00333</td>\n",
              "      <td>865.937</td>\n",
              "      <td>2nd Ave &amp; Spring St</td>\n",
              "      <td>Occidental Park / Occidental Ave S &amp; S Washing...</td>\n",
              "      <td>CBD-06</td>\n",
              "      <td>PS-04</td>\n",
              "      <td>Member</td>\n",
              "      <td>Female</td>\n",
              "      <td>1977.0</td>\n",
              "    </tr>\n",
              "    <tr>\n",
              "      <th>4</th>\n",
              "      <td>435</td>\n",
              "      <td>10/13/2014 10:34</td>\n",
              "      <td>10/13/2014 10:49</td>\n",
              "      <td>SEA00202</td>\n",
              "      <td>923.923</td>\n",
              "      <td>2nd Ave &amp; Spring St</td>\n",
              "      <td>Occidental Park / Occidental Ave S &amp; S Washing...</td>\n",
              "      <td>CBD-06</td>\n",
              "      <td>PS-04</td>\n",
              "      <td>Member</td>\n",
              "      <td>Male</td>\n",
              "      <td>1971.0</td>\n",
              "    </tr>\n",
              "  </tbody>\n",
              "</table>\n",
              "</div>"
            ],
            "text/plain": [
              "   trip_id         starttime          stoptime    bikeid  tripduration  \\\n",
              "0      431  10/13/2014 10:31  10/13/2014 10:48  SEA00298       985.935   \n",
              "1      432  10/13/2014 10:32  10/13/2014 10:48  SEA00195       926.375   \n",
              "2      433  10/13/2014 10:33  10/13/2014 10:48  SEA00486       883.831   \n",
              "3      434  10/13/2014 10:34  10/13/2014 10:48  SEA00333       865.937   \n",
              "4      435  10/13/2014 10:34  10/13/2014 10:49  SEA00202       923.923   \n",
              "\n",
              "     from_station_name                                    to_station_name  \\\n",
              "0  2nd Ave & Spring St  Occidental Park / Occidental Ave S & S Washing...   \n",
              "1  2nd Ave & Spring St  Occidental Park / Occidental Ave S & S Washing...   \n",
              "2  2nd Ave & Spring St  Occidental Park / Occidental Ave S & S Washing...   \n",
              "3  2nd Ave & Spring St  Occidental Park / Occidental Ave S & S Washing...   \n",
              "4  2nd Ave & Spring St  Occidental Park / Occidental Ave S & S Washing...   \n",
              "\n",
              "  from_station_id to_station_id usertype  gender  birthyear  \n",
              "0          CBD-06         PS-04   Member    Male     1960.0  \n",
              "1          CBD-06         PS-04   Member    Male     1970.0  \n",
              "2          CBD-06         PS-04   Member  Female     1988.0  \n",
              "3          CBD-06         PS-04   Member  Female     1977.0  \n",
              "4          CBD-06         PS-04   Member    Male     1971.0  "
            ]
          },
          "execution_count": null,
          "metadata": {},
          "output_type": "execute_result"
        }
      ],
      "source": [
        "bikes = df = pandas.read_csv(\"2016-12_trip_data.csv\")\n",
        "df.head()"
      ]
    },
    {
      "cell_type": "code",
      "execution_count": null,
      "metadata": {
        "collapsed": false
      },
      "outputs": [
        {
          "data": {
            "text/plain": [
              "(263136, 12)"
            ]
          },
          "execution_count": null,
          "metadata": {},
          "output_type": "execute_result"
        }
      ],
      "source": [
        "df.shape"
      ]
    },
    {
      "cell_type": "code",
      "execution_count": null,
      "metadata": {
        "collapsed": false
      },
      "outputs": [],
      "source": [
        "df[\"dtstart\"] = pandas.to_datetime(df.starttime, infer_datetime_format=True)\n",
        "df[\"dtstop\"] = pandas.to_datetime(df.stoptime, infer_datetime_format=True)"
      ]
    },
    {
      "cell_type": "code",
      "execution_count": null,
      "metadata": {
        "collapsed": true
      },
      "outputs": [],
      "source": [
        "from datetime import datetime, time\n",
        "df[\"day\"] = df.dtstart.apply(lambda r: datetime(r.year, r.month, r.day))\n",
        "df[\"time\"] = df.dtstart.apply(lambda r: time(r.hour, r.minute, 0))"
      ]
    },
    {
      "cell_type": "code",
      "execution_count": null,
      "metadata": {
        "collapsed": false
      },
      "outputs": [
        {
          "data": {
            "text/plain": [
              "<matplotlib.axes._subplots.AxesSubplot at 0x1b5e9052da0>"
            ]
          },
          "execution_count": null,
          "metadata": {},
          "output_type": "execute_result"
        },
        {
          "data": {
            "image/png": "[encoded data removed]",
            "text/plain": [
              "<matplotlib.figure.Figure at 0x1b5e885a320>"
            ]
          },
          "metadata": {},
          "output_type": "display_data"
        }
      ],
      "source": [
        "df.day.hist(figsize=(14,4), bins=100)"
      ]
    },
    {
      "cell_type": "code",
      "execution_count": null,
      "metadata": {
        "collapsed": false
      },
      "outputs": [
        {
          "data": {
            "text/plain": [
              "<matplotlib.axes._subplots.AxesSubplot at 0x1b5ee5ba9b0>"
            ]
          },
          "execution_count": null,
          "metadata": {},
          "output_type": "execute_result"
        },
        {
          "data": {
            "image/png": "[encoded data removed]",
            "text/plain": [
              "<matplotlib.figure.Figure at 0x1b5e8fd1978>"
            ]
          },
          "metadata": {},
          "output_type": "display_data"
        }
      ],
      "source": [
        "df.time.hist(figsize=(14,4), bins=100)"
      ]
    },
    {
      "cell_type": "code",
      "execution_count": null,
      "metadata": {
        "collapsed": false
      },
      "outputs": [
        {
          "data": {
            "text/plain": [
              "<matplotlib.axes._subplots.AxesSubplot at 0x1b5ec0e0710>"
            ]
          },
          "execution_count": null,
          "metadata": {},
          "output_type": "execute_result"
        },
        {
          "data": {
            "image/png": "[encoded data removed]",
            "text/plain": [
              "<matplotlib.figure.Figure at 0x1b5e5059ba8>"
            ]
          },
          "metadata": {},
          "output_type": "display_data"
        }
      ],
      "source": [
        "june = df[(df.dtstart >= datetime(2016,6,1)) & (df.dtstart < datetime(2016,7,1))]\n",
        "june.day.hist(figsize=(14,4), bins=30)"
      ]
    },
    {
      "cell_type": "code",
      "execution_count": null,
      "metadata": {
        "collapsed": false
      },
      "outputs": [],
      "source": [
        "june11 = june[(june.dtstart >= datetime(2016,6,11)) & (june.dtstart < datetime(2016,6,12))].copy()"
      ]
    },
    {
      "cell_type": "code",
      "execution_count": null,
      "metadata": {
        "collapsed": false
      },
      "outputs": [
        {
          "data": {
            "text/html": [
              "<div>\n",
              "<table border=\"1\" class=\"dataframe\">\n",
              "  <thead>\n",
              "    <tr style=\"text-align: right;\">\n",
              "      <th></th>\n",
              "      <th>trip_id</th>\n",
              "    </tr>\n",
              "    <tr>\n",
              "      <th>from_station_id</th>\n",
              "      <th></th>\n",
              "    </tr>\n",
              "  </thead>\n",
              "  <tbody>\n",
              "    <tr>\n",
              "      <th>WF-01</th>\n",
              "      <td>28</td>\n",
              "    </tr>\n",
              "    <tr>\n",
              "      <th>SLU-02</th>\n",
              "      <td>25</td>\n",
              "    </tr>\n",
              "    <tr>\n",
              "      <th>EL-01</th>\n",
              "      <td>22</td>\n",
              "    </tr>\n",
              "    <tr>\n",
              "      <th>SLU-19</th>\n",
              "      <td>21</td>\n",
              "    </tr>\n",
              "    <tr>\n",
              "      <th>WF-04</th>\n",
              "      <td>19</td>\n",
              "    </tr>\n",
              "    <tr>\n",
              "      <th>PS-04</th>\n",
              "      <td>19</td>\n",
              "    </tr>\n",
              "    <tr>\n",
              "      <th>BT-01</th>\n",
              "      <td>18</td>\n",
              "    </tr>\n",
              "    <tr>\n",
              "      <th>BT-05</th>\n",
              "      <td>14</td>\n",
              "    </tr>\n",
              "    <tr>\n",
              "      <th>CBD-13</th>\n",
              "      <td>13</td>\n",
              "    </tr>\n",
              "    <tr>\n",
              "      <th>UD-01</th>\n",
              "      <td>12</td>\n",
              "    </tr>\n",
              "    <tr>\n",
              "      <th>SLU-18</th>\n",
              "      <td>12</td>\n",
              "    </tr>\n",
              "    <tr>\n",
              "      <th>CBD-06</th>\n",
              "      <td>11</td>\n",
              "    </tr>\n",
              "    <tr>\n",
              "      <th>CH-16</th>\n",
              "      <td>11</td>\n",
              "    </tr>\n",
              "    <tr>\n",
              "      <th>CH-02</th>\n",
              "      <td>11</td>\n",
              "    </tr>\n",
              "    <tr>\n",
              "      <th>SLU-23</th>\n",
              "      <td>11</td>\n",
              "    </tr>\n",
              "    <tr>\n",
              "      <th>CH-08</th>\n",
              "      <td>11</td>\n",
              "    </tr>\n",
              "    <tr>\n",
              "      <th>SLU-01</th>\n",
              "      <td>10</td>\n",
              "    </tr>\n",
              "    <tr>\n",
              "      <th>PS-05</th>\n",
              "      <td>10</td>\n",
              "    </tr>\n",
              "    <tr>\n",
              "      <th>UW-07</th>\n",
              "      <td>9</td>\n",
              "    </tr>\n",
              "    <tr>\n",
              "      <th>UW-10</th>\n",
              "      <td>8</td>\n",
              "    </tr>\n",
              "  </tbody>\n",
              "</table>\n",
              "</div>"
            ],
            "text/plain": [
              "                 trip_id\n",
              "from_station_id         \n",
              "WF-01                 28\n",
              "SLU-02                25\n",
              "EL-01                 22\n",
              "SLU-19                21\n",
              "WF-04                 19\n",
              "PS-04                 19\n",
              "BT-01                 18\n",
              "BT-05                 14\n",
              "CBD-13                13\n",
              "UD-01                 12\n",
              "SLU-18                12\n",
              "CBD-06                11\n",
              "CH-16                 11\n",
              "CH-02                 11\n",
              "SLU-23                11\n",
              "CH-08                 11\n",
              "SLU-01                10\n",
              "PS-05                 10\n",
              "UW-07                  9\n",
              "UW-10                  8"
            ]
          },
          "execution_count": null,
          "metadata": {},
          "output_type": "execute_result"
        }
      ],
      "source": [
        "june11[[\"from_station_id\", \"trip_id\"]].groupby(\"from_station_id\").count().sort_values(\"trip_id\", ascending=False).head(n=20)"
      ]
    },
    {
      "cell_type": "markdown",
      "metadata": {},
      "source": [
        "Too few values..."
      ]
    },
    {
      "cell_type": "code",
      "execution_count": null,
      "metadata": {
        "collapsed": true
      },
      "outputs": [],
      "source": []
    }
  ],
  "metadata": {
    "kernelspec": {
      "display_name": "Python 3",
      "language": "python",
      "name": "python3"
    },
    "language_info": {
      "codemirror_mode": {
        "name": "ipython",
        "version": 3
      },
      "file_extension": ".py",
      "mimetype": "text/x-python",
      "name": "python",
      "nbconvert_exporter": "python",
      "pygments_lexer": "ipython3",
      "version": "3.5.2"
    }
  },
  "nbformat": 4,
  "nbformat_minor": 2
}