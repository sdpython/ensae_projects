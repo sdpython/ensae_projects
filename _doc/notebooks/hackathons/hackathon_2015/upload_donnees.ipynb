{
  "cells": [
    {
      "cell_type": "markdown",
      "metadata": {},
      "source": [
        "# Upload data\n",
        "\n",
        "Material for the hackathon ENSAE / Red Cross / 2015. Upload data to a blob storage."
      ]
    },
    {
      "cell_type": "code",
      "execution_count": 1,
      "metadata": {
        "collapsed": false
      },
      "outputs": [
        {
          "data": {
            "text/html": [
              "<div id=\"my_id_menu_nb\">run previous cell, wait for 2 seconds</div>\n",
              "<script>\n",
              "function repeat_indent_string(n){\n",
              "    var a = \"\" ;\n",
              "    for ( ; n > 0 ; --n) {\n",
              "        a += \"    \";\n",
              "    }\n",
              "    return a;\n",
              "}\n",
              "var update_menu_string = function(begin, lfirst, llast, sformat, send, keep_item) {\n",
              "    var anchors = document.getElementsByClassName(\"section\");\n",
              "    if (anchors.length == 0) {\n",
              "        anchors = document.getElementsByClassName(\"text_cell_render rendered_html\");\n",
              "    }\n",
              "    var i,t;\n",
              "    var text_menu = begin;\n",
              "    var text_memo = \"<pre>\\nlength:\" + anchors.length + \"\\n\";\n",
              "    var ind = \"\";\n",
              "    var memo_level = 1;\n",
              "    var href;\n",
              "    var tags = [];\n",
              "    var main_item = 0;\n",
              "    for (i = 0; i <= llast; i++) {\n",
              "        tags.push(\"h\" + i);\n",
              "    }\n",
              "\n",
              "    for (i = 0; i < anchors.length; i++) {\n",
              "        text_memo += \"**\" + anchors[i].id + \"--\\n\";\n",
              "\n",
              "        var child = null;\n",
              "        for(t = 0; t < tags.length; t++) {\n",
              "            var r = anchors[i].getElementsByTagName(tags[t]);\n",
              "            if (r.length > 0) {\n",
              "child = r[0];\n",
              "break;\n",
              "            }\n",
              "        }\n",
              "        if (child == null){\n",
              "            text_memo += \"null\\n\";\n",
              "            continue;\n",
              "        }\n",
              "        if (anchors[i].hasAttribute(\"id\")) {\n",
              "            // when converted in RST\n",
              "            href = anchors[i].id;\n",
              "            text_memo += \"#1-\" + href;\n",
              "            // passer \u00e0 child suivant (le chercher)\n",
              "        }\n",
              "        else if (child.hasAttribute(\"id\")) {\n",
              "            // in a notebook\n",
              "            href = child.id;\n",
              "            text_memo += \"#2-\" + href;\n",
              "        }\n",
              "        else {\n",
              "            text_memo += \"#3-\" + \"*\" + \"\\n\";\n",
              "            continue;\n",
              "        }\n",
              "        var title = child.textContent;\n",
              "        var level = parseInt(child.tagName.substring(1,2));\n",
              "\n",
              "        text_memo += \"--\" + level + \"?\" + lfirst + \"--\" + title + \"\\n\";\n",
              "\n",
              "        if ((level < lfirst) || (level > llast)) {\n",
              "            continue ;\n",
              "        }\n",
              "        if (title.endsWith('\u00b6')) {\n",
              "            title = title.substring(0,title.length-1).replace(\"<\", \"&lt;\").replace(\">\", \"&gt;\").replace(\"&\", \"&amp;\")\n",
              "        }\n",
              "\n",
              "        if (title.length == 0) {\n",
              "            continue;\n",
              "        }\n",
              "\n",
              "        while (level < memo_level) {\n",
              "            text_menu += \"</ul>\\n\";\n",
              "            memo_level -= 1;\n",
              "        }\n",
              "        if (level == lfirst) {\n",
              "            main_item += 1;\n",
              "        }\n",
              "        if (keep_item != -1 && main_item != keep_item + 1) {\n",
              "            // alert(main_item + \" - \" + level + \" - \" + keep_item);\n",
              "            continue;\n",
              "        }\n",
              "        while (level > memo_level) {\n",
              "            text_menu += \"<ul>\\n\";\n",
              "            memo_level += 1;\n",
              "        }\n",
              "        text_menu += repeat_indent_string(level-2) + sformat.replace(\"__HREF__\", href).replace(\"__TITLE__\", title);\n",
              "    }\n",
              "    while (1 < memo_level) {\n",
              "        text_menu += \"</ul>\\n\";\n",
              "        memo_level -= 1;\n",
              "    }\n",
              "    text_menu += send;\n",
              "    //text_menu += \"\\n\" + text_memo;\n",
              "    return text_menu;\n",
              "};\n",
              "var update_menu = function() {\n",
              "    var sbegin = \"\";\n",
              "    var sformat = '<li><a href=\"#__HREF__\">__TITLE__</a></li>';\n",
              "    var send = \"\";\n",
              "    var keep_item = -1;\n",
              "    var text_menu = update_menu_string(sbegin, 2, 4, sformat, send, keep_item);\n",
              "    var menu = document.getElementById(\"my_id_menu_nb\");\n",
              "    menu.innerHTML=text_menu;\n",
              "};\n",
              "window.setTimeout(update_menu,2000);\n",
              "            </script>"
            ],
            "text/plain": [
              "<IPython.core.display.HTML object>"
            ]
          },
          "execution_count": 2,
          "metadata": {},
          "output_type": "execute_result"
        }
      ],
      "source": [
        "from jyquickhelper import add_notebook_menu\n",
        "add_notebook_menu()"
      ]
    },
    {
      "cell_type": "markdown",
      "metadata": {},
      "source": [
        "## Connexion to the blob storage"
      ]
    },
    {
      "cell_type": "code",
      "execution_count": 2,
      "metadata": {
        "collapsed": false
      },
      "outputs": [],
      "source": [
        "import keyring\n",
        "hackathon = {}\n",
        "hackathon[\"blob_storage\"] = keyring.get_password(\"CRCREDENTIALS\", \"blobstorage\")\n",
        "hackathon[\"password\"] = keyring.get_password(\"CRCREDENTIALS\", \"password\")"
      ]
    },
    {
      "cell_type": "code",
      "execution_count": 3,
      "metadata": {
        "collapsed": false
      },
      "outputs": [],
      "source": [
        "blobstorage = hackathon[\"blob_storage\"]\n",
        "blobpassword = hackathon[\"password\"]"
      ]
    },
    {
      "cell_type": "code",
      "execution_count": 4,
      "metadata": {
        "collapsed": true
      },
      "outputs": [],
      "source": [
        "%load_ext pyensae"
      ]
    },
    {
      "cell_type": "code",
      "execution_count": 5,
      "metadata": {
        "collapsed": false
      },
      "outputs": [
        {
          "data": {
            "text/plain": [
              "(<pyensae.remote.azure_connection.AzureClient at 0x925c2e8>,\n",
              " <azure.storage.blob.blobservice.BlobService at 0x925c320>)"
            ]
          },
          "execution_count": 6,
          "metadata": {},
          "output_type": "execute_result"
        }
      ],
      "source": [
        "cl, bs = %blob_open\n",
        "cl, bs"
      ]
    },
    {
      "cell_type": "code",
      "execution_count": 6,
      "metadata": {
        "collapsed": false
      },
      "outputs": [
        {
          "data": {
            "text/plain": [
              "['croix-rouge']"
            ]
          },
          "execution_count": 7,
          "metadata": {},
          "output_type": "execute_result"
        }
      ],
      "source": [
        "%blob_containers"
      ]
    },
    {
      "cell_type": "markdown",
      "metadata": {},
      "source": [
        "## Upload data"
      ]
    },
    {
      "cell_type": "code",
      "execution_count": 7,
      "metadata": {
        "collapsed": false
      },
      "outputs": [
        {
          "name": "stdout",
          "output_type": "stream",
          "text": [
            "Writing readme.txt\n"
          ]
        }
      ],
      "source": [
        "%%file readme.txt\n",
        "\n",
        "This folder conains data for the Red Cross."
      ]
    },
    {
      "cell_type": "code",
      "execution_count": 8,
      "metadata": {
        "collapsed": false
      },
      "outputs": [
        {
          "data": {
            "text/plain": [
              "'readme.txt'"
            ]
          },
          "execution_count": 9,
          "metadata": {},
          "output_type": "execute_result"
        }
      ],
      "source": [
        "%blob_up readme.txt croix-rouge/readme.txt"
      ]
    },
    {
      "cell_type": "code",
      "execution_count": 9,
      "metadata": {
        "collapsed": false
      },
      "outputs": [
        {
          "data": {
            "text/html": [
              "<div>\n",
              "<table border=\"1\" class=\"dataframe\">\n",
              "  <thead>\n",
              "    <tr style=\"text-align: right;\">\n",
              "      <th></th>\n",
              "      <th>name</th>\n",
              "      <th>last_modified</th>\n",
              "      <th>content_type</th>\n",
              "      <th>content_length</th>\n",
              "      <th>blob_type</th>\n",
              "    </tr>\n",
              "  </thead>\n",
              "  <tbody>\n",
              "    <tr>\n",
              "      <th>0</th>\n",
              "      <td>build/SINVOICE_M.csv</td>\n",
              "      <td>Wed, 18 Nov 2015 18:56:27 GMT</td>\n",
              "      <td>application/octet-stream</td>\n",
              "      <td>533771533</td>\n",
              "      <td>BlockBlob</td>\n",
              "    </tr>\n",
              "    <tr>\n",
              "      <th>1</th>\n",
              "      <td>data/ITMMASTER.schema.txt</td>\n",
              "      <td>Mon, 16 Nov 2015 23:00:34 GMT</td>\n",
              "      <td>application/octet-stream</td>\n",
              "      <td>5658</td>\n",
              "      <td>BlockBlob</td>\n",
              "    </tr>\n",
              "    <tr>\n",
              "      <th>2</th>\n",
              "      <td>data/ITMMASTER.txt</td>\n",
              "      <td>Mon, 09 Nov 2015 21:41:00 GMT</td>\n",
              "      <td>application/octet-stream</td>\n",
              "      <td>103096479</td>\n",
              "      <td>BlockBlob</td>\n",
              "    </tr>\n",
              "    <tr>\n",
              "      <th>3</th>\n",
              "      <td>data/SINVOICE.schema.txt</td>\n",
              "      <td>Mon, 16 Nov 2015 23:00:35 GMT</td>\n",
              "      <td>application/octet-stream</td>\n",
              "      <td>10252</td>\n",
              "      <td>BlockBlob</td>\n",
              "    </tr>\n",
              "    <tr>\n",
              "      <th>4</th>\n",
              "      <td>data/SINVOICE.txt</td>\n",
              "      <td>Mon, 09 Nov 2015 21:42:32 GMT</td>\n",
              "      <td>application/octet-stream</td>\n",
              "      <td>1362433753</td>\n",
              "      <td>BlockBlob</td>\n",
              "    </tr>\n",
              "    <tr>\n",
              "      <th>5</th>\n",
              "      <td>data/SINVOICEV.schema.txt</td>\n",
              "      <td>Mon, 16 Nov 2015 23:00:35 GMT</td>\n",
              "      <td>application/octet-stream</td>\n",
              "      <td>7999</td>\n",
              "      <td>BlockBlob</td>\n",
              "    </tr>\n",
              "    <tr>\n",
              "      <th>6</th>\n",
              "      <td>data/SINVOICEV.txt</td>\n",
              "      <td>Mon, 09 Nov 2015 21:44:08 GMT</td>\n",
              "      <td>application/octet-stream</td>\n",
              "      <td>1252461865</td>\n",
              "      <td>BlockBlob</td>\n",
              "    </tr>\n",
              "    <tr>\n",
              "      <th>7</th>\n",
              "      <td>data/enseignes_france.csv</td>\n",
              "      <td>Mon, 09 Nov 2015 21:40:54 GMT</td>\n",
              "      <td>application/octet-stream</td>\n",
              "      <td>6303836</td>\n",
              "      <td>BlockBlob</td>\n",
              "    </tr>\n",
              "    <tr>\n",
              "      <th>8</th>\n",
              "      <td>data/stojou.csv</td>\n",
              "      <td>Mon, 09 Nov 2015 21:55:23 GMT</td>\n",
              "      <td>application/octet-stream</td>\n",
              "      <td>8821375868</td>\n",
              "      <td>BlockBlob</td>\n",
              "    </tr>\n",
              "    <tr>\n",
              "      <th>9</th>\n",
              "      <td>readme.txt</td>\n",
              "      <td>Sun, 22 Nov 2015 18:00:34 GMT</td>\n",
              "      <td>application/octet-stream</td>\n",
              "      <td>45</td>\n",
              "      <td>BlockBlob</td>\n",
              "    </tr>\n",
              "  </tbody>\n",
              "</table>\n",
              "</div>"
            ],
            "text/plain": [
              "                        name                  last_modified  \\\n",
              "0       build/SINVOICE_M.csv  Wed, 18 Nov 2015 18:56:27 GMT   \n",
              "1  data/ITMMASTER.schema.txt  Mon, 16 Nov 2015 23:00:34 GMT   \n",
              "2         data/ITMMASTER.txt  Mon, 09 Nov 2015 21:41:00 GMT   \n",
              "3   data/SINVOICE.schema.txt  Mon, 16 Nov 2015 23:00:35 GMT   \n",
              "4          data/SINVOICE.txt  Mon, 09 Nov 2015 21:42:32 GMT   \n",
              "5  data/SINVOICEV.schema.txt  Mon, 16 Nov 2015 23:00:35 GMT   \n",
              "6         data/SINVOICEV.txt  Mon, 09 Nov 2015 21:44:08 GMT   \n",
              "7  data/enseignes_france.csv  Mon, 09 Nov 2015 21:40:54 GMT   \n",
              "8            data/stojou.csv  Mon, 09 Nov 2015 21:55:23 GMT   \n",
              "9                 readme.txt  Sun, 22 Nov 2015 18:00:34 GMT   \n",
              "\n",
              "               content_type  content_length  blob_type  \n",
              "0  application/octet-stream       533771533  BlockBlob  \n",
              "1  application/octet-stream            5658  BlockBlob  \n",
              "2  application/octet-stream       103096479  BlockBlob  \n",
              "3  application/octet-stream           10252  BlockBlob  \n",
              "4  application/octet-stream      1362433753  BlockBlob  \n",
              "5  application/octet-stream            7999  BlockBlob  \n",
              "6  application/octet-stream      1252461865  BlockBlob  \n",
              "7  application/octet-stream         6303836  BlockBlob  \n",
              "8  application/octet-stream      8821375868  BlockBlob  \n",
              "9  application/octet-stream              45  BlockBlob  "
            ]
          },
          "execution_count": 10,
          "metadata": {},
          "output_type": "execute_result"
        }
      ],
      "source": [
        "%blob_ls croix-rouge"
      ]
    },
    {
      "cell_type": "code",
      "execution_count": 10,
      "metadata": {
        "collapsed": false
      },
      "outputs": [
        {
          "name": "stdout",
          "output_type": "stream",
          "text": [
            "upload ITMMASTER.schema.txt 5658\n",
            "upload SINVOICE.schema.txt 10252\n",
            "upload SINVOICEV.schema.txt 7999\n"
          ]
        }
      ],
      "source": [
        "import os\n",
        "files = [\"ITMMASTER.schema.txt\", \"SINVOICE.schema.txt\", \"SINVOICEV.schema.txt\"]\n",
        "for file in files:\n",
        "    print(\"upload\", file, os.stat(file).st_size)\n",
        "    cl.upload(bs, \"croix-rouge\", \"data/\" + file, file)"
      ]
    },
    {
      "cell_type": "code",
      "execution_count": 11,
      "metadata": {
        "collapsed": false
      },
      "outputs": [
        {
          "name": "stdout",
          "output_type": "stream",
          "text": [
            "upload enseignes_france.csv 6303836\n",
            "upload ITMMASTER.txt 103096479\n",
            "upload SINVOICE.txt 1362433753\n",
            "upload SINVOICEV.txt 1252461865\n",
            "upload stojou.csv 8821375868\n"
          ]
        }
      ],
      "source": [
        "import os\n",
        "files = [\"enseignes_france.csv\", \"ITMMASTER.txt\", \"SINVOICE.txt\", \"SINVOICEV.txt\",\n",
        "         \"stojou.csv\"]\n",
        "for file in files:\n",
        "    print(\"upload\", file, os.stat(file).st_size)\n",
        "    cl.upload(bs, \"croix-rouge\", \"data/\" + file, file)"
      ]
    },
    {
      "cell_type": "code",
      "execution_count": 12,
      "metadata": {
        "collapsed": false
      },
      "outputs": [
        {
          "name": "stdout",
          "output_type": "stream",
          "text": [
            "upload SINVOICE_.txt 1362433753\n",
            "upload SINVOICEV_.txt 1252461865\n"
          ]
        }
      ],
      "source": [
        "import os\n",
        "files = [\"SINVOICE_.txt\", \"SINVOICEV_.txt\"]\n",
        "for file in files:\n",
        "    print(\"upload\", file, os.stat(file).st_size)\n",
        "    cl.upload(bs, \"croix-rouge\", \"data/\" + file, file)"
      ]
    },
    {
      "cell_type": "code",
      "execution_count": 13,
      "metadata": {
        "collapsed": false
      },
      "outputs": [
        {
          "data": {
            "text/html": [
              "<div>\n",
              "<table border=\"1\" class=\"dataframe\">\n",
              "  <thead>\n",
              "    <tr style=\"text-align: right;\">\n",
              "      <th></th>\n",
              "      <th>name</th>\n",
              "      <th>last_modified</th>\n",
              "      <th>content_type</th>\n",
              "      <th>content_length</th>\n",
              "      <th>blob_type</th>\n",
              "    </tr>\n",
              "  </thead>\n",
              "  <tbody>\n",
              "    <tr>\n",
              "      <th>0</th>\n",
              "      <td>data/ITMMASTER.schema.txt</td>\n",
              "      <td>Mon, 16 Nov 2015 23:00:34 GMT</td>\n",
              "      <td>application/octet-stream</td>\n",
              "      <td>5658</td>\n",
              "      <td>BlockBlob</td>\n",
              "    </tr>\n",
              "    <tr>\n",
              "      <th>1</th>\n",
              "      <td>data/ITMMASTER.txt</td>\n",
              "      <td>Mon, 09 Nov 2015 21:41:00 GMT</td>\n",
              "      <td>application/octet-stream</td>\n",
              "      <td>103096479</td>\n",
              "      <td>BlockBlob</td>\n",
              "    </tr>\n",
              "    <tr>\n",
              "      <th>2</th>\n",
              "      <td>data/SINVOICE.schema.txt</td>\n",
              "      <td>Mon, 16 Nov 2015 23:00:35 GMT</td>\n",
              "      <td>application/octet-stream</td>\n",
              "      <td>10252</td>\n",
              "      <td>BlockBlob</td>\n",
              "    </tr>\n",
              "    <tr>\n",
              "      <th>3</th>\n",
              "      <td>data/SINVOICE.txt</td>\n",
              "      <td>Mon, 09 Nov 2015 21:42:32 GMT</td>\n",
              "      <td>application/octet-stream</td>\n",
              "      <td>1362433753</td>\n",
              "      <td>BlockBlob</td>\n",
              "    </tr>\n",
              "    <tr>\n",
              "      <th>4</th>\n",
              "      <td>data/SINVOICEV.schema.txt</td>\n",
              "      <td>Mon, 16 Nov 2015 23:00:35 GMT</td>\n",
              "      <td>application/octet-stream</td>\n",
              "      <td>7999</td>\n",
              "      <td>BlockBlob</td>\n",
              "    </tr>\n",
              "    <tr>\n",
              "      <th>5</th>\n",
              "      <td>data/SINVOICEV.txt</td>\n",
              "      <td>Mon, 09 Nov 2015 21:44:08 GMT</td>\n",
              "      <td>application/octet-stream</td>\n",
              "      <td>1252461865</td>\n",
              "      <td>BlockBlob</td>\n",
              "    </tr>\n",
              "    <tr>\n",
              "      <th>6</th>\n",
              "      <td>data/enseignes_france.csv</td>\n",
              "      <td>Mon, 09 Nov 2015 21:40:54 GMT</td>\n",
              "      <td>application/octet-stream</td>\n",
              "      <td>6303836</td>\n",
              "      <td>BlockBlob</td>\n",
              "    </tr>\n",
              "    <tr>\n",
              "      <th>7</th>\n",
              "      <td>data/stojou.csv</td>\n",
              "      <td>Mon, 09 Nov 2015 21:55:23 GMT</td>\n",
              "      <td>application/octet-stream</td>\n",
              "      <td>8821375868</td>\n",
              "      <td>BlockBlob</td>\n",
              "    </tr>\n",
              "  </tbody>\n",
              "</table>\n",
              "</div>"
            ],
            "text/plain": [
              "                        name                  last_modified  \\\n",
              "0  data/ITMMASTER.schema.txt  Mon, 16 Nov 2015 23:00:34 GMT   \n",
              "1         data/ITMMASTER.txt  Mon, 09 Nov 2015 21:41:00 GMT   \n",
              "2   data/SINVOICE.schema.txt  Mon, 16 Nov 2015 23:00:35 GMT   \n",
              "3          data/SINVOICE.txt  Mon, 09 Nov 2015 21:42:32 GMT   \n",
              "4  data/SINVOICEV.schema.txt  Mon, 16 Nov 2015 23:00:35 GMT   \n",
              "5         data/SINVOICEV.txt  Mon, 09 Nov 2015 21:44:08 GMT   \n",
              "6  data/enseignes_france.csv  Mon, 09 Nov 2015 21:40:54 GMT   \n",
              "7            data/stojou.csv  Mon, 09 Nov 2015 21:55:23 GMT   \n",
              "\n",
              "               content_type  content_length  blob_type  \n",
              "0  application/octet-stream            5658  BlockBlob  \n",
              "1  application/octet-stream       103096479  BlockBlob  \n",
              "2  application/octet-stream           10252  BlockBlob  \n",
              "3  application/octet-stream      1362433753  BlockBlob  \n",
              "4  application/octet-stream            7999  BlockBlob  \n",
              "5  application/octet-stream      1252461865  BlockBlob  \n",
              "6  application/octet-stream         6303836  BlockBlob  \n",
              "7  application/octet-stream      8821375868  BlockBlob  "
            ]
          },
          "execution_count": 14,
          "metadata": {},
          "output_type": "execute_result"
        }
      ],
      "source": [
        "%blob_ls croix-rouge/data"
      ]
    },
    {
      "cell_type": "markdown",
      "metadata": {},
      "source": [
        "## Upload preprocessed data"
      ]
    },
    {
      "cell_type": "code",
      "execution_count": 14,
      "metadata": {
        "collapsed": false
      },
      "outputs": [
        {
          "data": {
            "text/plain": [
              "'build/SINVOICE_M.csv'"
            ]
          },
          "execution_count": 15,
          "metadata": {},
          "output_type": "execute_result"
        }
      ],
      "source": [
        "%blob_up SINVOICE_M.csv croix-rouge/build/SINVOICE_M.csv"
      ]
    },
    {
      "cell_type": "code",
      "execution_count": 15,
      "metadata": {
        "collapsed": false
      },
      "outputs": [
        {
          "data": {
            "text/plain": [
              "'build/Test_CRFFOR.GACCTMPD.csv'"
            ]
          },
          "execution_count": 16,
          "metadata": {},
          "output_type": "execute_result"
        }
      ],
      "source": [
        "%blob_up Test_CRFFOR.GACCTMPD.csv croix-rouge/build/Test_CRFFOR.GACCTMPD.csv"
      ]
    },
    {
      "cell_type": "code",
      "execution_count": 16,
      "metadata": {
        "collapsed": false
      },
      "outputs": [
        {
          "data": {
            "text/html": [
              "<div>\n",
              "<table border=\"1\" class=\"dataframe\">\n",
              "  <thead>\n",
              "    <tr style=\"text-align: right;\">\n",
              "      <th></th>\n",
              "      <th>name</th>\n",
              "      <th>last_modified</th>\n",
              "      <th>content_type</th>\n",
              "      <th>content_length</th>\n",
              "      <th>blob_type</th>\n",
              "    </tr>\n",
              "  </thead>\n",
              "  <tbody>\n",
              "    <tr>\n",
              "      <th>0</th>\n",
              "      <td>build/SINVOICE_M.csv</td>\n",
              "      <td>Wed, 18 Nov 2015 18:56:27 GMT</td>\n",
              "      <td>application/octet-stream</td>\n",
              "      <td>533771533</td>\n",
              "      <td>BlockBlob</td>\n",
              "    </tr>\n",
              "    <tr>\n",
              "      <th>1</th>\n",
              "      <td>build/Test_CRFFOR.GACCTMPD.csv</td>\n",
              "      <td>Sun, 22 Nov 2015 21:53:38 GMT</td>\n",
              "      <td>application/octet-stream</td>\n",
              "      <td>822231942</td>\n",
              "      <td>BlockBlob</td>\n",
              "    </tr>\n",
              "  </tbody>\n",
              "</table>\n",
              "</div>"
            ],
            "text/plain": [
              "                             name                  last_modified  \\\n",
              "0            build/SINVOICE_M.csv  Wed, 18 Nov 2015 18:56:27 GMT   \n",
              "1  build/Test_CRFFOR.GACCTMPD.csv  Sun, 22 Nov 2015 21:53:38 GMT   \n",
              "\n",
              "               content_type  content_length  blob_type  \n",
              "0  application/octet-stream       533771533  BlockBlob  \n",
              "1  application/octet-stream       822231942  BlockBlob  "
            ]
          },
          "execution_count": 17,
          "metadata": {},
          "output_type": "execute_result"
        }
      ],
      "source": [
        "%blob_ls croix-rouge/build"
      ]
    },
    {
      "cell_type": "markdown",
      "metadata": {},
      "source": [
        "## Close connection"
      ]
    },
    {
      "cell_type": "code",
      "execution_count": 17,
      "metadata": {
        "collapsed": false
      },
      "outputs": [
        {
          "data": {
            "text/plain": [
              "True"
            ]
          },
          "execution_count": 18,
          "metadata": {},
          "output_type": "execute_result"
        }
      ],
      "source": [
        "%blob_close"
      ]
    },
    {
      "cell_type": "code",
      "execution_count": 18,
      "metadata": {
        "collapsed": true
      },
      "outputs": [],
      "source": []
    }
  ],
  "metadata": {
    "kernelspec": {
      "display_name": "Python 3",
      "language": "python",
      "name": "python3"
    },
    "language_info": {
      "codemirror_mode": {
        "name": "ipython",
        "version": 3
      },
      "file_extension": ".py",
      "mimetype": "text/x-python",
      "name": "python",
      "nbconvert_exporter": "python",
      "pygments_lexer": "ipython3",
      "version": "3.5.2"
    }
  },
  "nbformat": 4,
  "nbformat_minor": 0
}